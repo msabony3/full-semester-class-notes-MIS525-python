{
 "cells": [
  {
   "cell_type": "markdown",
   "id": "c9d95a49-a60e-4316-ab99-9bc49dcd1a01",
   "metadata": {},
   "source": [
    "# 8.26.24"
   ]
  },
  {
   "cell_type": "code",
   "execution_count": 3,
   "id": "f569ba8c-c469-44f5-bd0a-e164962911dc",
   "metadata": {},
   "outputs": [
    {
     "name": "stdout",
     "output_type": "stream",
     "text": [
      "5\n",
      "2\n"
     ]
    }
   ],
   "source": [
    "print(17 // 3)\n",
    "print(17 % 3)"
   ]
  },
  {
   "cell_type": "code",
   "execution_count": 7,
   "id": "66d989ee-30d4-4cc1-9f56-895dc565aace",
   "metadata": {},
   "outputs": [
    {
     "name": "stdout",
     "output_type": "stream",
     "text": [
      "True\n",
      "False\n"
     ]
    }
   ],
   "source": [
    "x = 1\n",
    "print(x != 2)\n",
    "print(x != 1)"
   ]
  },
  {
   "cell_type": "code",
   "execution_count": 9,
   "id": "68b22bf1-1cbf-4998-a1ec-bcd1063be3c7",
   "metadata": {},
   "outputs": [
    {
     "data": {
      "text/plain": [
       "25"
      ]
     },
     "execution_count": 9,
     "metadata": {},
     "output_type": "execute_result"
    }
   ],
   "source": [
    "x, y, z = 10, -100, 25\n",
    "z"
   ]
  },
  {
   "cell_type": "code",
   "execution_count": 11,
   "id": "6b80d07f-cd1f-4ad3-9223-9a3c5c556367",
   "metadata": {},
   "outputs": [
    {
     "name": "stdout",
     "output_type": "stream",
     "text": [
      "6\n"
     ]
    }
   ],
   "source": [
    "x = 5\n",
    "x += 1\n",
    "print(x)"
   ]
  },
  {
   "cell_type": "code",
   "execution_count": 13,
   "id": "cdde9bc7-3f73-4d40-a3f8-bb8a516bdd32",
   "metadata": {},
   "outputs": [
    {
     "name": "stdout",
     "output_type": "stream",
     "text": [
      "0\n"
     ]
    }
   ],
   "source": [
    "x = 1\n",
    "x -= 1\n",
    "print(x)"
   ]
  },
  {
   "cell_type": "code",
   "execution_count": 15,
   "id": "30e3e707-f641-4904-a1e4-6868fc5851cb",
   "metadata": {},
   "outputs": [
    {
     "name": "stdout",
     "output_type": "stream",
     "text": [
      "30\n"
     ]
    }
   ],
   "source": [
    "y = 15\n",
    "y *= 2\n",
    "print(y)"
   ]
  },
  {
   "cell_type": "code",
   "execution_count": 17,
   "id": "ca103a23-9163-4a60-8a48-8df5517e8b65",
   "metadata": {},
   "outputs": [
    {
     "name": "stdout",
     "output_type": "stream",
     "text": [
      "4\n"
     ]
    }
   ],
   "source": [
    "z = 23\n",
    "z //= 5\n",
    "print(z)"
   ]
  },
  {
   "cell_type": "code",
   "execution_count": 19,
   "id": "9e8858aa-a4eb-47f2-884c-6d0ec80493a4",
   "metadata": {},
   "outputs": [
    {
     "name": "stdout",
     "output_type": "stream",
     "text": [
      "JOHN DAVIS\n",
      "john davis\n",
      "John Davis\n",
      "john davis\n"
     ]
    }
   ],
   "source": [
    "name = \"john davis\"\n",
    "print(name.upper())\n",
    "print(name.lower())\n",
    "print(name.title())\n",
    "print(name)"
   ]
  },
  {
   "cell_type": "code",
   "execution_count": 23,
   "id": "fd06e51d-3be7-4351-8ebd-6cd2b06cb8dd",
   "metadata": {},
   "outputs": [
    {
     "name": "stdout",
     "output_type": "stream",
     "text": [
      "Sam L. Jackson\n"
     ]
    }
   ],
   "source": [
    "name = \"Sam\"\n",
    "name += \" L.\"\n",
    "name += \" Jackson\"\n",
    "print(name)"
   ]
  },
  {
   "cell_type": "code",
   "execution_count": 29,
   "id": "83378605-6ced-4ca3-9f4d-f5107e4a535c",
   "metadata": {},
   "outputs": [
    {
     "name": "stdout",
     "output_type": "stream",
     "text": [
      "xyz xyz xyz xyz \n",
      "xyz 2\n"
     ]
    }
   ],
   "source": [
    "name = \"xyz \"\n",
    "print(name * 4)\n",
    "\n",
    "name += \"2\"\n",
    "print(name)"
   ]
  },
  {
   "cell_type": "code",
   "execution_count": 31,
   "id": "5078e581-43e4-4f45-8792-b645616f655c",
   "metadata": {},
   "outputs": [
    {
     "name": "stdout",
     "output_type": "stream",
     "text": [
      "Hello, John Davis. Are you 20 years old?\n"
     ]
    }
   ],
   "source": [
    "fname = \"john\"\n",
    "lname = \"davis\"\n",
    "age = 20\n",
    "\n",
    "print(f\"Hello, {fname.title()} {lname.title()}. Are you {age} years old?\")"
   ]
  },
  {
   "cell_type": "code",
   "execution_count": 33,
   "id": "11d7adc0-5278-4bc8-914a-77a62d042234",
   "metadata": {},
   "outputs": [
    {
     "name": "stdout",
     "output_type": "stream",
     "text": [
      " 10,123,456\n"
     ]
    }
   ],
   "source": [
    "x = 10123456\n",
    "print(f\"{x: ,}\")"
   ]
  },
  {
   "cell_type": "code",
   "execution_count": 37,
   "id": "83eb6155-194a-4ef2-8454-7f62170209ac",
   "metadata": {},
   "outputs": [
    {
     "name": "stdout",
     "output_type": "stream",
     "text": [
      " 2.5\n"
     ]
    }
   ],
   "source": [
    "x = 2.46\n",
    "print(f\"{x: .1f}\")"
   ]
  },
  {
   "cell_type": "code",
   "execution_count": 39,
   "id": "12193d62-245c-4f50-be23-d424b056b011",
   "metadata": {},
   "outputs": [
    {
     "name": "stdout",
     "output_type": "stream",
     "text": [
      " 654.32\n"
     ]
    }
   ],
   "source": [
    "print(f\"{654.321: .2f}\")"
   ]
  },
  {
   "cell_type": "code",
   "execution_count": 45,
   "id": "ed1dbe77-9e5d-4c1f-84bc-eb9614576c99",
   "metadata": {},
   "outputs": [
    {
     "name": "stdout",
     "output_type": "stream",
     "text": [
      " 45.7%\n"
     ]
    }
   ],
   "source": [
    "x = 0.4567\n",
    "print(f\"{x: .1%}\")"
   ]
  },
  {
   "cell_type": "code",
   "execution_count": 47,
   "id": "4860d22e-42f3-4509-bd88-b7c39a4dbe9a",
   "metadata": {},
   "outputs": [
    {
     "name": "stdin",
     "output_type": "stream",
     "text": [
      "What is your name? Jennifer\n"
     ]
    },
    {
     "name": "stdout",
     "output_type": "stream",
     "text": [
      "Hi Jennifer!\n"
     ]
    }
   ],
   "source": [
    "name = input(\"What is your name?\")\n",
    "print(f\"Hi {name.title()}!\")"
   ]
  },
  {
   "cell_type": "code",
   "execution_count": 49,
   "id": "21bbacf0-d572-464c-be7e-6ae54fb846a9",
   "metadata": {},
   "outputs": [
    {
     "name": "stdin",
     "output_type": "stream",
     "text": [
      "How old are you?  22\n"
     ]
    },
    {
     "ename": "TypeError",
     "evalue": "can only concatenate str (not \"int\") to str",
     "output_type": "error",
     "traceback": [
      "\u001b[1;31m---------------------------------------------------------------------------\u001b[0m",
      "\u001b[1;31mTypeError\u001b[0m                                 Traceback (most recent call last)",
      "Cell \u001b[1;32mIn[49], line 2\u001b[0m\n\u001b[0;32m      1\u001b[0m age \u001b[38;5;241m=\u001b[39m \u001b[38;5;28minput\u001b[39m(\u001b[38;5;124m\"\u001b[39m\u001b[38;5;124mHow old are you? \u001b[39m\u001b[38;5;124m\"\u001b[39m)\n\u001b[1;32m----> 2\u001b[0m age \u001b[38;5;241m+\u001b[39m \u001b[38;5;241m10\u001b[39m\n",
      "\u001b[1;31mTypeError\u001b[0m: can only concatenate str (not \"int\") to str"
     ]
    }
   ],
   "source": [
    "age = input(\"How old are you? \")\n",
    "age + 10"
   ]
  },
  {
   "cell_type": "code",
   "execution_count": 51,
   "id": "a24c411d-fcea-48a7-a009-b7704ab4679d",
   "metadata": {},
   "outputs": [
    {
     "name": "stdin",
     "output_type": "stream",
     "text": [
      "How old are you?  25.5\n"
     ]
    },
    {
     "name": "stdout",
     "output_type": "stream",
     "text": [
      "35.5\n"
     ]
    }
   ],
   "source": [
    "age = float(input(\"How old are you? \"))\n",
    "age += 10\n",
    "print(age)"
   ]
  },
  {
   "cell_type": "code",
   "execution_count": 53,
   "id": "ec743db1-b1b5-4139-9df7-83eb0f514482",
   "metadata": {},
   "outputs": [
    {
     "name": "stdout",
     "output_type": "stream",
     "text": [
      "SOM:\n",
      "\tMIS\n",
      "\tMarketing\n",
      "\tSCM\n"
     ]
    }
   ],
   "source": [
    "print(\"SOM:\\n\\tMIS\\n\\tMarketing\\n\\tSCM\")"
   ]
  },
  {
   "cell_type": "code",
   "execution_count": 55,
   "id": "f3bb6327-74ff-4f30-a6ed-926ad4717601",
   "metadata": {},
   "outputs": [
    {
     "name": "stdout",
     "output_type": "stream",
     "text": [
      "john davis  \n",
      " john davis\n",
      "john davis\n",
      " john davis  \n"
     ]
    }
   ],
   "source": [
    "name = \" john davis  \"\n",
    "print(name.lstrip())\n",
    "print(name.rstrip())\n",
    "print(name.strip())\n",
    "print(name)"
   ]
  },
  {
   "cell_type": "code",
   "execution_count": 59,
   "id": "de13abbd-6a50-401f-a30f-a51176c59b43",
   "metadata": {},
   "outputs": [
    {
     "name": "stdin",
     "output_type": "stream",
     "text": [
      "Enter a sentence:          the fifth street          \n"
     ]
    },
    {
     "name": "stdout",
     "output_type": "stream",
     "text": [
      "The Fifth Street.\n"
     ]
    }
   ],
   "source": [
    "mystring = input(\"Enter a sentence: \")\n",
    "mystring = mystring.strip().title()\n",
    "mystring += \".\"\n",
    "print(mystring)"
   ]
  },
  {
   "cell_type": "code",
   "execution_count": 61,
   "id": "2e3119c6-5a06-4b43-949b-0b65fb13c99a",
   "metadata": {},
   "outputs": [
    {
     "name": "stdin",
     "output_type": "stream",
     "text": [
      "Enter your first name:  Sam\n",
      "Enter your last name:  DAVIS\n"
     ]
    },
    {
     "name": "stdout",
     "output_type": "stream",
     "text": [
      "sam.davis@BU.com\n"
     ]
    }
   ],
   "source": [
    "first = input(\"Enter your first name: \").strip()\n",
    "last = input(\"Enter your last name: \").strip()\n",
    "email = f\"{first.lower()}.{last.lower()}@BU.com\"\n",
    "print(email)"
   ]
  },
  {
   "cell_type": "code",
   "execution_count": 63,
   "id": "14b19fd5-78f4-409c-ab2e-d8bbbc1c902c",
   "metadata": {},
   "outputs": [
    {
     "name": "stdout",
     "output_type": "stream",
     "text": [
      "ten-2-1.5\n"
     ]
    }
   ],
   "source": [
    "print(\"ten\", 2, 1.5, sep = \"-\")"
   ]
  },
  {
   "cell_type": "code",
   "execution_count": 65,
   "id": "a1270ffd-397d-491d-bec5-c8042ab5c7ab",
   "metadata": {},
   "outputs": [
    {
     "name": "stdout",
     "output_type": "stream",
     "text": [
      "ten-2-1.5\n"
     ]
    }
   ],
   "source": [
    "print(\"ten\", 2, 1.5, sep = \"-\")"
   ]
  },
  {
   "cell_type": "code",
   "execution_count": 67,
   "id": "07941cfa-8bbb-41a2-935a-517ea8ef372d",
   "metadata": {},
   "outputs": [
    {
     "name": "stdout",
     "output_type": "stream",
     "text": [
      "Name: Jennifer Age: 24\n"
     ]
    }
   ],
   "source": [
    "name = \"Jennifer\"\n",
    "age = 24\n",
    "\n",
    "print(\"Name\", name, sep = \": \", end = \" \")\n",
    "print(\"Age\", age, sep = \": \")"
   ]
  },
  {
   "cell_type": "code",
   "execution_count": 69,
   "id": "f4a06e5a-e475-4a4a-af9f-fbac123d3c63",
   "metadata": {},
   "outputs": [
    {
     "name": "stdin",
     "output_type": "stream",
     "text": [
      "Enter the item name:  Apple\n",
      "Enter the price of the item: $ 1.25\n",
      "Enter the quantity of Apple:  10\n"
     ]
    },
    {
     "name": "stdout",
     "output_type": "stream",
     "text": [
      "\n",
      "Invoice\n",
      "Item: Apple | Price: $ 1.25 | Quantity: 10\n",
      "----------------------------------------\n",
      "Subtotal: $ 12.50\n",
      "Tax (10%): $ 1.25\n",
      "Total: $ 13.75\n"
     ]
    }
   ],
   "source": [
    "item = input(\"Enter the item name: \").strip()\n",
    "price = float(input(\"Enter the price of the item: $\").lstrip(\"$\"))\n",
    "q = int(input(f\"Enter the quantity of {item}: \"))\n",
    "subt = price * q\n",
    "tax = 0.1 * subt\n",
    "\n",
    "print(f\"\\nInvoice\\nItem: {item}\", f\"Price: ${price: .2f}\", f\"Quantity: {q}\", sep = \" | \")\n",
    "print(\"-\"*40)\n",
    "print(f\"Subtotal: ${subt: .2f}\\nTax (10%): ${tax: .2f}\\nTotal: ${subt + tax: .2f}\")"
   ]
  },
  {
   "cell_type": "markdown",
   "id": "079d5092-66d8-4693-91dd-364befe779d2",
   "metadata": {},
   "source": [
    "# 8.28.24"
   ]
  },
  {
   "cell_type": "code",
   "execution_count": 71,
   "id": "3d9acde1-c855-4958-ba33-19f637920c13",
   "metadata": {},
   "outputs": [
    {
     "name": "stdin",
     "output_type": "stream",
     "text": [
      "Enter a 2-d number:  52\n"
     ]
    },
    {
     "name": "stdout",
     "output_type": "stream",
     "text": [
      "25\n"
     ]
    }
   ],
   "source": [
    "num = int(input(\"Enter a 2-d number: \"))\n",
    "#num = n_tens * 10 + n_ones\n",
    "n_tens = num // 10\n",
    "n_ones = num % 10\n",
    "flipped = n_ones * 10 + n_tens\n",
    "print(flipped)"
   ]
  },
  {
   "cell_type": "code",
   "execution_count": 75,
   "id": "85fa367c-0861-4daa-a265-26beb0aa2565",
   "metadata": {},
   "outputs": [
    {
     "name": "stdout",
     "output_type": "stream",
     "text": [
      "fri\n",
      "wed\n",
      "wed\n"
     ]
    }
   ],
   "source": [
    "weekdays = [\"mon\", \"tue\", \"wed\", \"thu\", \"fri\"]\n",
    "print(weekdays[-1])\n",
    "print(weekdays[-3])\n",
    "print(weekdays[2])"
   ]
  },
  {
   "cell_type": "code",
   "execution_count": 77,
   "id": "f50ab5e0-f1d6-4c29-bfdf-ddd475134d2a",
   "metadata": {},
   "outputs": [
    {
     "name": "stdout",
     "output_type": "stream",
     "text": [
      "Our meeting days are Mon and Wed.\n"
     ]
    }
   ],
   "source": [
    "print(f\"Our meeting days are {weekdays[0].title()} and {weekdays[2].title()}.\")"
   ]
  },
  {
   "cell_type": "code",
   "execution_count": 79,
   "id": "c626c9b1-e16c-42e9-8960-79f7587ed1f4",
   "metadata": {},
   "outputs": [
    {
     "name": "stdout",
     "output_type": "stream",
     "text": [
      "['mon', 'tue', 'wed']\n",
      "['mon', 'tue', 'wed']\n",
      "['wed', 'thu', 'fri']\n",
      "['mon', 'tue', 'wed', 'thu', 'fri']\n"
     ]
    }
   ],
   "source": [
    "weekdays = [\"mon\", \"tue\", \"wed\", \"thu\", \"fri\"]\n",
    "print(weekdays[0:3])\n",
    "print(weekdays[:3])\n",
    "print(weekdays[2:])\n",
    "print(weekdays[:])"
   ]
  },
  {
   "cell_type": "code",
   "execution_count": 81,
   "id": "c0c5b441-8987-4198-94ad-28e1f5cfb1db",
   "metadata": {},
   "outputs": [
    {
     "name": "stdout",
     "output_type": "stream",
     "text": [
      "hello\n",
      "4\n"
     ]
    }
   ],
   "source": [
    "nested = [1, 2, [3, 4, [\"hello\"]]]\n",
    "print(nested[2][2][0])\n",
    "\n",
    "nested = [1, 2, [3, 4]]\n",
    "print(nested[2][1])"
   ]
  },
  {
   "cell_type": "code",
   "execution_count": 85,
   "id": "ffa17fe3-9455-4a2e-94f6-00144f0d84a6",
   "metadata": {},
   "outputs": [
    {
     "name": "stdout",
     "output_type": "stream",
     "text": [
      "['Yamaha', 'Gibson', 'Fender']\n",
      "['Yamaha', 'Gibson', 'Fender', 'Martin']\n"
     ]
    }
   ],
   "source": [
    "guitars = [\"Martin\", \"Gibson\", \"Fender\"]\n",
    "guitars[0] = \"Yamaha\"\n",
    "print(guitars)\n",
    "\n",
    "guitars.append(\"Martin\")\n",
    "print(guitars)"
   ]
  },
  {
   "cell_type": "code",
   "execution_count": 91,
   "id": "176e1008-79dd-453c-bdce-db1fadd5b805",
   "metadata": {},
   "outputs": [
    {
     "name": "stdout",
     "output_type": "stream",
     "text": [
      "['Gibson', 'Fender', 'Martin']\n",
      "['Gibson', 'Yamaha', 'Fender', 'Martin']\n",
      "['Gibson', 'Fender', 'Martin']\n",
      "['Gibson', 'Fender']\n"
     ]
    }
   ],
   "source": [
    "guitars = []\n",
    "guitars.append(\"Gibson\")\n",
    "guitars.append(\"Fender\")\n",
    "guitars.append(\"Martin\")\n",
    "print(guitars)\n",
    "\n",
    "guitars.insert(1, \"Yamaha\")\n",
    "print(guitars)\n",
    "\n",
    "del guitars[1]\n",
    "print(guitars)\n",
    "\n",
    "guitars.pop() # removes desired item from list, if not specified removes last item\n",
    "print(guitars)"
   ]
  },
  {
   "cell_type": "code",
   "execution_count": 93,
   "id": "d7f43832-a696-482a-9747-5f15528d7607",
   "metadata": {},
   "outputs": [
    {
     "name": "stdout",
     "output_type": "stream",
     "text": [
      "['Gibson', 'Martin']\n",
      "Fender\n"
     ]
    }
   ],
   "source": [
    "guitars = ['Gibson', 'Fender', 'Martin']\n",
    "deleted = guitars.pop(1)\n",
    "print(guitars)\n",
    "\n",
    "print(deleted)"
   ]
  },
  {
   "cell_type": "code",
   "execution_count": 95,
   "id": "7ab2e2ce-9823-4dae-8d4f-2155c99a0130",
   "metadata": {},
   "outputs": [
    {
     "name": "stdout",
     "output_type": "stream",
     "text": [
      "['Gibson', 'Martin', 'Fender']\n"
     ]
    }
   ],
   "source": [
    "guitars = ['Gibson', 'Fender', 'Martin', 'Fender']\n",
    "guitars.remove(\"Fender\")\n",
    "print(guitars)"
   ]
  },
  {
   "cell_type": "code",
   "execution_count": 99,
   "id": "47868eea-ee00-46bb-b310-382bc277c160",
   "metadata": {},
   "outputs": [
    {
     "name": "stdout",
     "output_type": "stream",
     "text": [
      "['Martin', 'Gibson', 'Fender']\n",
      "['Fender', 'Gibson', 'Martin']\n"
     ]
    }
   ],
   "source": [
    "guitars.sort(reverse = True)\n",
    "print(guitars)\n",
    "print(sorted(guitars))"
   ]
  },
  {
   "cell_type": "code",
   "execution_count": 103,
   "id": "8343cc56-443b-4b9e-8523-02a91f31d9a2",
   "metadata": {},
   "outputs": [
    {
     "name": "stdout",
     "output_type": "stream",
     "text": [
      "['Fender', 'Martin', 'Gibson']\n",
      "3\n"
     ]
    }
   ],
   "source": [
    "guitars = ['Gibson', 'Martin', 'Fender']\n",
    "guitars.reverse()\n",
    "print(guitars)\n",
    "\n",
    "print(len(guitars))"
   ]
  },
  {
   "cell_type": "code",
   "execution_count": 107,
   "id": "d09e5d56-e373-4d4a-9e9d-54aa74690cc3",
   "metadata": {},
   "outputs": [
    {
     "name": "stdout",
     "output_type": "stream",
     "text": [
      "['Apple', 'Cherry', 'Fig', 'Kiwi', 'apple', 'kiwi']\n"
     ]
    },
    {
     "data": {
      "text/plain": [
       "['Fig', 'kiwi', 'Kiwi', 'apple', 'Apple', 'Cherry']"
      ]
     },
     "execution_count": 107,
     "metadata": {},
     "output_type": "execute_result"
    }
   ],
   "source": [
    "fruit = [\"kiwi\", \"Kiwi\", \"apple\", \"Apple\", \"Fig\", \"Cherry\"]\n",
    "print(sorted(fruit))\n",
    "sorted(fruit, key = len)"
   ]
  },
  {
   "cell_type": "code",
   "execution_count": 109,
   "id": "2134b52c-194f-4ba1-9083-a2c2cd4f2ba4",
   "metadata": {},
   "outputs": [
    {
     "data": {
      "text/plain": [
       "[1, -2, 3, -4]"
      ]
     },
     "execution_count": 109,
     "metadata": {},
     "output_type": "execute_result"
    }
   ],
   "source": [
    "num = [-4, -2, 1, 3]\n",
    "sorted(num, key = abs)"
   ]
  },
  {
   "cell_type": "code",
   "execution_count": 111,
   "id": "1dc20a70-1339-4e86-a2b5-10f24a42de85",
   "metadata": {},
   "outputs": [
    {
     "data": {
      "text/plain": [
       "['apple', 'Apple', 'Cherry', 'Fig', 'kiwi', 'Kiwi']"
      ]
     },
     "execution_count": 111,
     "metadata": {},
     "output_type": "execute_result"
    }
   ],
   "source": [
    "fruit = [\"kiwi\", \"Kiwi\", \"apple\", \"Apple\", \"Fig\", \"Cherry\"]\n",
    "sorted(fruit, key = str.lower)"
   ]
  },
  {
   "cell_type": "code",
   "execution_count": 113,
   "id": "c294d6c1-c95b-45e0-9d98-b6f7e020d989",
   "metadata": {},
   "outputs": [
    {
     "data": {
      "text/plain": [
       "[1, 10, 2, 3, 310, 32, 3200, 321]"
      ]
     },
     "execution_count": 113,
     "metadata": {},
     "output_type": "execute_result"
    }
   ],
   "source": [
    "num = [1, 2, 3, 10, 32, 310, 321, 3200]\n",
    "sorted(num, key = str)"
   ]
  },
  {
   "cell_type": "code",
   "execution_count": 115,
   "id": "3e26901c-133a-4659-8fff-41978330f01e",
   "metadata": {},
   "outputs": [
    {
     "data": {
      "text/plain": [
       "['Yamaha', 'Gibson', 'Fender']"
      ]
     },
     "execution_count": 115,
     "metadata": {},
     "output_type": "execute_result"
    }
   ],
   "source": [
    "guitars = [\"Fender\", \"Yamaha\", \"Gibson\"]\n",
    "def last_char(s):\n",
    "    return s[-1]\n",
    "sorted(guitars, key = last_char)"
   ]
  },
  {
   "cell_type": "markdown",
   "id": "c50ede8a-0b39-4e4f-9e57-491ab6e6e4f4",
   "metadata": {},
   "source": [
    "# 9.9.24"
   ]
  },
  {
   "cell_type": "code",
   "execution_count": 189,
   "id": "9859218b-5670-4c3e-955b-91b374cbcdd3",
   "metadata": {},
   "outputs": [
    {
     "name": "stdin",
     "output_type": "stream",
     "text": [
      "Enter n:  5\n"
     ]
    },
    {
     "name": "stdout",
     "output_type": "stream",
     "text": [
      "15\n"
     ]
    }
   ],
   "source": [
    "n = int(input(\"Enter n: \"))\n",
    "r = 0\n",
    "for i in range(1, n+1, 1):\n",
    "    r += i\n",
    "print(r)"
   ]
  },
  {
   "cell_type": "code",
   "execution_count": 191,
   "id": "af07dd0d-552d-4c00-9e35-42989d149850",
   "metadata": {},
   "outputs": [
    {
     "name": "stdout",
     "output_type": "stream",
     "text": [
      "S Blue\n",
      "S Red\n",
      "S Green\n",
      "M Blue\n",
      "M Red\n",
      "M Green\n",
      "L Blue\n",
      "L Red\n",
      "L Green\n"
     ]
    }
   ],
   "source": [
    "sizes = [\"S\", \"M\", \"L\"]\n",
    "colors = [\"Blue\", \"Red\", \"Green\"]\n",
    "for s in sizes:\n",
    "    for c in colors:\n",
    "        print(s, c)"
   ]
  },
  {
   "cell_type": "code",
   "execution_count": 193,
   "id": "9135c797-2e62-48bb-8025-ae902bc5bbbe",
   "metadata": {},
   "outputs": [
    {
     "name": "stdout",
     "output_type": "stream",
     "text": [
      "1\t 2\t 3\t 4\t 5\t 6\t 7\t 8\t 9\t 10\t \n",
      "2\t 4\t 6\t 8\t 10\t 12\t 14\t 16\t 18\t 20\t \n",
      "3\t 6\t 9\t 12\t 15\t 18\t 21\t 24\t 27\t 30\t \n",
      "4\t 8\t 12\t 16\t 20\t 24\t 28\t 32\t 36\t 40\t \n",
      "5\t 10\t 15\t 20\t 25\t 30\t 35\t 40\t 45\t 50\t \n",
      "6\t 12\t 18\t 24\t 30\t 36\t 42\t 48\t 54\t 60\t \n",
      "7\t 14\t 21\t 28\t 35\t 42\t 49\t 56\t 63\t 70\t \n",
      "8\t 16\t 24\t 32\t 40\t 48\t 56\t 64\t 72\t 80\t \n",
      "9\t 18\t 27\t 36\t 45\t 54\t 63\t 72\t 81\t 90\t \n",
      "10\t 20\t 30\t 40\t 50\t 60\t 70\t 80\t 90\t 100\t \n"
     ]
    }
   ],
   "source": [
    "for i in range(1, 11, 1):\n",
    "    for j in range(1, 11, 1):\n",
    "        r = i*j\n",
    "        print(f\"{r}\\t\", end = \" \")\n",
    "    print()"
   ]
  },
  {
   "cell_type": "code",
   "execution_count": 195,
   "id": "b4f88163-2172-4ac3-a622-2cd1586abf92",
   "metadata": {},
   "outputs": [
    {
     "name": "stdout",
     "output_type": "stream",
     "text": [
      "Jen\n",
      "Joe\n",
      "101\n",
      "['Kim', 'Amy']\n"
     ]
    }
   ],
   "source": [
    "myobj = [\"Jen\", \"Joe\", 101, [\"Kim\", \"Amy\"]]\n",
    "for x in myobj:\n",
    "    print(x)"
   ]
  },
  {
   "cell_type": "code",
   "execution_count": 197,
   "id": "01545e27-1aae-4bc6-95b1-886bc0820153",
   "metadata": {},
   "outputs": [
    {
     "name": "stdout",
     "output_type": "stream",
     "text": [
      "M\n",
      "I\n",
      "S\n",
      " \n",
      "#\n",
      "2\n",
      "5\n"
     ]
    }
   ],
   "source": [
    "myobj = \"MIS #25\"\n",
    "for x in myobj:\n",
    "    print(x)"
   ]
  },
  {
   "cell_type": "code",
   "execution_count": 199,
   "id": "fdb93eb0-edb4-4f9a-a730-de8786022e43",
   "metadata": {},
   "outputs": [
    {
     "data": {
      "text/plain": [
       "3"
      ]
     },
     "execution_count": 199,
     "metadata": {},
     "output_type": "execute_result"
    }
   ],
   "source": [
    "mylist = [\"Joe\", \"Jim\", \"Jen\"]\n",
    "len(mylist)"
   ]
  },
  {
   "cell_type": "code",
   "execution_count": 201,
   "id": "e8fbba6b-4713-42bf-9019-d588e0491f4f",
   "metadata": {},
   "outputs": [
    {
     "name": "stdout",
     "output_type": "stream",
     "text": [
      "3\n"
     ]
    }
   ],
   "source": [
    "cv = 0\n",
    "for item in mylist:\n",
    "    cv += 1\n",
    "print(cv)"
   ]
  },
  {
   "cell_type": "code",
   "execution_count": 203,
   "id": "9c644999-72ed-4e62-9493-7083079dc365",
   "metadata": {},
   "outputs": [
    {
     "name": "stdout",
     "output_type": "stream",
     "text": [
      "8\n"
     ]
    }
   ],
   "source": [
    "mylist = \"Jennifer\"\n",
    "cv = 0\n",
    "for item in mylist:\n",
    "    cv += 1\n",
    "print(cv)"
   ]
  },
  {
   "cell_type": "code",
   "execution_count": 205,
   "id": "31c1faa0-8922-4265-87b0-2f2e45f1dd1f",
   "metadata": {},
   "outputs": [
    {
     "name": "stdout",
     "output_type": "stream",
     "text": [
      "Joe\n",
      "Jim\n",
      "Jen\n"
     ]
    }
   ],
   "source": [
    "mylist = [\"Joe\", \"Jim\", \"Jen\"]\n",
    "for item in mylist:\n",
    "    print(item)"
   ]
  },
  {
   "cell_type": "code",
   "execution_count": 207,
   "id": "47a4451b-f677-4c93-a9cb-c77047956b97",
   "metadata": {},
   "outputs": [
    {
     "name": "stdout",
     "output_type": "stream",
     "text": [
      "Joe\n",
      "Jim\n",
      "Jen\n"
     ]
    }
   ],
   "source": [
    "for i in range(0, len(mylist), 1):\n",
    "    print(mylist[i])"
   ]
  },
  {
   "cell_type": "code",
   "execution_count": 209,
   "id": "076af895-e44c-488d-9fa2-62e5b111a6c4",
   "metadata": {},
   "outputs": [
    {
     "name": "stdout",
     "output_type": "stream",
     "text": [
      "Joe\n",
      "Jen\n"
     ]
    }
   ],
   "source": [
    "for i in range(0, len(mylist), 2):\n",
    "    print(mylist[i])"
   ]
  },
  {
   "cell_type": "code",
   "execution_count": 213,
   "id": "8aebbb10-621d-444e-a7e8-0f80108f88ff",
   "metadata": {},
   "outputs": [
    {
     "name": "stdout",
     "output_type": "stream",
     "text": [
      "[1, 4, 9, 16, 25, 36, 49, 64, 81, 100]\n"
     ]
    }
   ],
   "source": [
    "squares = []\n",
    "for n in range(1, 11, 1):\n",
    "    squares.append(n**2)\n",
    "\n",
    "print(squares)"
   ]
  },
  {
   "cell_type": "code",
   "execution_count": 215,
   "id": "df6add6d-fec7-4c3e-99b9-a53740d202cd",
   "metadata": {},
   "outputs": [
    {
     "data": {
      "text/plain": [
       "[1, 4, 9, 16, 25, 36, 49, 64, 81, 100]"
      ]
     },
     "execution_count": 215,
     "metadata": {},
     "output_type": "execute_result"
    }
   ],
   "source": [
    "#list comprehension\n",
    "seq = [n**2 for n in range(1, 11, 1)]\n",
    "seq"
   ]
  },
  {
   "cell_type": "code",
   "execution_count": 217,
   "id": "8aa7e128-62d1-4fda-b1de-da1fca55c3c8",
   "metadata": {},
   "outputs": [
    {
     "data": {
      "text/plain": [
       "[1, 6, 11, 16, 21, 26, 31, 36, 41, 46, 51]"
      ]
     },
     "execution_count": 217,
     "metadata": {},
     "output_type": "execute_result"
    }
   ],
   "source": [
    "sequence = [5*i + 1 for i in range(11)]\n",
    "sequence"
   ]
  },
  {
   "cell_type": "code",
   "execution_count": 219,
   "id": "6a3ddb2d-fb3c-441c-8f95-ee821c5e1ecf",
   "metadata": {},
   "outputs": [
    {
     "name": "stdout",
     "output_type": "stream",
     "text": [
      "S Blue\n",
      "S Red\n",
      "S Green\n",
      "M Blue\n",
      "M Red\n",
      "M Green\n",
      "L Blue\n",
      "L Red\n",
      "L Green\n"
     ]
    }
   ],
   "source": [
    "sizes = [\"S\", \"M\", \"L\"]\n",
    "colors = [\"Blue\", \"Red\", \"Green\"]\n",
    "for s in sizes:\n",
    "    for c in colors:\n",
    "        print(s, c)"
   ]
  },
  {
   "cell_type": "code",
   "execution_count": 221,
   "id": "9217a160-e4c1-4d9c-a58c-b67e63b560ad",
   "metadata": {},
   "outputs": [
    {
     "data": {
      "text/plain": [
       "[('S', 'Blue'),\n",
       " ('S', 'Red'),\n",
       " ('S', 'Green'),\n",
       " ('M', 'Blue'),\n",
       " ('M', 'Red'),\n",
       " ('M', 'Green'),\n",
       " ('L', 'Blue'),\n",
       " ('L', 'Red'),\n",
       " ('L', 'Green')]"
      ]
     },
     "execution_count": 221,
     "metadata": {},
     "output_type": "execute_result"
    }
   ],
   "source": [
    "combo = [(s, c) for s in sizes for c in colors]\n",
    "combo"
   ]
  },
  {
   "cell_type": "code",
   "execution_count": 223,
   "id": "39493c47-0307-47a2-871e-5e52bb5644ab",
   "metadata": {},
   "outputs": [
    {
     "data": {
      "text/plain": [
       "[1, 4, 27, 16, 125, 36, 343, 64, 729]"
      ]
     },
     "execution_count": 223,
     "metadata": {},
     "output_type": "execute_result"
    }
   ],
   "source": [
    "[x**2 if x % 2 == 0 else x**3 for x in range(1, 10, 1)]"
   ]
  },
  {
   "cell_type": "code",
   "execution_count": 227,
   "id": "6615c39b-812e-470e-b0a3-f8cffc570dd3",
   "metadata": {},
   "outputs": [
    {
     "name": "stdout",
     "output_type": "stream",
     "text": [
      "[2, 3, 4, 1, 2]\n",
      "[2, 3, 4, 1, 2]\n"
     ]
    }
   ],
   "source": [
    "mylist1 = [2, 3, 4]\n",
    "mylist2 = mylist1\n",
    "mylist1.append(1)\n",
    "mylist2.append(2)\n",
    "print(mylist1)\n",
    "print(mylist2)"
   ]
  },
  {
   "cell_type": "code",
   "execution_count": 229,
   "id": "89711069-5fd8-4b26-987d-02fe376b8266",
   "metadata": {},
   "outputs": [
    {
     "name": "stdout",
     "output_type": "stream",
     "text": [
      "101\n",
      "99\n"
     ]
    }
   ],
   "source": [
    "#copying a list\n",
    "mylist2 = mylist1.copy()\n",
    "mylist2 = mylist1[:]\n",
    "\n",
    "x1 = x2 = 100\n",
    "\n",
    "x1 += 1\n",
    "x2 -= 1\n",
    "\n",
    "print(x1)\n",
    "print(x2)"
   ]
  },
  {
   "cell_type": "code",
   "execution_count": 231,
   "id": "c29d72f4-d806-4728-be89-b871ceaafaa2",
   "metadata": {},
   "outputs": [
    {
     "name": "stdout",
     "output_type": "stream",
     "text": [
      "11\n",
      "(10, 11)\n",
      "(12, 13)\n"
     ]
    }
   ],
   "source": [
    "#TUPLES (are immutable)\n",
    "mytuple = (10, 11, 12, 13)\n",
    "print(mytuple[1])\n",
    "print(mytuple[:2])\n",
    "print(mytuple[2:])"
   ]
  },
  {
   "cell_type": "code",
   "execution_count": 233,
   "id": "5fb0a3eb-82dc-4b74-98f2-71131f558fea",
   "metadata": {},
   "outputs": [
    {
     "ename": "TypeError",
     "evalue": "'tuple' object does not support item assignment",
     "output_type": "error",
     "traceback": [
      "\u001b[1;31m---------------------------------------------------------------------------\u001b[0m",
      "\u001b[1;31mTypeError\u001b[0m                                 Traceback (most recent call last)",
      "Cell \u001b[1;32mIn[233], line 1\u001b[0m\n\u001b[1;32m----> 1\u001b[0m mytuple[\u001b[38;5;241m0\u001b[39m] \u001b[38;5;241m=\u001b[39m \u001b[38;5;241m100\u001b[39m\n",
      "\u001b[1;31mTypeError\u001b[0m: 'tuple' object does not support item assignment"
     ]
    }
   ],
   "source": [
    "mytuple[0] = 100"
   ]
  },
  {
   "cell_type": "code",
   "execution_count": 235,
   "id": "8ee8a1aa-16af-4295-ba14-053bbaf1bcb6",
   "metadata": {},
   "outputs": [
    {
     "data": {
      "text/plain": [
       "5"
      ]
     },
     "execution_count": 235,
     "metadata": {},
     "output_type": "execute_result"
    }
   ],
   "source": [
    "t = (5,)\n",
    "t[0]"
   ]
  },
  {
   "cell_type": "code",
   "execution_count": 237,
   "id": "a0fd041c-e3af-4111-862e-60360e3875cf",
   "metadata": {},
   "outputs": [
    {
     "data": {
      "text/plain": [
       "'J'"
      ]
     },
     "execution_count": 237,
     "metadata": {},
     "output_type": "execute_result"
    }
   ],
   "source": [
    "t = (\"Jennifer\")\n",
    "t[0]"
   ]
  },
  {
   "cell_type": "code",
   "execution_count": 239,
   "id": "1d5d02b3-44a6-4a26-80b1-c77c64e89a48",
   "metadata": {},
   "outputs": [
    {
     "name": "stdout",
     "output_type": "stream",
     "text": [
      "22\n",
      "24\n"
     ]
    }
   ],
   "source": [
    "t = (10, 11, 12, 13)\n",
    "for item in t[1:3]:\n",
    "    print(item*2)"
   ]
  },
  {
   "cell_type": "code",
   "execution_count": 241,
   "id": "b5776933-0083-4358-a853-d03aabe574a5",
   "metadata": {},
   "outputs": [
    {
     "data": {
      "text/plain": [
       "(10, 11, 12, 13, 10, 11, 12, 13, 10, 11, 12, 13, 10, 11, 12, 13)"
      ]
     },
     "execution_count": 241,
     "metadata": {},
     "output_type": "execute_result"
    }
   ],
   "source": [
    "t * 4"
   ]
  },
  {
   "cell_type": "code",
   "execution_count": 243,
   "id": "a38edf85-7619-45e4-a4f6-4a1405cceea1",
   "metadata": {},
   "outputs": [
    {
     "data": {
      "text/plain": [
       "(10, 11, 12, 13, 'A', 'b', 101)"
      ]
     },
     "execution_count": 243,
     "metadata": {},
     "output_type": "execute_result"
    }
   ],
   "source": [
    "t + (\"A\",\"b\", 101)"
   ]
  },
  {
   "cell_type": "code",
   "execution_count": 245,
   "id": "9fcc2b03-fd21-44fb-992c-508031caee93",
   "metadata": {},
   "outputs": [
    {
     "data": {
      "text/plain": [
       "5"
      ]
     },
     "execution_count": 245,
     "metadata": {},
     "output_type": "execute_result"
    }
   ],
   "source": [
    "abs(-5)"
   ]
  },
  {
   "cell_type": "code",
   "execution_count": 247,
   "id": "bcb9961b-4c55-4c25-af9d-e60cd4db075e",
   "metadata": {},
   "outputs": [
    {
     "name": "stdin",
     "output_type": "stream",
     "text": [
      "Enter an integer:  -2\n"
     ]
    },
    {
     "name": "stdout",
     "output_type": "stream",
     "text": [
      "2\n"
     ]
    }
   ],
   "source": [
    "#CONDITIONAL STATEMENTS\n",
    "\n",
    "n = int(input(\"Enter an integer: \"))\n",
    "if n >= 0:\n",
    "    print(n)\n",
    "else:\n",
    "    print(-n)"
   ]
  },
  {
   "cell_type": "code",
   "execution_count": 249,
   "id": "8e1b5c26-d54d-4717-8946-c97da36e9b1c",
   "metadata": {},
   "outputs": [
    {
     "data": {
      "text/plain": [
       "True"
      ]
     },
     "execution_count": 249,
     "metadata": {},
     "output_type": "execute_result"
    }
   ],
   "source": [
    "name = \"John\"\n",
    "name == \"John\""
   ]
  },
  {
   "cell_type": "code",
   "execution_count": 251,
   "id": "9346a578-93d1-48b5-99c0-2967fb6163f5",
   "metadata": {},
   "outputs": [
    {
     "data": {
      "text/plain": [
       "True"
      ]
     },
     "execution_count": 251,
     "metadata": {},
     "output_type": "execute_result"
    }
   ],
   "source": [
    "name != \"Jen\""
   ]
  },
  {
   "cell_type": "code",
   "execution_count": 255,
   "id": "cc0f4de3-da62-4b7b-a9b6-2c5e44472abf",
   "metadata": {},
   "outputs": [
    {
     "data": {
      "text/plain": [
       "False"
      ]
     },
     "execution_count": 255,
     "metadata": {},
     "output_type": "execute_result"
    }
   ],
   "source": [
    "x = 5\n",
    "x > 10"
   ]
  },
  {
   "cell_type": "code",
   "execution_count": 257,
   "id": "2ba7830e-bc3d-43e5-b351-dd8b42814b76",
   "metadata": {},
   "outputs": [
    {
     "name": "stdin",
     "output_type": "stream",
     "text": [
      "Choose your user:  Alice\n",
      "Choose your pass:  Alice123\n",
      "Re-enter your pass:  alice123\n"
     ]
    },
    {
     "name": "stdout",
     "output_type": "stream",
     "text": [
      "Entries do not match!\n"
     ]
    }
   ],
   "source": [
    "u = input(\"Choose your user: \")\n",
    "p1 = input(\"Choose your pass: \")\n",
    "p2 = input(\"Re-enter your pass: \")\n",
    "if p1 != p2:\n",
    "    print(\"Entries do not match!\")\n",
    "else:\n",
    "    print(\"You are all set!\")"
   ]
  },
  {
   "cell_type": "code",
   "execution_count": 259,
   "id": "ba05e139-8a8b-4a64-aa77-7851ee83eb94",
   "metadata": {},
   "outputs": [
    {
     "name": "stdout",
     "output_type": "stream",
     "text": [
      "Ben (he/him/his)\n",
      "Tom (he/him/his)\n",
      "Jen (she/her/hers)\n",
      "Joe (he/him/his)\n"
     ]
    }
   ],
   "source": [
    "students = [\"Ben\", \"Tom\", \"Jen\", \"Joe\"]\n",
    "for student in students:\n",
    "    if student == \"Jen\":\n",
    "        print(f\"{student} (she/her/hers)\")\n",
    "    else:\n",
    "        print(f\"{student} (he/him/his)\")"
   ]
  },
  {
   "cell_type": "code",
   "execution_count": 261,
   "id": "3e15947e-3b04-4d87-a61f-c8a197460af4",
   "metadata": {},
   "outputs": [
    {
     "name": "stdout",
     "output_type": "stream",
     "text": [
      "List is empty\n"
     ]
    }
   ],
   "source": [
    "mylist = []\n",
    "if mylist:\n",
    "    print(\"List is not empty!\")\n",
    "else:\n",
    "    print(\"List is empty\")"
   ]
  },
  {
   "cell_type": "code",
   "execution_count": 263,
   "id": "06940367-d3d1-43ea-8c66-43a71519ef7f",
   "metadata": {},
   "outputs": [
    {
     "data": {
      "text/plain": [
       "False"
      ]
     },
     "execution_count": 263,
     "metadata": {},
     "output_type": "execute_result"
    }
   ],
   "source": [
    "n1 = 15\n",
    "n2 = 32\n",
    "n1 >= 10 and n2 < 30"
   ]
  },
  {
   "cell_type": "code",
   "execution_count": 267,
   "id": "c399392d-395c-45d7-aef1-3b5c64a1f23c",
   "metadata": {},
   "outputs": [
    {
     "data": {
      "text/plain": [
       "True"
      ]
     },
     "execution_count": 267,
     "metadata": {},
     "output_type": "execute_result"
    }
   ],
   "source": [
    "n1 >= 10 or n2 < 30"
   ]
  },
  {
   "cell_type": "code",
   "execution_count": 265,
   "id": "d00c67d7-ee5f-44ac-8f69-7613a4fde241",
   "metadata": {},
   "outputs": [
    {
     "data": {
      "text/plain": [
       "False"
      ]
     },
     "execution_count": 265,
     "metadata": {},
     "output_type": "execute_result"
    }
   ],
   "source": [
    "not n1 >= 10 or n2 < 30"
   ]
  },
  {
   "cell_type": "code",
   "execution_count": 277,
   "id": "fa929211-bdcc-4de8-9b3a-ccc3df64e6a3",
   "metadata": {},
   "outputs": [
    {
     "name": "stdout",
     "output_type": "stream",
     "text": [
      "True\n",
      "True\n"
     ]
    }
   ],
   "source": [
    "students = [\"Fred\", \"Jen\"]\n",
    "print(\"Jen\" in students)\n",
    "print(\"Jim\" not in students)"
   ]
  },
  {
   "cell_type": "code",
   "execution_count": 279,
   "id": "26ae9217-5ee7-4383-b68f-28558f3d8547",
   "metadata": {},
   "outputs": [
    {
     "data": {
      "text/plain": [
       "True"
      ]
     },
     "execution_count": 279,
     "metadata": {},
     "output_type": "execute_result"
    }
   ],
   "source": [
    "\"oo\" in \"school\""
   ]
  },
  {
   "cell_type": "code",
   "execution_count": 281,
   "id": "7e4bcad2-d857-4dcd-a804-e17cd76d2ff5",
   "metadata": {},
   "outputs": [
    {
     "data": {
      "text/plain": [
       "False"
      ]
     },
     "execution_count": 281,
     "metadata": {},
     "output_type": "execute_result"
    }
   ],
   "source": [
    "\"z\" not in \"xyz\""
   ]
  },
  {
   "cell_type": "markdown",
   "id": "e960710c-1540-4116-abe1-f8b54c10661a",
   "metadata": {},
   "source": [
    "# 9.11.24"
   ]
  },
  {
   "cell_type": "code",
   "execution_count": 117,
   "id": "42c50a90-fc82-4b90-8aa8-f704fd9bd3c2",
   "metadata": {},
   "outputs": [
    {
     "name": "stdin",
     "output_type": "stream",
     "text": [
      "How old are you?  16\n"
     ]
    },
    {
     "name": "stdout",
     "output_type": "stream",
     "text": [
      "You are a minor!\n"
     ]
    }
   ],
   "source": [
    "age = int(input(\"How old are you? \"))\n",
    "if age < 18:\n",
    "    print(\"You are a minor!\")\n",
    "else:\n",
    "    print(\"You are an adult!\")"
   ]
  },
  {
   "cell_type": "code",
   "execution_count": 119,
   "id": "f13cee70-baa9-4472-a04b-bbfe75b3ad2a",
   "metadata": {},
   "outputs": [
    {
     "data": {
      "text/plain": [
       "False"
      ]
     },
     "execution_count": 119,
     "metadata": {},
     "output_type": "execute_result"
    }
   ],
   "source": [
    "2 > 5 and -1 != 0"
   ]
  },
  {
   "cell_type": "code",
   "execution_count": 121,
   "id": "38925c5e-58a8-4657-a64f-d56376f563ec",
   "metadata": {},
   "outputs": [
    {
     "data": {
      "text/plain": [
       "True"
      ]
     },
     "execution_count": 121,
     "metadata": {},
     "output_type": "execute_result"
    }
   ],
   "source": [
    "2 > 5 or -1 != 0"
   ]
  },
  {
   "cell_type": "code",
   "execution_count": 123,
   "id": "3196197d-6e97-4f29-a63d-c94b3133b5d1",
   "metadata": {},
   "outputs": [
    {
     "data": {
      "text/plain": [
       "True"
      ]
     },
     "execution_count": 123,
     "metadata": {},
     "output_type": "execute_result"
    }
   ],
   "source": [
    "not 2 > 5 and -1 != 0"
   ]
  },
  {
   "cell_type": "code",
   "execution_count": 125,
   "id": "09e9637d-902e-4a30-ab5f-0f592600b355",
   "metadata": {},
   "outputs": [
    {
     "data": {
      "text/plain": [
       "True"
      ]
     },
     "execution_count": 125,
     "metadata": {},
     "output_type": "execute_result"
    }
   ],
   "source": [
    "\"noon\" in \"afternoon\""
   ]
  },
  {
   "cell_type": "code",
   "execution_count": 127,
   "id": "fcfd7cb3-f0bd-4bed-9c89-ce5fa32f8de7",
   "metadata": {},
   "outputs": [
    {
     "data": {
      "text/plain": [
       "True"
      ]
     },
     "execution_count": 127,
     "metadata": {},
     "output_type": "execute_result"
    }
   ],
   "source": [
    "10 not in [\"Abigail\", 11, -1]"
   ]
  },
  {
   "cell_type": "code",
   "execution_count": 129,
   "id": "27d35f15-12e1-43ae-9e73-4856f18dc21b",
   "metadata": {},
   "outputs": [
    {
     "name": "stdout",
     "output_type": "stream",
     "text": [
      "Jack is enrolled in the class.\n",
      "Walter is not enrolled in the class.\n",
      "Jen is enrolled in the class.\n"
     ]
    }
   ],
   "source": [
    "enrolled = [\"Joe\", \"Jen\", \"Jim\", \"Jack\", \"Jill\"]\n",
    "students = [\"Jack\", \"Walter\", \"Jen\"]\n",
    "\n",
    "for name in students:\n",
    "    if name in enrolled:\n",
    "        print(f\"{name} is enrolled in the class.\")\n",
    "    else:\n",
    "        print(f\"{name} is not enrolled in the class.\")"
   ]
  },
  {
   "cell_type": "code",
   "execution_count": 131,
   "id": "920056c6-11c8-4f49-b8fe-f525bb0de204",
   "metadata": {},
   "outputs": [
    {
     "data": {
      "text/plain": [
       "[2, 3, 4]"
      ]
     },
     "execution_count": 131,
     "metadata": {},
     "output_type": "execute_result"
    }
   ],
   "source": [
    "mylist1 = [1, 2, 3, 4, 2]\n",
    "mylist2 = [2, 3, 4, 5, 6, 7]\n",
    "\n",
    "intersect = []\n",
    "for item in mylist1:\n",
    "    if item in mylist2 and item not in intersect:\n",
    "        intersect.append(item)\n",
    "intersect"
   ]
  },
  {
   "cell_type": "code",
   "execution_count": 133,
   "id": "9cce413a-cfa3-4f41-95ef-ff206908151f",
   "metadata": {},
   "outputs": [
    {
     "name": "stdin",
     "output_type": "stream",
     "text": [
      "Enter a an integer:  -1\n"
     ]
    },
    {
     "name": "stdout",
     "output_type": "stream",
     "text": [
      "The number -1 is an odd number.\n"
     ]
    }
   ],
   "source": [
    "n = int(input(\"Enter a an integer: \"))\n",
    "if n % 2 == 0:\n",
    "    print(f\"The number {n} is an even number.\")\n",
    "else:\n",
    "    print(f\"The number {n} is an odd number.\")"
   ]
  },
  {
   "cell_type": "code",
   "execution_count": 135,
   "id": "a2afa67b-066c-49dd-8030-a44dee756a2b",
   "metadata": {},
   "outputs": [
    {
     "name": "stdin",
     "output_type": "stream",
     "text": [
      "Enter a your integer #1:  1\n"
     ]
    },
    {
     "name": "stdout",
     "output_type": "stream",
     "text": [
      "The number 1 is an odd number.\n"
     ]
    },
    {
     "name": "stdin",
     "output_type": "stream",
     "text": [
      "Enter a your integer #2:  101\n"
     ]
    },
    {
     "name": "stdout",
     "output_type": "stream",
     "text": [
      "The number 101 is an odd number.\n"
     ]
    },
    {
     "name": "stdin",
     "output_type": "stream",
     "text": [
      "Enter a your integer #3:  0\n"
     ]
    },
    {
     "name": "stdout",
     "output_type": "stream",
     "text": [
      "The number 0 is an even number.\n"
     ]
    },
    {
     "name": "stdin",
     "output_type": "stream",
     "text": [
      "Enter a your integer #4:  -1\n"
     ]
    },
    {
     "name": "stdout",
     "output_type": "stream",
     "text": [
      "The number -1 is an odd number.\n"
     ]
    },
    {
     "name": "stdin",
     "output_type": "stream",
     "text": [
      "Enter a your integer #5:  100\n"
     ]
    },
    {
     "name": "stdout",
     "output_type": "stream",
     "text": [
      "The number 100 is an even number.\n",
      "\n",
      "Bye\n"
     ]
    }
   ],
   "source": [
    "for i in range(1, 6, 1):\n",
    "    n = int(input(f\"Enter a your integer #{i}: \"))\n",
    "    if n % 2 == 0:\n",
    "        print(f\"The number {n} is an even number.\")\n",
    "    else:\n",
    "        print(f\"The number {n} is an odd number.\")\n",
    "print(\"\\nBye\")"
   ]
  },
  {
   "cell_type": "code",
   "execution_count": 137,
   "id": "1f2ccb16-0d03-4a74-a644-eb56e8974959",
   "metadata": {},
   "outputs": [
    {
     "data": {
      "text/plain": [
       "126"
      ]
     },
     "execution_count": 137,
     "metadata": {},
     "output_type": "execute_result"
    }
   ],
   "source": [
    "mylist = []\n",
    "for num in range(100, 1000):\n",
    "    if num % 2 == 0:\n",
    "        str_num = str(num)\n",
    "        if \"0\" in str_num:\n",
    "            mylist.append(num)\n",
    "len(mylist)"
   ]
  },
  {
   "cell_type": "code",
   "execution_count": 139,
   "id": "76b1b1ef-bca9-4048-b6ca-ef1dbb4de132",
   "metadata": {},
   "outputs": [
    {
     "data": {
      "text/plain": [
       "126"
      ]
     },
     "execution_count": 139,
     "metadata": {},
     "output_type": "execute_result"
    }
   ],
   "source": [
    "#How many three-digit even number that has at least a zero do we have?\n",
    "mylist = []\n",
    "for num in range(100, 1000):\n",
    "    if num % 2 == 0 and \"0\" in str(num):\n",
    "        mylist.append(num)\n",
    "len(mylist)"
   ]
  },
  {
   "cell_type": "code",
   "execution_count": 141,
   "id": "ebefd63d-8533-45bb-93cc-69280d416781",
   "metadata": {},
   "outputs": [
    {
     "name": "stdin",
     "output_type": "stream",
     "text": [
      "Enter a year:  1998\n"
     ]
    },
    {
     "name": "stdout",
     "output_type": "stream",
     "text": [
      "1998 is not a leap year.\n"
     ]
    }
   ],
   "source": [
    "year = int(input(\"Enter a year: \"))\n",
    "if year % 100 == 0:\n",
    "    if year % 400 == 0:\n",
    "        print(f\"{year} is a leap year.\")\n",
    "    else:\n",
    "        print(f\"{year} is not a leap year.\")\n",
    "else:\n",
    "    if year % 4 == 0:\n",
    "        print(f\"{year} is a leap year.\")\n",
    "    else:\n",
    "        print(f\"{year} is not a leap year.\")"
   ]
  },
  {
   "cell_type": "code",
   "execution_count": 143,
   "id": "c6d4eb60-3402-400f-b93c-75c1e52d18f8",
   "metadata": {},
   "outputs": [
    {
     "name": "stdin",
     "output_type": "stream",
     "text": [
      "Enter your score:  34.5\n"
     ]
    },
    {
     "name": "stdout",
     "output_type": "stream",
     "text": [
      "Your letter grade is F.\n"
     ]
    }
   ],
   "source": [
    "p = float(input(\"Enter your score: \"))\n",
    "if p >= 90:\n",
    "    grade = \"A\"\n",
    "elif p >= 80:\n",
    "    grade = \"B\"\n",
    "elif p >= 70:\n",
    "    grade = \"C\"\n",
    "elif p < 70:\n",
    "    grade = \"F\"\n",
    "print(f\"Your letter grade is {grade}.\")"
   ]
  },
  {
   "cell_type": "code",
   "execution_count": 165,
   "id": "5a0568c0-ed3d-4008-8e00-cb0e9b4a9050",
   "metadata": {},
   "outputs": [
    {
     "name": "stdout",
     "output_type": "stream",
     "text": [
      "1st\n",
      "2nd\n",
      "3rd\n",
      "4th\n",
      "5th\n",
      "6th\n",
      "7th\n",
      "8th\n",
      "9th\n"
     ]
    }
   ],
   "source": [
    "mylist = [n for n in range(1, 10, 1)]\n",
    "for n in mylist:\n",
    "    if n == 1:\n",
    "        print(f\"{n}st\")\n",
    "    elif n == 2:\n",
    "        print(f\"{n}nd\")\n",
    "    elif n == 3:\n",
    "        print(f\"{n}rd\")\n",
    "    else:\n",
    "        print(f\"{n}th\")"
   ]
  },
  {
   "cell_type": "code",
   "execution_count": 167,
   "id": "8b122436-65b0-4f79-b287-23687b4410d2",
   "metadata": {},
   "outputs": [
    {
     "data": {
      "text/plain": [
       "24"
      ]
     },
     "execution_count": 167,
     "metadata": {},
     "output_type": "execute_result"
    }
   ],
   "source": [
    "mytuple = (3, -61, 18, 5, 7, 24, 24)\n",
    "sorted(mytuple)[-2]"
   ]
  },
  {
   "cell_type": "code",
   "execution_count": 169,
   "id": "9c872c39-d423-48fe-a6f9-f55c5c609fe0",
   "metadata": {},
   "outputs": [
    {
     "name": "stdout",
     "output_type": "stream",
     "text": [
      "18\n"
     ]
    }
   ],
   "source": [
    "largest = second = float(\"-inf\")\n",
    "for num in mytuple:\n",
    "    if num > largest:\n",
    "        second = largest\n",
    "        largest = num       \n",
    "    elif num < largest and num > second:\n",
    "        second = num\n",
    "print(second)"
   ]
  },
  {
   "cell_type": "code",
   "execution_count": 171,
   "id": "b87cc544-abb6-4299-9308-fc16410a25f2",
   "metadata": {},
   "outputs": [
    {
     "name": "stdout",
     "output_type": "stream",
     "text": [
      "1\n",
      "2\n",
      "3\n",
      "4\n",
      "5\n"
     ]
    }
   ],
   "source": [
    "for i in range(1, 6, 1):\n",
    "    print(i)"
   ]
  },
  {
   "cell_type": "code",
   "execution_count": 173,
   "id": "aa1f6049-88cf-476e-91fb-99b84ac13758",
   "metadata": {},
   "outputs": [
    {
     "name": "stdout",
     "output_type": "stream",
     "text": [
      "1\n",
      "2\n",
      "3\n",
      "4\n",
      "5\n"
     ]
    }
   ],
   "source": [
    "# WHILE LOOPS\n",
    "\n",
    "count = 1\n",
    "while count <= 5:\n",
    "    print(count)\n",
    "    count += 1"
   ]
  },
  {
   "cell_type": "code",
   "execution_count": 175,
   "id": "752810d5-ceab-48c2-aeaa-6145952069a1",
   "metadata": {},
   "outputs": [
    {
     "data": {
      "text/plain": [
       "6"
      ]
     },
     "execution_count": 175,
     "metadata": {},
     "output_type": "execute_result"
    }
   ],
   "source": [
    "count"
   ]
  },
  {
   "cell_type": "code",
   "execution_count": 177,
   "id": "87855580-c945-4042-bd89-0f916256934f",
   "metadata": {},
   "outputs": [
    {
     "name": "stdout",
     "output_type": "stream",
     "text": [
      "1\n",
      "3\n",
      "5\n",
      "7\n",
      "9\n"
     ]
    }
   ],
   "source": [
    "for i in range(1, 11, 2):\n",
    "    print(i)"
   ]
  },
  {
   "cell_type": "code",
   "execution_count": 179,
   "id": "b6ccf29f-2727-46c9-a1ba-b6d763d3ad5d",
   "metadata": {},
   "outputs": [
    {
     "name": "stdout",
     "output_type": "stream",
     "text": [
      "1\n",
      "3\n",
      "5\n",
      "7\n",
      "9\n"
     ]
    }
   ],
   "source": [
    "j = 1\n",
    "while j <= 9:\n",
    "    print(j)\n",
    "    j += 2"
   ]
  },
  {
   "cell_type": "code",
   "execution_count": 181,
   "id": "27b7515e-976f-4987-a965-492a2659644e",
   "metadata": {},
   "outputs": [
    {
     "name": "stdout",
     "output_type": "stream",
     "text": [
      "X\n",
      "XX\n",
      "XXX\n",
      "XXXX\n",
      "XXXXX\n"
     ]
    }
   ],
   "source": [
    "n = 1\n",
    "while n <= 5:\n",
    "    print(\"X\"*n)\n",
    "    n += 1"
   ]
  },
  {
   "cell_type": "code",
   "execution_count": 183,
   "id": "8a6203ae-d33b-455f-8aaa-04f665660261",
   "metadata": {},
   "outputs": [
    {
     "name": "stdout",
     "output_type": "stream",
     "text": [
      "XXXXX\n",
      "XXXX\n",
      "XXX\n",
      "XX\n",
      "X\n"
     ]
    }
   ],
   "source": [
    "m = 5\n",
    "while m >= 1:\n",
    "    print(\"X\"*m)\n",
    "    m -= 1"
   ]
  },
  {
   "cell_type": "code",
   "execution_count": 185,
   "id": "6d866abf-08c0-4c51-a0ca-2a9a2a3b658c",
   "metadata": {},
   "outputs": [
    {
     "name": "stdin",
     "output_type": "stream",
     "text": [
      "Enter the secret code:  open\n"
     ]
    },
    {
     "name": "stdout",
     "output_type": "stream",
     "text": [
      "Access denied! You have 2 attempt(s) left.\n"
     ]
    },
    {
     "name": "stdin",
     "output_type": "stream",
     "text": [
      "Enter the secret code:  PHOENIX\n"
     ]
    },
    {
     "name": "stdout",
     "output_type": "stream",
     "text": [
      "Access granted. Welcome!\n"
     ]
    }
   ],
   "source": [
    "secret_code = \"phoenix\"\n",
    "tries = 3\n",
    "\n",
    "while tries > 0:\n",
    "    entry = input(\"Enter the secret code: \")\n",
    "    if entry.lower() == secret_code:\n",
    "        print(\"Access granted. Welcome!\")\n",
    "        tries = 0   \n",
    "    else:\n",
    "        tries -= 1\n",
    "        if tries > 0:\n",
    "            print(f\"Access denied! You have {tries} attempt(s) left.\")\n",
    "        else:\n",
    "            print(\"Out of attempts.\")      "
   ]
  },
  {
   "cell_type": "markdown",
   "id": "81a10f81-f2a4-4ecd-9f26-c8a5e15a864f",
   "metadata": {},
   "source": [
    "# 9.16.24"
   ]
  },
  {
   "cell_type": "code",
   "execution_count": 283,
   "id": "8c43632c-15bd-4927-a289-ea6439165e8d",
   "metadata": {},
   "outputs": [
    {
     "name": "stdin",
     "output_type": "stream",
     "text": [
      "Enter the secret code:  hoenix\n"
     ]
    },
    {
     "name": "stdout",
     "output_type": "stream",
     "text": [
      "Access denied! 2 attempt(s) left.\n",
      "\n"
     ]
    },
    {
     "name": "stdin",
     "output_type": "stream",
     "text": [
      "Enter the secret code:  hoenix\n"
     ]
    },
    {
     "name": "stdout",
     "output_type": "stream",
     "text": [
      "Access denied! 1 attempt(s) left.\n",
      "\n"
     ]
    },
    {
     "name": "stdin",
     "output_type": "stream",
     "text": [
      "Enter the secret code:  pHOENIX\n"
     ]
    },
    {
     "name": "stdout",
     "output_type": "stream",
     "text": [
      "Access granted! Welcome.\n"
     ]
    }
   ],
   "source": [
    "secret_code = \"phoenix\"\n",
    "tries = 3\n",
    "\n",
    "while tries > 0:\n",
    "    entry = input(\"Enter the secret code: \")\n",
    "    if entry.lower() == secret_code:\n",
    "        print(\"Access granted! Welcome.\")\n",
    "        tries = 0\n",
    "    else:\n",
    "        tries -= 1\n",
    "        if tries > 0:\n",
    "            print(f\"Access denied! {tries} attempt(s) left.\\n\")\n",
    "        else:\n",
    "            print(\"Out of attempts!\")"
   ]
  },
  {
   "cell_type": "code",
   "execution_count": 285,
   "id": "db59b9ff-10a7-480a-8e1e-721192b1a9a6",
   "metadata": {},
   "outputs": [
    {
     "name": "stdout",
     "output_type": "stream",
     "text": [
      "Buzz Fizz 98 97 Fizz Buzz 94 Fizz 92 91 \n",
      "FizzBuzz 89 88 Fizz 86 Buzz Fizz 83 82 Fizz \n",
      "Buzz 79 Fizz 77 76 FizzBuzz 74 73 Fizz 71 \n",
      "Buzz Fizz 68 67 Fizz Buzz 64 Fizz 62 61 \n",
      "FizzBuzz 59 58 Fizz 56 Buzz Fizz 53 52 Fizz \n",
      "Buzz 49 Fizz 47 46 FizzBuzz 44 43 Fizz 41 \n",
      "Buzz Fizz 38 37 Fizz Buzz 34 Fizz 32 31 \n",
      "FizzBuzz 29 28 Fizz 26 Buzz Fizz 23 22 Fizz \n",
      "Buzz 19 Fizz 17 16 FizzBuzz 14 13 Fizz 11 \n",
      "Buzz Fizz 8 7 Fizz Buzz 4 Fizz 2 1 \n"
     ]
    }
   ],
   "source": [
    "count = 0\n",
    "n = 100\n",
    "while n >= 1:\n",
    "    if n % 3 == 0 and n % 5 == 0:\n",
    "        print(\"FizzBuzz\", end = \" \")\n",
    "    elif n % 3 == 0:\n",
    "        print(\"Fizz\", end = \" \")\n",
    "    elif n % 5 == 0:\n",
    "        print(\"Buzz\", end = \" \")\n",
    "    else:\n",
    "        print(n, end = \" \")\n",
    "    n -= 1\n",
    "    count += 1\n",
    "    if count % 10 ==0:\n",
    "        print()    "
   ]
  },
  {
   "cell_type": "code",
   "execution_count": 287,
   "id": "67236648-e7f6-4070-9659-f587f2b103ef",
   "metadata": {},
   "outputs": [
    {
     "name": "stdin",
     "output_type": "stream",
     "text": [
      "Enter the first nonnegative integer:  12\n",
      "Enter the second nonnegative integer:  10\n"
     ]
    },
    {
     "name": "stdout",
     "output_type": "stream",
     "text": [
      "m X n = 120\n"
     ]
    }
   ],
   "source": [
    "n = int(input(\"Enter the first nonnegative integer: \"))\n",
    "m = int(input(\"Enter the second nonnegative integer: \"))\n",
    "result = 0\n",
    "while m >= 1:\n",
    "    result += n\n",
    "    m -= 1\n",
    "print(f\"m X n = {result}\")"
   ]
  },
  {
   "cell_type": "code",
   "execution_count": 289,
   "id": "b03be6bb-203d-440b-9620-e250483c6e43",
   "metadata": {},
   "outputs": [
    {
     "name": "stdin",
     "output_type": "stream",
     "text": [
      "Enter a nonnegative integer:  6\n"
     ]
    },
    {
     "name": "stdout",
     "output_type": "stream",
     "text": [
      "720\n"
     ]
    }
   ],
   "source": [
    "n = int(input(\"Enter a nonnegative integer: \"))\n",
    "r = 1\n",
    "i = 1\n",
    "while i <= n:\n",
    "    r *= i\n",
    "    i += 1\n",
    "print(r)"
   ]
  },
  {
   "cell_type": "code",
   "execution_count": 291,
   "id": "425411c1-6051-4f1a-960f-f9792f323c4c",
   "metadata": {},
   "outputs": [
    {
     "name": "stdin",
     "output_type": "stream",
     "text": [
      "Enter a number:  654321\n"
     ]
    },
    {
     "name": "stdout",
     "output_type": "stream",
     "text": [
      "123456\n"
     ]
    }
   ],
   "source": [
    "n = int(input(\"Enter a number: \"))\n",
    "m = 0\n",
    "while n > 0:    \n",
    "    n_ones = n % 10\n",
    "    m = m *10 + n_ones\n",
    "    n //= 10\n",
    "print(m)"
   ]
  },
  {
   "cell_type": "code",
   "execution_count": 293,
   "id": "fb541090-dba2-440a-bf5c-5398a9d9141c",
   "metadata": {},
   "outputs": [
    {
     "name": "stdout",
     "output_type": "stream",
     "text": [
      "Amy is being verified.\n",
      "Joe is being verified.\n",
      "Jen is being verified.\n",
      "Bob is being verified.\n",
      "\n",
      "The following students have been confirmed: \n",
      "1-Amy\n",
      "2-Joe\n",
      "3-Jen\n",
      "4-Bob\n"
     ]
    }
   ],
   "source": [
    "u_students = [\"Bob\", \"Jen\", \"Joe\", \"Amy\"]\n",
    "c_students = []\n",
    "\n",
    "while u_students:\n",
    "    st = u_students.pop()\n",
    "    print(f\"{st} is being verified.\")\n",
    "    c_students.append(st)\n",
    "\n",
    "print(\"\\nThe following students have been confirmed: \")\n",
    "i = 1\n",
    "for item in c_students:\n",
    "    print(f\"{i}-{item}\")\n",
    "    i += 1  "
   ]
  },
  {
   "cell_type": "code",
   "execution_count": 295,
   "id": "93a8c975-5f3a-4028-afdc-d63644cf59d2",
   "metadata": {},
   "outputs": [
    {
     "name": "stdout",
     "output_type": "stream",
     "text": [
      "[]\n"
     ]
    }
   ],
   "source": [
    "print(u_students)"
   ]
  },
  {
   "cell_type": "code",
   "execution_count": 297,
   "id": "2544fc4b-08fb-481f-bb7c-97bae0d0a0d8",
   "metadata": {},
   "outputs": [
    {
     "name": "stdout",
     "output_type": "stream",
     "text": [
      "['Amy', 'Joe', 'Jen', 'Bob']\n"
     ]
    }
   ],
   "source": [
    "print(c_students)"
   ]
  },
  {
   "cell_type": "code",
   "execution_count": 299,
   "id": "f699d5fb-a98d-494f-a04d-bcc304216d63",
   "metadata": {},
   "outputs": [
    {
     "name": "stdout",
     "output_type": "stream",
     "text": [
      "['Joe', 'Jen']\n"
     ]
    }
   ],
   "source": [
    "st = [\"Amy\", \"Joe\", \"Amy\", \"Jen\"]\n",
    "\n",
    "while \"Amy\" in st:\n",
    "    st.remove(\"Amy\")\n",
    "print(st)"
   ]
  },
  {
   "cell_type": "code",
   "execution_count": 303,
   "id": "3ebb7e6c-7d4d-4e67-818f-6f6d2f4ea001",
   "metadata": {},
   "outputs": [
    {
     "name": "stdin",
     "output_type": "stream",
     "text": [
      "\n",
      "Enter your name (or 'exit' to end):  Amy\n"
     ]
    },
    {
     "name": "stdout",
     "output_type": "stream",
     "text": [
      "Welcome. Amy!\n"
     ]
    },
    {
     "name": "stdin",
     "output_type": "stream",
     "text": [
      "\n",
      "Enter your name (or 'exit' to end):  Jim\n"
     ]
    },
    {
     "name": "stdout",
     "output_type": "stream",
     "text": [
      "Welcome. Jim!\n"
     ]
    },
    {
     "name": "stdin",
     "output_type": "stream",
     "text": [
      "\n",
      "Enter your name (or 'exit' to end):  exit\n"
     ]
    },
    {
     "name": "stdout",
     "output_type": "stream",
     "text": [
      "Welcome. exit!\n"
     ]
    }
   ],
   "source": [
    "student = \"\"\n",
    "while student != \"exit\":\n",
    "    student = input(\"\\nEnter your name (or 'exit' to end): \")\n",
    "    if student != exit:\n",
    "        print(f\"Welcome. {student}!\")"
   ]
  },
  {
   "cell_type": "code",
   "execution_count": 307,
   "id": "0af3408e-4c71-44de-a904-f5572433c6b4",
   "metadata": {},
   "outputs": [
    {
     "name": "stdin",
     "output_type": "stream",
     "text": [
      "\n",
      "Enter your name (or 'exit' to end):  Sam\n"
     ]
    },
    {
     "name": "stdout",
     "output_type": "stream",
     "text": [
      "Welcome, Sam!\n"
     ]
    },
    {
     "name": "stdin",
     "output_type": "stream",
     "text": [
      "\n",
      "Enter your name (or 'exit' to end):  Jen\n"
     ]
    },
    {
     "name": "stdout",
     "output_type": "stream",
     "text": [
      "Welcome, Jen!\n"
     ]
    },
    {
     "name": "stdin",
     "output_type": "stream",
     "text": [
      "\n",
      "Enter your name (or 'exit' to end):  exit\n"
     ]
    }
   ],
   "source": [
    "run = True\n",
    "while run:\n",
    "    student = input(\"\\nEnter your name (or 'exit' to end): \")\n",
    "    if student == \"exit\":\n",
    "        run = False\n",
    "    else:\n",
    "        print(f\"Welcome, {student}!\")"
   ]
  },
  {
   "cell_type": "code",
   "execution_count": 311,
   "id": "4caa3e95-beba-4e2d-b11b-fd1e90bc89ac",
   "metadata": {},
   "outputs": [
    {
     "name": "stdin",
     "output_type": "stream",
     "text": [
      "Whom would you like to invite:  Amy\n"
     ]
    },
    {
     "name": "stdout",
     "output_type": "stream",
     "text": [
      "An invite has been sent to Amy!\n"
     ]
    },
    {
     "name": "stdin",
     "output_type": "stream",
     "text": [
      "Would you like to invite more guests (y/n)?  y\n",
      "Whom would you like to invite:  Joe\n"
     ]
    },
    {
     "name": "stdout",
     "output_type": "stream",
     "text": [
      "An invite has been sent to Joe!\n"
     ]
    },
    {
     "name": "stdin",
     "output_type": "stream",
     "text": [
      "Would you like to invite more guests (y/n)?  n\n"
     ]
    },
    {
     "name": "stdout",
     "output_type": "stream",
     "text": [
      "\n",
      "2 infividuals have been invited!\n"
     ]
    }
   ],
   "source": [
    "invite = \"y\"\n",
    "max_invite = 5\n",
    "count = 0\n",
    "while invite == \"y\" and count < max_invite:\n",
    "    name = input(\"Whom would you like to invite: \")\n",
    "    print(f\"An invite has been sent to {name}!\")\n",
    "    count += 1\n",
    "    if count < max_invite:\n",
    "        invite = input(\"Would you like to invite more guests (y/n)? \")\n",
    "    else:\n",
    "        print(\"\\nYou've reached the maximum number of invites!\")\n",
    "print(f\"\\n{count} infividuals have been invited!\")"
   ]
  },
  {
   "cell_type": "code",
   "execution_count": 313,
   "id": "9d7410b3-cd2e-413a-8c03-d1b6c0920ae2",
   "metadata": {},
   "outputs": [
    {
     "name": "stdin",
     "output_type": "stream",
     "text": [
      "Take a guess?  5\n"
     ]
    },
    {
     "name": "stdout",
     "output_type": "stream",
     "text": [
      "Too high!\n"
     ]
    },
    {
     "name": "stdin",
     "output_type": "stream",
     "text": [
      "Take a guess?  2\n"
     ]
    },
    {
     "name": "stdout",
     "output_type": "stream",
     "text": [
      "Well done!\n"
     ]
    }
   ],
   "source": [
    "import random\n",
    "rn = random.randint(1, 10)\n",
    "\n",
    "while True:\n",
    "    un = int(input(\"Take a guess? \"))\n",
    "    if un == rn:\n",
    "        print(\"Well done!\")\n",
    "        break\n",
    "    elif un > rn:\n",
    "        print(\"Too high!\")\n",
    "    else:\n",
    "        print(\"Too low!\")"
   ]
  },
  {
   "cell_type": "markdown",
   "id": "0ab7cdf0-99bb-43b6-a4e7-4e748f0fb408",
   "metadata": {},
   "source": [
    "# 9.18.24"
   ]
  },
  {
   "cell_type": "code",
   "execution_count": 317,
   "id": "94e944bc-cca0-424b-9f68-081e68ce2089",
   "metadata": {},
   "outputs": [
    {
     "name": "stdin",
     "output_type": "stream",
     "text": [
      "\n",
      "Enter an integer (or 'q' to end the application):  10\n"
     ]
    },
    {
     "name": "stdout",
     "output_type": "stream",
     "text": [
      "The number 10 is even.\n"
     ]
    },
    {
     "name": "stdin",
     "output_type": "stream",
     "text": [
      "\n",
      "Enter an integer (or 'q' to end the application):  11\n"
     ]
    },
    {
     "name": "stdout",
     "output_type": "stream",
     "text": [
      "The number 11 is odd.\n"
     ]
    },
    {
     "name": "stdin",
     "output_type": "stream",
     "text": [
      "\n",
      "Enter an integer (or 'q' to end the application):  12\n"
     ]
    },
    {
     "name": "stdout",
     "output_type": "stream",
     "text": [
      "The number 12 is even.\n"
     ]
    },
    {
     "name": "stdin",
     "output_type": "stream",
     "text": [
      "\n",
      "Enter an integer (or 'q' to end the application):  -101\n"
     ]
    },
    {
     "name": "stdout",
     "output_type": "stream",
     "text": [
      "The number -101 is odd.\n"
     ]
    },
    {
     "name": "stdin",
     "output_type": "stream",
     "text": [
      "\n",
      "Enter an integer (or 'q' to end the application):  0\n"
     ]
    },
    {
     "name": "stdout",
     "output_type": "stream",
     "text": [
      "The number 0 is even.\n"
     ]
    },
    {
     "name": "stdin",
     "output_type": "stream",
     "text": [
      "\n",
      "Enter an integer (or 'q' to end the application):  q\n"
     ]
    },
    {
     "name": "stdout",
     "output_type": "stream",
     "text": [
      "Bye\n"
     ]
    }
   ],
   "source": [
    "num = \"\"\n",
    "while num != \"q\":\n",
    "    num = input(\"\\nEnter an integer (or 'q' to end the application): \")\n",
    "    if num != \"q\":\n",
    "        num = int(num)\n",
    "        if num % 2 == 0:\n",
    "            print(f\"The number {num} is even.\")\n",
    "        else:\n",
    "            print(f\"The number {num} is odd.\")\n",
    "    else:\n",
    "        print(\"Bye\")"
   ]
  },
  {
   "cell_type": "code",
   "execution_count": 319,
   "id": "9efaa394-500e-4417-9de8-621b61d4438d",
   "metadata": {},
   "outputs": [
    {
     "name": "stdin",
     "output_type": "stream",
     "text": [
      "\n",
      "Enter an integer (or 'q' to end the application):  101\n"
     ]
    },
    {
     "name": "stdout",
     "output_type": "stream",
     "text": [
      "The number 101 is odd.\n"
     ]
    },
    {
     "name": "stdin",
     "output_type": "stream",
     "text": [
      "\n",
      "Enter an integer (or 'q' to end the application):  0\n"
     ]
    },
    {
     "name": "stdout",
     "output_type": "stream",
     "text": [
      "The number 0 is even.\n"
     ]
    },
    {
     "name": "stdin",
     "output_type": "stream",
     "text": [
      "\n",
      "Enter an integer (or 'q' to end the application):  q\n"
     ]
    },
    {
     "name": "stdout",
     "output_type": "stream",
     "text": [
      "Bye\n"
     ]
    }
   ],
   "source": [
    "repeat = True\n",
    "while repeat:\n",
    "    num = input(\"\\nEnter an integer (or 'q' to end the application): \")\n",
    "    if num.lower() != \"q\":\n",
    "        num = int(num)\n",
    "        if num % 2 == 0:\n",
    "            print(f\"The number {num} is even.\")\n",
    "        else:\n",
    "            print(f\"The number {num} is odd.\")\n",
    "    else:\n",
    "        print(\"Bye\")\n",
    "        repeat = False"
   ]
  },
  {
   "cell_type": "code",
   "execution_count": 324,
   "id": "1a76bd69-306c-4bfb-842b-375edbffccfc",
   "metadata": {},
   "outputs": [
    {
     "name": "stdin",
     "output_type": "stream",
     "text": [
      "\n",
      "Enter an integer (or 'q' to end the application):  101\n"
     ]
    },
    {
     "name": "stdout",
     "output_type": "stream",
     "text": [
      "The number 101 is odd.\n"
     ]
    },
    {
     "name": "stdin",
     "output_type": "stream",
     "text": [
      "\n",
      "Enter an integer (or 'q' to end the application):  0\n"
     ]
    },
    {
     "name": "stdout",
     "output_type": "stream",
     "text": [
      "The number 0 is even.\n"
     ]
    },
    {
     "name": "stdin",
     "output_type": "stream",
     "text": [
      "\n",
      "Enter an integer (or 'q' to end the application):  q\n"
     ]
    },
    {
     "name": "stdout",
     "output_type": "stream",
     "text": [
      "Bye\n"
     ]
    }
   ],
   "source": [
    "while True:\n",
    "    num = input(\"\\nEnter an integer (or 'q' to end the application): \")\n",
    "    if num != \"q\":\n",
    "        num = int(num)\n",
    "        if num % 2 == 0:\n",
    "            print(f\"The number {num} is even.\")\n",
    "        else:\n",
    "            print(f\"The number {num} is odd.\")\n",
    "    else:\n",
    "        print(\"Bye\")\n",
    "        break"
   ]
  },
  {
   "cell_type": "code",
   "execution_count": 326,
   "id": "24501b03-60a9-4c35-953a-356b1ecea078",
   "metadata": {},
   "outputs": [
    {
     "name": "stdout",
     "output_type": "stream",
     "text": [
      "1\n",
      "2\n",
      "3\n",
      "4\n",
      "6\n",
      "7\n",
      "8\n",
      "9\n",
      "11\n",
      "12\n",
      "13\n",
      "14\n",
      "16\n",
      "17\n",
      "18\n",
      "19\n"
     ]
    }
   ],
   "source": [
    "for n in range(1, 21, 1):\n",
    "    if n % 5 == 0:\n",
    "        continue\n",
    "    print(n)"
   ]
  },
  {
   "cell_type": "code",
   "execution_count": 328,
   "id": "7283d851-1d15-436d-ba95-9f40401f7920",
   "metadata": {},
   "outputs": [
    {
     "name": "stdout",
     "output_type": "stream",
     "text": [
      "1\n",
      "2\n",
      "3\n",
      "4\n",
      "6\n",
      "7\n",
      "8\n",
      "9\n",
      "11\n",
      "12\n",
      "13\n",
      "14\n",
      "16\n",
      "17\n",
      "18\n",
      "19\n"
     ]
    }
   ],
   "source": [
    "n = 0\n",
    "while n < 20:\n",
    "    n += 1\n",
    "    if n % 5 == 0:\n",
    "        continue\n",
    "    print(n)"
   ]
  },
  {
   "cell_type": "code",
   "execution_count": 330,
   "id": "327449d5-86dd-45d2-a72d-899f6265eab9",
   "metadata": {},
   "outputs": [
    {
     "name": "stdout",
     "output_type": "stream",
     "text": [
      "1\n",
      "2\n",
      "3\n",
      "4\n"
     ]
    },
    {
     "ename": "KeyboardInterrupt",
     "evalue": "",
     "output_type": "error",
     "traceback": [
      "\u001b[1;31m---------------------------------------------------------------------------\u001b[0m",
      "\u001b[1;31mKeyboardInterrupt\u001b[0m                         Traceback (most recent call last)",
      "Cell \u001b[1;32mIn[330], line 5\u001b[0m\n\u001b[0;32m      3\u001b[0m \u001b[38;5;28;01mwhile\u001b[39;00m n \u001b[38;5;241m<\u001b[39m \u001b[38;5;241m20\u001b[39m:\n\u001b[0;32m      4\u001b[0m     \u001b[38;5;28;01mif\u001b[39;00m n \u001b[38;5;241m%\u001b[39m \u001b[38;5;241m5\u001b[39m \u001b[38;5;241m==\u001b[39m \u001b[38;5;241m0\u001b[39m:\n\u001b[1;32m----> 5\u001b[0m         \u001b[38;5;28;01mcontinue\u001b[39;00m\n\u001b[0;32m      6\u001b[0m     \u001b[38;5;28mprint\u001b[39m(n)\n\u001b[0;32m      7\u001b[0m     n \u001b[38;5;241m+\u001b[39m\u001b[38;5;241m=\u001b[39m \u001b[38;5;241m1\u001b[39m\n",
      "\u001b[1;31mKeyboardInterrupt\u001b[0m: "
     ]
    }
   ],
   "source": [
    "# Avoid developing infinite loops\n",
    "n = 1\n",
    "while n < 20:\n",
    "    if n % 5 == 0:\n",
    "        continue\n",
    "    print(n)\n",
    "    n += 1"
   ]
  },
  {
   "cell_type": "code",
   "execution_count": 1,
   "id": "f4d016e5-1b60-47ae-9578-81c717a5e53b",
   "metadata": {},
   "outputs": [
    {
     "name": "stdin",
     "output_type": "stream",
     "text": [
      "Enter a word:  green-zone\n"
     ]
    },
    {
     "name": "stdout",
     "output_type": "stream",
     "text": [
      "g\n",
      "r\n",
      "e\n",
      "n\n",
      "-\n",
      "o\n",
      "n\n",
      "e\n"
     ]
    }
   ],
   "source": [
    "pre_char = \"\"\n",
    "word = input(\"Enter a word: \")\n",
    "for char in word:\n",
    "    if char.lower() == \"a\" or char.lower() == \"z\":\n",
    "        continue\n",
    "    if char != pre_char:\n",
    "        print(char)\n",
    "    pre_char = char"
   ]
  },
  {
   "cell_type": "code",
   "execution_count": 3,
   "id": "a6264ecb-e9f7-4d90-92f1-40730ed3cee0",
   "metadata": {},
   "outputs": [
    {
     "name": "stdout",
     "output_type": "stream",
     "text": [
      "Order 1: Processed.\n",
      "Order 2: Delayed. Moving to the next order.\n",
      "Order 3: Processed.\n",
      "Order 4: Rejected. Tallying rejection.\n",
      "Order 5: Rejected. Tallying rejection.\n",
      "Order 6: Delayed. Moving to the next order.\n",
      "Order 7: Rejected. Tallying rejection.\n",
      "Three consecutive rejects. System shut down!\n"
     ]
    }
   ],
   "source": [
    "queue = [\"P\", \"D\", \"P\", \"R\", \"R\", \"D\", \"R\", \"P\"]\n",
    "\n",
    "c_reject = 0\n",
    "n = 0\n",
    "for order in queue:\n",
    "    n += 1\n",
    "    if order == \"D\":\n",
    "        print(f\"Order {n}: Delayed. Moving to the next order.\")\n",
    "        continue\n",
    "    elif order == \"R\":\n",
    "        c_reject += 1\n",
    "        print(f\"Order {n}: Rejected. Tallying rejection.\")\n",
    "        if c_reject == 3:\n",
    "            print(\"Three consecutive rejects. System shut down!\")\n",
    "            break\n",
    "    else:\n",
    "        print(f\"Order {n}: Processed.\")\n",
    "        c_reject = 0"
   ]
  },
  {
   "cell_type": "code",
   "execution_count": 7,
   "id": "62c3836e-c810-4526-bb06-502f1261fc39",
   "metadata": {},
   "outputs": [
    {
     "name": "stdin",
     "output_type": "stream",
     "text": [
      "\n",
      "Enter a test score:  -1\n"
     ]
    },
    {
     "name": "stdout",
     "output_type": "stream",
     "text": [
      "Invalid test score. Try again!\n"
     ]
    },
    {
     "name": "stdin",
     "output_type": "stream",
     "text": [
      "\n",
      "Enter a test score:  101\n"
     ]
    },
    {
     "name": "stdout",
     "output_type": "stream",
     "text": [
      "Invalid test score. Try again!\n"
     ]
    },
    {
     "name": "stdin",
     "output_type": "stream",
     "text": [
      "\n",
      "Enter a test score:  50\n"
     ]
    }
   ],
   "source": [
    "while True:\n",
    "    score = float(input(\"\\nEnter a test score: \"))\n",
    "    if score >= 0 and score <= 100:\n",
    "        break\n",
    "    else:\n",
    "        print(\"Invalid test score. Try again!\")"
   ]
  },
  {
   "cell_type": "code",
   "execution_count": 9,
   "id": "15fc0f0e-21f7-4a16-8ef7-600d861155e9",
   "metadata": {},
   "outputs": [
    {
     "name": "stdin",
     "output_type": "stream",
     "text": [
      "\n",
      "Enter a test score:  -1\n"
     ]
    },
    {
     "name": "stdout",
     "output_type": "stream",
     "text": [
      "Invalid test score. Try again!\n"
     ]
    },
    {
     "name": "stdin",
     "output_type": "stream",
     "text": [
      "\n",
      "Enter a test score:  101\n"
     ]
    },
    {
     "name": "stdout",
     "output_type": "stream",
     "text": [
      "Invalid test score. Try again!\n"
     ]
    },
    {
     "name": "stdin",
     "output_type": "stream",
     "text": [
      "\n",
      "Enter a test score:  100\n",
      "\n",
      "Enter a test score:  101\n"
     ]
    },
    {
     "name": "stdout",
     "output_type": "stream",
     "text": [
      "Invalid test score. Try again!\n"
     ]
    },
    {
     "name": "stdin",
     "output_type": "stream",
     "text": [
      "\n",
      "Enter a test score:  90\n",
      "\n",
      "Enter a test score:  80\n"
     ]
    },
    {
     "name": "stdout",
     "output_type": "stream",
     "text": [
      "\n",
      "Total score is 270.0.\n"
     ]
    }
   ],
   "source": [
    "total_s = 0\n",
    "for i in range(1, 4, 1):\n",
    "    while True:\n",
    "        score = float(input(\"\\nEnter a test score: \"))\n",
    "        if score >= 0 and score <= 100:\n",
    "            total_s += score\n",
    "            break\n",
    "        else:\n",
    "            print(\"Invalid test score. Try again!\")\n",
    "print(f\"\\nTotal score is {total_s}.\")"
   ]
  },
  {
   "cell_type": "code",
   "execution_count": 11,
   "id": "7b42303b-e355-49ef-9966-3d0610c983e3",
   "metadata": {},
   "outputs": [
    {
     "name": "stdin",
     "output_type": "stream",
     "text": [
      "\n",
      "Enter a test score:  101\n"
     ]
    },
    {
     "name": "stdout",
     "output_type": "stream",
     "text": [
      "Invalid test score. Try again!\n"
     ]
    },
    {
     "name": "stdin",
     "output_type": "stream",
     "text": [
      "\n",
      "Enter a test score:  100\n",
      "\n",
      "Enter a test score:  90\n",
      "\n",
      "Enter a test score:  95\n"
     ]
    },
    {
     "name": "stdout",
     "output_type": "stream",
     "text": [
      "\n",
      " Total score is 285.0.\n"
     ]
    }
   ],
   "source": [
    "total_s = 0\n",
    "for i in range(1, 4, 1):\n",
    "    repeat = True\n",
    "    while repeat:\n",
    "        score = float(input(\"\\nEnter a test score: \"))\n",
    "        if score >= 0 and score <= 100:\n",
    "            total_s += score\n",
    "            repeat = False\n",
    "        else:\n",
    "            print(\"Invalid test score. Try again!\")\n",
    "print(f\"\\n Total score is {total_s}.\")"
   ]
  },
  {
   "cell_type": "code",
   "execution_count": 13,
   "id": "88c2ded7-7c1e-4d63-bd39-51fe48a5e564",
   "metadata": {},
   "outputs": [
    {
     "name": "stdout",
     "output_type": "stream",
     "text": [
      "5\n",
      "10\n",
      "15\n",
      "20\n",
      "25\n",
      "30\n",
      "35\n",
      "40\n",
      "45\n",
      "50\n",
      "55\n",
      "60\n",
      "65\n",
      "70\n",
      "75\n",
      "80\n",
      "85\n",
      "90\n",
      "95\n"
     ]
    }
   ],
   "source": [
    "for i in range(1, 100, 1):\n",
    "    if i % 5 != 0:\n",
    "        continue\n",
    "    print(i)"
   ]
  },
  {
   "cell_type": "code",
   "execution_count": 17,
   "id": "8d282c03-a56d-4a3f-85d4-9cf15b43671b",
   "metadata": {},
   "outputs": [
    {
     "data": {
      "text/plain": [
       "3.5"
      ]
     },
     "execution_count": 17,
     "metadata": {},
     "output_type": "execute_result"
    }
   ],
   "source": [
    "# Dictionaries\n",
    "d = {\"name\": \"Jim\", \"GPA\": 3.5}\n",
    "d[\"GPA\"]"
   ]
  },
  {
   "cell_type": "code",
   "execution_count": 19,
   "id": "a49082d0-e79f-49f9-a89d-24736d59facc",
   "metadata": {},
   "outputs": [
    {
     "data": {
      "text/plain": [
       "'Jim'"
      ]
     },
     "execution_count": 19,
     "metadata": {},
     "output_type": "execute_result"
    }
   ],
   "source": [
    "d[\"name\"]"
   ]
  },
  {
   "cell_type": "code",
   "execution_count": 29,
   "id": "86ff0717-e2d8-421d-97a9-f67f94aa82fb",
   "metadata": {},
   "outputs": [],
   "source": [
    "d = {\"k1\": [5, 6], \"k2\": {\"k3\": [10, 11, 12, [20, 21]]}}"
   ]
  },
  {
   "cell_type": "code",
   "execution_count": 31,
   "id": "6fb9e5b5-32f1-4583-98f8-851824bdaaae",
   "metadata": {},
   "outputs": [
    {
     "data": {
      "text/plain": [
       "20"
      ]
     },
     "execution_count": 31,
     "metadata": {},
     "output_type": "execute_result"
    }
   ],
   "source": [
    "d[\"k2\"][\"k3\"][3][0]"
   ]
  },
  {
   "cell_type": "code",
   "execution_count": 33,
   "id": "61dce5e8-0b3b-4e7d-8199-6ead5cfa6088",
   "metadata": {},
   "outputs": [
    {
     "ename": "KeyError",
     "evalue": "'phone'",
     "output_type": "error",
     "traceback": [
      "\u001b[1;31m---------------------------------------------------------------------------\u001b[0m",
      "\u001b[1;31mKeyError\u001b[0m                                  Traceback (most recent call last)",
      "Cell \u001b[1;32mIn[33], line 2\u001b[0m\n\u001b[0;32m      1\u001b[0m d \u001b[38;5;241m=\u001b[39m {\u001b[38;5;124m\"\u001b[39m\u001b[38;5;124mname\u001b[39m\u001b[38;5;124m\"\u001b[39m: \u001b[38;5;124m\"\u001b[39m\u001b[38;5;124mJim\u001b[39m\u001b[38;5;124m\"\u001b[39m, \u001b[38;5;124m\"\u001b[39m\u001b[38;5;124mGPA\u001b[39m\u001b[38;5;124m\"\u001b[39m: \u001b[38;5;241m3.5\u001b[39m}\n\u001b[1;32m----> 2\u001b[0m d[\u001b[38;5;124m\"\u001b[39m\u001b[38;5;124mphone\u001b[39m\u001b[38;5;124m\"\u001b[39m]\n",
      "\u001b[1;31mKeyError\u001b[0m: 'phone'"
     ]
    }
   ],
   "source": [
    "d = {\"name\": \"Jim\", \"GPA\": 3.5}\n",
    "d[\"phone\"]"
   ]
  },
  {
   "cell_type": "code",
   "execution_count": 35,
   "id": "c2e9fbba-920f-4cb9-9823-d4498dd79791",
   "metadata": {},
   "outputs": [
    {
     "data": {
      "text/plain": [
       "'No value assigned!'"
      ]
     },
     "execution_count": 35,
     "metadata": {},
     "output_type": "execute_result"
    }
   ],
   "source": [
    "d.get(\"phone\", \"No value assigned!\")"
   ]
  },
  {
   "cell_type": "code",
   "execution_count": 37,
   "id": "88872ddd-7b69-4f62-a8a3-307c9b25f8af",
   "metadata": {},
   "outputs": [
    {
     "data": {
      "text/plain": [
       "{'name': 'Jim', 'GPA': 3.5}"
      ]
     },
     "execution_count": 37,
     "metadata": {},
     "output_type": "execute_result"
    }
   ],
   "source": [
    "d"
   ]
  },
  {
   "cell_type": "code",
   "execution_count": 39,
   "id": "563123d0-b677-4233-b4e9-81240201053f",
   "metadata": {},
   "outputs": [
    {
     "data": {
      "text/plain": [
       "{'name': 'Jim', 'GPA': 3.5, 'phone': '607-111-2222'}"
      ]
     },
     "execution_count": 39,
     "metadata": {},
     "output_type": "execute_result"
    }
   ],
   "source": [
    "d[\"phone\"] = \"607-111-2222\"\n",
    "d"
   ]
  },
  {
   "cell_type": "code",
   "execution_count": 41,
   "id": "4c6a211b-7132-40af-939c-822407f30038",
   "metadata": {},
   "outputs": [
    {
     "data": {
      "text/plain": [
       "'Jim'"
      ]
     },
     "execution_count": 41,
     "metadata": {},
     "output_type": "execute_result"
    }
   ],
   "source": [
    "d.get(\"name\", \"dgdsgs\")"
   ]
  },
  {
   "cell_type": "code",
   "execution_count": 43,
   "id": "1627b932-ee76-47fe-8f90-7c08f1dbb3a0",
   "metadata": {},
   "outputs": [
    {
     "data": {
      "text/plain": [
       "{'name': 'Jennifer', 'City': 'JC'}"
      ]
     },
     "execution_count": 43,
     "metadata": {},
     "output_type": "execute_result"
    }
   ],
   "source": [
    "d = {}\n",
    "d[\"name\"] = \"Jennifer\"\n",
    "d[\"City\"] = \"JC\"\n",
    "d"
   ]
  },
  {
   "cell_type": "code",
   "execution_count": 47,
   "id": "9e0ed3ca-d82a-4258-adce-a2d12f650bfa",
   "metadata": {},
   "outputs": [
    {
     "name": "stdout",
     "output_type": "stream",
     "text": [
      "Jim has a gpa of 3.7.\n"
     ]
    }
   ],
   "source": [
    "d = {\"name\": \"Jim\", \"GPA\": 3.7}\n",
    "print(f\"{d[\"name\"]} has a gpa of {d[\"GPA\"]}.\")"
   ]
  },
  {
   "cell_type": "code",
   "execution_count": 49,
   "id": "bf1a6099-c6cc-4b42-a751-c1ef0fba52ba",
   "metadata": {},
   "outputs": [
    {
     "data": {
      "text/plain": [
       "{'name': 'Jim'}"
      ]
     },
     "execution_count": 49,
     "metadata": {},
     "output_type": "execute_result"
    }
   ],
   "source": [
    "del d[\"GPA\"]\n",
    "d"
   ]
  },
  {
   "cell_type": "code",
   "execution_count": 51,
   "id": "7860061d-df42-44bf-96cd-a03badd5ede6",
   "metadata": {},
   "outputs": [
    {
     "ename": "KeyError",
     "evalue": "'phone'",
     "output_type": "error",
     "traceback": [
      "\u001b[1;31m---------------------------------------------------------------------------\u001b[0m",
      "\u001b[1;31mKeyError\u001b[0m                                  Traceback (most recent call last)",
      "Cell \u001b[1;32mIn[51], line 1\u001b[0m\n\u001b[1;32m----> 1\u001b[0m \u001b[38;5;28;01mdel\u001b[39;00m d[\u001b[38;5;124m\"\u001b[39m\u001b[38;5;124mphone\u001b[39m\u001b[38;5;124m\"\u001b[39m]\n",
      "\u001b[1;31mKeyError\u001b[0m: 'phone'"
     ]
    }
   ],
   "source": [
    "del d[\"phone\"]"
   ]
  },
  {
   "cell_type": "code",
   "execution_count": null,
   "id": "07d53e45-25ba-451b-9728-f8af9c2f69f1",
   "metadata": {},
   "outputs": [],
   "source": [
    "if \"phone\" in d:\n",
    "    del d[\"phone\"]"
   ]
  },
  {
   "cell_type": "code",
   "execution_count": 53,
   "id": "708eb2c2-670d-463e-9b0e-cd6331a32732",
   "metadata": {},
   "outputs": [
    {
     "data": {
      "text/plain": [
       "3.7"
      ]
     },
     "execution_count": 53,
     "metadata": {},
     "output_type": "execute_result"
    }
   ],
   "source": [
    "d = {'name': 'Jim', 'GPA': 3.7}\n",
    "dropped = d.pop(\"GPA\")\n",
    "dropped"
   ]
  },
  {
   "cell_type": "code",
   "execution_count": 55,
   "id": "d04253a7-0096-4128-b904-13bb7eefdb65",
   "metadata": {},
   "outputs": [
    {
     "data": {
      "text/plain": [
       "{}"
      ]
     },
     "execution_count": 55,
     "metadata": {},
     "output_type": "execute_result"
    }
   ],
   "source": [
    "d = {'name': 'Jim', 'GPA': 3.7}\n",
    "d.clear()\n",
    "d"
   ]
  },
  {
   "cell_type": "code",
   "execution_count": 57,
   "id": "58213d2f-8867-4c0e-b2e0-10cf6f06eec8",
   "metadata": {},
   "outputs": [
    {
     "data": {
      "text/plain": [
       "{'Mike': 3.4, 'Jennifer': 3.6, 'Sarah': 3.5, 'Walter': 3.7}"
      ]
     },
     "execution_count": 57,
     "metadata": {},
     "output_type": "execute_result"
    }
   ],
   "source": [
    "d = {\n",
    "    \"Mike\": 3.4,\n",
    "    \"Jennifer\": 3.6,\n",
    "    \"Sarah\": 3.5,\n",
    "    \"Walter\": 3.7,\n",
    "    }\n",
    "d"
   ]
  },
  {
   "cell_type": "code",
   "execution_count": 59,
   "id": "6cfe84f7-65c2-45ea-9b43-0bb6ffeb36f2",
   "metadata": {},
   "outputs": [
    {
     "name": "stdout",
     "output_type": "stream",
     "text": [
      "Mike has a GPA of 3.4.\n"
     ]
    }
   ],
   "source": [
    "print(f\"Mike has a GPA of {d[\"Mike\"]}.\")"
   ]
  },
  {
   "cell_type": "markdown",
   "id": "723a632f-d36c-4eff-acab-c2d8da3b3052",
   "metadata": {},
   "source": [
    "# 9.23.24"
   ]
  },
  {
   "cell_type": "code",
   "execution_count": 1,
   "id": "a1c99c33-9090-4331-a58c-88f648d7750e",
   "metadata": {},
   "outputs": [
    {
     "name": "stdout",
     "output_type": "stream",
     "text": [
      "1. Mike 3.4\n",
      "1. Jen 3.6\n",
      "1. Sarah 3.5\n",
      "1. Walter 3.7\n"
     ]
    }
   ],
   "source": [
    "d = {\n",
    "    \"Mike\": 3.4,\n",
    "    \"Jen\": 3.6,\n",
    "    \"Sarah\": 3.5,\n",
    "    \"Walter\": 3.7,\n",
    "    }\n",
    "\n",
    "i = 1\n",
    "for k, v in d.items():\n",
    "    print(f\"{i}. {k} {v}\")"
   ]
  },
  {
   "cell_type": "code",
   "execution_count": 3,
   "id": "0486ed10-5d6b-4db2-aa58-ca17f9113350",
   "metadata": {},
   "outputs": [
    {
     "name": "stdout",
     "output_type": "stream",
     "text": [
      "Mike has a GPA of 3.4.\n",
      "Jen has a GPA of 3.6.\n",
      "Sarah has a GPA of 3.5.\n",
      "Walter has a GPA of 3.7.\n"
     ]
    }
   ],
   "source": [
    "for name, point, in d.items():\n",
    "    print(f\"{name} has a GPA of {point}.\")"
   ]
  },
  {
   "cell_type": "code",
   "execution_count": 5,
   "id": "0eb781b3-595a-4bb4-a641-a21d00ba04cd",
   "metadata": {},
   "outputs": [
    {
     "name": "stdout",
     "output_type": "stream",
     "text": [
      "{'burger': 13, 'soda': 20, 'fries': 35, 'salad': 40, 'beer': 6}\n"
     ]
    }
   ],
   "source": [
    "d1 = {\"burger\": 10, \"soda\": 20, \"fries\": 30, \"salad\": 40}\n",
    "d2 = {\"burger\": 3, \"fries\": 5, \"beer\": 6}\n",
    "\n",
    "merged = d1.copy()\n",
    "for k, v in d2.items():\n",
    "    merged[k] = merged.get(k, 0) + v\n",
    "print(merged)"
   ]
  },
  {
   "cell_type": "code",
   "execution_count": 7,
   "id": "dddfd1c9-2b0d-4d99-bc68-6c183607f3f7",
   "metadata": {},
   "outputs": [
    {
     "name": "stdout",
     "output_type": "stream",
     "text": [
      "Mike\n",
      "Jen\n",
      "Sarah\n",
      "Walter\n"
     ]
    }
   ],
   "source": [
    "for name in d.keys():\n",
    "    print(name)"
   ]
  },
  {
   "cell_type": "code",
   "execution_count": 9,
   "id": "dd72771d-a647-4cf0-bbd2-5215708b824a",
   "metadata": {},
   "outputs": [
    {
     "name": "stdout",
     "output_type": "stream",
     "text": [
      "Hello, Mike. You have a GPA of 3.4.\n",
      "Hello, Jen. You have a GPA of 3.6.\n",
      "Hello, Sarah. You have a GPA of 3.5.\n",
      "Hello, Walter. You have a GPA of 3.7.\n"
     ]
    }
   ],
   "source": [
    "for name in d.keys():\n",
    "    print(f\"Hello, {name}. You have a GPA of {d[name]}.\")"
   ]
  },
  {
   "cell_type": "code",
   "execution_count": 13,
   "id": "5c9999a0-8af3-4f8f-b113-16d8446cc8b4",
   "metadata": {},
   "outputs": [
    {
     "name": "stdout",
     "output_type": "stream",
     "text": [
      "Hello, Walter. You have a GPA of 3.7.\n",
      "Hello, Sarah. You have a GPA of 3.5.\n",
      "Hello, Mike. You have a GPA of 3.4.\n",
      "Hello, Jen. You have a GPA of 3.6.\n"
     ]
    }
   ],
   "source": [
    "for name in sorted(d.keys(), reverse = True):\n",
    "    print(f\"Hello, {name}. You have a GPA of {d[name]}.\")"
   ]
  },
  {
   "cell_type": "code",
   "execution_count": 15,
   "id": "e58f2d0d-4e40-4a6f-9ebb-b3d54935c6de",
   "metadata": {},
   "outputs": [
    {
     "name": "stdout",
     "output_type": "stream",
     "text": [
      "Hello, Jen. You have a GPA of 3.6.\n",
      "Hello, Mike. You have a GPA of 3.4.\n",
      "Hello, Sarah. You have a GPA of 3.5.\n",
      "Hello, Walter. You have a GPA of 3.7.\n"
     ]
    }
   ],
   "source": [
    "for name in sorted(d.keys(), key = len):\n",
    "    print(f\"Hello, {name}. You have a GPA of {d[name]}.\")"
   ]
  },
  {
   "cell_type": "code",
   "execution_count": 19,
   "id": "0938fc9c-aa1d-407d-a1ef-77990ba7d00e",
   "metadata": {},
   "outputs": [
    {
     "name": "stdout",
     "output_type": "stream",
     "text": [
      "3.4\n",
      "3.6\n",
      "3.5\n",
      "3.7\n"
     ]
    }
   ],
   "source": [
    "for point in d.values():\n",
    "    print(point)"
   ]
  },
  {
   "cell_type": "code",
   "execution_count": 23,
   "id": "2fd57436-4eee-408a-8937-2db6d6db943e",
   "metadata": {},
   "outputs": [
    {
     "data": {
      "text/plain": [
       "{'Mike': 3.4, 'Jen': 3.6, 'Sarah': 3.5, 'Walter': 3.7}"
      ]
     },
     "execution_count": 23,
     "metadata": {},
     "output_type": "execute_result"
    }
   ],
   "source": [
    "d"
   ]
  },
  {
   "cell_type": "code",
   "execution_count": 25,
   "id": "564b6a49-9676-48e5-a302-d9971cb07ab5",
   "metadata": {},
   "outputs": [
    {
     "data": {
      "text/plain": [
       "dict_items([('Mike', 3.4), ('Jen', 3.6), ('Sarah', 3.5), ('Walter', 3.7)])"
      ]
     },
     "execution_count": 25,
     "metadata": {},
     "output_type": "execute_result"
    }
   ],
   "source": [
    "d.items()"
   ]
  },
  {
   "cell_type": "code",
   "execution_count": null,
   "id": "a029c92a-37bb-44ed-a2bf-d7a4637ec1ef",
   "metadata": {},
   "outputs": [],
   "source": []
  },
  {
   "cell_type": "code",
   "execution_count": 31,
   "id": "4f3a6be2-cf8a-43f0-b925-3c38290bc4df",
   "metadata": {},
   "outputs": [
    {
     "data": {
      "text/plain": [
       "('Walter', 3.7)"
      ]
     },
     "execution_count": 31,
     "metadata": {},
     "output_type": "execute_result"
    }
   ],
   "source": [
    "list(d.items())[-1]"
   ]
  },
  {
   "cell_type": "code",
   "execution_count": 33,
   "id": "44724c72-b20e-4934-af7d-e79ca6f586c0",
   "metadata": {},
   "outputs": [
    {
     "data": {
      "text/plain": [
       "dict_keys(['Mike', 'Jen', 'Sarah', 'Walter'])"
      ]
     },
     "execution_count": 33,
     "metadata": {},
     "output_type": "execute_result"
    }
   ],
   "source": [
    "d.keys()"
   ]
  },
  {
   "cell_type": "code",
   "execution_count": 35,
   "id": "e4162d8e-f1ce-4523-8447-1d039b1ee892",
   "metadata": {},
   "outputs": [
    {
     "data": {
      "text/plain": [
       "3.4"
      ]
     },
     "execution_count": 35,
     "metadata": {},
     "output_type": "execute_result"
    }
   ],
   "source": [
    "list(d.values())[0]"
   ]
  },
  {
   "cell_type": "code",
   "execution_count": 40,
   "id": "15f1ee0a-5965-4c4b-a799-3d2fd2ff904b",
   "metadata": {},
   "outputs": [
    {
     "data": {
      "text/plain": [
       "3.55"
      ]
     },
     "execution_count": 40,
     "metadata": {},
     "output_type": "execute_result"
    }
   ],
   "source": [
    "sum(d.values())/len(d)"
   ]
  },
  {
   "cell_type": "code",
   "execution_count": 42,
   "id": "d2a363ed-6304-4f3d-a1c0-a77d37ad257b",
   "metadata": {},
   "outputs": [
    {
     "data": {
      "text/plain": [
       "3.55"
      ]
     },
     "execution_count": 42,
     "metadata": {},
     "output_type": "execute_result"
    }
   ],
   "source": [
    "sum_gpa = n = 0\n",
    "for point in d.values():\n",
    "    sum_gpa += point\n",
    "    n += 1\n",
    "sum_gpa/n"
   ]
  },
  {
   "cell_type": "code",
   "execution_count": 46,
   "id": "80cf58ab-e834-4ca0-a886-11ac0c5f9193",
   "metadata": {},
   "outputs": [
    {
     "name": "stdout",
     "output_type": "stream",
     "text": [
      "Jen\n",
      "Walter\n"
     ]
    }
   ],
   "source": [
    "avg = sum(d.values())/len(d)\n",
    "for k, v, in d.items():\n",
    "    if v > avg:\n",
    "        print(k)"
   ]
  },
  {
   "cell_type": "code",
   "execution_count": 48,
   "id": "ac0901dc-33e4-4a1f-95aa-8fbcc9941108",
   "metadata": {},
   "outputs": [
    {
     "name": "stdout",
     "output_type": "stream",
     "text": [
      "{1: 1, 2: 4, 3: 9, 4: 16, 5: 25, 6: 36, 7: 49, 8: 64, 9: 81}\n"
     ]
    }
   ],
   "source": [
    "d = {}\n",
    "for n in range(1, 10, 1):\n",
    "    d[n] = n ** 2\n",
    "\n",
    "print(d)"
   ]
  },
  {
   "cell_type": "code",
   "execution_count": 50,
   "id": "5964540b-1ed9-414e-8f15-42e72f868828",
   "metadata": {},
   "outputs": [
    {
     "data": {
      "text/plain": [
       "{1: 1, 3: 27, 5: 125, 7: 343, 9: 729}"
      ]
     },
     "execution_count": 50,
     "metadata": {},
     "output_type": "execute_result"
    }
   ],
   "source": [
    "{n: n ** 3 for n in range(1, 10, 1) if n % 2 == 1}"
   ]
  },
  {
   "cell_type": "code",
   "execution_count": 56,
   "id": "5a9a1bf9-db98-46f5-80ef-ec1b36ee357d",
   "metadata": {},
   "outputs": [
    {
     "data": {
      "text/plain": [
       "{'Albany': 'NY', 'Trenton': 'NJ', 'Lincoln': 'NE'}"
      ]
     },
     "execution_count": 56,
     "metadata": {},
     "output_type": "execute_result"
    }
   ],
   "source": [
    "states = {\n",
    "    \"NY\": \"Albany\",\n",
    "    \"NJ\": \"Trenton\",\n",
    "    \"NE\": \"Lincoln\",\n",
    "    }\n",
    "{v: k for k, v in states.items()}"
   ]
  },
  {
   "cell_type": "code",
   "execution_count": 58,
   "id": "35e7df85-8c9b-4a70-9bc1-94f57237e01b",
   "metadata": {},
   "outputs": [
    {
     "data": {
      "text/plain": [
       "{'Desktop': 'out of stock', 'Monitor': 'out of stock'}"
      ]
     },
     "execution_count": 58,
     "metadata": {},
     "output_type": "execute_result"
    }
   ],
   "source": [
    "products = {\n",
    "    \"Laptop\": \"available\",\n",
    "    \"Desktop\": \"out of stock\",\n",
    "    \"Keyboard\": \"available\",\n",
    "    \"Monitor\": \"out of stock\",\n",
    "}\n",
    "\n",
    "{k: v for k, v in products.items() if v == \"out of stock\"}"
   ]
  },
  {
   "cell_type": "code",
   "execution_count": 60,
   "id": "c9f8253c-881d-43dc-9993-94aeee25efb4",
   "metadata": {},
   "outputs": [],
   "source": [
    "st0 = {\"name\": \"Mike\", \"GPA\": 3.4}\n",
    "st1 = {\"name\": \"Jen\", \"GPA\": 3.6}\n",
    "st2 = {\"name\": \"Sarah\", \"GPA\": 3.5}\n",
    "st3 = {\"name\": \"Walter\", \"GPA\": 3.7}"
   ]
  },
  {
   "cell_type": "code",
   "execution_count": 64,
   "id": "4c2e4633-353a-4e3b-ba3f-68955a111af1",
   "metadata": {},
   "outputs": [
    {
     "name": "stdout",
     "output_type": "stream",
     "text": [
      "[{'name': 'Mike', 'GPA': 3.4}, {'name': 'Jen', 'GPA': 3.6}, {'name': 'Sarah', 'GPA': 3.5}, {'name': 'Walter', 'GPA': 3.7}]\n"
     ]
    }
   ],
   "source": [
    "# dictionaries nested within a list\n",
    "students = [st0, st1, st2, st3]\n",
    "print(students)"
   ]
  },
  {
   "cell_type": "code",
   "execution_count": 66,
   "id": "18b6cd28-776e-43bc-bfd9-87ec632de1d0",
   "metadata": {},
   "outputs": [
    {
     "name": "stdout",
     "output_type": "stream",
     "text": [
      "Walter\n",
      "3.7\n"
     ]
    }
   ],
   "source": [
    "for v in students[-1].values():\n",
    "    print(v)"
   ]
  },
  {
   "cell_type": "code",
   "execution_count": 68,
   "id": "cff59d0e-7fe3-4dd2-9cfa-1e574f3c0d51",
   "metadata": {},
   "outputs": [
    {
     "data": {
      "text/plain": [
       "3.55"
      ]
     },
     "execution_count": 68,
     "metadata": {},
     "output_type": "execute_result"
    }
   ],
   "source": [
    "sum_gpa = n = 0\n",
    "for student in students:\n",
    "    sum_gpa += student[\"GPA\"]\n",
    "    n += 1\n",
    "sum_gpa/n"
   ]
  },
  {
   "cell_type": "code",
   "execution_count": 70,
   "id": "93c67094-c836-4148-b727-3e4ecb16e291",
   "metadata": {},
   "outputs": [
    {
     "data": {
      "text/plain": [
       "['a', 'b', '2', '1']"
      ]
     },
     "execution_count": 70,
     "metadata": {},
     "output_type": "execute_result"
    }
   ],
   "source": [
    "mylist = [\"1\", \"2\", \"a\", \"b\"]\n",
    "\n",
    "import random\n",
    "random.shuffle(mylist)\n",
    "mylist"
   ]
  },
  {
   "cell_type": "code",
   "execution_count": 72,
   "id": "036800f1-6d80-4506-a7e2-35a21613dcef",
   "metadata": {},
   "outputs": [
    {
     "name": "stdout",
     "output_type": "stream",
     "text": [
      "527\n"
     ]
    }
   ],
   "source": [
    "n = random.randint(100, 1000)\n",
    "print(n)"
   ]
  },
  {
   "cell_type": "code",
   "execution_count": 79,
   "id": "dc4e9220-5816-47cd-9928-53b5d6fa0703",
   "metadata": {},
   "outputs": [
    {
     "data": {
      "text/plain": [
       "'982'"
      ]
     },
     "execution_count": 79,
     "metadata": {},
     "output_type": "execute_result"
    }
   ],
   "source": [
    "digits = [\"0\", \"1\", \"2\", \"3\", \"4\", \"5\", \"6\", \"7\", \"8\", \"9\"]\n",
    "while digits[0] == \"0\":\n",
    "    random.shuffle(digits)\n",
    "str_n = \"\"\n",
    "for i in range(0, 3, 1):\n",
    "    str_n += digits[i]\n",
    "str_n"
   ]
  },
  {
   "cell_type": "markdown",
   "id": "a38e5287-7c2c-4d7c-beda-b75777fe84d6",
   "metadata": {},
   "source": [
    "# 9.25.24"
   ]
  },
  {
   "cell_type": "code",
   "execution_count": 5,
   "id": "b0416263-6d52-4a8f-8aef-8c1dd2c49e9b",
   "metadata": {},
   "outputs": [
    {
     "name": "stdout",
     "output_type": "stream",
     "text": [
      "Mike's score is 92.\n",
      "Jen's score is 87.\n",
      "Sam's score is 93.\n",
      "Alex's score is 79.\n"
     ]
    }
   ],
   "source": [
    "d = {\"Mike\": 92, \"Jen\": 87, \"Sam\": 93, \"Alex\": 79}\n",
    "for k, v in d.items():\n",
    "    print(f\"{k}'s score is {v}.\")"
   ]
  },
  {
   "cell_type": "code",
   "execution_count": 7,
   "id": "86345a47-e078-4567-b2cf-bbed353cfe43",
   "metadata": {},
   "outputs": [
    {
     "name": "stdout",
     "output_type": "stream",
     "text": [
      "3\n"
     ]
    }
   ],
   "source": [
    "count = 0 \n",
    "for score in d.values():\n",
    "    if score >= 80:\n",
    "        count += 1\n",
    "print(count)"
   ]
  },
  {
   "cell_type": "code",
   "execution_count": 9,
   "id": "bf2504af-5942-43a1-85ea-6336a48b28d9",
   "metadata": {},
   "outputs": [
    {
     "name": "stdout",
     "output_type": "stream",
     "text": [
      "$45\n"
     ]
    }
   ],
   "source": [
    "itemnums = [101, 102, 103, 201, 202]\n",
    "price = [10, 9, 8, 2, 1]\n",
    "order = {101: 4, 201: 1, 202: 3}\n",
    "\n",
    "subt = 0\n",
    "for itemnum in order.keys():\n",
    "    for i in range(len(itemnums)):\n",
    "        if itemnum == itemnums[i]:\n",
    "            subt += price[i] * order[itemnum]\n",
    "print(f\"${subt}\")"
   ]
  },
  {
   "cell_type": "code",
   "execution_count": 11,
   "id": "4eee524f-f906-42c7-b405-1ae70daa9e93",
   "metadata": {},
   "outputs": [
    {
     "data": {
      "text/plain": [
       "1"
      ]
     },
     "execution_count": 11,
     "metadata": {},
     "output_type": "execute_result"
    }
   ],
   "source": [
    "mylist = [10, 11, \"Terry\", 11, 12]\n",
    "mylist.index(11)"
   ]
  },
  {
   "cell_type": "code",
   "execution_count": 13,
   "id": "79eed995-3501-4adf-bd46-676ad29f03d0",
   "metadata": {},
   "outputs": [
    {
     "data": {
      "text/plain": [
       "2"
      ]
     },
     "execution_count": 13,
     "metadata": {},
     "output_type": "execute_result"
    }
   ],
   "source": [
    "\"Jennifer\".index(\"n\")"
   ]
  },
  {
   "cell_type": "code",
   "execution_count": 15,
   "id": "edb3fb58-8b08-4dc9-89f3-6544efe9bb5c",
   "metadata": {},
   "outputs": [
    {
     "name": "stdout",
     "output_type": "stream",
     "text": [
      "$45\n"
     ]
    }
   ],
   "source": [
    "subt = 0\n",
    "for itemnum in order.keys():\n",
    "    i = itemnums.index(itemnum)\n",
    "    subt += price[i] * order[itemnum]\n",
    "print(f\"${subt}\")"
   ]
  },
  {
   "cell_type": "code",
   "execution_count": 19,
   "id": "eeea41f9-ea95-44fc-bec7-79338f2a93f1",
   "metadata": {},
   "outputs": [
    {
     "name": "stdout",
     "output_type": "stream",
     "text": [
      "\n",
      "Mike's areas are:\n",
      "\tMIS\n",
      "\tAccounting\n",
      "\n",
      "Jen's area is:\n",
      "\tMarketing\n",
      "\n",
      "Sarah's areas are:\n",
      "\tMIS\n",
      "\tMarketing\n",
      "\tSCM\n",
      "\n",
      "Walter's areas are:\n",
      "\tAccounting\n",
      "\tFinance\n"
     ]
    }
   ],
   "source": [
    "concent = {\n",
    "    \"Mike\": [\"MIS\", \"Accounting\"],\n",
    "    \"Jen\": [\"Marketing\"],\n",
    "    \"Sarah\": [\"MIS\", \"Marketing\", \"SCM\"],\n",
    "    \"Walter\": [\"Accounting\", \"Finance\"],\n",
    "    }\n",
    "\n",
    "for name, areas in concent.items():\n",
    "    if len(areas) == 1:\n",
    "        print(f\"\\n{name}'s area is:\")\n",
    "    else:\n",
    "        print(f\"\\n{name}'s areas are:\")\n",
    "    for area in areas:\n",
    "        print(f\"\\t{area}\")"
   ]
  },
  {
   "cell_type": "code",
   "execution_count": 29,
   "id": "40fddfe6-6faa-4a29-8071-834610a2724e",
   "metadata": {},
   "outputs": [
    {
     "name": "stdout",
     "output_type": "stream",
     "text": [
      "{'Amy': 86.0, 'Ben': 87.0, 'Bob': 81.0, 'Kim': 84.0}\n",
      "87.0\n",
      "['Ben']\n"
     ]
    }
   ],
   "source": [
    "grades = {\n",
    "    \"Amy\": [85, 90, 83],\n",
    "    \"Ben\": [92, 88, 81],\n",
    "    \"Bob\": [80, 78, 85],\n",
    "    \"Kim\": [84, 79, 89],\n",
    "    }\n",
    "\n",
    "avg_score = {name: sum(scores)/len(scores) for name, scores in grades.items()}\n",
    "print(avg_score)\n",
    "\n",
    "top_score = max(avg_score.values())\n",
    "print(top_score)\n",
    "\n",
    "top_students = [name for name, score in avg_score.items() if score == top_score]\n",
    "print(top_students)"
   ]
  },
  {
   "cell_type": "code",
   "execution_count": 32,
   "id": "cc0b5a23-ba7f-499b-af2f-57e0cb80a483",
   "metadata": {},
   "outputs": [
    {
     "name": "stdout",
     "output_type": "stream",
     "text": [
      "{1, 2, 3}\n"
     ]
    }
   ],
   "source": [
    "myset = {1, 2, 3, 1}\n",
    "print(myset)"
   ]
  },
  {
   "cell_type": "code",
   "execution_count": 34,
   "id": "86fbcc7a-e684-4778-8be7-5ffa303398a9",
   "metadata": {},
   "outputs": [
    {
     "ename": "TypeError",
     "evalue": "'set' object is not subscriptable",
     "output_type": "error",
     "traceback": [
      "\u001b[1;31m---------------------------------------------------------------------------\u001b[0m",
      "\u001b[1;31mTypeError\u001b[0m                                 Traceback (most recent call last)",
      "Cell \u001b[1;32mIn[34], line 1\u001b[0m\n\u001b[1;32m----> 1\u001b[0m myset[\u001b[38;5;241m0\u001b[39m]\n",
      "\u001b[1;31mTypeError\u001b[0m: 'set' object is not subscriptable"
     ]
    }
   ],
   "source": [
    "myset[0]"
   ]
  },
  {
   "cell_type": "code",
   "execution_count": 36,
   "id": "51f33b14-f118-41c8-884f-0d1d86d046a5",
   "metadata": {},
   "outputs": [
    {
     "data": {
      "text/plain": [
       "set()"
      ]
     },
     "execution_count": 36,
     "metadata": {},
     "output_type": "execute_result"
    }
   ],
   "source": [
    "s = set()\n",
    "s"
   ]
  },
  {
   "cell_type": "code",
   "execution_count": 38,
   "id": "8175407a-a45f-4e61-bdae-16c30c4da7bb",
   "metadata": {},
   "outputs": [
    {
     "data": {
      "text/plain": [
       "{1, 2, '5th Street'}"
      ]
     },
     "execution_count": 38,
     "metadata": {},
     "output_type": "execute_result"
    }
   ],
   "source": [
    "mylist = [1, 2, \"5th Street\", 1]\n",
    "set(mylist)"
   ]
  },
  {
   "cell_type": "code",
   "execution_count": 40,
   "id": "d49ac530-9422-4265-ac67-88839448f28d",
   "metadata": {},
   "outputs": [
    {
     "data": {
      "text/plain": [
       "{' ', '5', 'S', 'e', 'h', 'r', 't'}"
      ]
     },
     "execution_count": 40,
     "metadata": {},
     "output_type": "execute_result"
    }
   ],
   "source": [
    "set(\"5th Street\")"
   ]
  },
  {
   "cell_type": "code",
   "execution_count": 44,
   "id": "d0ff4f76-52d1-4395-9e7c-3ab14c156022",
   "metadata": {},
   "outputs": [
    {
     "data": {
      "text/plain": [
       "{'Alex', 'Jen', 'Mike', 'Sam'}"
      ]
     },
     "execution_count": 44,
     "metadata": {},
     "output_type": "execute_result"
    }
   ],
   "source": [
    "d = {\"Mike\": 92, \"Jen\": 87, \"Sam\": 93, \"Alex\": 79}\n",
    "set(d)"
   ]
  },
  {
   "cell_type": "code",
   "execution_count": 48,
   "id": "6a283ca7-25dc-40ed-81b4-b4f933b45cfa",
   "metadata": {},
   "outputs": [
    {
     "data": {
      "text/plain": [
       "{4}"
      ]
     },
     "execution_count": 48,
     "metadata": {},
     "output_type": "execute_result"
    }
   ],
   "source": [
    "s = set()\n",
    "s.add(4)\n",
    "s"
   ]
  },
  {
   "cell_type": "code",
   "execution_count": 50,
   "id": "bb97870d-0750-4733-8402-63e70a2e72c6",
   "metadata": {},
   "outputs": [
    {
     "data": {
      "text/plain": [
       "{4, 5}"
      ]
     },
     "execution_count": 50,
     "metadata": {},
     "output_type": "execute_result"
    }
   ],
   "source": [
    "s.add(5)\n",
    "s"
   ]
  },
  {
   "cell_type": "code",
   "execution_count": 52,
   "id": "f2d5d7d9-ba2f-4c61-9b63-55696b9dd958",
   "metadata": {},
   "outputs": [
    {
     "data": {
      "text/plain": [
       "{4, 5, 6}"
      ]
     },
     "execution_count": 52,
     "metadata": {},
     "output_type": "execute_result"
    }
   ],
   "source": [
    "s.update([4, 5, 6])\n",
    "s"
   ]
  },
  {
   "cell_type": "code",
   "execution_count": 54,
   "id": "c771f4c2-2a56-4a2a-baf3-3c6041d447ac",
   "metadata": {},
   "outputs": [
    {
     "data": {
      "text/plain": [
       "{5, 6}"
      ]
     },
     "execution_count": 54,
     "metadata": {},
     "output_type": "execute_result"
    }
   ],
   "source": [
    "s.remove(4)\n",
    "s"
   ]
  },
  {
   "cell_type": "code",
   "execution_count": 56,
   "id": "6577414c-b1f9-4c0f-ae89-41e75d6b5eb0",
   "metadata": {},
   "outputs": [
    {
     "data": {
      "text/plain": [
       "{1, 2, 3, 4, 5, 6, 7, 8, 9, 10, 11, 12, 13, 14, 15, 16, 17, 18, 19, 20}"
      ]
     },
     "execution_count": 56,
     "metadata": {},
     "output_type": "execute_result"
    }
   ],
   "source": [
    "s = set()\n",
    "for n in range(1, 21, 1):\n",
    "    s.add(n)\n",
    "s"
   ]
  },
  {
   "cell_type": "code",
   "execution_count": 58,
   "id": "36e73c07-87aa-4dc2-bf93-bbaedc90a231",
   "metadata": {},
   "outputs": [
    {
     "ename": "RuntimeError",
     "evalue": "Set changed size during iteration",
     "output_type": "error",
     "traceback": [
      "\u001b[1;31m---------------------------------------------------------------------------\u001b[0m",
      "\u001b[1;31mRuntimeError\u001b[0m                              Traceback (most recent call last)",
      "Cell \u001b[1;32mIn[58], line 1\u001b[0m\n\u001b[1;32m----> 1\u001b[0m \u001b[38;5;28;01mfor\u001b[39;00m i \u001b[38;5;129;01min\u001b[39;00m s:\n\u001b[0;32m      2\u001b[0m     \u001b[38;5;28;01mif\u001b[39;00m i \u001b[38;5;241m%\u001b[39m \u001b[38;5;241m3\u001b[39m \u001b[38;5;241m==\u001b[39m \u001b[38;5;241m0\u001b[39m:\n\u001b[0;32m      3\u001b[0m         s\u001b[38;5;241m.\u001b[39mremove(i)\n",
      "\u001b[1;31mRuntimeError\u001b[0m: Set changed size during iteration"
     ]
    }
   ],
   "source": [
    "for i in s:\n",
    "    if i % 3 == 0:\n",
    "        s.remove(i)"
   ]
  },
  {
   "cell_type": "code",
   "execution_count": 62,
   "id": "e0f685da-6799-43cf-a9a2-22a212d811ea",
   "metadata": {},
   "outputs": [
    {
     "data": {
      "text/plain": [
       "{3, 6, 9, 12, 15, 18}"
      ]
     },
     "execution_count": 62,
     "metadata": {},
     "output_type": "execute_result"
    }
   ],
   "source": [
    "s = set()\n",
    "for n in range(1, 21, 1):\n",
    "    s.add(n)\n",
    "for i in s.copy():\n",
    "    if i % 3 != 0:\n",
    "        s.remove(i)\n",
    "s"
   ]
  },
  {
   "cell_type": "code",
   "execution_count": 64,
   "id": "a03dc42b-caa3-4d59-8a18-7353481df4f5",
   "metadata": {},
   "outputs": [
    {
     "data": {
      "text/plain": [
       "{0, 2, 4, 6, 8}"
      ]
     },
     "execution_count": 64,
     "metadata": {},
     "output_type": "execute_result"
    }
   ],
   "source": [
    "# Set Comprehension\n",
    "even  = {2*n for n in range(0, 5, 1)}\n",
    "even"
   ]
  },
  {
   "cell_type": "code",
   "execution_count": 66,
   "id": "28e021dd-601e-4459-8283-13264c192650",
   "metadata": {},
   "outputs": [
    {
     "data": {
      "text/plain": [
       "{2, 4, 6}"
      ]
     },
     "execution_count": 66,
     "metadata": {},
     "output_type": "execute_result"
    }
   ],
   "source": [
    "sub_even = {item for item in even if even if item > 0 and item < 8}\n",
    "sub_even"
   ]
  },
  {
   "cell_type": "code",
   "execution_count": 68,
   "id": "919a6497-7bd8-4d31-ba1e-3c78fff1ef9f",
   "metadata": {},
   "outputs": [
    {
     "data": {
      "text/plain": [
       "{1, 3, 5}"
      ]
     },
     "execution_count": 68,
     "metadata": {},
     "output_type": "execute_result"
    }
   ],
   "source": [
    "myset1 = {0, 1, 2, 3, 4, 5}\n",
    "myset2 = {-1, 1, 3, 5, 7}\n",
    "\n",
    "inter = set()\n",
    "for item in myset1:\n",
    "    if item in myset2:\n",
    "        inter.add(item)\n",
    "inter"
   ]
  },
  {
   "cell_type": "code",
   "execution_count": 70,
   "id": "79387444-80b2-42cd-8dce-3c5639e70737",
   "metadata": {},
   "outputs": [
    {
     "data": {
      "text/plain": [
       "{1, 2, 3}"
      ]
     },
     "execution_count": 70,
     "metadata": {},
     "output_type": "execute_result"
    }
   ],
   "source": [
    "intersect = {value for value in myset1 if value in myset}\n",
    "intersect"
   ]
  },
  {
   "cell_type": "code",
   "execution_count": 72,
   "id": "8b7626b5-1a15-4ad7-9631-95481df74ef1",
   "metadata": {},
   "outputs": [
    {
     "data": {
      "text/plain": [
       "3"
      ]
     },
     "execution_count": 72,
     "metadata": {},
     "output_type": "execute_result"
    }
   ],
   "source": [
    "mylist = [10, -20, \"Abigail\"]\n",
    "len(mylist)"
   ]
  },
  {
   "cell_type": "code",
   "execution_count": 76,
   "id": "e20cf266-e78d-4680-9d1d-dbc5590dfe80",
   "metadata": {},
   "outputs": [
    {
     "name": "stdout",
     "output_type": "stream",
     "text": [
      "6\n"
     ]
    }
   ],
   "source": [
    "# Functions\n",
    "\n",
    "def mylenfunc(obj):\n",
    "    \"\"\"Count the number of elements in obj.\"\"\"\n",
    "    n = 0\n",
    "    for x in obj:\n",
    "        n += 1\n",
    "    print(n)\n",
    "mylenfunc(\"mylist\")"
   ]
  },
  {
   "cell_type": "code",
   "execution_count": 78,
   "id": "ea675b1f-4276-4db8-93f5-6938a72f05e1",
   "metadata": {},
   "outputs": [
    {
     "name": "stdout",
     "output_type": "stream",
     "text": [
      "Hello Jennifer!\n"
     ]
    }
   ],
   "source": [
    "def message(name):\n",
    "    print(f\"Hello {name}!\")\n",
    "message(\"Jennifer\")"
   ]
  },
  {
   "cell_type": "code",
   "execution_count": 80,
   "id": "0c7a9ddc-4b24-48d5-9880-e1c3309d63a2",
   "metadata": {},
   "outputs": [
    {
     "name": "stdin",
     "output_type": "stream",
     "text": [
      "Enter the 1st number:  4\n",
      "Enter the 2nd number:  -2.5\n"
     ]
    },
    {
     "name": "stdout",
     "output_type": "stream",
     "text": [
      "0.75\n"
     ]
    }
   ],
   "source": [
    "def avg():\n",
    "    n1 = float(input(\"Enter the 1st number: \"))\n",
    "    n2 = float(input(\"Enter the 2nd number: \"))\n",
    "    m = (n1 + n2)/2\n",
    "    print(m)\n",
    "avg()"
   ]
  },
  {
   "cell_type": "code",
   "execution_count": 82,
   "id": "cbedf4b3-c986-4b01-9aad-532353ee28e6",
   "metadata": {},
   "outputs": [
    {
     "name": "stdout",
     "output_type": "stream",
     "text": [
      "0.75\n"
     ]
    }
   ],
   "source": [
    "def avg2(x, y):\n",
    "    print((x + y)/2)\n",
    "avg2(4, -2.5)"
   ]
  },
  {
   "cell_type": "markdown",
   "id": "09c4897f-c785-4280-8fd1-2a09859882bc",
   "metadata": {},
   "source": [
    "# 9.30.24"
   ]
  },
  {
   "cell_type": "code",
   "execution_count": 5,
   "id": "bb039ca3-26c9-4910-9d5a-34952c950ac4",
   "metadata": {},
   "outputs": [
    {
     "name": "stdout",
     "output_type": "stream",
     "text": [
      "Mia is being verified.\n",
      "Bob is being verified.\n",
      "Jim is being verified.\n",
      "Amy is being verified.\n",
      "\n",
      "The following students have been verified:\n",
      "1. Mia\n",
      "2. Bob\n",
      "3. Jim\n",
      "4. Amy\n"
     ]
    }
   ],
   "source": [
    "def verify (u_students, c_students):\n",
    "    while u_students:\n",
    "        st = u_students.pop()\n",
    "        print(f\"{st} is being verified.\")\n",
    "        c_students.append(st)\n",
    "\n",
    "def display(c_students):\n",
    "    print(\"\\nThe following students have been verified:\")\n",
    "    i = 1\n",
    "    for name in c_students:\n",
    "        print(f\"{i}. {name}\")\n",
    "        i += 1\n",
    "\n",
    "u = [\"Amy\", \"Jim\", \"Bob\", \"Mia\"]\n",
    "c = []\n",
    "verify(u, c)\n",
    "display(c)"
   ]
  },
  {
   "cell_type": "code",
   "execution_count": 9,
   "id": "c6463557-a0ef-4ff2-8627-8d7db57700a6",
   "metadata": {
    "scrolled": true
   },
   "outputs": [
    {
     "name": "stdout",
     "output_type": "stream",
     "text": [
      "6.25\n"
     ]
    }
   ],
   "source": [
    "def sos(n1, n2):\n",
    "    print(n1**2 + n2**2)\n",
    "\n",
    "sos(-2, 1.5)"
   ]
  },
  {
   "cell_type": "code",
   "execution_count": 11,
   "id": "f9bac2a7-d560-43d8-920b-b2c9834f7d57",
   "metadata": {},
   "outputs": [
    {
     "data": {
      "text/plain": [
       "1"
      ]
     },
     "execution_count": 11,
     "metadata": {},
     "output_type": "execute_result"
    }
   ],
   "source": [
    "def sos(n1, n2):\n",
    "    result = n1**2 + n2**2\n",
    "    return result\n",
    "\n",
    "sos(-1, 0)"
   ]
  },
  {
   "cell_type": "code",
   "execution_count": 13,
   "id": "9658e7ab-ebee-4502-ad9e-0e39b3ac179e",
   "metadata": {},
   "outputs": [
    {
     "data": {
      "text/plain": [
       "5"
      ]
     },
     "execution_count": 13,
     "metadata": {},
     "output_type": "execute_result"
    }
   ],
   "source": [
    "value = sos(1, 2)\n",
    "value"
   ]
  },
  {
   "cell_type": "code",
   "execution_count": 15,
   "id": "1fae85b6-5e35-49f2-ab07-d2eee054b5ca",
   "metadata": {},
   "outputs": [
    {
     "data": {
      "text/plain": [
       "'Michael C. Hall'"
      ]
     },
     "execution_count": 15,
     "metadata": {},
     "output_type": "execute_result"
    }
   ],
   "source": [
    "def full_name(first, middle, last):\n",
    "    name = f\"{first} {middle} {last}\"\n",
    "    return name\n",
    "\n",
    "actor = full_name(\"Michael\", \"C.\", \"Hall\")\n",
    "actor"
   ]
  },
  {
   "cell_type": "code",
   "execution_count": 17,
   "id": "fe0b977d-aa88-4490-9df5-e72201805a1f",
   "metadata": {},
   "outputs": [
    {
     "data": {
      "text/plain": [
       "False"
      ]
     },
     "execution_count": 17,
     "metadata": {},
     "output_type": "execute_result"
    }
   ],
   "source": [
    "def is_even(n):\n",
    "    if n % 2 == 0:\n",
    "        return True\n",
    "    return False\n",
    "\n",
    "is_even(-101)"
   ]
  },
  {
   "cell_type": "code",
   "execution_count": 21,
   "id": "a4a0c890-c2c6-458c-97d8-409bc5980fbf",
   "metadata": {},
   "outputs": [
    {
     "name": "stdin",
     "output_type": "stream",
     "text": [
      "Enter an integer:  6\n"
     ]
    },
    {
     "name": "stdout",
     "output_type": "stream",
     "text": [
      "6! is 720.\n"
     ]
    }
   ],
   "source": [
    "def factorial(n):\n",
    "    r = 1\n",
    "    for i in range(1, n+1, 1):\n",
    "        r *= i\n",
    "    return r\n",
    "\n",
    "m = int(input(\"Enter an integer: \"))\n",
    "if m >= 0:\n",
    "    outcome = factorial(m)\n",
    "    print(f\"{m}! is {outcome}.\")\n",
    "else:\n",
    "    print(\"Factorial underfined!\")"
   ]
  },
  {
   "cell_type": "code",
   "execution_count": 23,
   "id": "095691af-d8a0-4193-aaee-7451496ee570",
   "metadata": {},
   "outputs": [
    {
     "data": {
      "text/plain": [
       "('S', 'J', 'S')"
      ]
     },
     "execution_count": 23,
     "metadata": {},
     "output_type": "execute_result"
    }
   ],
   "source": [
    "def full_name(first, middle, last):\n",
    "    return first[0], middle[0], last[0]\n",
    "\n",
    "full_name(\"Sarah\", \"Jane\", \"Smith\")"
   ]
  },
  {
   "cell_type": "code",
   "execution_count": 25,
   "id": "6f038318-27c9-492e-a8e9-ca52ff6f96a1",
   "metadata": {},
   "outputs": [],
   "source": [
    "def extremum(nums):\n",
    "    return min(nums), max(nums)\n",
    "\n",
    "numbers = [3, 1, -4, -1, 5, 2]"
   ]
  },
  {
   "cell_type": "code",
   "execution_count": 27,
   "id": "e6f2f8b4-1272-4b49-bbcd-b7098b063fb3",
   "metadata": {},
   "outputs": [
    {
     "data": {
      "text/plain": [
       "-4"
      ]
     },
     "execution_count": 27,
     "metadata": {},
     "output_type": "execute_result"
    }
   ],
   "source": [
    "# Unpacking\n",
    "\n",
    "low, high = extremum(numbers)\n",
    "low"
   ]
  },
  {
   "cell_type": "code",
   "execution_count": 29,
   "id": "939f3c2c-c2b5-407b-921d-564d67d59dfa",
   "metadata": {},
   "outputs": [
    {
     "data": {
      "text/plain": [
       "5"
      ]
     },
     "execution_count": 29,
     "metadata": {},
     "output_type": "execute_result"
    }
   ],
   "source": [
    "high"
   ]
  },
  {
   "cell_type": "code",
   "execution_count": 31,
   "id": "17e82ef0-8fe5-470d-9f48-69ae3e0c407d",
   "metadata": {},
   "outputs": [
    {
     "data": {
      "text/plain": [
       "30"
      ]
     },
     "execution_count": 31,
     "metadata": {},
     "output_type": "execute_result"
    }
   ],
   "source": [
    "mylist = [10, 20, 30]\n",
    "x, y, z = mylist\n",
    "z"
   ]
  },
  {
   "cell_type": "code",
   "execution_count": 33,
   "id": "0cafe1a0-b315-43d9-96e3-dd571ffc6f84",
   "metadata": {},
   "outputs": [
    {
     "data": {
      "text/plain": [
       "2"
      ]
     },
     "execution_count": 33,
     "metadata": {},
     "output_type": "execute_result"
    }
   ],
   "source": [
    "mytuple = (1, 2, 3, 4)\n",
    "a, b, c, d = mytuple\n",
    "b"
   ]
  },
  {
   "cell_type": "code",
   "execution_count": 35,
   "id": "741bd82f-0dd6-447d-9643-353e8c754e90",
   "metadata": {},
   "outputs": [
    {
     "data": {
      "text/plain": [
       "[85, 90, 88, 92]"
      ]
     },
     "execution_count": 35,
     "metadata": {},
     "output_type": "execute_result"
    }
   ],
   "source": [
    "data = [\"Sue\", [85, 90, 88, 92], 2013]\n",
    "name, scores, year = data\n",
    "scores"
   ]
  },
  {
   "cell_type": "code",
   "execution_count": 37,
   "id": "9dc05fbf-e74f-4d15-96d2-d008e2a44cb8",
   "metadata": {},
   "outputs": [
    {
     "ename": "ValueError",
     "evalue": "not enough values to unpack (expected 3, got 2)",
     "output_type": "error",
     "traceback": [
      "\u001b[1;31m---------------------------------------------------------------------------\u001b[0m",
      "\u001b[1;31mValueError\u001b[0m                                Traceback (most recent call last)",
      "Cell \u001b[1;32mIn[37], line 2\u001b[0m\n\u001b[0;32m      1\u001b[0m mylist \u001b[38;5;241m=\u001b[39m [\u001b[38;5;124m\"\u001b[39m\u001b[38;5;124ma\u001b[39m\u001b[38;5;124m\"\u001b[39m, \u001b[38;5;124m\"\u001b[39m\u001b[38;5;124mb\u001b[39m\u001b[38;5;124m\"\u001b[39m]\n\u001b[1;32m----> 2\u001b[0m i1, i2, i3 \u001b[38;5;241m=\u001b[39m mylist\n",
      "\u001b[1;31mValueError\u001b[0m: not enough values to unpack (expected 3, got 2)"
     ]
    }
   ],
   "source": [
    "mylist = [\"a\", \"b\"]\n",
    "i1, i2, i3 = mylist"
   ]
  },
  {
   "cell_type": "code",
   "execution_count": 39,
   "id": "ed67e51f-2bc7-4c4d-841d-8521bb7f3f53",
   "metadata": {},
   "outputs": [
    {
     "data": {
      "text/plain": [
       "1"
      ]
     },
     "execution_count": 39,
     "metadata": {},
     "output_type": "execute_result"
    }
   ],
   "source": [
    "a, *b, c = (1, 2, 3)\n",
    "a"
   ]
  },
  {
   "cell_type": "code",
   "execution_count": 41,
   "id": "9075adab-38ed-43b2-bc76-b12d9fec5724",
   "metadata": {},
   "outputs": [
    {
     "data": {
      "text/plain": [
       "[2]"
      ]
     },
     "execution_count": 41,
     "metadata": {},
     "output_type": "execute_result"
    }
   ],
   "source": [
    "b"
   ]
  },
  {
   "cell_type": "code",
   "execution_count": 43,
   "id": "64f01dc3-effa-4d2f-a61e-607bc88657f1",
   "metadata": {},
   "outputs": [
    {
     "data": {
      "text/plain": [
       "[2, 3, 4, 5]"
      ]
     },
     "execution_count": 43,
     "metadata": {},
     "output_type": "execute_result"
    }
   ],
   "source": [
    "a, *b, c = [1, 2, 3, 4, 5, 6]\n",
    "b"
   ]
  },
  {
   "cell_type": "code",
   "execution_count": 47,
   "id": "d0d38d49-4219-4c38-b215-10ec55d6dd57",
   "metadata": {},
   "outputs": [
    {
     "data": {
      "text/plain": [
       "[2, 3, 4, 5, 6]"
      ]
     },
     "execution_count": 47,
     "metadata": {},
     "output_type": "execute_result"
    }
   ],
   "source": [
    "a, *b = [1, 2, 3, 4, 5, 6]\n",
    "b"
   ]
  },
  {
   "cell_type": "code",
   "execution_count": 49,
   "id": "ecf6ec4c-6087-4065-91dc-3d06a81b3341",
   "metadata": {},
   "outputs": [
    {
     "data": {
      "text/plain": [
       "[1, 2, 3, 4, 5]"
      ]
     },
     "execution_count": 49,
     "metadata": {},
     "output_type": "execute_result"
    }
   ],
   "source": [
    "*a, b = [1, 2, 3, 4, 5, 6]\n",
    "a"
   ]
  },
  {
   "cell_type": "code",
   "execution_count": 13,
   "id": "03c7b449-2017-4f82-b875-c5161399b52a",
   "metadata": {},
   "outputs": [
    {
     "ename": "SyntaxError",
     "evalue": "starred assignment target must be in a list or tuple (1574799895.py, line 1)",
     "output_type": "error",
     "traceback": [
      "\u001b[1;36m  Cell \u001b[1;32mIn[13], line 1\u001b[1;36m\u001b[0m\n\u001b[1;33m    *a = [1, 2, 3, 4, 5, 6]\u001b[0m\n\u001b[1;37m    ^\u001b[0m\n\u001b[1;31mSyntaxError\u001b[0m\u001b[1;31m:\u001b[0m starred assignment target must be in a list or tuple\n"
     ]
    }
   ],
   "source": [
    "*a = [1, 2, 3, 4, 5, 6]\n",
    "a"
   ]
  },
  {
   "cell_type": "code",
   "execution_count": 55,
   "id": "2d64267e-9d91-4cb7-b4d1-83c1a6f6b679",
   "metadata": {},
   "outputs": [
    {
     "name": "stdout",
     "output_type": "stream",
     "text": [
      "Name: Jen, Area: MIS, GPA: 3.5\n",
      "Name: Bob, Area: SCM, GPA: 3.6\n",
      "Name: Sue, Area: Marketing, GPA: 3.4\n"
     ]
    }
   ],
   "source": [
    "students = [\n",
    "    (\"Jen\", \"MIS\", 3.5),\n",
    "    (\"Bob\", \"SCM\", 3.6),\n",
    "    (\"Sue\", \"Marketing\", 3.4)\n",
    "    ]\n",
    "\n",
    "for name, area, gpa in students:\n",
    "    print(f\"Name: {name}, Area: {area}, GPA: {gpa}\")"
   ]
  },
  {
   "cell_type": "code",
   "execution_count": 57,
   "id": "0b133cbb-f458-4e51-ba97-50dd92d00bc5",
   "metadata": {},
   "outputs": [
    {
     "name": "stdout",
     "output_type": "stream",
     "text": [
      "3.5\n",
      "3.6\n",
      "3.4\n"
     ]
    }
   ],
   "source": [
    "for name, *info in students:\n",
    "    print(f\"{info[1]}\")"
   ]
  },
  {
   "cell_type": "code",
   "execution_count": 59,
   "id": "9351a54e-488b-4e4a-9ca5-c82864d36055",
   "metadata": {},
   "outputs": [
    {
     "data": {
      "text/plain": [
       "[('Sue', 'Marketing', 3.4), ('Jen', 'MIS', 3.5), ('Bob', 'SCM', 3.6)]"
      ]
     },
     "execution_count": 59,
     "metadata": {},
     "output_type": "execute_result"
    }
   ],
   "source": [
    "def gpa(x):\n",
    "    return x[2]\n",
    "\n",
    "s_students = sorted(students, key = gpa)\n",
    "s_students"
   ]
  },
  {
   "cell_type": "code",
   "execution_count": 61,
   "id": "d25210e1-fe51-43f1-a8d8-c10850690e82",
   "metadata": {},
   "outputs": [
    {
     "name": "stdout",
     "output_type": "stream",
     "text": [
      "3.4\n",
      "3.5\n",
      "3.6\n"
     ]
    }
   ],
   "source": [
    "for name, *info in s_students:\n",
    "    print(f\"{info[1]}\")"
   ]
  },
  {
   "cell_type": "code",
   "execution_count": 65,
   "id": "24ea1f01-6e2f-4c00-a35c-aed4e66e4099",
   "metadata": {},
   "outputs": [
    {
     "data": {
      "text/plain": [
       "[('Sue', 'Marketing', 3.4), ('Jen', 'MIS', 3.5), ('Bob', 'SCM', 3.6)]"
      ]
     },
     "execution_count": 65,
     "metadata": {},
     "output_type": "execute_result"
    }
   ],
   "source": [
    "sorted_students = sorted(students, key = lambda mytuple: mytuple[2])\n",
    "sorted_students"
   ]
  },
  {
   "cell_type": "code",
   "execution_count": 67,
   "id": "92d5f97e-1ad3-40e7-9861-0792f88ab678",
   "metadata": {},
   "outputs": [
    {
     "name": "stdout",
     "output_type": "stream",
     "text": [
      "1 2 3 4\n"
     ]
    }
   ],
   "source": [
    "myt = (1, 2, 3, 4)\n",
    "print(*myt)"
   ]
  },
  {
   "cell_type": "code",
   "execution_count": 69,
   "id": "42a77e58-09ac-4baf-82a1-127298fc5a0d",
   "metadata": {},
   "outputs": [
    {
     "name": "stdout",
     "output_type": "stream",
     "text": [
      "a b\n"
     ]
    }
   ],
   "source": [
    "mydict = {\"a\": 1, \"b\": 2}\n",
    "print(*mydict)"
   ]
  },
  {
   "cell_type": "code",
   "execution_count": 71,
   "id": "1ec33fb9-24d9-446a-8e09-a58d8f0ef706",
   "metadata": {},
   "outputs": [
    {
     "data": {
      "text/plain": [
       "6"
      ]
     },
     "execution_count": 71,
     "metadata": {},
     "output_type": "execute_result"
    }
   ],
   "source": [
    "def add(x, y, z):\n",
    "    return x+y+z\n",
    "\n",
    "values = [1, 2, 3]\n",
    "add(*values)"
   ]
  },
  {
   "cell_type": "code",
   "execution_count": 1,
   "id": "b9b0b518-489f-4695-8590-8b3cdd6527a0",
   "metadata": {},
   "outputs": [
    {
     "name": "stdout",
     "output_type": "stream",
     "text": [
      "1 2 30 40 50 600\n"
     ]
    }
   ],
   "source": [
    "def func(a, b, c, d, e, f):\n",
    "    print(a, b, c, d, e, f)\n",
    "\n",
    "x1 = [1, 2]\n",
    "x2 = [30, 40, 50]\n",
    "func(*x1, *x2, 600)"
   ]
  },
  {
   "cell_type": "code",
   "execution_count": 3,
   "id": "c3af87c3-1240-44c6-a5fa-c172e770391b",
   "metadata": {},
   "outputs": [
    {
     "name": "stdout",
     "output_type": "stream",
     "text": [
      "[1, 2, 40, 50]\n"
     ]
    }
   ],
   "source": [
    "a = [1, 2]\n",
    "b = [*a, 40, 50]\n",
    "print(b)"
   ]
  },
  {
   "cell_type": "code",
   "execution_count": 5,
   "id": "5c47865b-c7e5-4b46-bf12-ac4deeef162a",
   "metadata": {},
   "outputs": [
    {
     "name": "stdout",
     "output_type": "stream",
     "text": [
      "Season opener: 88\n",
      "Season finale: 92\n",
      "The rest of the games on average:  90.57\n"
     ]
    }
   ],
   "source": [
    "scores = [88, 96, 89, 90, 88, 94, 87, 90, 92]\n",
    "\n",
    "opener, *middle, finale = scores\n",
    "avg_middle = sum(middle)/len(middle)\n",
    "\n",
    "print(f\"Season opener: {opener}\")\n",
    "print(f\"Season finale: {finale}\")\n",
    "print(f\"The rest of the games on average: {avg_middle: .2f}\")"
   ]
  },
  {
   "cell_type": "code",
   "execution_count": 7,
   "id": "b883c491-aa49-4bff-baf4-337820bd45b4",
   "metadata": {},
   "outputs": [],
   "source": [
    "prices = [\n",
    "    (\"Mon\", 100, 120, 97, 105),\n",
    "    (\"Tue\", 104, 112, 101, 107),\n",
    "    (\"Wed\", 105, 110, 104, 108),\n",
    "    #and so on for the rest of the weekdays\n",
    "]"
   ]
  },
  {
   "cell_type": "code",
   "execution_count": 9,
   "id": "8774dbda-f416-4a6d-8747-ea8352543efc",
   "metadata": {},
   "outputs": [
    {
     "name": "stdout",
     "output_type": "stream",
     "text": [
      "103.0\n",
      "106.66666666666667\n"
     ]
    }
   ],
   "source": [
    "t_open = t_close = 0\n",
    "for data in prices:\n",
    "    day, openn, *rest, close = data\n",
    "    t_open += openn\n",
    "    t_close += close\n",
    "    \n",
    "print(t_open/len(prices))\n",
    "print(t_close/len(prices))"
   ]
  },
  {
   "cell_type": "code",
   "execution_count": 11,
   "id": "fffcdde4-3410-4bda-95f3-8a3c01773ddd",
   "metadata": {},
   "outputs": [
    {
     "name": "stdout",
     "output_type": "stream",
     "text": [
      " 106.67\n"
     ]
    }
   ],
   "source": [
    "print(f\"{t_close/len(prices): .2f}\")"
   ]
  },
  {
   "cell_type": "markdown",
   "id": "5d5a758d-6662-4383-bcaf-c6b7d378efdb",
   "metadata": {},
   "source": [
    "# 10.07.24"
   ]
  },
  {
   "cell_type": "code",
   "execution_count": 13,
   "id": "a78fb31a-cad8-41a4-9165-3d6ac9d278de",
   "metadata": {},
   "outputs": [
    {
     "data": {
      "text/plain": [
       "10"
      ]
     },
     "execution_count": 13,
     "metadata": {},
     "output_type": "execute_result"
    }
   ],
   "source": [
    "def max_finder(x, y, z):\n",
    "    if x >= y and x >= z:\n",
    "        greatest = x\n",
    "    elif y >= x and y >= z:\n",
    "        greatest = y\n",
    "    else:\n",
    "        greatest = z\n",
    "    return greatest\n",
    "\n",
    "max_finder(10, 5, -10)"
   ]
  },
  {
   "cell_type": "code",
   "execution_count": 17,
   "id": "14b58418-eeb6-46ab-b5be-3c23d63c9ad5",
   "metadata": {},
   "outputs": [
    {
     "data": {
      "text/plain": [
       "30"
      ]
     },
     "execution_count": 17,
     "metadata": {},
     "output_type": "execute_result"
    }
   ],
   "source": [
    "# Default Arguments\n",
    "def max_finder(x, y, z = 20):\n",
    "    if x >= y and x >= z:\n",
    "        greatest = x\n",
    "    elif y >= x and y >= z:\n",
    "        greatest = y\n",
    "    else: \n",
    "        greatest = z\n",
    "    return greatest\n",
    "\n",
    "max_finder(-1, 30)"
   ]
  },
  {
   "cell_type": "code",
   "execution_count": 19,
   "id": "ec9ef7bb-9fbf-46b5-ab68-e219f8781d13",
   "metadata": {},
   "outputs": [
    {
     "name": "stdin",
     "output_type": "stream",
     "text": [
      "How old are you?  21\n"
     ]
    },
    {
     "name": "stdout",
     "output_type": "stream",
     "text": [
      "Adult\n"
     ]
    }
   ],
   "source": [
    "age = int(input(\"How old are you? \"))\n",
    "status = \"Adult\" if age >= 18 else \"Minor\"\n",
    "print(status)"
   ]
  },
  {
   "cell_type": "code",
   "execution_count": 21,
   "id": "ceaf0fb5-b000-4a80-89fe-dda1c118c67d",
   "metadata": {},
   "outputs": [
    {
     "data": {
      "text/plain": [
       "False"
      ]
     },
     "execution_count": 21,
     "metadata": {},
     "output_type": "execute_result"
    }
   ],
   "source": [
    "def is_even(n):\n",
    "    return True if n % 2 == 0 else False\n",
    "\n",
    "is_even(-1)"
   ]
  },
  {
   "cell_type": "code",
   "execution_count": 25,
   "id": "84bf93d0-1726-49ed-b274-5a33d0b11e53",
   "metadata": {},
   "outputs": [],
   "source": [
    "# Positional and keyword arguments\n",
    "def test_result(name, subject, score):\n",
    "    status = \"passed\" if score >= 60 else \"false\"\n",
    "    return f\"{name} {status} {subject}.\""
   ]
  },
  {
   "cell_type": "code",
   "execution_count": 27,
   "id": "8785d0fc-ee48-488a-86f2-9c1cabb9ecc8",
   "metadata": {},
   "outputs": [
    {
     "data": {
      "text/plain": [
       "'Alex passed English.'"
      ]
     },
     "execution_count": 27,
     "metadata": {},
     "output_type": "execute_result"
    }
   ],
   "source": [
    "# Positional Arguments\n",
    "test_result(\"Alex\", \"English\", 81)"
   ]
  },
  {
   "cell_type": "code",
   "execution_count": 31,
   "id": "b1917a57-861e-4a48-b940-141eae0b9526",
   "metadata": {},
   "outputs": [
    {
     "data": {
      "text/plain": [
       "'Alex passed English.'"
      ]
     },
     "execution_count": 31,
     "metadata": {},
     "output_type": "execute_result"
    }
   ],
   "source": [
    "# Keyword Arguments\n",
    "test_result(subject = \"English\", score = 81, name = \"Alex\")"
   ]
  },
  {
   "cell_type": "code",
   "execution_count": 33,
   "id": "f61503b9-e4e3-4bd9-9a90-f69041e38c81",
   "metadata": {},
   "outputs": [],
   "source": [
    "def full_name(first, last, middle = \"\"):\n",
    "    if middle:\n",
    "        name = f\"{first} {middle} {last}\"\n",
    "    else:\n",
    "        name = f\"{first} {last}\"\n",
    "    return name"
   ]
  },
  {
   "cell_type": "code",
   "execution_count": 35,
   "id": "0f0c8dbb-5cf7-4912-9364-b63e951d4c6d",
   "metadata": {},
   "outputs": [
    {
     "data": {
      "text/plain": [
       "'Michael J. Jackson'"
      ]
     },
     "execution_count": 35,
     "metadata": {},
     "output_type": "execute_result"
    }
   ],
   "source": [
    "full_name(\"Michael\", \"Jackson\", \"J.\")"
   ]
  },
  {
   "cell_type": "code",
   "execution_count": 37,
   "id": "07f7b91d-458d-4582-9f3f-14e10585815a",
   "metadata": {},
   "outputs": [
    {
     "data": {
      "text/plain": [
       "'Michael Jackson'"
      ]
     },
     "execution_count": 37,
     "metadata": {},
     "output_type": "execute_result"
    }
   ],
   "source": [
    "full_name(\"Michael\", \"Jackson\")"
   ]
  },
  {
   "cell_type": "code",
   "execution_count": 39,
   "id": "468cf9a6-f93c-42b3-b844-f5b12ae6f7e1",
   "metadata": {},
   "outputs": [],
   "source": [
    "def student_info(first, last, gpa = None):\n",
    "    data = {\"first name\": first, \"last name\": last}\n",
    "    if gpa:\n",
    "        data[\"GPA\"] = gpa\n",
    "    return data"
   ]
  },
  {
   "cell_type": "code",
   "execution_count": 41,
   "id": "bcda69db-a507-4b25-983a-1d17bb61dcc1",
   "metadata": {},
   "outputs": [
    {
     "data": {
      "text/plain": [
       "{'first name': 'John', 'last name': 'Smith', 'GPA': 3.5}"
      ]
     },
     "execution_count": 41,
     "metadata": {},
     "output_type": "execute_result"
    }
   ],
   "source": [
    "student_info(\"John\", \"Smith\", 3.5)"
   ]
  },
  {
   "cell_type": "code",
   "execution_count": 47,
   "id": "94e12b9b-8427-410f-90de-85623c8220f7",
   "metadata": {},
   "outputs": [
    {
     "name": "stdin",
     "output_type": "stream",
     "text": [
      "Enter your first name (or 'q'):  matt\n",
      "Enter your last name (or 'q'):  sabony\n"
     ]
    },
    {
     "name": "stdout",
     "output_type": "stream",
     "text": [
      "\n",
      "Welcome Matt Sabony!\n"
     ]
    },
    {
     "name": "stdin",
     "output_type": "stream",
     "text": [
      "\n",
      "Is there another name (y/n):  y\n",
      "Enter your first name (or 'q'):  q\n"
     ]
    }
   ],
   "source": [
    "def full_name(first, last):\n",
    "    return f\"{first.capitalize()} {last.capitalize()}\"\n",
    "\n",
    "while True:\n",
    "    forename = input(\"Enter your first name (or 'q'): \")\n",
    "    if forename.lower() == \"q\":\n",
    "        break\n",
    "\n",
    "    surname = input(\"Enter your last name (or 'q'): \")\n",
    "    if surname.lower() == \"q\":\n",
    "        break\n",
    "\n",
    "    print(f\"\\nWelcome {full_name(forename, surname)}!\")\n",
    "    if input(\"\\nIs there another name (y/n): \").lower() != \"y\":\n",
    "        break"
   ]
  },
  {
   "cell_type": "code",
   "execution_count": 53,
   "id": "cc9937ac-36f8-4ae9-8a00-752c9bb9e3d3",
   "metadata": {},
   "outputs": [
    {
     "name": "stdin",
     "output_type": "stream",
     "text": [
      "Enter your word:  olivia\n"
     ]
    },
    {
     "data": {
      "text/plain": [
       "{'a', 'i', 'o'}"
      ]
     },
     "execution_count": 53,
     "metadata": {},
     "output_type": "execute_result"
    }
   ],
   "source": [
    "def vowel(word):\n",
    "    v = \"aeiou\"\n",
    "    result = set()\n",
    "    for char in word:\n",
    "        if char in v:\n",
    "            result.add(char)\n",
    "    return result\n",
    "\n",
    "string = input(\"Enter your word: \")\n",
    "vowel(string)"
   ]
  },
  {
   "cell_type": "code",
   "execution_count": 55,
   "id": "fe4cdab8-d4be-4759-8a90-8c5fe5e22d33",
   "metadata": {},
   "outputs": [
    {
     "data": {
      "text/plain": [
       "['hello,', 'welcome', 'to', 'class!']"
      ]
     },
     "execution_count": 55,
     "metadata": {},
     "output_type": "execute_result"
    }
   ],
   "source": [
    "# The split() Method\n",
    "mytext = \"hello, welcome to class!\"\n",
    "mytext.split()"
   ]
  },
  {
   "cell_type": "code",
   "execution_count": 57,
   "id": "deb66761-06ac-462e-8f51-4ac160e4c197",
   "metadata": {},
   "outputs": [
    {
     "data": {
      "text/plain": [
       "'MeToo movement'"
      ]
     },
     "execution_count": 57,
     "metadata": {},
     "output_type": "execute_result"
    }
   ],
   "source": [
    "mytext = \"the #MeToo movement\"\n",
    "mytext.split(\"#\")[1]"
   ]
  },
  {
   "cell_type": "code",
   "execution_count": 59,
   "id": "58d069dc-c4cc-4a3b-8d11-78946c93aed5",
   "metadata": {},
   "outputs": [
    {
     "data": {
      "text/plain": [
       "['Jen_Williams', 'gmail.com']"
      ]
     },
     "execution_count": 59,
     "metadata": {},
     "output_type": "execute_result"
    }
   ],
   "source": [
    "\"Jen_Williams@gmail.com\".split(\"@\")"
   ]
  },
  {
   "cell_type": "code",
   "execution_count": 67,
   "id": "1ea48949-445b-4fa7-9a45-90f723ee4f37",
   "metadata": {},
   "outputs": [
    {
     "name": "stdin",
     "output_type": "stream",
     "text": [
      "Enter your phrase:  Mike may propose to May in May\n",
      "Enter your word:  MAY\n"
     ]
    },
    {
     "data": {
      "text/plain": [
       "3"
      ]
     },
     "execution_count": 67,
     "metadata": {},
     "output_type": "execute_result"
    }
   ],
   "source": [
    "def word_count(phrase, word):\n",
    "    count = 0\n",
    "    for item in phrase.lower().split():\n",
    "        if item == word.lower():\n",
    "            count += 1   \n",
    "    return count\n",
    "\n",
    "p = input(\"Enter your phrase: \")\n",
    "w = input(\"Enter your word: \")\n",
    "word_count(p, w)"
   ]
  },
  {
   "cell_type": "code",
   "execution_count": 69,
   "id": "4b9cd1d8-40f8-4ab8-8ddc-4c36e950026b",
   "metadata": {},
   "outputs": [
    {
     "name": "stdin",
     "output_type": "stream",
     "text": [
      "Enter your word:  smart\n"
     ]
    },
    {
     "data": {
      "text/plain": [
       "'trams'"
      ]
     },
     "execution_count": 69,
     "metadata": {},
     "output_type": "execute_result"
    }
   ],
   "source": [
    "def backward(word):\n",
    "    result = \"\"\n",
    "    i = -1\n",
    "    for char in word:\n",
    "        result += word[i]\n",
    "        i -= 1\n",
    "    return result\n",
    "\n",
    "word = input(\"Enter your word: \")\n",
    "backward(word)"
   ]
  },
  {
   "cell_type": "code",
   "execution_count": 75,
   "id": "cf96ef9f-70b6-414d-9b70-a7ba1eb54c4b",
   "metadata": {},
   "outputs": [
    {
     "name": "stdin",
     "output_type": "stream",
     "text": [
      "Enter a word:  Abigail\n"
     ]
    },
    {
     "data": {
      "text/plain": [
       "{'a': 2, 'b': 1, 'i': 2, 'g': 1, 'l': 1}"
      ]
     },
     "execution_count": 75,
     "metadata": {},
     "output_type": "execute_result"
    }
   ],
   "source": [
    "def letter_count(word):\n",
    "    result = {}\n",
    "    for char in word.lower():\n",
    "        if char not in result.keys():\n",
    "            result[char] = 1\n",
    "        else:\n",
    "            result[char] += 1\n",
    "    return result\n",
    "\n",
    "word = input(\"Enter a word: \")\n",
    "letter_count(word)"
   ]
  },
  {
   "cell_type": "markdown",
   "id": "a1cabdfe-d961-4c2a-91d7-c12d76c5e0a7",
   "metadata": {},
   "source": [
    "# 10.9.24"
   ]
  },
  {
   "cell_type": "code",
   "execution_count": 3,
   "id": "d5e4b772-e9a9-4eb6-b6b3-70402f229bf1",
   "metadata": {},
   "outputs": [
    {
     "name": "stdout",
     "output_type": "stream",
     "text": [
      "('Jim', 'Jen', 'Joe', 'John')\n"
     ]
    }
   ],
   "source": [
    "# Collecting an arbitrary number of positional arguments with *args\n",
    "def display_students(*names):\n",
    "    print(names)\n",
    "\n",
    "display_students(\"Jim\", \"Jen\", \"Joe\", \"John\")"
   ]
  },
  {
   "cell_type": "code",
   "execution_count": 7,
   "id": "0f83aaeb-1cb7-45c0-a30b-6affea8ef829",
   "metadata": {},
   "outputs": [
    {
     "name": "stdout",
     "output_type": "stream",
     "text": [
      "Welcome Sue!\n",
      "Welcome Jack!\n"
     ]
    }
   ],
   "source": [
    "def display_students(*names):\n",
    "    for name in names:\n",
    "        print(f\"Welcome {name}!\")\n",
    "\n",
    "display_students(\"Sue\", \"Jack\")"
   ]
  },
  {
   "cell_type": "code",
   "execution_count": 9,
   "id": "4face86a-f688-4aa9-ba8a-b32d2ae824f5",
   "metadata": {},
   "outputs": [
    {
     "name": "stdout",
     "output_type": "stream",
     "text": [
      "108.5\n"
     ]
    }
   ],
   "source": [
    "def add(*xs):\n",
    "    result = 0\n",
    "    for x in xs:\n",
    "        result += x\n",
    "    print(result)\n",
    "\n",
    "add(-1.5, 10, 0, 100)"
   ]
  },
  {
   "cell_type": "code",
   "execution_count": 13,
   "id": "6800ffcb-4f56-47a2-80c0-bd138d3d5e3d",
   "metadata": {},
   "outputs": [
    {
     "data": {
      "text/plain": [
       "100.0"
      ]
     },
     "execution_count": 13,
     "metadata": {},
     "output_type": "execute_result"
    }
   ],
   "source": [
    "def avg(*values):\n",
    "    return sum(values)/len(values)\n",
    "\n",
    "avg(1, -1, 300)"
   ]
  },
  {
   "cell_type": "code",
   "execution_count": 15,
   "id": "9740e2d3-9ccf-45b9-af81-f3a8cf4d4c60",
   "metadata": {},
   "outputs": [
    {
     "name": "stdout",
     "output_type": "stream",
     "text": [
      "62.5\n"
     ]
    }
   ],
   "source": [
    "def avg(*values):\n",
    "    summ = n = 0\n",
    "    for value in values:\n",
    "        summ += value\n",
    "        n += 1\n",
    "    print(summ/n)\n",
    "\n",
    "avg(-1, 1, 300, -50)"
   ]
  },
  {
   "cell_type": "code",
   "execution_count": 21,
   "id": "58444b94-7853-4bd4-9eff-337df5a077fd",
   "metadata": {},
   "outputs": [
    {
     "data": {
      "text/plain": [
       "{'a': 1, 'b': 3, 'c': 5, 'd': 7, 'e': 8}"
      ]
     },
     "execution_count": 21,
     "metadata": {},
     "output_type": "execute_result"
    }
   ],
   "source": [
    "def merge(*ds):\n",
    "    result = {}\n",
    "    for d in ds:\n",
    "        for k, v in d.items():\n",
    "            result[k] = v\n",
    "    return result\n",
    "\n",
    "d1 = {\"a\": 1, \"b\": 2}\n",
    "d2 = {\"b\": 3, \"c\": 4, \"d\": 6}\n",
    "d3 = {\"c\": 5, \"d\": 7, \"e\": 8}\n",
    "\n",
    "merge(d1, d2, d3)"
   ]
  },
  {
   "cell_type": "code",
   "execution_count": 27,
   "id": "e4984883-12a9-468d-88e1-ca3dae35dc0e",
   "metadata": {},
   "outputs": [
    {
     "name": "stdout",
     "output_type": "stream",
     "text": [
      "The following students enrolled in MIS525.\n",
      "\tJess\n",
      "\tJen\n",
      "\tJim\n"
     ]
    }
   ],
   "source": [
    "def enrolled_students(course, *names):\n",
    "    print(f\"The following students enrolled in {course}.\")\n",
    "    for name in names:\n",
    "        print(f\"\\t{name}\")\n",
    "\n",
    "enrolled_students(\"MIS525\", \"Jess\", \"Jen\", \"Jim\")"
   ]
  },
  {
   "cell_type": "code",
   "execution_count": 29,
   "id": "2e0370f6-21f9-48e0-8e23-2e3c627688c0",
   "metadata": {},
   "outputs": [
    {
     "data": {
      "text/plain": [
       "{'first_name': 'Jim', 'last_name': 'Johnson', 'area': 'MIS', 'gpa': 3.6}"
      ]
     },
     "execution_count": 29,
     "metadata": {},
     "output_type": "execute_result"
    }
   ],
   "source": [
    "# Collecting an arbitrary number of keyword arguments with **kwargs\n",
    "def student_information(**info):\n",
    "    return info\n",
    "\n",
    "student_information(first_name = \"Jim\", last_name = \"Johnson\", area = \"MIS\", gpa = 3.6)"
   ]
  },
  {
   "cell_type": "code",
   "execution_count": 31,
   "id": "fbc86e0c-2e6a-4ffa-b761-a40c36e25b3c",
   "metadata": {},
   "outputs": [
    {
     "data": {
      "text/plain": [
       "{'major': 'SCM', 'GPA': 3.9, 'first_name': 'Mary', 'last_name': 'Davis'}"
      ]
     },
     "execution_count": 31,
     "metadata": {},
     "output_type": "execute_result"
    }
   ],
   "source": [
    "def student_info(first, last, **info):\n",
    "    info[\"first_name\"] = first\n",
    "    info[\"last_name\"] = last\n",
    "    return info\n",
    "\n",
    "student_info(\"Mary\", \"Davis\", major = \"SCM\", GPA = 3.9)"
   ]
  },
  {
   "cell_type": "code",
   "execution_count": 33,
   "id": "ccdac96a-3741-47e8-9104-21829244bf87",
   "metadata": {},
   "outputs": [
    {
     "name": "stdin",
     "output_type": "stream",
     "text": [
      "\n",
      "Enter your name (or 'q' to end the application):  Sam\n"
     ]
    },
    {
     "name": "stdout",
     "output_type": "stream",
     "text": [
      "Hello Sam!\n"
     ]
    },
    {
     "name": "stdin",
     "output_type": "stream",
     "text": [
      "\n",
      "Enter your name (or 'q' to end the application):  Jen\n"
     ]
    },
    {
     "name": "stdout",
     "output_type": "stream",
     "text": [
      "Hello Jen!\n"
     ]
    },
    {
     "name": "stdin",
     "output_type": "stream",
     "text": [
      "\n",
      "Enter your name (or 'q' to end the application):  q\n"
     ]
    }
   ],
   "source": [
    "# Function recursion\n",
    "def greet():\n",
    "    name = input(\"\\nEnter your name (or 'q' to end the application): \")\n",
    "    if name.lower() != \"q\":\n",
    "        print(f\"Hello {name}!\")\n",
    "        greet()\n",
    "\n",
    "greet()"
   ]
  },
  {
   "cell_type": "code",
   "execution_count": 35,
   "id": "621bbf53-4384-4161-95ad-d8d1240837b3",
   "metadata": {},
   "outputs": [
    {
     "data": {
      "text/plain": [
       "5"
      ]
     },
     "execution_count": 35,
     "metadata": {},
     "output_type": "execute_result"
    }
   ],
   "source": [
    "def fibo(n):\n",
    "    if n == 1:\n",
    "        return 0\n",
    "    elif n == 2:\n",
    "        return 1\n",
    "    else:\n",
    "        return fibo(n-2) + fibo(n-1)\n",
    "\n",
    "fibo(6)"
   ]
  },
  {
   "cell_type": "code",
   "execution_count": 37,
   "id": "1dcc6d32-c3c4-4d30-9548-1651282c21e2",
   "metadata": {},
   "outputs": [
    {
     "data": {
      "text/plain": [
       "720"
      ]
     },
     "execution_count": 37,
     "metadata": {},
     "output_type": "execute_result"
    }
   ],
   "source": [
    "def factorial(n):\n",
    "    if n == 0:\n",
    "        return 1\n",
    "    else:\n",
    "        return n*factorial(n-1)\n",
    "\n",
    "factorial(6)"
   ]
  },
  {
   "cell_type": "code",
   "execution_count": 39,
   "id": "a473be33-da39-4ef9-8533-fcc8905da96a",
   "metadata": {},
   "outputs": [
    {
     "data": {
      "text/plain": [
       "-10"
      ]
     },
     "execution_count": 39,
     "metadata": {},
     "output_type": "execute_result"
    }
   ],
   "source": [
    "def times_two(var):\n",
    "    return var*2\n",
    "\n",
    "times_two(-5)"
   ]
  },
  {
   "cell_type": "code",
   "execution_count": 41,
   "id": "f8a40537-d28c-4ac2-a1d9-afc965938e86",
   "metadata": {},
   "outputs": [
    {
     "data": {
      "text/plain": [
       "-2"
      ]
     },
     "execution_count": 41,
     "metadata": {},
     "output_type": "execute_result"
    }
   ],
   "source": [
    "# Lambda functions\n",
    "tt = lambda x: 2*x\n",
    "\n",
    "tt(-1)"
   ]
  },
  {
   "cell_type": "code",
   "execution_count": 43,
   "id": "ea9f5339-0f05-486f-aab0-f583718a900b",
   "metadata": {},
   "outputs": [
    {
     "data": {
      "text/plain": [
       "50.0"
      ]
     },
     "execution_count": 43,
     "metadata": {},
     "output_type": "execute_result"
    }
   ],
   "source": [
    "m = lambda x, y: (x+y)/2\n",
    "\n",
    "m(-1, 101)"
   ]
  },
  {
   "cell_type": "code",
   "execution_count": 51,
   "id": "e3773438-2f07-4357-9863-8a8815c26764",
   "metadata": {},
   "outputs": [],
   "source": [
    "def multiplier(n):\n",
    "    return lambda x: x*n"
   ]
  },
  {
   "cell_type": "code",
   "execution_count": 55,
   "id": "5493b2eb-668d-4b47-afa9-f829d26a5fa3",
   "metadata": {},
   "outputs": [
    {
     "data": {
      "text/plain": [
       "-303"
      ]
     },
     "execution_count": 55,
     "metadata": {},
     "output_type": "execute_result"
    }
   ],
   "source": [
    "tripler = multiplier(3)\n",
    "tripler(-101)"
   ]
  },
  {
   "cell_type": "code",
   "execution_count": 53,
   "id": "3ad19f66-0d89-4469-97a1-94fd71db042c",
   "metadata": {},
   "outputs": [
    {
     "data": {
      "text/plain": [
       "10"
      ]
     },
     "execution_count": 53,
     "metadata": {},
     "output_type": "execute_result"
    }
   ],
   "source": [
    "doubler = multiplier(2)\n",
    "doubler(5)"
   ]
  },
  {
   "cell_type": "code",
   "execution_count": 57,
   "id": "2cf1ad84-3427-4033-8691-ecebe31bef5d",
   "metadata": {},
   "outputs": [
    {
     "name": "stdout",
     "output_type": "stream",
     "text": [
      "['April', 'Chelsy', 'Jen', 'Mike']\n"
     ]
    }
   ],
   "source": [
    "names = [\"Chelsy\", \"Jen\", \"April\", \"Mike\"]\n",
    "print(sorted(names))"
   ]
  },
  {
   "cell_type": "code",
   "execution_count": 59,
   "id": "a537f37b-886a-4de1-a1c9-3379696f2c46",
   "metadata": {},
   "outputs": [
    {
     "name": "stdout",
     "output_type": "stream",
     "text": [
      "['April', 'Chelsy', 'Jen', 'Mike']\n"
     ]
    }
   ],
   "source": [
    "print(sorted(names, key = str))"
   ]
  },
  {
   "cell_type": "code",
   "execution_count": 61,
   "id": "f45bc754-cf8a-4215-baea-b5bbdef38ef4",
   "metadata": {},
   "outputs": [
    {
     "data": {
      "text/plain": [
       "['Mike', 'April', 'Jen', 'Chelsy']"
      ]
     },
     "execution_count": 61,
     "metadata": {},
     "output_type": "execute_result"
    }
   ],
   "source": [
    "def last_char(s):\n",
    "    return s[-1]\n",
    "\n",
    "sorted(names, key = last_char)"
   ]
  },
  {
   "cell_type": "code",
   "execution_count": 65,
   "id": "8731cb3c-85da-4baf-b7f1-b03441d30800",
   "metadata": {},
   "outputs": [
    {
     "data": {
      "text/plain": [
       "['Mike', 'April', 'Jen', 'Chelsy']"
      ]
     },
     "execution_count": 65,
     "metadata": {},
     "output_type": "execute_result"
    }
   ],
   "source": [
    "sorted(names, key = lambda word: word[-1])"
   ]
  },
  {
   "cell_type": "code",
   "execution_count": 67,
   "id": "2312fc65-4aaf-44e3-bc52-6c75eace23c2",
   "metadata": {},
   "outputs": [
    {
     "data": {
      "text/plain": [
       "[[3, 1, 2], [1, 2, 3], [2, 3, 1]]"
      ]
     },
     "execution_count": 67,
     "metadata": {},
     "output_type": "execute_result"
    }
   ],
   "source": [
    "data = [[1, 2, 3], [3, 1, 2], [2, 3, 1]]\n",
    "sorted(data, key = lambda mylist:mylist[1])"
   ]
  },
  {
   "cell_type": "code",
   "execution_count": 69,
   "id": "83cea0a9-86b9-4c9b-b9f2-43b19c912259",
   "metadata": {},
   "outputs": [
    {
     "data": {
      "text/plain": [
       "'Jane'"
      ]
     },
     "execution_count": 69,
     "metadata": {},
     "output_type": "execute_result"
    }
   ],
   "source": [
    "students = [\n",
    "    (\"Joe\", \"M\", 20),\n",
    "    (\"Jane\", \"F\", 23),\n",
    "    (\"Alex\", \"M\", 21),\n",
    "    ]\n",
    "\n",
    "max(students, key = lambda x: x[2])[0]"
   ]
  },
  {
   "cell_type": "code",
   "execution_count": 71,
   "id": "116162c1-11e8-49fd-9a55-778b3dbd3d34",
   "metadata": {},
   "outputs": [
    {
     "data": {
      "text/plain": [
       "[{'title': 'Jaws', 'year': 1975},\n",
       " {'title': 'First Blood', 'year': 1982},\n",
       " {'title': 'The Game', 'year': 1997},\n",
       " {'title': 'Inception', 'year': 2010},\n",
       " {'title': 'Dunkirk', 'year': 2017}]"
      ]
     },
     "execution_count": 71,
     "metadata": {},
     "output_type": "execute_result"
    }
   ],
   "source": [
    "movies = [\n",
    "    {\"title\": \"Inception\", \"year\": 2010},\n",
    "    {\"title\": \"The Game\", \"year\": 1997},\n",
    "    {\"title\": \"Jaws\", \"year\": 1975},\n",
    "    {\"title\": \"Dunkirk\", \"year\": 2017},\n",
    "    {\"title\": \"First Blood\", \"year\": 1982},\n",
    "    ]\n",
    "\n",
    "s_movies = sorted(movies, key = lambda d: d[\"year\"])\n",
    "s_movies"
   ]
  },
  {
   "cell_type": "code",
   "execution_count": 73,
   "id": "a20fd0e2-e9c6-42d2-85cf-33d064b70a80",
   "metadata": {},
   "outputs": [
    {
     "name": "stdout",
     "output_type": "stream",
     "text": [
      "Jaws 1975\n",
      "First Blood 1982\n",
      "The Game 1997\n",
      "Inception 2010\n",
      "Dunkirk 2017\n"
     ]
    }
   ],
   "source": [
    "for movie in s_movies:\n",
    "    print(movie[\"title\"], movie[\"year\"])"
   ]
  },
  {
   "cell_type": "code",
   "execution_count": 75,
   "id": "ca51ac8b-17d4-4943-8ad9-f219f768ac61",
   "metadata": {},
   "outputs": [
    {
     "name": "stdout",
     "output_type": "stream",
     "text": [
      "Jaws 1975\n",
      "Dunkirk 2017\n",
      "The Game 1997\n",
      "Inception 2010\n",
      "First Blood 1982\n"
     ]
    }
   ],
   "source": [
    "s_movies = sorted(movies, key = lambda d: len(d[\"title\"]))\n",
    "for movie in s_movies:\n",
    "    print(movie[\"title\"], movie[\"year\"])"
   ]
  },
  {
   "cell_type": "markdown",
   "id": "b0be221e-7e08-440a-bae0-93a5323252b9",
   "metadata": {},
   "source": [
    "# 10.14.24"
   ]
  },
  {
   "cell_type": "code",
   "execution_count": 1,
   "id": "a279da28-46a1-48c1-a4bd-086fcdb231fb",
   "metadata": {},
   "outputs": [
    {
     "name": "stdout",
     "output_type": "stream",
     "text": [
      "Michael\n"
     ]
    }
   ],
   "source": [
    "# Strings\n",
    "\n",
    "name = \"Michael\"\n",
    "for char in name:\n",
    "    char = \"X\"\n",
    "print(name)"
   ]
  },
  {
   "cell_type": "code",
   "execution_count": 3,
   "id": "3183ab3a-34d1-4a82-b61a-4e403fa34a03",
   "metadata": {},
   "outputs": [
    {
     "name": "stdin",
     "output_type": "stream",
     "text": [
      "Enter a sentence:  I met Tim Burton today.\n",
      "Enter a letter:  t\n"
     ]
    },
    {
     "name": "stdout",
     "output_type": "stream",
     "text": [
      "The letter 't' has appeared 4 time(s).\n"
     ]
    }
   ],
   "source": [
    "def letter_count():\n",
    "    count = 0\n",
    "    for char in string:\n",
    "        if char.lower() == letter.lower():\n",
    "            count += 1\n",
    "    print(f\"The letter '{letter}' has appeared {count} time(s).\")\n",
    "\n",
    "string = input(\"Enter a sentence: \")\n",
    "letter = input(\"Enter a letter: \")\n",
    "letter_count()"
   ]
  },
  {
   "cell_type": "code",
   "execution_count": 5,
   "id": "5bee87be-fcbf-465e-bfdd-21ba94cdcf63",
   "metadata": {},
   "outputs": [
    {
     "data": {
      "text/plain": [
       "'J'"
      ]
     },
     "execution_count": 5,
     "metadata": {},
     "output_type": "execute_result"
    }
   ],
   "source": [
    "mystring = \"Jen Williams\"\n",
    "mystring[0]"
   ]
  },
  {
   "cell_type": "code",
   "execution_count": 7,
   "id": "96cea284-b9a4-4199-b4f5-c5066df937fd",
   "metadata": {},
   "outputs": [
    {
     "data": {
      "text/plain": [
       "'s'"
      ]
     },
     "execution_count": 7,
     "metadata": {},
     "output_type": "execute_result"
    }
   ],
   "source": [
    "mystring[11]"
   ]
  },
  {
   "cell_type": "code",
   "execution_count": 9,
   "id": "a7fa996d-bed9-481f-b561-91590b258a5d",
   "metadata": {},
   "outputs": [
    {
     "data": {
      "text/plain": [
       "12"
      ]
     },
     "execution_count": 9,
     "metadata": {},
     "output_type": "execute_result"
    }
   ],
   "source": [
    "len(mystring)"
   ]
  },
  {
   "cell_type": "code",
   "execution_count": 11,
   "id": "be117e20-01a9-4084-b99b-473e721aa11f",
   "metadata": {},
   "outputs": [
    {
     "data": {
      "text/plain": [
       "'i'"
      ]
     },
     "execution_count": 11,
     "metadata": {},
     "output_type": "execute_result"
    }
   ],
   "source": [
    "mystring[-4]"
   ]
  },
  {
   "cell_type": "code",
   "execution_count": 13,
   "id": "4f596467-fbf7-4363-86d9-620b75e41291",
   "metadata": {},
   "outputs": [
    {
     "name": "stdin",
     "output_type": "stream",
     "text": [
      "Enter a word:  hello\n"
     ]
    },
    {
     "name": "stdout",
     "output_type": "stream",
     "text": [
      "h:0\n",
      "e:1\n",
      "l:2\n",
      "l:3\n",
      "o:4\n"
     ]
    }
   ],
   "source": [
    "def indexing():\n",
    "    index = 0\n",
    "    for char in word:\n",
    "        print(char + \":\" + f\"{index}\")\n",
    "        index += 1\n",
    "word = input(\"Enter a word: \")\n",
    "indexing()"
   ]
  },
  {
   "cell_type": "code",
   "execution_count": 15,
   "id": "b2a35c7a-65fb-44ae-858d-c268b241e728",
   "metadata": {},
   "outputs": [
    {
     "data": {
      "text/plain": [
       "2"
      ]
     },
     "execution_count": 15,
     "metadata": {},
     "output_type": "execute_result"
    }
   ],
   "source": [
    "# The index() method\n",
    "name = \"Adam\"\n",
    "name.index(\"a\")"
   ]
  },
  {
   "cell_type": "code",
   "execution_count": 17,
   "id": "7183fc51-5973-40d0-9242-93d2c14b4b8a",
   "metadata": {},
   "outputs": [
    {
     "data": {
      "text/plain": [
       "'abcdef'"
      ]
     },
     "execution_count": 17,
     "metadata": {},
     "output_type": "execute_result"
    }
   ],
   "source": [
    "mystring = \"abc\"\n",
    "mystring += \"def\"\n",
    "mystring"
   ]
  },
  {
   "cell_type": "code",
   "execution_count": 21,
   "id": "44498f62-c932-4f66-acbe-e60ce340f392",
   "metadata": {},
   "outputs": [
    {
     "data": {
      "text/plain": [
       "'xyz xyz xyz xyz xyz '"
      ]
     },
     "execution_count": 21,
     "metadata": {},
     "output_type": "execute_result"
    }
   ],
   "source": [
    "mystring = \"xyz \"\n",
    "mystring * 5"
   ]
  },
  {
   "cell_type": "code",
   "execution_count": 23,
   "id": "acf6d5e7-f444-4f5d-87c4-862d9f9269a7",
   "metadata": {},
   "outputs": [
    {
     "ename": "TypeError",
     "evalue": "'str' object does not support item assignment",
     "output_type": "error",
     "traceback": [
      "\u001b[1;31m---------------------------------------------------------------------------\u001b[0m",
      "\u001b[1;31mTypeError\u001b[0m                                 Traceback (most recent call last)",
      "Cell \u001b[1;32mIn[23], line 2\u001b[0m\n\u001b[0;32m      1\u001b[0m mystring \u001b[38;5;241m=\u001b[39m \u001b[38;5;124m\"\u001b[39m\u001b[38;5;124mTara\u001b[39m\u001b[38;5;124m\"\u001b[39m\n\u001b[1;32m----> 2\u001b[0m mystring[\u001b[38;5;241m0\u001b[39m] \u001b[38;5;241m=\u001b[39m \u001b[38;5;124m\"\u001b[39m\u001b[38;5;124mZ\u001b[39m\u001b[38;5;124m\"\u001b[39m\n",
      "\u001b[1;31mTypeError\u001b[0m: 'str' object does not support item assignment"
     ]
    }
   ],
   "source": [
    "mystring = \"Tara\"\n",
    "mystring[0] = \"Z\""
   ]
  },
  {
   "cell_type": "code",
   "execution_count": 25,
   "id": "53e66b9e-76e2-4c1a-bb39-e23653d50be9",
   "metadata": {},
   "outputs": [],
   "source": [
    "name = \"Mary Anne Smith\""
   ]
  },
  {
   "cell_type": "code",
   "execution_count": 29,
   "id": "b34d65f0-42c6-455b-a3e2-8e0b327a82d7",
   "metadata": {},
   "outputs": [
    {
     "data": {
      "text/plain": [
       "'Anne'"
      ]
     },
     "execution_count": 29,
     "metadata": {},
     "output_type": "execute_result"
    }
   ],
   "source": [
    "# Slicing\n",
    "name[5:9]"
   ]
  },
  {
   "cell_type": "code",
   "execution_count": 31,
   "id": "31f2276c-01e7-4dba-8ea9-b4815375f093",
   "metadata": {},
   "outputs": [
    {
     "data": {
      "text/plain": [
       "'Mary'"
      ]
     },
     "execution_count": 31,
     "metadata": {},
     "output_type": "execute_result"
    }
   ],
   "source": [
    "name[:4]"
   ]
  },
  {
   "cell_type": "code",
   "execution_count": 33,
   "id": "6569b6a0-d8b4-4ce3-a390-b7a145193c24",
   "metadata": {},
   "outputs": [
    {
     "data": {
      "text/plain": [
       "'Smith'"
      ]
     },
     "execution_count": 33,
     "metadata": {},
     "output_type": "execute_result"
    }
   ],
   "source": [
    "name[10:]"
   ]
  },
  {
   "cell_type": "code",
   "execution_count": 35,
   "id": "1932bdb8-993b-45b0-8f88-4816fa698a77",
   "metadata": {},
   "outputs": [
    {
     "data": {
      "text/plain": [
       "'Mary Anne Smith'"
      ]
     },
     "execution_count": 35,
     "metadata": {},
     "output_type": "execute_result"
    }
   ],
   "source": [
    "name[:]"
   ]
  },
  {
   "cell_type": "code",
   "execution_count": 37,
   "id": "7b5c8f4c-335b-4f0a-90e6-268531088815",
   "metadata": {},
   "outputs": [
    {
     "data": {
      "text/plain": [
       "'hiSen rM'"
      ]
     },
     "execution_count": 37,
     "metadata": {},
     "output_type": "execute_result"
    }
   ],
   "source": [
    "name[::-2]"
   ]
  },
  {
   "cell_type": "code",
   "execution_count": 39,
   "id": "9b1a1db2-5803-4860-96b3-479fa6b49eae",
   "metadata": {},
   "outputs": [
    {
     "name": "stdin",
     "output_type": "stream",
     "text": [
      "Enter a word:  time\n"
     ]
    },
    {
     "data": {
      "text/plain": [
       "'emit'"
      ]
     },
     "execution_count": 39,
     "metadata": {},
     "output_type": "execute_result"
    }
   ],
   "source": [
    "word = input(\"Enter a word: \")\n",
    "word[::-1]"
   ]
  },
  {
   "cell_type": "code",
   "execution_count": 41,
   "id": "4e69d2d7-ccae-4462-b3e2-839f675420a0",
   "metadata": {},
   "outputs": [
    {
     "data": {
      "text/plain": [
       "{'e', 'o'}"
      ]
     },
     "execution_count": 41,
     "metadata": {},
     "output_type": "execute_result"
    }
   ],
   "source": [
    "def in_both(w1, w2):\n",
    "    common = set()\n",
    "    for char in w1:\n",
    "        if char in w2:\n",
    "            common.add(char)\n",
    "    return common\n",
    "\n",
    "in_both(\"hello\", \"goodbye\")"
   ]
  },
  {
   "cell_type": "code",
   "execution_count": 45,
   "id": "d7ab281a-5174-440d-958c-18b394417f03",
   "metadata": {},
   "outputs": [
    {
     "data": {
      "text/plain": [
       "False"
      ]
     },
     "execution_count": 45,
     "metadata": {},
     "output_type": "execute_result"
    }
   ],
   "source": [
    "def unique_chars(s):\n",
    "    for i in range(len(s)):\n",
    "        if s[i] in s[i+1:]:\n",
    "            return False\n",
    "    return True\n",
    "\n",
    "unique_chars(\"every\")"
   ]
  },
  {
   "cell_type": "code",
   "execution_count": 51,
   "id": "a0568523-f596-485c-a723-61c04aff84ed",
   "metadata": {},
   "outputs": [
    {
     "data": {
      "text/plain": [
       "False"
      ]
     },
     "execution_count": 51,
     "metadata": {},
     "output_type": "execute_result"
    }
   ],
   "source": [
    "mystring = \"abc01!2\"\n",
    "mystring.isalnum()"
   ]
  },
  {
   "cell_type": "code",
   "execution_count": 53,
   "id": "01c85ab5-3336-42d3-b9da-439d9af8f924",
   "metadata": {},
   "outputs": [
    {
     "data": {
      "text/plain": [
       "False"
      ]
     },
     "execution_count": 53,
     "metadata": {},
     "output_type": "execute_result"
    }
   ],
   "source": [
    "mystring = \"abc1\"\n",
    "mystring.isalpha()"
   ]
  },
  {
   "cell_type": "code",
   "execution_count": 57,
   "id": "ce3cb502-abf4-46e6-a106-ddf916c3ee46",
   "metadata": {},
   "outputs": [
    {
     "data": {
      "text/plain": [
       "False"
      ]
     },
     "execution_count": 57,
     "metadata": {},
     "output_type": "execute_result"
    }
   ],
   "source": [
    "mystring = \"-5\"\n",
    "mystring.isdigit()"
   ]
  },
  {
   "cell_type": "code",
   "execution_count": 59,
   "id": "56d18184-2aa8-4a85-bdaa-e00582a5aeb2",
   "metadata": {},
   "outputs": [
    {
     "name": "stdin",
     "output_type": "stream",
     "text": [
      "\n",
      "How old are you?  25.5\n"
     ]
    },
    {
     "name": "stdout",
     "output_type": "stream",
     "text": [
      "Invalid. Try again!\n"
     ]
    },
    {
     "name": "stdin",
     "output_type": "stream",
     "text": [
      "\n",
      "How old are you?  Twenty five\n"
     ]
    },
    {
     "name": "stdout",
     "output_type": "stream",
     "text": [
      "Invalid. Try again!\n"
     ]
    },
    {
     "name": "stdin",
     "output_type": "stream",
     "text": [
      "\n",
      "How old are you?  25\n"
     ]
    }
   ],
   "source": [
    "while True:\n",
    "    age = input(\"\\nHow old are you? \")\n",
    "    if age.isdigit():\n",
    "        break\n",
    "    print(\"Invalid. Try again!\")"
   ]
  },
  {
   "cell_type": "markdown",
   "id": "06364919-313b-4b9b-914d-f338110c45fa",
   "metadata": {},
   "source": [
    "# 10.16.24"
   ]
  },
  {
   "cell_type": "code",
   "execution_count": 1,
   "id": "5f9899e1-be25-4b3e-940a-deda6deddfa7",
   "metadata": {},
   "outputs": [
    {
     "data": {
      "text/plain": [
       "False"
      ]
     },
     "execution_count": 1,
     "metadata": {},
     "output_type": "execute_result"
    }
   ],
   "source": [
    "mys = \"xyz23$\"\n",
    "mys.isalnum()"
   ]
  },
  {
   "cell_type": "code",
   "execution_count": 3,
   "id": "805ddd1f-c29f-4108-964b-48028b9df97e",
   "metadata": {},
   "outputs": [
    {
     "data": {
      "text/plain": [
       "False"
      ]
     },
     "execution_count": 3,
     "metadata": {},
     "output_type": "execute_result"
    }
   ],
   "source": [
    "mys = \"xyz23\"\n",
    "mys.isalpha()"
   ]
  },
  {
   "cell_type": "code",
   "execution_count": 5,
   "id": "7b835bf8-f9ad-4f43-aa12-1c9a217be8c6",
   "metadata": {},
   "outputs": [
    {
     "data": {
      "text/plain": [
       "False"
      ]
     },
     "execution_count": 5,
     "metadata": {},
     "output_type": "execute_result"
    }
   ],
   "source": [
    "mys = \"-123\"\n",
    "mys.isdigit()"
   ]
  },
  {
   "cell_type": "code",
   "execution_count": 7,
   "id": "7d6d7d44-6b90-4d3d-aa36-8dca4b73e78f",
   "metadata": {},
   "outputs": [
    {
     "data": {
      "text/plain": [
       "False"
      ]
     },
     "execution_count": 7,
     "metadata": {},
     "output_type": "execute_result"
    }
   ],
   "source": [
    "mys = \"    6 \"\n",
    "mys.isspace()"
   ]
  },
  {
   "cell_type": "code",
   "execution_count": 9,
   "id": "e36a2cb4-213f-4783-904f-365a36e6e36f",
   "metadata": {},
   "outputs": [
    {
     "data": {
      "text/plain": [
       "False"
      ]
     },
     "execution_count": 9,
     "metadata": {},
     "output_type": "execute_result"
    }
   ],
   "source": [
    "mys = \"HELLO WORLD 2024!\"\n",
    "mys.istitle()"
   ]
  },
  {
   "cell_type": "code",
   "execution_count": 11,
   "id": "73982fd6-48cc-4cca-9b23-89210cd30909",
   "metadata": {},
   "outputs": [
    {
     "name": "stdout",
     "output_type": "stream",
     "text": [
      "hi all. it is 2024!\n",
      "HI ALL. IT IS 2024!\n",
      "Hi All. It Is 2024!\n",
      "Hi all. It is 2024!\n"
     ]
    }
   ],
   "source": [
    "mys = \"Hi all. It is 2024!\"\n",
    "print(mys.lower())\n",
    "print(mys.upper())\n",
    "print(mys.title())\n",
    "print(mys)"
   ]
  },
  {
   "cell_type": "code",
   "execution_count": 13,
   "id": "4655e156-3ae2-4771-b343-1819b47cf0df",
   "metadata": {},
   "outputs": [
    {
     "name": "stdin",
     "output_type": "stream",
     "text": [
      "Enter a password:  Sam123\n",
      "Re-enter the password:  SaM123\n"
     ]
    },
    {
     "name": "stdout",
     "output_type": "stream",
     "text": [
      "Case inconsistency!\n"
     ]
    }
   ],
   "source": [
    "p1 = input(\"Enter a password: \")\n",
    "long = uc = lc = digit = False\n",
    "for char in p1:\n",
    "    if char.islower():\n",
    "        lc = True\n",
    "    if char.isupper():\n",
    "        uc = True\n",
    "    if char.isdigit():\n",
    "        digit = True\n",
    "if len(p1) >= 6:\n",
    "    long = True\n",
    "if (long and uc and lc and digit) != True:\n",
    "    print(\"THe password is not strong!\")\n",
    "else:\n",
    "    p2 = input(\"Re-enter the password: \")\n",
    "    if p1 == p2:\n",
    "        print(\"You are all set!\")\n",
    "    elif p1.lower() == p2.lower():\n",
    "        print(\"Case inconsistency!\")\n",
    "    else:\n",
    "        print(\"Entries do not match!\")"
   ]
  },
  {
   "cell_type": "code",
   "execution_count": 15,
   "id": "81344f8f-70e0-43b7-ba36-ed8926cb2f7d",
   "metadata": {},
   "outputs": [
    {
     "data": {
      "text/plain": [
       "'  Joe Black'"
      ]
     },
     "execution_count": 15,
     "metadata": {},
     "output_type": "execute_result"
    }
   ],
   "source": [
    "mys = \"  Joe Black \"\n",
    "mys.rstrip()"
   ]
  },
  {
   "cell_type": "code",
   "execution_count": 17,
   "id": "19736b15-48da-4ca7-a37f-fb66b3bfb1c7",
   "metadata": {},
   "outputs": [
    {
     "data": {
      "text/plain": [
       "'ello hanna'"
      ]
     },
     "execution_count": 17,
     "metadata": {},
     "output_type": "execute_result"
    }
   ],
   "source": [
    "mys = \"hello hannah\"\n",
    "mys.strip(\"h\")"
   ]
  },
  {
   "cell_type": "code",
   "execution_count": 19,
   "id": "6047db0f-6a41-4642-9185-5a23ae837ebd",
   "metadata": {},
   "outputs": [
    {
     "name": "stdin",
     "output_type": "stream",
     "text": [
      "Enter an integer:  -101\n"
     ]
    }
   ],
   "source": [
    "n = input(\"Enter an integer: \")\n",
    "while not n.lstrip(\"-\").isdigit():\n",
    "    n = input(\"Invalid! Try again: \")"
   ]
  },
  {
   "cell_type": "code",
   "execution_count": 21,
   "id": "5373c66b-44ef-4427-a8ac-870f88a127fe",
   "metadata": {},
   "outputs": [
    {
     "data": {
      "text/plain": [
       "['hello', 'welcome', 'to', 'class']"
      ]
     },
     "execution_count": 21,
     "metadata": {},
     "output_type": "execute_result"
    }
   ],
   "source": [
    "mys = \"hello welcome to class\"\n",
    "mys.split()"
   ]
  },
  {
   "cell_type": "code",
   "execution_count": 23,
   "id": "6cac4998-ac02-4c24-abf9-ed611653dbd4",
   "metadata": {},
   "outputs": [
    {
     "data": {
      "text/plain": [
       "['I ', 'Love ', 'New York']"
      ]
     },
     "execution_count": 23,
     "metadata": {},
     "output_type": "execute_result"
    }
   ],
   "source": [
    "mys = \"I #Love #New York\"\n",
    "mys.split(\"#\")"
   ]
  },
  {
   "cell_type": "code",
   "execution_count": 25,
   "id": "3ce42170-e2eb-465d-9736-60e8c41fd455",
   "metadata": {},
   "outputs": [
    {
     "data": {
      "text/plain": [
       "'hello welcome to class'"
      ]
     },
     "execution_count": 25,
     "metadata": {},
     "output_type": "execute_result"
    }
   ],
   "source": [
    "mylist = [\"hello\", \"welcome\", \"to\", \"class\"]\n",
    "\" \".join(mylist)"
   ]
  },
  {
   "cell_type": "code",
   "execution_count": 29,
   "id": "24120e45-6d1c-4546-8eb5-a168cbbebe21",
   "metadata": {},
   "outputs": [
    {
     "data": {
      "text/plain": [
       "'JAD'"
      ]
     },
     "execution_count": 29,
     "metadata": {},
     "output_type": "execute_result"
    }
   ],
   "source": [
    "def initials(name):\n",
    "    mylist = [word[0] for word in name.split()]\n",
    "    initials = \"\".join(mylist)\n",
    "    return initials\n",
    "\n",
    "initials(\"Jane Amanda Doe\")"
   ]
  },
  {
   "cell_type": "code",
   "execution_count": 35,
   "id": "b80fcf4d-9b9c-497c-a263-957a35b36e34",
   "metadata": {},
   "outputs": [
    {
     "data": {
      "text/plain": [
       "'JFK'"
      ]
     },
     "execution_count": 35,
     "metadata": {},
     "output_type": "execute_result"
    }
   ],
   "source": [
    "def initials(name):\n",
    "    return \"\".join([word[0] for word in name.split()])\n",
    "\n",
    "initials(\"John Fitzgerals Kennedy\")"
   ]
  },
  {
   "cell_type": "code",
   "execution_count": 3,
   "id": "505a3a3d-d166-416d-a916-cec8fa4477b7",
   "metadata": {},
   "outputs": [
    {
     "name": "stdout",
     "output_type": "stream",
     "text": [
      "['2', 'r', 'a', 'd', 'a', 'r', '2']\n",
      "2radar2\n"
     ]
    },
    {
     "data": {
      "text/plain": [
       "True"
      ]
     },
     "execution_count": 3,
     "metadata": {},
     "output_type": "execute_result"
    }
   ],
   "source": [
    "def palindrome(s):\n",
    "    mylist = [char.lower() for char in s if char.isalnum()]\n",
    "    print(mylist)\n",
    "    clean_s = \"\".join(mylist)\n",
    "    print(clean_s)\n",
    "    if clean_s == clean_s[::-1]:\n",
    "        return True\n",
    "    return False\n",
    "\n",
    "palindrome(\"2Rad!@#ar2\")"
   ]
  },
  {
   "cell_type": "code",
   "execution_count": 41,
   "id": "65778bde-3e0e-485c-8e68-7df1ff479a5d",
   "metadata": {},
   "outputs": [
    {
     "data": {
      "text/plain": [
       "True"
      ]
     },
     "execution_count": 41,
     "metadata": {},
     "output_type": "execute_result"
    }
   ],
   "source": [
    "def palindrome(s):\n",
    "    mylist = [char.lower() for char in s if char.isalnum()]\n",
    "    return \"\".join(mylist) == \"\".join(mylist)[::-1]\n",
    "\n",
    "palindrome(\"2Rad!@#ar2\")"
   ]
  },
  {
   "cell_type": "code",
   "execution_count": 43,
   "id": "69839ff1-86bf-4ff7-9940-79a1a9ba1aa0",
   "metadata": {},
   "outputs": [
    {
     "data": {
      "text/plain": [
       "'Hello World From The USA'"
      ]
     },
     "execution_count": 43,
     "metadata": {},
     "output_type": "execute_result"
    }
   ],
   "source": [
    "words = [\"Hello\", \"dlroW\", \"morF\", \"ehT\", \"USA\"]\n",
    "\n",
    "def fix_and_join(words):\n",
    "    fixed_words = [word[::-1] if word[:1].islower() and word[-1].isupper() else word for word in words]\n",
    "    return \" \".join(fixed_words)\n",
    "\n",
    "fix_and_join(words)"
   ]
  },
  {
   "cell_type": "code",
   "execution_count": 45,
   "id": "c28da2f4-d4ff-4e66-9633-2844b50a242e",
   "metadata": {},
   "outputs": [],
   "source": [
    "word = \"\""
   ]
  },
  {
   "cell_type": "code",
   "execution_count": 47,
   "id": "1829f8f7-1767-45e6-8415-388560ae2f37",
   "metadata": {},
   "outputs": [
    {
     "ename": "IndexError",
     "evalue": "string index out of range",
     "output_type": "error",
     "traceback": [
      "\u001b[1;31m---------------------------------------------------------------------------\u001b[0m",
      "\u001b[1;31mIndexError\u001b[0m                                Traceback (most recent call last)",
      "Cell \u001b[1;32mIn[47], line 1\u001b[0m\n\u001b[1;32m----> 1\u001b[0m word[\u001b[38;5;241m0\u001b[39m]\n",
      "\u001b[1;31mIndexError\u001b[0m: string index out of range"
     ]
    }
   ],
   "source": [
    "word[0]"
   ]
  },
  {
   "cell_type": "code",
   "execution_count": 51,
   "id": "83e54ab2-9881-4a60-885a-a7a82d51b363",
   "metadata": {
    "scrolled": true
   },
   "outputs": [
    {
     "name": "stdin",
     "output_type": "stream",
     "text": [
      "Enter a word:  #1school\n"
     ]
    },
    {
     "name": "stdout",
     "output_type": "stream",
     "text": [
      "\n",
      "Leading non-letters: #1\n",
      "Word: school\n"
     ]
    }
   ],
   "source": [
    "word = input(\"Enter a word: \")\n",
    "lead_nl = \"\"\n",
    "while len(word) > 0 and not word[0].isalpha():\n",
    "    lead_nl += word[0]\n",
    "    word = word[1:]\n",
    "print(f\"\\nLeading non-letters: {lead_nl}\")\n",
    "if len(word) == 0:\n",
    "    print(\"Your word has only non-letters!\")\n",
    "else:\n",
    "    print(f\"Word: {word}\")"
   ]
  },
  {
   "cell_type": "markdown",
   "id": "2bf4a5fa-b0c8-4283-845b-2f4d369b8f61",
   "metadata": {},
   "source": [
    "# 10.21.24"
   ]
  },
  {
   "cell_type": "code",
   "execution_count": 7,
   "id": "91d53adc-fcd6-4c35-876e-31fde7bff44d",
   "metadata": {},
   "outputs": [
    {
     "name": "stdout",
     "output_type": "stream",
     "text": [
      "Ibssjtpo\n"
     ]
    }
   ],
   "source": [
    "alphabet = \"abcdefghijklmnopqrstuvwxyz\"\n",
    "mystring = \"Harrison\"\n",
    "shifted_string = \"\"\n",
    "\n",
    "for char in mystring:\n",
    "    upper = char.isupper()\n",
    "    char = char.lower()\n",
    "    i = alphabet.index(char)\n",
    "    i += 1\n",
    "    shifted_char = alphabet[i]\n",
    "    if upper:\n",
    "        shifted_char = shifted_char.upper()\n",
    "    shifted_string += shifted_char\n",
    "print(shifted_string)"
   ]
  },
  {
   "cell_type": "code",
   "execution_count": 9,
   "id": "f0a39295-4dbb-4cc5-b339-2b852d05ece6",
   "metadata": {},
   "outputs": [
    {
     "data": {
      "text/plain": [
       "False"
      ]
     },
     "execution_count": 9,
     "metadata": {},
     "output_type": "execute_result"
    }
   ],
   "source": [
    "mys = \"hello joe how are you joe?\"\n",
    "mys.startswith(\"ell\")"
   ]
  },
  {
   "cell_type": "code",
   "execution_count": 11,
   "id": "05e15c9b-b594-4312-b95a-744e94dd4ff5",
   "metadata": {},
   "outputs": [
    {
     "data": {
      "text/plain": [
       "True"
      ]
     },
     "execution_count": 11,
     "metadata": {},
     "output_type": "execute_result"
    }
   ],
   "source": [
    "mys = \"hello joe how are you joe?\"\n",
    "mys.endswith(\"oe?\")"
   ]
  },
  {
   "cell_type": "code",
   "execution_count": 19,
   "id": "9751292d-268a-49c8-8a57-d4088d4e035b",
   "metadata": {},
   "outputs": [
    {
     "data": {
      "text/plain": [
       "-1"
      ]
     },
     "execution_count": 19,
     "metadata": {},
     "output_type": "execute_result"
    }
   ],
   "source": [
    "mys.find(\"Joe\")"
   ]
  },
  {
   "cell_type": "code",
   "execution_count": 17,
   "id": "516e87e0-6f24-4ff5-9587-fa841aad8ae8",
   "metadata": {},
   "outputs": [
    {
     "data": {
      "text/plain": [
       "'hello jill how are you jill?'"
      ]
     },
     "execution_count": 17,
     "metadata": {},
     "output_type": "execute_result"
    }
   ],
   "source": [
    "mys.replace(\"joe\", \"jill\")"
   ]
  },
  {
   "cell_type": "code",
   "execution_count": 21,
   "id": "a834e3e4-a017-48b6-9702-270d0ccc6e2d",
   "metadata": {},
   "outputs": [
    {
     "data": {
      "text/plain": [
       "'abcd1.5'"
      ]
     },
     "execution_count": 21,
     "metadata": {},
     "output_type": "execute_result"
    }
   ],
   "source": [
    "x = \"abcd\"\n",
    "y = 1.5\n",
    "x + str(y)"
   ]
  },
  {
   "cell_type": "code",
   "execution_count": 5,
   "id": "bc72546f-1f1c-4dc6-bb09-8e73ee060579",
   "metadata": {},
   "outputs": [
    {
     "name": "stdout",
     "output_type": "stream",
     "text": [
      "I'm Sam. \n",
      "How are you?\n",
      "I\\'m Sam. \\nHow are you?\n"
     ]
    }
   ],
   "source": [
    "# Escape characters\n",
    "print(\"I\\'m Sam. \\nHow are you?\")\n",
    "print(r\"I\\'m Sam. \\nHow are you?\")"
   ]
  },
  {
   "cell_type": "code",
   "execution_count": 9,
   "id": "0a5db99f-1fa9-48f3-902a-2980a9f9f731",
   "metadata": {},
   "outputs": [],
   "source": [
    "# Files\n",
    "# Text Files\n",
    "myfile = \"C:/Users/msabo/iCloudDrive/Desktop/Binghamton/7. Fall 2024/MIS-525/history.txt\""
   ]
  },
  {
   "cell_type": "code",
   "execution_count": 7,
   "id": "0416b8ac-95e3-4620-87c6-5d2bada9f43b",
   "metadata": {},
   "outputs": [
    {
     "data": {
      "text/plain": [
       "'msabo'"
      ]
     },
     "execution_count": 7,
     "metadata": {},
     "output_type": "execute_result"
    }
   ],
   "source": [
    "# To identify your username\n",
    "import getpass\n",
    "getpass.getuser()"
   ]
  },
  {
   "cell_type": "code",
   "execution_count": 9,
   "id": "fbe75b1e-4050-4195-abea-c3e9f136fdec",
   "metadata": {},
   "outputs": [
    {
     "name": "stdout",
     "output_type": "stream",
     "text": [
      "History is subject to geology. Every day the sea encroaches somewhere\n",
      "upon the land, or the land upon the sea; cities disappear under the water,\n",
      "and sunken cathedrals ring their melancholy bells. Mountains rise and fall\n",
      "in the rhythm of emergence and erosion; rivers swell and flood, or dry up,\n",
      "or change their course; valleys become deserts, and isthmuses become straits.\n"
     ]
    }
   ],
   "source": [
    "with open(myfile) as file_object:\n",
    "    contents = file_object.read()\n",
    "print(contents)"
   ]
  },
  {
   "cell_type": "code",
   "execution_count": 11,
   "id": "465b78ba-7905-4d9a-bd6e-6693bffcf6de",
   "metadata": {},
   "outputs": [
    {
     "name": "stdout",
     "output_type": "stream",
     "text": [
      "History is subject to geology. Every day the sea encroaches somewhere\n",
      "upon the land, or the land upon the sea; cities disappear under the water,\n",
      "and sunken cathedrals ring their melancholy bells. Mountains rise and fall\n",
      "in the rhythm of emergence and erosion; rivers swell and flood, or dry up,\n",
      "or change their course; valleys become deserts, and isthmuses become straits.\n"
     ]
    }
   ],
   "source": [
    "file_object = open(myfile)\n",
    "text = file_object.read()\n",
    "file_object.close()\n",
    "\n",
    "print(text.rstrip())"
   ]
  },
  {
   "cell_type": "code",
   "execution_count": 45,
   "id": "894af4aa-8ac5-4388-abbb-95db04263cef",
   "metadata": {},
   "outputs": [
    {
     "name": "stdout",
     "output_type": "stream",
     "text": [
      "M\n",
      "I\n",
      "S\n",
      " \n",
      "1\n",
      "0\n",
      "1\n"
     ]
    }
   ],
   "source": [
    "myobj = \"MIS 101\"\n",
    "for x in myobj:\n",
    "    print(x)"
   ]
  },
  {
   "cell_type": "code",
   "execution_count": 13,
   "id": "2ad42c41-e986-4746-b140-d986ecc65668",
   "metadata": {},
   "outputs": [
    {
     "name": "stdout",
     "output_type": "stream",
     "text": [
      "History is subject to geology. Every day the sea encroaches somewhere\n",
      "upon the land, or the land upon the sea; cities disappear under the water,\n",
      "and sunken cathedrals ring their melancholy bells. Mountains rise and fall\n",
      "in the rhythm of emergence and erosion; rivers swell and flood, or dry up,\n",
      "or change their course; valleys become deserts, and isthmuses become straits.\n"
     ]
    }
   ],
   "source": [
    "with open(myfile) as myobj:\n",
    "    for x in myobj:\n",
    "        print(x.rstrip())"
   ]
  },
  {
   "cell_type": "code",
   "execution_count": 11,
   "id": "859ba0b4-0ce6-4b49-a737-fc62186ff96e",
   "metadata": {},
   "outputs": [
    {
     "name": "stdout",
     "output_type": "stream",
     "text": [
      "History is subject to geology. Every day the sea encroaches somewhere upon the land, or the land upon the sea; cities disappear under the water, and sunken cathedrals ring their melancholy bells. Mountains rise and fall in the rhythm of emergence and erosion; rivers swell and flood, or dry up, or change their course; valleys become deserts, and isthmuses become straits. "
     ]
    }
   ],
   "source": [
    "with open(myfile) as file_object:\n",
    "    for line in file_object:\n",
    "        print(line.rstrip(), end = \" \")"
   ]
  },
  {
   "cell_type": "code",
   "execution_count": 17,
   "id": "d44d9c7c-0ffd-45f9-a5eb-adb38299511f",
   "metadata": {},
   "outputs": [
    {
     "name": "stdout",
     "output_type": "stream",
     "text": [
      "Line #1 History is subject to geology. Every day the sea encroaches somewhere\n",
      "Line #2 upon the land, or the land upon the sea; cities disappear under the water,\n",
      "Line #3 and sunken cathedrals ring their melancholy bells. Mountains rise and fall\n",
      "Line #4 in the rhythm of emergence and erosion; rivers swell and flood, or dry up,\n",
      "Line #5 or change their course; valleys become deserts, and isthmuses become straits.\n"
     ]
    }
   ],
   "source": [
    "n = 1\n",
    "with open(myfile) as file_object:\n",
    "    for line in file_object:\n",
    "        print(f\"Line #{n}\", line.rstrip())\n",
    "        n += 1"
   ]
  },
  {
   "cell_type": "markdown",
   "id": "9caa880d-9c0b-4276-9d13-4d015b4e5999",
   "metadata": {},
   "source": [
    "# 10.23.24"
   ]
  },
  {
   "cell_type": "code",
   "execution_count": 21,
   "id": "4d448efa-df6f-4410-91fc-f801b90e0701",
   "metadata": {},
   "outputs": [
    {
     "name": "stdout",
     "output_type": "stream",
     "text": [
      "History is subject to geology. Every day the sea encroaches somewhere\n",
      "upon the land, or the land upon the sea; cities disappear under the water,\n",
      "and sunken cathedrals ring their melancholy bells. Mountains rise and fall\n",
      "in the rhythm of emergence and erosion; rivers swell and flood, or dry up,\n",
      "or change their course; valleys become deserts, and isthmuses become straits.\n"
     ]
    }
   ],
   "source": [
    "myfile = \"C:/Users/msabo/iCloudDrive/Desktop/Binghamton/7. Fall 2024/MIS-525/history.txt\"\n",
    "with open(myfile) as file_object:\n",
    "    contents = file_object.read()\n",
    "print(contents.rstrip())"
   ]
  },
  {
   "cell_type": "code",
   "execution_count": 23,
   "id": "0db1037c-f8fa-4c02-b522-2b98e6bce095",
   "metadata": {},
   "outputs": [
    {
     "name": "stdout",
     "output_type": "stream",
     "text": [
      "History is subject to geology. Every day the sea encroaches somewhere\n",
      "\n",
      "upon the land, or the land upon the sea; cities disappear under the water,\n",
      "\n",
      "and sunken cathedrals ring their melancholy bells. Mountains rise and fall\n",
      "\n",
      "in the rhythm of emergence and erosion; rivers swell and flood, or dry up,\n",
      "\n",
      "or change their course; valleys become deserts, and isthmuses become straits.\n"
     ]
    }
   ],
   "source": [
    "with open(myfile) as myobj:\n",
    "    for x in myobj:\n",
    "        print(x)"
   ]
  },
  {
   "cell_type": "code",
   "execution_count": 25,
   "id": "a0386fc8-5399-4639-8690-5575fd43e5d8",
   "metadata": {},
   "outputs": [
    {
     "data": {
      "text/plain": [
       "['History is subject to geology. Every day the sea encroaches somewhere\\n',\n",
       " 'upon the land, or the land upon the sea; cities disappear under the water,\\n',\n",
       " 'and sunken cathedrals ring their melancholy bells. Mountains rise and fall\\n',\n",
       " 'in the rhythm of emergence and erosion; rivers swell and flood, or dry up,\\n',\n",
       " 'or change their course; valleys become deserts, and isthmuses become straits.']"
      ]
     },
     "execution_count": 25,
     "metadata": {},
     "output_type": "execute_result"
    }
   ],
   "source": [
    "with open(myfile) as fo:\n",
    "    lines = fo.readlines()\n",
    "lines"
   ]
  },
  {
   "cell_type": "code",
   "execution_count": 27,
   "id": "5a4ef05e-42a9-401c-85a9-c154a095f5fd",
   "metadata": {},
   "outputs": [
    {
     "data": {
      "text/plain": [
       "5"
      ]
     },
     "execution_count": 27,
     "metadata": {},
     "output_type": "execute_result"
    }
   ],
   "source": [
    "with open(myfile) as fo:\n",
    "    lines = fo.readlines()\n",
    "len(lines)"
   ]
  },
  {
   "cell_type": "code",
   "execution_count": 29,
   "id": "2598eb7f-ea5b-413a-a495-050ca110e641",
   "metadata": {},
   "outputs": [
    {
     "name": "stdout",
     "output_type": "stream",
     "text": [
      "5\n",
      "61\n"
     ]
    }
   ],
   "source": [
    "with open(myfile) as fo:\n",
    "    lines = fo.readlines()\n",
    "    text = \"\".join(lines)\n",
    "words = text.split()\n",
    "print(len(lines))\n",
    "print(len(words))"
   ]
  },
  {
   "cell_type": "code",
   "execution_count": 31,
   "id": "55fcebe3-b078-4b1a-9037-b7a8ab8d6b9f",
   "metadata": {},
   "outputs": [
    {
     "name": "stdout",
     "output_type": "stream",
     "text": [
      "['History is subject to geology. Every day the sea encroaches somewhere\\n', 'upon the land, or the land upon the sea; cities disappear under the water,\\n', 'and sunken cathedrals ring their melancholy bells. Mountains rise and fall\\n', 'in the rhythm of emergence and erosion; rivers swell and flood, or dry up,\\n', 'or change their course; valleys become deserts, and isthmuses become straits.']\n"
     ]
    }
   ],
   "source": [
    "with open(myfile) as f:\n",
    "    lines = f.readlines()\n",
    "print(lines)"
   ]
  },
  {
   "cell_type": "code",
   "execution_count": 33,
   "id": "f86b7f1a-148a-4229-a217-33640c4ab904",
   "metadata": {},
   "outputs": [
    {
     "name": "stdin",
     "output_type": "stream",
     "text": [
      "Enter a word:  SEA\n"
     ]
    },
    {
     "name": "stdout",
     "output_type": "stream",
     "text": [
      "2\n"
     ]
    }
   ],
   "source": [
    "with open(myfile) as f:\n",
    "    words = f.read().lower().split()\n",
    "\n",
    "word = input(\"Enter a word: \")\n",
    "count = 0\n",
    "for term in words:\n",
    "    if word.lower() in term:\n",
    "        count += 1\n",
    "print(count)"
   ]
  },
  {
   "cell_type": "code",
   "execution_count": 35,
   "id": "060d0156-d506-4d63-bf10-242728694a49",
   "metadata": {},
   "outputs": [
    {
     "name": "stdout",
     "output_type": "stream",
     "text": [
      "47\n"
     ]
    }
   ],
   "source": [
    "with open(myfile) as f:\n",
    "    words = f.read().lower().split()\n",
    "\n",
    "unique_words = set(words)\n",
    "print(len(unique_words))"
   ]
  },
  {
   "cell_type": "code",
   "execution_count": 17,
   "id": "3dca6248-78a3-4899-abd2-c9218fa429c8",
   "metadata": {},
   "outputs": [],
   "source": [
    "myfile = \"mis.txt\"\n",
    "with open(myfile, \"w\") as f: # write mode\n",
    "    f.write(\"Binghamton University\\n\")"
   ]
  },
  {
   "cell_type": "code",
   "execution_count": 19,
   "id": "28f53d46-c6ef-43bc-b128-6cfd770d8e80",
   "metadata": {},
   "outputs": [],
   "source": [
    "with open(myfile, \"a\") as f: # append mode\n",
    "    f.write(\"SOM\\n\")"
   ]
  },
  {
   "cell_type": "code",
   "execution_count": 21,
   "id": "8133dfb8-8336-4cdd-b480-fb9bb600a07f",
   "metadata": {},
   "outputs": [
    {
     "name": "stdout",
     "output_type": "stream",
     "text": [
      "Binghamton University\n",
      "SOM\n",
      "\n"
     ]
    }
   ],
   "source": [
    "f = open(myfile, \"r\") # read mode\n",
    "text = f.read()\n",
    "f.close()\n",
    "print(text)"
   ]
  },
  {
   "cell_type": "code",
   "execution_count": 47,
   "id": "9c2de274-ced3-4ee8-aa26-72f5e477802a",
   "metadata": {},
   "outputs": [
    {
     "name": "stdout",
     "output_type": "stream",
     "text": [
      "History is subject to geology. Every day the sea encroaches somewhere\n",
      "\n",
      "upon the land, or the land upon the sea; cities disappear under the water,\n",
      "\n",
      "and sunken cathedrals ring their melancholy bells. Mountains rise and fall\n",
      "\n"
     ]
    }
   ],
   "source": [
    "myfile = \"C:/Users/msabo/iCloudDrive/Desktop/Binghamton/7. Fall 2024/MIS-525/history.txt\"\n",
    "with open(myfile) as fo:\n",
    "    line1 = fo.readline()\n",
    "    line2 = fo.readline()\n",
    "    line3 = fo.readline()\n",
    "print(line1)\n",
    "print(line2)\n",
    "print(line3)"
   ]
  },
  {
   "cell_type": "code",
   "execution_count": 51,
   "id": "4c255cc3-0c50-48a7-b19d-f581e4df77d9",
   "metadata": {},
   "outputs": [
    {
     "name": "stdout",
     "output_type": "stream",
     "text": [
      "the\n",
      "6\n"
     ]
    }
   ],
   "source": [
    "myfile = \"C:/Users/msabo/iCloudDrive/Desktop/Binghamton/7. Fall 2024/MIS-525/history.txt\"\n",
    "with open(myfile) as fo:\n",
    "    words = fo.read().lower().split()\n",
    "\n",
    "d = {}\n",
    "for word in words:\n",
    "    if word in d:\n",
    "        d[word] += 1\n",
    "    else:\n",
    "        d[word] = 1\n",
    "        \n",
    "most_frequent_word = None\n",
    "max_count = 0\n",
    "\n",
    "for word, count in d.items():\n",
    "    if count > max_count:\n",
    "        max_count = count\n",
    "        most_frequent_word = word\n",
    "\n",
    "print(most_frequent_word)\n",
    "print(max_count)"
   ]
  },
  {
   "cell_type": "code",
   "execution_count": 53,
   "id": "2ace24d0-6887-42c8-81d8-8d2502fe9301",
   "metadata": {},
   "outputs": [],
   "source": [
    "# CSV files\n",
    "\n",
    "myfile = \"students.csv\"\n",
    "with open(myfile, \"w\") as f:\n",
    "    new_record = \"Jeff,Smith,3.6\\n\"\n",
    "    f.write(new_record) "
   ]
  },
  {
   "cell_type": "code",
   "execution_count": 55,
   "id": "f532f489-54e5-457a-b268-7987dfa1acac",
   "metadata": {},
   "outputs": [
    {
     "name": "stdin",
     "output_type": "stream",
     "text": [
      "Enter a first name:  Alex\n",
      "Enter a last name:  Davis\n",
      "Enter a GPA:  3.5\n"
     ]
    }
   ],
   "source": [
    "first = input(\"Enter a first name: \")\n",
    "last = input(\"Enter a last name: \")\n",
    "gpa = input(\"Enter a GPA: \")\n",
    "\n",
    "new_record = first + \",\" + last + \",\" + gpa + \"\\n\"\n",
    "with open(myfile, \"a\") as f:\n",
    "    f.write(new_record)"
   ]
  },
  {
   "cell_type": "code",
   "execution_count": 57,
   "id": "3756d8a5-bb75-43ee-bd7f-8231bb1a13e4",
   "metadata": {},
   "outputs": [
    {
     "name": "stdin",
     "output_type": "stream",
     "text": [
      "Enter a first name:  Jennifer\n",
      "Enter a last name:  Williams\n",
      "Enter a GPA:  3.7\n"
     ]
    }
   ],
   "source": [
    "first = input(\"Enter a first name: \")\n",
    "last = input(\"Enter a last name: \")\n",
    "gpa = input(\"Enter a GPA: \")\n",
    "\n",
    "new_record = first + \",\" + last + \",\" + gpa + \"\\n\"\n",
    "with open(myfile, \"a\") as f:\n",
    "    f.write(new_record)"
   ]
  },
  {
   "cell_type": "code",
   "execution_count": 59,
   "id": "70cecb4d-58de-4cfc-819f-6d7851f47e94",
   "metadata": {},
   "outputs": [
    {
     "name": "stdout",
     "output_type": "stream",
     "text": [
      "Jeff,Smith,3.6\n",
      "\n",
      "Alex,Davis,3.5\n",
      "\n",
      "Jennifer,Williams,3.7\n",
      "\n"
     ]
    }
   ],
   "source": [
    "with open(myfile) as f:\n",
    "    for x in f:\n",
    "        print(x)"
   ]
  },
  {
   "cell_type": "code",
   "execution_count": 61,
   "id": "2170d908-1c72-448c-a2d6-86ea60377d6d",
   "metadata": {},
   "outputs": [
    {
     "data": {
      "text/plain": [
       "[['Jeff', 'Smith', '3.6'],\n",
       " ['Alex', 'Davis', '3.5'],\n",
       " ['Jennifer', 'Williams', '3.7']]"
      ]
     },
     "execution_count": 61,
     "metadata": {},
     "output_type": "execute_result"
    }
   ],
   "source": [
    "import csv\n",
    "with open(myfile, \"r\") as fo:\n",
    "    reader_object = csv.reader(fo)\n",
    "    rows = list(reader_object)\n",
    "rows"
   ]
  },
  {
   "cell_type": "code",
   "execution_count": 63,
   "id": "14f43d4c-658d-4a78-8367-0d1192e181f8",
   "metadata": {},
   "outputs": [],
   "source": [
    "with open(myfile) as fo:\n",
    "    rows = list(csv.reader(fo))"
   ]
  },
  {
   "cell_type": "code",
   "execution_count": 67,
   "id": "753d57af-51f1-453c-814b-754dc5db79d1",
   "metadata": {},
   "outputs": [
    {
     "data": {
      "text/plain": [
       "[['Jeff', 'Smith', '3.6'],\n",
       " ['Alex', 'Davis', '3.5'],\n",
       " ['Jennifer', 'Williamson', '3.7']]"
      ]
     },
     "execution_count": 67,
     "metadata": {},
     "output_type": "execute_result"
    }
   ],
   "source": [
    "rows[2][1] = \"Williamson\"\n",
    "rows"
   ]
  },
  {
   "cell_type": "markdown",
   "id": "e132ff9e-c6e5-4d9a-9471-eb88646e1694",
   "metadata": {
    "jp-MarkdownHeadingCollapsed": true
   },
   "source": [
    "# 10.28.24"
   ]
  },
  {
   "cell_type": "code",
   "execution_count": 73,
   "id": "d9eefb60-2246-4050-a6e9-bf55f4ffde84",
   "metadata": {},
   "outputs": [
    {
     "name": "stdin",
     "output_type": "stream",
     "text": [
      "Enter a first name:  Jennifer\n",
      "Enter a last name:  Williams\n",
      "Enter a GPA:  3.7\n"
     ]
    }
   ],
   "source": [
    "first = input(\"Enter a first name: \")\n",
    "last = input(\"Enter a last name: \")\n",
    "gpa = input(\"Enter a GPA: \")\n",
    "new_record = first + \",\" + last + \",\" + gpa + \"\\n\"\n",
    "\n",
    "myfile = \"C:/Users/msabo/iCloudDrive/Desktop/Binghamton/7. Fall 2024/MIS-525/students.csv\"\n",
    "with open(myfile, \"a\") as f:\n",
    "    f.write(new_record)   "
   ]
  },
  {
   "cell_type": "code",
   "execution_count": 75,
   "id": "148baab4-6fea-4a01-82b6-314d1b33274d",
   "metadata": {},
   "outputs": [
    {
     "name": "stdout",
     "output_type": "stream",
     "text": [
      "Jennifer,Williams,3.7\n",
      "\n"
     ]
    }
   ],
   "source": [
    "f = open(myfile, \"r\")\n",
    "for row in f:\n",
    "    print(row)\n",
    "f.close()"
   ]
  },
  {
   "cell_type": "code",
   "execution_count": 77,
   "id": "af829c52-e865-45ee-9082-f45fa679c955",
   "metadata": {},
   "outputs": [
    {
     "data": {
      "text/plain": [
       "[['Jennifer', 'Williams', '3.7']]"
      ]
     },
     "execution_count": 77,
     "metadata": {},
     "output_type": "execute_result"
    }
   ],
   "source": [
    "import csv\n",
    "with open(myfile, \"r\") as f:\n",
    "    rows = list(csv.reader(f))\n",
    "    \n",
    "rows"
   ]
  },
  {
   "cell_type": "code",
   "execution_count": 79,
   "id": "5e2fa0d6-f95d-4de5-ae01-8262e897237c",
   "metadata": {},
   "outputs": [
    {
     "name": "stdout",
     "output_type": "stream",
     "text": [
      "3.7\n"
     ]
    }
   ],
   "source": [
    "for row in rows:\n",
    "    print(row[2])"
   ]
  },
  {
   "cell_type": "code",
   "execution_count": 81,
   "id": "295d90a9-5a62-4564-9027-e7a92a9e7afc",
   "metadata": {},
   "outputs": [
    {
     "data": {
      "text/plain": [
       "3.7"
      ]
     },
     "execution_count": 81,
     "metadata": {},
     "output_type": "execute_result"
    }
   ],
   "source": [
    "summ = n = 0\n",
    "for row in rows:\n",
    "    summ += float(row[2])\n",
    "    n += 1\n",
    "summ/n"
   ]
  },
  {
   "cell_type": "code",
   "execution_count": 83,
   "id": "4e7fb450-2ee0-4d85-a7bf-9b38e3997c4d",
   "metadata": {},
   "outputs": [
    {
     "name": "stdin",
     "output_type": "stream",
     "text": [
      "Enter a first or last name (or 'q' to end):  Will\n"
     ]
    },
    {
     "name": "stdout",
     "output_type": "stream",
     "text": [
      "Jennifer,Williams,3.7\n",
      "\n"
     ]
    },
    {
     "name": "stdin",
     "output_type": "stream",
     "text": [
      "Enter a first or last name (or 'q' to end):  Al\n"
     ]
    },
    {
     "name": "stdout",
     "output_type": "stream",
     "text": [
      "No such record!\n"
     ]
    },
    {
     "name": "stdin",
     "output_type": "stream",
     "text": [
      "Enter a first or last name (or 'q' to end):  q\n"
     ]
    }
   ],
   "source": [
    "while True:\n",
    "    exist = False\n",
    "    search = input(\"Enter a first or last name (or 'q' to end): \")\n",
    "    if search.lower() == \"q\":\n",
    "        break\n",
    "    else:\n",
    "        f = open(myfile, \"r\")\n",
    "        for row in f:\n",
    "            if search in row:\n",
    "                print(row)\n",
    "                exist = True\n",
    "        if exist == False:\n",
    "            print(\"No such record!\")\n",
    "        f.close()"
   ]
  },
  {
   "cell_type": "code",
   "execution_count": 85,
   "id": "bba5e574-05e6-4a23-a2ab-63dedc3b9025",
   "metadata": {},
   "outputs": [
    {
     "name": "stdin",
     "output_type": "stream",
     "text": [
      "\n",
      "Enter a first or last name (or 'q' to end):  Will\n"
     ]
    },
    {
     "name": "stdout",
     "output_type": "stream",
     "text": [
      "No such record!\n"
     ]
    },
    {
     "name": "stdin",
     "output_type": "stream",
     "text": [
      "\n",
      "Enter a first or last name (or 'q' to end):  Al\n"
     ]
    },
    {
     "name": "stdout",
     "output_type": "stream",
     "text": [
      "No such record!\n"
     ]
    },
    {
     "name": "stdin",
     "output_type": "stream",
     "text": [
      "\n",
      "Enter a first or last name (or 'q' to end):  Williams\n"
     ]
    },
    {
     "name": "stdout",
     "output_type": "stream",
     "text": [
      "['Jennifer', 'Williams', '3.7']\n"
     ]
    },
    {
     "name": "stdin",
     "output_type": "stream",
     "text": [
      "\n",
      "Enter a first or last name (or 'q' to end):  Q\n"
     ]
    }
   ],
   "source": [
    "with open(myfile, \"r\") as f:\n",
    "    rows = list(csv.reader(f))\n",
    "\n",
    "while True:\n",
    "    exist = False\n",
    "    search = input(\"\\nEnter a first or last name (or 'q' to end): \")\n",
    "    if search.lower() == \"q\":\n",
    "        break\n",
    "    else:\n",
    "        for row in rows:\n",
    "            if search == row[0] or search == row[1]:\n",
    "                print(row)\n",
    "                exist = True\n",
    "        if exist == False:\n",
    "            print(\"No such record!\")"
   ]
  },
  {
   "cell_type": "code",
   "execution_count": 87,
   "id": "bdf00454-2e6a-4a90-bd51-54f587bb1fd8",
   "metadata": {},
   "outputs": [
    {
     "name": "stdin",
     "output_type": "stream",
     "text": [
      "Enter the lower boundary:  3.7\n",
      "Enter the upper boundary:  3.9\n"
     ]
    },
    {
     "name": "stdout",
     "output_type": "stream",
     "text": [
      "['Jennifer', 'Williams', '3.7']\n"
     ]
    }
   ],
   "source": [
    "low = float(input(\"Enter the lower boundary: \"))\n",
    "up = float(input(\"Enter the upper boundary: \"))\n",
    "\n",
    "with open(myfile, \"r\") as f:\n",
    "    rows = list(csv.reader(f))\n",
    "    \n",
    "for row in rows:\n",
    "    if float(row[2]) >= low and float(row[2]) <= up:\n",
    "        print(row)"
   ]
  },
  {
   "cell_type": "code",
   "execution_count": 89,
   "id": "af8f62b6-c7df-48a4-8559-9dd3f04afa7e",
   "metadata": {},
   "outputs": [
    {
     "name": "stdout",
     "output_type": "stream",
     "text": [
      "Williams\n"
     ]
    }
   ],
   "source": [
    "m_gpa = float(\"-inf\")\n",
    "m_gpa_row = []\n",
    "\n",
    "with open(myfile, \"r\") as f:\n",
    "    rows = list(csv.reader(f))\n",
    "    \n",
    "for row in rows:\n",
    "    if float(row[2]) > m_gpa:\n",
    "        m_gpa = float(row[2])\n",
    "        m_gpa_row = row\n",
    "        \n",
    "print(m_gpa_row[1])"
   ]
  },
  {
   "cell_type": "code",
   "execution_count": 91,
   "id": "de239a3d-f1c2-4358-8ee0-cb41608881a0",
   "metadata": {},
   "outputs": [
    {
     "data": {
      "text/plain": [
       "[['Jennifer', 'Williams', '3.7']]"
      ]
     },
     "execution_count": 91,
     "metadata": {},
     "output_type": "execute_result"
    }
   ],
   "source": [
    "with open(myfile, \"r\") as f:\n",
    "    rows = list(csv.reader(f))\n",
    "    \n",
    "tmp = []\n",
    "for row in rows:\n",
    "    tmp.append(row)\n",
    "    \n",
    "tmp"
   ]
  },
  {
   "cell_type": "code",
   "execution_count": 95,
   "id": "fe383296-4780-45b2-8adb-1ec3e2409fcb",
   "metadata": {},
   "outputs": [
    {
     "ename": "IndexError",
     "evalue": "list index out of range",
     "output_type": "error",
     "traceback": [
      "\u001b[1;31m---------------------------------------------------------------------------\u001b[0m",
      "\u001b[1;31mIndexError\u001b[0m                                Traceback (most recent call last)",
      "Cell \u001b[1;32mIn[95], line 1\u001b[0m\n\u001b[1;32m----> 1\u001b[0m tmp[\u001b[38;5;241m2\u001b[39m][\u001b[38;5;241m1\u001b[39m] \u001b[38;5;241m=\u001b[39m \u001b[38;5;124m\"\u001b[39m\u001b[38;5;124mWilliamson\u001b[39m\u001b[38;5;124m\"\u001b[39m\n\u001b[0;32m      2\u001b[0m tmp\n",
      "\u001b[1;31mIndexError\u001b[0m: list index out of range"
     ]
    }
   ],
   "source": [
    "tmp[2][1] = \"Williamson\"\n",
    "tmp"
   ]
  },
  {
   "cell_type": "code",
   "execution_count": 97,
   "id": "444cd2af-f644-4f7c-943d-fddc2cdd4587",
   "metadata": {},
   "outputs": [],
   "source": [
    "f = open(myfile, \"w\")\n",
    "for row in tmp:\n",
    "    new_record = row[0] + \",\" + row[1] + \",\" + row[2] + \"\\n\"\n",
    "    f.write(new_record)\n",
    "f.close()"
   ]
  },
  {
   "cell_type": "code",
   "execution_count": 27,
   "id": "cce0819f-e4f0-4697-b826-c6f397ba4ad8",
   "metadata": {},
   "outputs": [
    {
     "name": "stdout",
     "output_type": "stream",
     "text": [
      "4.0\n"
     ]
    }
   ],
   "source": [
    "def avg(*items):\n",
    "    sum = 0\n",
    "    lst = []\n",
    "    for i in items:\n",
    "        sum += i\n",
    "        lst.append(i)\n",
    "    average = sum / len(lst)\n",
    "    print(average)\n",
    "\n",
    "avg(2, 3, 4, 5, 6, 6, 2, 4, 6, 2, 1, 2, 9)"
   ]
  },
  {
   "cell_type": "markdown",
   "id": "17d57dc4-65e8-46d0-90fb-58af824482eb",
   "metadata": {
    "jp-MarkdownHeadingCollapsed": true
   },
   "source": [
    "# 10.30.24"
   ]
  },
  {
   "cell_type": "code",
   "execution_count": 3,
   "id": "a0d43e62-1afa-4ed4-9251-bf33b9ae6527",
   "metadata": {},
   "outputs": [
    {
     "data": {
      "text/plain": [
       "{'Alex', 'Jeff', 'Jennifer'}"
      ]
     },
     "execution_count": 3,
     "metadata": {},
     "output_type": "execute_result"
    }
   ],
   "source": [
    "import csv\n",
    "myfile = \"students.csv\"\n",
    "\n",
    "with open(myfile, \"r\") as fo:\n",
    "    rows = list(csv.reader(fo))\n",
    "\n",
    "unique = set()\n",
    "for row in rows:\n",
    "    unique.add(row[0])\n",
    "\n",
    "unique"
   ]
  },
  {
   "cell_type": "code",
   "execution_count": 5,
   "id": "2f6cd3c4-27d2-4761-9c8b-90217840acda",
   "metadata": {},
   "outputs": [],
   "source": [
    "fullnames = []\n",
    "\n",
    "with open(myfile, \"r\") as fo:\n",
    "    rows = list(csv.reader(fo))\n",
    "\n",
    "for row in rows:\n",
    "    fullnames.append(row[0] + \" \" + row[1])\n",
    "\n",
    "i = 0\n",
    "for row in rows:\n",
    "    row.append(fullnames[i])\n",
    "    i += 1\n",
    "\n",
    "with open(myfile, \"w\") as fo:\n",
    "    for row in rows:\n",
    "        new_record = row[0] + \",\" + row[2] + \",\" + row[3] + \"\\n\"\n",
    "        fo.write(new_record)"
   ]
  },
  {
   "cell_type": "code",
   "execution_count": 13,
   "id": "9e791f93-5fcb-43fd-b5fd-192d8aa066e6",
   "metadata": {},
   "outputs": [
    {
     "name": "stdout",
     "output_type": "stream",
     "text": [
      "For Jan, the loss was $200\n",
      "For Feb, the profit was $400\n",
      "For Mar, the profit was $200\n"
     ]
    }
   ],
   "source": [
    "q1 = [\n",
    "    (\"Jan\", 4500, 4700),\n",
    "    (\"Feb\", 5300, 4900),\n",
    "    (\"Mar\", 5000, 4800)]\n",
    "\n",
    "for month, income, expense in q1:\n",
    "    net = income - expense\n",
    "    if net > 0:\n",
    "        status = \"profit\"\n",
    "    else:\n",
    "        status = \"loss\"\n",
    "    print(f\"For {month}, the {status} was ${abs(net)}\")"
   ]
  },
  {
   "cell_type": "code",
   "execution_count": 15,
   "id": "3dd1c090-e0b9-4e86-8317-38e51b459617",
   "metadata": {},
   "outputs": [
    {
     "data": {
      "text/plain": [
       "5.25"
      ]
     },
     "execution_count": 15,
     "metadata": {},
     "output_type": "execute_result"
    }
   ],
   "source": [
    "def avg(*values):\n",
    "    s = n = 0\n",
    "    for value in values:\n",
    "        s += value\n",
    "        n += 1\n",
    "    return s/n\n",
    "\n",
    "avg(-10, 20, 5.75)"
   ]
  },
  {
   "cell_type": "code",
   "execution_count": 17,
   "id": "d3edad03-36e8-42a7-9738-deb1c0c24c97",
   "metadata": {},
   "outputs": [
    {
     "data": {
      "text/plain": [
       "5.25"
      ]
     },
     "execution_count": 17,
     "metadata": {},
     "output_type": "execute_result"
    }
   ],
   "source": [
    "def avg(*values):\n",
    "    return sum(values)/len(values)\n",
    "\n",
    "avg(-10, 20, 5.75)"
   ]
  },
  {
   "cell_type": "code",
   "execution_count": 19,
   "id": "fdc02c0e-014a-44fa-9612-33cbed657230",
   "metadata": {},
   "outputs": [
    {
     "name": "stdout",
     "output_type": "stream",
     "text": [
      "2\n"
     ]
    }
   ],
   "source": [
    "def counter(sentence, letter):\n",
    "    count = 0\n",
    "    for item in sentence.split():\n",
    "        if item.lower().startswith(letter.lower()):\n",
    "            count += 1\n",
    "    print(count)\n",
    "\n",
    "counter(\"I like ice hockey\", \"i\")"
   ]
  },
  {
   "cell_type": "code",
   "execution_count": 21,
   "id": "5cbcb021-008d-4470-8040-49ef404196e6",
   "metadata": {},
   "outputs": [
    {
     "name": "stdin",
     "output_type": "stream",
     "text": [
      "Enter a string:  Happy 2024 y'all!\n"
     ]
    },
    {
     "name": "stdout",
     "output_type": "stream",
     "text": [
      "\n",
      "Upper: 1\n",
      "Lower: 8\n",
      "Digit: 4\n",
      "Nonalphan: 4\n"
     ]
    }
   ],
   "source": [
    "message = input(\"Enter a string: \")\n",
    "n_up = n_low = n_digit = n_non = 0\n",
    "for char in message:\n",
    "    if char.isupper():\n",
    "        n_up += 1\n",
    "    elif char.islower():\n",
    "        n_low += 1\n",
    "    elif char.isdigit():\n",
    "        n_digit += 1\n",
    "    else:\n",
    "        n_non += 1\n",
    "print(f\"\\nUpper: {n_up}\\nLower: {n_low}\\nDigit: {n_digit}\\nNonalphan: {n_non}\")"
   ]
  },
  {
   "cell_type": "code",
   "execution_count": 23,
   "id": "5b7cc11f-8d30-4d3d-81bf-57aaaab0cb1c",
   "metadata": {},
   "outputs": [
    {
     "name": "stdin",
     "output_type": "stream",
     "text": [
      "Enter a word:  Atlanta\n"
     ]
    },
    {
     "data": {
      "text/plain": [
       "{'a': 3, 't': 2, 'l': 1, 'n': 1}"
      ]
     },
     "execution_count": 23,
     "metadata": {},
     "output_type": "execute_result"
    }
   ],
   "source": [
    "word = input(\"Enter a word: \")\n",
    "result = {}\n",
    "for char in word.lower():\n",
    "    if char not in result:\n",
    "        result[char] = 1\n",
    "    else:\n",
    "        result[char] += 1\n",
    "result"
   ]
  },
  {
   "cell_type": "code",
   "execution_count": 25,
   "id": "dd52c315-fa04-4fa6-9f60-0276e428f287",
   "metadata": {},
   "outputs": [
    {
     "name": "stdout",
     "output_type": "stream",
     "text": [
      "Jim\n",
      "Bob\n",
      "Diana\n",
      "Alice\n"
     ]
    }
   ],
   "source": [
    "employees = [\n",
    "    (\"Alice\", \"Engineering\", 85000),\n",
    "    (\"Bob\", \"Marketing\", 70000),\n",
    "    (\"Jim\", \"Sales\", 65000),\n",
    "    (\"Diana\", \"Accounting\", 72000),\n",
    "]\n",
    "\n",
    "s_employees = sorted(employees, key = lambda mytuple: mytuple[2])\n",
    "for employee in s_employees:\n",
    "    print(employee[0])"
   ]
  },
  {
   "cell_type": "code",
   "execution_count": 27,
   "id": "9465b812-be06-44d0-8205-123ff2de5128",
   "metadata": {},
   "outputs": [
    {
     "data": {
      "text/plain": [
       "[('Jim', 'Sales', 65000),\n",
       " ('Bob', 'Marketing', 70000),\n",
       " ('Diana', 'Accounting', 72000),\n",
       " ('Alice', 'Engineering', 85000)]"
      ]
     },
     "execution_count": 27,
     "metadata": {},
     "output_type": "execute_result"
    }
   ],
   "source": [
    "def v_counter(word):\n",
    "    return sum(1 for char in word.lower() if char in \"aeiou\")\n",
    "\n",
    "sorted(employees, key = lambda mytuple: v_counter(mytuple[1]))"
   ]
  },
  {
   "cell_type": "code",
   "execution_count": 29,
   "id": "25a2ecf2-3f2f-4c71-ba40-574cc536ed64",
   "metadata": {},
   "outputs": [
    {
     "data": {
      "text/plain": [
       "4536"
      ]
     },
     "execution_count": 29,
     "metadata": {},
     "output_type": "execute_result"
    }
   ],
   "source": [
    "s = set()\n",
    "for n in range(1000, 10000):\n",
    "    if len(set(str(n))) == 4:\n",
    "        s.add(n)\n",
    "len(s)"
   ]
  },
  {
   "cell_type": "code",
   "execution_count": 31,
   "id": "ad118e27-9a2c-4eff-bcba-19ba26d1ccc9",
   "metadata": {},
   "outputs": [
    {
     "name": "stdout",
     "output_type": "stream",
     "text": [
      "8156\n"
     ]
    }
   ],
   "source": [
    "import random\n",
    "digits = \"0 1 2 3 4 5 6 7 8 9\".split()\n",
    "while digits[0] == \"0\":\n",
    "    random.shuffle(digits)\n",
    "str_n = \"\"\n",
    "for i in range(0, 4, 1):\n",
    "    str_n += digits[i]\n",
    "print(str_n)"
   ]
  },
  {
   "cell_type": "markdown",
   "id": "85052ec6-dafa-4ffb-a878-8eafe147b487",
   "metadata": {},
   "source": [
    "# 11.11.24 "
   ]
  },
  {
   "cell_type": "code",
   "execution_count": 33,
   "id": "34c54cb8-6218-42a1-88c0-bdc7dc106388",
   "metadata": {},
   "outputs": [
    {
     "name": "stdout",
     "output_type": "stream",
     "text": [
      "1.26.4\n"
     ]
    }
   ],
   "source": [
    "# NUMPY Array Processing\n",
    "\n",
    "import numpy as np\n",
    "print(np.__version__)"
   ]
  },
  {
   "cell_type": "code",
   "execution_count": 35,
   "id": "a0b15c66-e09a-4c9d-b90b-7e25f9b0222b",
   "metadata": {},
   "outputs": [
    {
     "data": {
      "text/plain": [
       "array([10, 11, 12])"
      ]
     },
     "execution_count": 35,
     "metadata": {},
     "output_type": "execute_result"
    }
   ],
   "source": [
    "vector = [10, 11, 12]\n",
    "np.array(vector)"
   ]
  },
  {
   "cell_type": "code",
   "execution_count": 39,
   "id": "52c3374b-645d-432b-8b42-76f6bd1ebddf",
   "metadata": {},
   "outputs": [
    {
     "data": {
      "text/plain": [
       "array([[11, 12, 13],\n",
       "       [21, 22, 23],\n",
       "       [31, 32, 33]])"
      ]
     },
     "execution_count": 39,
     "metadata": {},
     "output_type": "execute_result"
    }
   ],
   "source": [
    "matrix = [[11, 12, 13], [21, 22, 23], [31, 32, 33]]\n",
    "np.array(matrix)"
   ]
  },
  {
   "cell_type": "code",
   "execution_count": 41,
   "id": "4b722685-e06e-4d09-bec3-2fefb1293f0a",
   "metadata": {},
   "outputs": [
    {
     "data": {
      "text/plain": [
       "array([0, 1, 2, 3, 4, 5])"
      ]
     },
     "execution_count": 41,
     "metadata": {},
     "output_type": "execute_result"
    }
   ],
   "source": [
    "# np.arange(start, stop(exclusive), step_size)\n",
    "np.arange(0, 6, 1)"
   ]
  },
  {
   "cell_type": "code",
   "execution_count": 43,
   "id": "d1a7611b-3bf4-4a70-9b2c-d325551d3799",
   "metadata": {},
   "outputs": [
    {
     "data": {
      "text/plain": [
       "array([0.  , 0.25, 0.5 , 0.75, 1.  ])"
      ]
     },
     "execution_count": 43,
     "metadata": {},
     "output_type": "execute_result"
    }
   ],
   "source": [
    "# np.linspace(start, stop(exclusive), # of points)\n",
    "np.linspace(0, 1, 5)"
   ]
  },
  {
   "cell_type": "code",
   "execution_count": 45,
   "id": "688b9a30-1a1f-4b82-8720-c44222a3bd22",
   "metadata": {},
   "outputs": [
    {
     "data": {
      "text/plain": [
       "array([0.        , 0.26315789, 0.52631579, 0.78947368, 1.05263158,\n",
       "       1.31578947, 1.57894737, 1.84210526, 2.10526316, 2.36842105,\n",
       "       2.63157895, 2.89473684, 3.15789474, 3.42105263, 3.68421053,\n",
       "       3.94736842, 4.21052632, 4.47368421, 4.73684211, 5.        ])"
      ]
     },
     "execution_count": 45,
     "metadata": {},
     "output_type": "execute_result"
    }
   ],
   "source": [
    "np.linspace(0, 5, 20)"
   ]
  },
  {
   "cell_type": "code",
   "execution_count": 47,
   "id": "b3d15fdf-b7d8-45e6-9580-a76d135191e6",
   "metadata": {},
   "outputs": [
    {
     "data": {
      "text/plain": [
       "array([0., 0., 0., 0., 0.])"
      ]
     },
     "execution_count": 47,
     "metadata": {},
     "output_type": "execute_result"
    }
   ],
   "source": [
    "np.zeros(5)"
   ]
  },
  {
   "cell_type": "code",
   "execution_count": 49,
   "id": "2d5ca547-cafb-407d-b25d-7f2eb0ab8e8c",
   "metadata": {},
   "outputs": [
    {
     "data": {
      "text/plain": [
       "array([1., 1., 1., 1.])"
      ]
     },
     "execution_count": 49,
     "metadata": {},
     "output_type": "execute_result"
    }
   ],
   "source": [
    "np.ones(4)"
   ]
  },
  {
   "cell_type": "code",
   "execution_count": 51,
   "id": "96d44160-b893-4157-8836-65a8282ccdbf",
   "metadata": {},
   "outputs": [
    {
     "data": {
      "text/plain": [
       "array([[0., 0., 0.],\n",
       "       [0., 0., 0.]])"
      ]
     },
     "execution_count": 51,
     "metadata": {},
     "output_type": "execute_result"
    }
   ],
   "source": [
    "np.zeros((2, 3))"
   ]
  },
  {
   "cell_type": "code",
   "execution_count": 53,
   "id": "aad08551-5af5-407f-bba9-fbcc0d1ff3b9",
   "metadata": {},
   "outputs": [
    {
     "data": {
      "text/plain": [
       "array([[1., 1., 1., 1.],\n",
       "       [1., 1., 1., 1.],\n",
       "       [1., 1., 1., 1.],\n",
       "       [1., 1., 1., 1.]])"
      ]
     },
     "execution_count": 53,
     "metadata": {},
     "output_type": "execute_result"
    }
   ],
   "source": [
    "np.ones((4, 4))"
   ]
  },
  {
   "cell_type": "code",
   "execution_count": 55,
   "id": "6dd2fc3c-1cae-4c77-b3e2-64cf6fb7af8f",
   "metadata": {},
   "outputs": [
    {
     "data": {
      "text/plain": [
       "array([[1., 0., 0., 0.],\n",
       "       [0., 1., 0., 0.],\n",
       "       [0., 0., 1., 0.],\n",
       "       [0., 0., 0., 1.]])"
      ]
     },
     "execution_count": 55,
     "metadata": {},
     "output_type": "execute_result"
    }
   ],
   "source": [
    "# To create an indentity matric\n",
    "np.eye(4)"
   ]
  },
  {
   "cell_type": "code",
   "execution_count": 57,
   "id": "c549956c-1786-4686-8712-460a38f5007d",
   "metadata": {},
   "outputs": [
    {
     "data": {
      "text/plain": [
       "array([[ 0.30294441, -1.69127121, -0.70676294],\n",
       "       [-0.20833217,  0.45548688,  0.63538348],\n",
       "       [ 0.90861149,  0.11562058,  0.48313964],\n",
       "       [ 1.43072575, -0.72133757,  0.02148917]])"
      ]
     },
     "execution_count": 57,
     "metadata": {},
     "output_type": "execute_result"
    }
   ],
   "source": [
    "# To create random values approximately within [-3, 3] normally distributed\n",
    "np.random.randn(4, 3)"
   ]
  },
  {
   "cell_type": "code",
   "execution_count": 59,
   "id": "bebca401-e885-4200-9142-d136c0dac1a3",
   "metadata": {},
   "outputs": [
    {
     "data": {
      "text/plain": [
       "29"
      ]
     },
     "execution_count": 59,
     "metadata": {},
     "output_type": "execute_result"
    }
   ],
   "source": [
    "np.random.randint(0, 100)"
   ]
  },
  {
   "cell_type": "code",
   "execution_count": 61,
   "id": "d2acb4fb-eb3f-4b3b-954b-4e9ff2b98e25",
   "metadata": {},
   "outputs": [
    {
     "data": {
      "text/plain": [
       "array([ 8, 12, 38, 10, 78])"
      ]
     },
     "execution_count": 61,
     "metadata": {},
     "output_type": "execute_result"
    }
   ],
   "source": [
    "np.random.randint(0, 100, 5)"
   ]
  },
  {
   "cell_type": "code",
   "execution_count": 63,
   "id": "e278ba8e-f832-405e-a759-1bece8401c08",
   "metadata": {},
   "outputs": [
    {
     "data": {
      "text/plain": [
       "array([[56, 24, 94],\n",
       "       [58, 88, 15]])"
      ]
     },
     "execution_count": 63,
     "metadata": {},
     "output_type": "execute_result"
    }
   ],
   "source": [
    "np.random.randint(0, 100, size = (2, 3))"
   ]
  },
  {
   "cell_type": "code",
   "execution_count": 65,
   "id": "e5647f67-4abd-40dc-9dbc-cad4a10b9566",
   "metadata": {},
   "outputs": [
    {
     "data": {
      "text/plain": [
       "array([[1, 2, 3],\n",
       "       [4, 5, 6]])"
      ]
     },
     "execution_count": 65,
     "metadata": {},
     "output_type": "execute_result"
    }
   ],
   "source": [
    "arr1 = np.array([[1, 2, 3], [4, 5, 6]])\n",
    "arr1"
   ]
  },
  {
   "cell_type": "code",
   "execution_count": 67,
   "id": "9225657a-c2a7-489b-aee1-486cab224d1a",
   "metadata": {},
   "outputs": [
    {
     "data": {
      "text/plain": [
       "(2, 3)"
      ]
     },
     "execution_count": 67,
     "metadata": {},
     "output_type": "execute_result"
    }
   ],
   "source": [
    "# The shape attribute\n",
    "arr1.shape"
   ]
  },
  {
   "cell_type": "code",
   "execution_count": 69,
   "id": "7ff5d055-e7de-459f-9206-c53c4f947c06",
   "metadata": {},
   "outputs": [
    {
     "data": {
      "text/plain": [
       "array([1, 2, 3])"
      ]
     },
     "execution_count": 69,
     "metadata": {},
     "output_type": "execute_result"
    }
   ],
   "source": [
    "arr1 = np.array([1, 2, 3])\n",
    "arr1"
   ]
  },
  {
   "cell_type": "code",
   "execution_count": 71,
   "id": "89d4fe13-bdba-4795-85ff-6ba487e83fa4",
   "metadata": {},
   "outputs": [
    {
     "data": {
      "text/plain": [
       "(3,)"
      ]
     },
     "execution_count": 71,
     "metadata": {},
     "output_type": "execute_result"
    }
   ],
   "source": [
    "arr1.shape"
   ]
  },
  {
   "cell_type": "code",
   "execution_count": 73,
   "id": "39dec028-0266-466f-882e-ebd37fa68880",
   "metadata": {},
   "outputs": [
    {
     "data": {
      "text/plain": [
       "array([[ 0,  1,  2,  3],\n",
       "       [ 4,  5,  6,  7],\n",
       "       [ 8,  9, 10, 11],\n",
       "       [12, 13, 14, 15]])"
      ]
     },
     "execution_count": 73,
     "metadata": {},
     "output_type": "execute_result"
    }
   ],
   "source": [
    "arr1 = np.arange(0, 16, 1).reshape(4, 4)\n",
    "arr1"
   ]
  },
  {
   "cell_type": "code",
   "execution_count": 75,
   "id": "bd6fd5c8-c96c-4661-b2d6-6ca4ee8664a3",
   "metadata": {},
   "outputs": [
    {
     "data": {
      "text/plain": [
       "array([[ 0,  1,  2,  3,  4,  5,  6,  7,  8,  9, 10, 11, 12, 13, 14, 15]])"
      ]
     },
     "execution_count": 75,
     "metadata": {},
     "output_type": "execute_result"
    }
   ],
   "source": [
    "# To give a new shape to an array without changing its data\n",
    "arr1.reshape(1, 16)"
   ]
  },
  {
   "cell_type": "code",
   "execution_count": 77,
   "id": "20dc2632-1ec9-449f-a68e-bda556f19e72",
   "metadata": {},
   "outputs": [
    {
     "data": {
      "text/plain": [
       "array([[ 0,  1,  2,  3,  4,  5,  6,  7],\n",
       "       [ 8,  9, 10, 11, 12, 13, 14, 15]])"
      ]
     },
     "execution_count": 77,
     "metadata": {},
     "output_type": "execute_result"
    }
   ],
   "source": [
    "arr1.reshape(2, 8)"
   ]
  },
  {
   "cell_type": "code",
   "execution_count": 79,
   "id": "7aed363b-a253-4c71-91a2-6b01440a06e1",
   "metadata": {},
   "outputs": [
    {
     "ename": "ValueError",
     "evalue": "cannot reshape array of size 16 into shape (6,4)",
     "output_type": "error",
     "traceback": [
      "\u001b[1;31m---------------------------------------------------------------------------\u001b[0m",
      "\u001b[1;31mValueError\u001b[0m                                Traceback (most recent call last)",
      "Cell \u001b[1;32mIn[79], line 1\u001b[0m\n\u001b[1;32m----> 1\u001b[0m arr1\u001b[38;5;241m.\u001b[39mreshape(\u001b[38;5;241m6\u001b[39m, \u001b[38;5;241m4\u001b[39m)\n",
      "\u001b[1;31mValueError\u001b[0m: cannot reshape array of size 16 into shape (6,4)"
     ]
    }
   ],
   "source": [
    "arr1.reshape(6, 4)"
   ]
  },
  {
   "cell_type": "code",
   "execution_count": 83,
   "id": "dc7d973f-a053-4200-b22a-060c889440b1",
   "metadata": {},
   "outputs": [
    {
     "data": {
      "text/plain": [
       "array([[35, 32, 50, 69],\n",
       "       [ 7,  7, 26, 81],\n",
       "       [ 0, 60, 17, 76]])"
      ]
     },
     "execution_count": 83,
     "metadata": {},
     "output_type": "execute_result"
    }
   ],
   "source": [
    "arr1 = np.random.randint(0, 100, 12).reshape(3, 4)\n",
    "arr1"
   ]
  },
  {
   "cell_type": "code",
   "execution_count": 85,
   "id": "76e943cb-474d-404c-a3a2-db0a4661ad07",
   "metadata": {},
   "outputs": [
    {
     "data": {
      "text/plain": [
       "2"
      ]
     },
     "execution_count": 85,
     "metadata": {},
     "output_type": "execute_result"
    }
   ],
   "source": [
    "# The ndim attribute\n",
    "arr1.ndim"
   ]
  },
  {
   "cell_type": "code",
   "execution_count": 87,
   "id": "aa8a2377-2c94-4aa2-96ab-268ea5d9f533",
   "metadata": {},
   "outputs": [
    {
     "data": {
      "text/plain": [
       "81"
      ]
     },
     "execution_count": 87,
     "metadata": {},
     "output_type": "execute_result"
    }
   ],
   "source": [
    "arr1.max()"
   ]
  },
  {
   "cell_type": "code",
   "execution_count": 89,
   "id": "1a1caa3d-9022-4c1a-b4e1-b3a36602a338",
   "metadata": {},
   "outputs": [
    {
     "data": {
      "text/plain": [
       "0"
      ]
     },
     "execution_count": 89,
     "metadata": {},
     "output_type": "execute_result"
    }
   ],
   "source": [
    "arr1.min()"
   ]
  },
  {
   "cell_type": "code",
   "execution_count": 91,
   "id": "87d16f36-bc13-40a0-9957-a3d75268d473",
   "metadata": {},
   "outputs": [
    {
     "data": {
      "text/plain": [
       "7"
      ]
     },
     "execution_count": 91,
     "metadata": {},
     "output_type": "execute_result"
    }
   ],
   "source": [
    "arr1.argmax()"
   ]
  },
  {
   "cell_type": "code",
   "execution_count": 93,
   "id": "1769e659-3c8f-4fe0-9426-c61af4a582b0",
   "metadata": {},
   "outputs": [
    {
     "data": {
      "text/plain": [
       "array([81, 42, 76,  3, 88, 90, 99, 52, 18, 16, 85, 12])"
      ]
     },
     "execution_count": 93,
     "metadata": {},
     "output_type": "execute_result"
    }
   ],
   "source": [
    "arr1 = np.random.randint(0, 100, 12)\n",
    "arr1"
   ]
  },
  {
   "cell_type": "code",
   "execution_count": 95,
   "id": "5e4344f9-10b2-4f82-87b3-31d9cf118e60",
   "metadata": {},
   "outputs": [
    {
     "data": {
      "text/plain": [
       "6"
      ]
     },
     "execution_count": 95,
     "metadata": {},
     "output_type": "execute_result"
    }
   ],
   "source": [
    "arr1.argmax()"
   ]
  },
  {
   "cell_type": "code",
   "execution_count": 97,
   "id": "46e67c76-5c21-49d0-9c0c-26e141a24e52",
   "metadata": {},
   "outputs": [
    {
     "data": {
      "text/plain": [
       "3"
      ]
     },
     "execution_count": 97,
     "metadata": {},
     "output_type": "execute_result"
    }
   ],
   "source": [
    "arr1.argmin()"
   ]
  },
  {
   "cell_type": "code",
   "execution_count": 99,
   "id": "1b2572e2-a109-4724-b73f-f235b634c16b",
   "metadata": {},
   "outputs": [
    {
     "data": {
      "text/plain": [
       "array([[81, 42, 76,  3],\n",
       "       [88, 90, 99, 52],\n",
       "       [18, 16, 85, 12]])"
      ]
     },
     "execution_count": 99,
     "metadata": {},
     "output_type": "execute_result"
    }
   ],
   "source": [
    "arr2 = arr1.reshape(3, 4)\n",
    "arr2"
   ]
  },
  {
   "cell_type": "code",
   "execution_count": 101,
   "id": "3986f65f-1060-4666-8df3-222db4e02221",
   "metadata": {},
   "outputs": [
    {
     "data": {
      "text/plain": [
       "array([88, 90, 99, 52])"
      ]
     },
     "execution_count": 101,
     "metadata": {},
     "output_type": "execute_result"
    }
   ],
   "source": [
    "# Descriptive statistics along the rows and columns\n",
    "arr2.max(axis = 0)"
   ]
  },
  {
   "cell_type": "code",
   "execution_count": 103,
   "id": "24c03f9a-030f-41ca-86b5-abf7ede8fd95",
   "metadata": {},
   "outputs": [
    {
     "data": {
      "text/plain": [
       "array([1, 1, 1, 1], dtype=int64)"
      ]
     },
     "execution_count": 103,
     "metadata": {},
     "output_type": "execute_result"
    }
   ],
   "source": [
    "arr2.argmax(axis = 0)"
   ]
  },
  {
   "cell_type": "code",
   "execution_count": 105,
   "id": "bb860625-c7dc-482b-b7bb-f59286b6d40d",
   "metadata": {},
   "outputs": [
    {
     "data": {
      "text/plain": [
       "array([ 3, 52, 12])"
      ]
     },
     "execution_count": 105,
     "metadata": {},
     "output_type": "execute_result"
    }
   ],
   "source": [
    "arr2.min(axis = 1)"
   ]
  },
  {
   "cell_type": "code",
   "execution_count": 107,
   "id": "0727b187-acdb-4060-97bb-a1985129074b",
   "metadata": {},
   "outputs": [
    {
     "data": {
      "text/plain": [
       "array([3, 3, 3], dtype=int64)"
      ]
     },
     "execution_count": 107,
     "metadata": {},
     "output_type": "execute_result"
    }
   ],
   "source": [
    "arr2.argmin(axis = 1)"
   ]
  },
  {
   "cell_type": "code",
   "execution_count": 109,
   "id": "aa3ca1fb-47dd-466c-9f75-79b6e8983372",
   "metadata": {},
   "outputs": [
    {
     "data": {
      "text/plain": [
       "array([50.5 , 82.25, 32.75])"
      ]
     },
     "execution_count": 109,
     "metadata": {},
     "output_type": "execute_result"
    }
   ],
   "source": [
    "np.mean(arr2, axis = 1)"
   ]
  },
  {
   "cell_type": "code",
   "execution_count": 111,
   "id": "46c8729f-e9e5-455c-b40e-d18277bbf462",
   "metadata": {},
   "outputs": [
    {
     "data": {
      "text/plain": [
       "array([[1, 2, 3],\n",
       "       [4, 5, 6]])"
      ]
     },
     "execution_count": 111,
     "metadata": {},
     "output_type": "execute_result"
    }
   ],
   "source": [
    "arr1 = np.arange(1, 7, 1).reshape(2, 3)\n",
    "arr1"
   ]
  },
  {
   "cell_type": "code",
   "execution_count": 113,
   "id": "d3379e0b-767e-44da-9e0f-d6d0dc7f0cf3",
   "metadata": {},
   "outputs": [
    {
     "data": {
      "text/plain": [
       "array([2.5, 3.5, 4.5])"
      ]
     },
     "execution_count": 113,
     "metadata": {},
     "output_type": "execute_result"
    }
   ],
   "source": [
    "np.mean(arr1, axis = 0)"
   ]
  },
  {
   "cell_type": "code",
   "execution_count": 115,
   "id": "abc7cb83-9860-44fd-8998-77aa83025550",
   "metadata": {},
   "outputs": [
    {
     "data": {
      "text/plain": [
       "array([0.81649658, 0.81649658])"
      ]
     },
     "execution_count": 115,
     "metadata": {},
     "output_type": "execute_result"
    }
   ],
   "source": [
    "np.std(arr1, axis = 1)"
   ]
  },
  {
   "cell_type": "code",
   "execution_count": null,
   "id": "17939289-13b6-4d36-846a-84d36c3228a2",
   "metadata": {},
   "outputs": [],
   "source": [
    "# The dtype attribute"
   ]
  },
  {
   "cell_type": "code",
   "execution_count": 117,
   "id": "ddc5b547-40c1-4ce6-bfb9-85ee72abf93e",
   "metadata": {},
   "outputs": [
    {
     "data": {
      "text/plain": [
       "dtype('int32')"
      ]
     },
     "execution_count": 117,
     "metadata": {},
     "output_type": "execute_result"
    }
   ],
   "source": [
    "arr1.dtype"
   ]
  },
  {
   "cell_type": "code",
   "execution_count": 119,
   "id": "e82cf91b-2e45-47ca-a628-67f85c37ab1e",
   "metadata": {},
   "outputs": [
    {
     "data": {
      "text/plain": [
       "dtype('float64')"
      ]
     },
     "execution_count": 119,
     "metadata": {},
     "output_type": "execute_result"
    }
   ],
   "source": [
    "arr2 = np.array([.1, .2, .3])\n",
    "arr2.dtype"
   ]
  },
  {
   "cell_type": "code",
   "execution_count": 121,
   "id": "20dbb9ba-8a73-4aa9-995e-5c85f03f561a",
   "metadata": {},
   "outputs": [
    {
     "data": {
      "text/plain": [
       "dtype('<U6')"
      ]
     },
     "execution_count": 121,
     "metadata": {},
     "output_type": "execute_result"
    }
   ],
   "source": [
    "arr3 = np.array([\"Sue\", \"Jack\", \"Daniel\"])\n",
    "arr3.dtype"
   ]
  },
  {
   "cell_type": "code",
   "execution_count": 123,
   "id": "ceef9d49-6c0a-4986-9de4-061710976587",
   "metadata": {},
   "outputs": [
    {
     "data": {
      "text/plain": [
       "array([10, 11, 12, 13, 14, 15, 16, 17, 18, 19])"
      ]
     },
     "execution_count": 123,
     "metadata": {},
     "output_type": "execute_result"
    }
   ],
   "source": [
    "# Indexing and slicing for 1-d arrays\n",
    "arr1 = np.arange(10, 20, 1)\n",
    "arr1"
   ]
  },
  {
   "cell_type": "code",
   "execution_count": 125,
   "id": "9bb3ceae-73e8-472b-b444-8ff73a36b97a",
   "metadata": {},
   "outputs": [
    {
     "data": {
      "text/plain": [
       "12"
      ]
     },
     "execution_count": 125,
     "metadata": {},
     "output_type": "execute_result"
    }
   ],
   "source": [
    "arr1[2]"
   ]
  },
  {
   "cell_type": "code",
   "execution_count": 127,
   "id": "a0cdd802-6892-4bcf-801c-1b69d7c50c7c",
   "metadata": {},
   "outputs": [
    {
     "data": {
      "text/plain": [
       "array([10, 11, 12, 13])"
      ]
     },
     "execution_count": 127,
     "metadata": {},
     "output_type": "execute_result"
    }
   ],
   "source": [
    "arr1[:4]"
   ]
  },
  {
   "cell_type": "code",
   "execution_count": 129,
   "id": "30a3954e-bdbd-43d9-8c75-b0219359c5ce",
   "metadata": {},
   "outputs": [
    {
     "data": {
      "text/plain": [
       "array([11, 12, 13, 14, 15, 16, 17, 18, 19])"
      ]
     },
     "execution_count": 129,
     "metadata": {},
     "output_type": "execute_result"
    }
   ],
   "source": [
    "arr1[1:]"
   ]
  },
  {
   "cell_type": "code",
   "execution_count": 131,
   "id": "324ea447-e6d3-49cd-814e-d2144aa29551",
   "metadata": {},
   "outputs": [
    {
     "data": {
      "text/plain": [
       "array([11, 12, 13])"
      ]
     },
     "execution_count": 131,
     "metadata": {},
     "output_type": "execute_result"
    }
   ],
   "source": [
    "arr1[1:4]"
   ]
  },
  {
   "cell_type": "code",
   "execution_count": 133,
   "id": "d1704bbc-9dd5-4f73-ba48-ad6eb3e4e834",
   "metadata": {},
   "outputs": [
    {
     "data": {
      "text/plain": [
       "array([10, 11, 12, 13, 14, 15, 16, 17, 18, 19])"
      ]
     },
     "execution_count": 133,
     "metadata": {},
     "output_type": "execute_result"
    }
   ],
   "source": [
    "arr1[:]"
   ]
  },
  {
   "cell_type": "code",
   "execution_count": 135,
   "id": "6b93aa85-e457-4e24-9f0e-4ae682c68a4d",
   "metadata": {},
   "outputs": [
    {
     "data": {
      "text/plain": [
       "array([10, 11, 12, 13, 14, 15, 16, 17, 18, 19])"
      ]
     },
     "execution_count": 135,
     "metadata": {},
     "output_type": "execute_result"
    }
   ],
   "source": [
    "arr1"
   ]
  },
  {
   "cell_type": "code",
   "execution_count": 137,
   "id": "8c27f3d3-89bc-42c2-95ff-5856e352080d",
   "metadata": {},
   "outputs": [
    {
     "data": {
      "text/plain": [
       "array([99, 99, 99, 99, 14, 15, 16, 17, 18, 19])"
      ]
     },
     "execution_count": 137,
     "metadata": {},
     "output_type": "execute_result"
    }
   ],
   "source": [
    "arr1[:4] = 99\n",
    "arr1"
   ]
  },
  {
   "cell_type": "code",
   "execution_count": 139,
   "id": "f50aaefb-1afc-4d46-834b-2a2447cfabbd",
   "metadata": {},
   "outputs": [
    {
     "ename": "TypeError",
     "evalue": "can only assign an iterable",
     "output_type": "error",
     "traceback": [
      "\u001b[1;31m---------------------------------------------------------------------------\u001b[0m",
      "\u001b[1;31mTypeError\u001b[0m                                 Traceback (most recent call last)",
      "Cell \u001b[1;32mIn[139], line 2\u001b[0m\n\u001b[0;32m      1\u001b[0m mylist \u001b[38;5;241m=\u001b[39m [\u001b[38;5;241m1\u001b[39m, \u001b[38;5;241m2\u001b[39m, \u001b[38;5;241m3\u001b[39m]\n\u001b[1;32m----> 2\u001b[0m mylist[:\u001b[38;5;241m2\u001b[39m] \u001b[38;5;241m=\u001b[39m \u001b[38;5;241m-\u001b[39m\u001b[38;5;241m1\u001b[39m\n",
      "\u001b[1;31mTypeError\u001b[0m: can only assign an iterable"
     ]
    }
   ],
   "source": [
    "mylist = [1, 2, 3]\n",
    "mylist[:2] = -1"
   ]
  },
  {
   "cell_type": "code",
   "execution_count": 141,
   "id": "aa2e8d43-c61c-4eb9-bd94-9ca872300a64",
   "metadata": {},
   "outputs": [
    {
     "data": {
      "text/plain": [
       "array([10, 11, 12, 13, 14, 15, 16, 17, 18, 19])"
      ]
     },
     "execution_count": 141,
     "metadata": {},
     "output_type": "execute_result"
    }
   ],
   "source": [
    "arr1 = np.arange(10, 20, 1)\n",
    "arr1"
   ]
  },
  {
   "cell_type": "code",
   "execution_count": 143,
   "id": "c7a2886b-2f99-4295-9d05-82a0e9dc7ba8",
   "metadata": {},
   "outputs": [
    {
     "data": {
      "text/plain": [
       "array([11, 12, 13])"
      ]
     },
     "execution_count": 143,
     "metadata": {},
     "output_type": "execute_result"
    }
   ],
   "source": [
    "arr2 = arr1[1:4]\n",
    "arr2"
   ]
  },
  {
   "cell_type": "code",
   "execution_count": 147,
   "id": "57336449-e70c-47a3-b52f-7398c6ae82b2",
   "metadata": {},
   "outputs": [
    {
     "data": {
      "text/plain": [
       "array([-1, -1, -1])"
      ]
     },
     "execution_count": 147,
     "metadata": {},
     "output_type": "execute_result"
    }
   ],
   "source": [
    "# Changes in a slice of an array affect the original array\n",
    "arr2[:] = -1\n",
    "arr2"
   ]
  },
  {
   "cell_type": "code",
   "execution_count": 149,
   "id": "a1ea13ec-9d6d-435e-bc8f-e008c677bdbd",
   "metadata": {},
   "outputs": [
    {
     "data": {
      "text/plain": [
       "array([10, -1, -1, -1, 14, 15, 16, 17, 18, 19])"
      ]
     },
     "execution_count": 149,
     "metadata": {},
     "output_type": "execute_result"
    }
   ],
   "source": [
    "arr1"
   ]
  },
  {
   "cell_type": "code",
   "execution_count": 151,
   "id": "082db258-a4bc-4981-b4ea-dae84d143df7",
   "metadata": {},
   "outputs": [
    {
     "data": {
      "text/plain": [
       "array([[10, 11, 12, 13],\n",
       "       [14, 15, 16, 17],\n",
       "       [18, 19, 20, 21],\n",
       "       [22, 23, 24, 25]])"
      ]
     },
     "execution_count": 151,
     "metadata": {},
     "output_type": "execute_result"
    }
   ],
   "source": [
    "# Indexing and slicing for 2-d arrays\n",
    "arr1 = np.arange(10, 26, 1).reshape(4, 4)\n",
    "arr1"
   ]
  },
  {
   "cell_type": "code",
   "execution_count": 153,
   "id": "3c2a622f-b998-4d60-a79d-8bf3bebf3ea1",
   "metadata": {},
   "outputs": [
    {
     "data": {
      "text/plain": [
       "array([14, 15, 16, 17])"
      ]
     },
     "execution_count": 153,
     "metadata": {},
     "output_type": "execute_result"
    }
   ],
   "source": [
    "arr1[1]"
   ]
  },
  {
   "cell_type": "code",
   "execution_count": 155,
   "id": "262d57b7-0000-4e1b-9968-a300e6e3a5e3",
   "metadata": {},
   "outputs": [
    {
     "data": {
      "text/plain": [
       "array([14, 15, 16, 17])"
      ]
     },
     "execution_count": 155,
     "metadata": {},
     "output_type": "execute_result"
    }
   ],
   "source": [
    "arr1[1, :]"
   ]
  },
  {
   "cell_type": "code",
   "execution_count": 157,
   "id": "8dac96d5-c55b-4fec-8dc7-9fc1312f0066",
   "metadata": {},
   "outputs": [
    {
     "data": {
      "text/plain": [
       "16"
      ]
     },
     "execution_count": 157,
     "metadata": {},
     "output_type": "execute_result"
    }
   ],
   "source": [
    "arr1[1][2]"
   ]
  },
  {
   "cell_type": "code",
   "execution_count": 159,
   "id": "e273f6d6-ee85-4fe8-baad-b7bf4ec6c0e4",
   "metadata": {},
   "outputs": [
    {
     "data": {
      "text/plain": [
       "16"
      ]
     },
     "execution_count": 159,
     "metadata": {},
     "output_type": "execute_result"
    }
   ],
   "source": [
    "arr1[1, :][2]"
   ]
  },
  {
   "cell_type": "code",
   "execution_count": 161,
   "id": "4e56e1b4-5ce0-457a-982a-e3780087061f",
   "metadata": {},
   "outputs": [
    {
     "data": {
      "text/plain": [
       "array([13, 17, 21, 25])"
      ]
     },
     "execution_count": 161,
     "metadata": {},
     "output_type": "execute_result"
    }
   ],
   "source": [
    "arr1[:, 3]"
   ]
  },
  {
   "cell_type": "code",
   "execution_count": 163,
   "id": "f8156465-b4ac-4827-b475-c1ef0a9b0ae7",
   "metadata": {},
   "outputs": [
    {
     "data": {
      "text/plain": [
       "array([[10, 11, 12, 13],\n",
       "       [14, 15, 16, 17],\n",
       "       [18, 19, 20, 21],\n",
       "       [22, 23, 24, 25]])"
      ]
     },
     "execution_count": 163,
     "metadata": {},
     "output_type": "execute_result"
    }
   ],
   "source": [
    "arr1"
   ]
  },
  {
   "cell_type": "code",
   "execution_count": 165,
   "id": "3def6f2d-00e0-4cdd-abe2-8585932b085c",
   "metadata": {},
   "outputs": [
    {
     "data": {
      "text/plain": [
       "array([16, 20])"
      ]
     },
     "execution_count": 165,
     "metadata": {},
     "output_type": "execute_result"
    }
   ],
   "source": [
    "arr1[1:3, 2]"
   ]
  },
  {
   "cell_type": "code",
   "execution_count": 167,
   "id": "5f13c822-1664-43e5-afa2-c26aeaf32e8e",
   "metadata": {},
   "outputs": [
    {
     "data": {
      "text/plain": [
       "array([[10, 11, 12, 13],\n",
       "       [14, 15, 16, 17]])"
      ]
     },
     "execution_count": 167,
     "metadata": {},
     "output_type": "execute_result"
    }
   ],
   "source": [
    "arr1[:2]"
   ]
  },
  {
   "cell_type": "code",
   "execution_count": 169,
   "id": "bd7db71e-4ac9-45de-b984-024310c6a1d6",
   "metadata": {},
   "outputs": [
    {
     "data": {
      "text/plain": [
       "array([[11, 12, 13],\n",
       "       [15, 16, 17],\n",
       "       [19, 20, 21],\n",
       "       [23, 24, 25]])"
      ]
     },
     "execution_count": 169,
     "metadata": {},
     "output_type": "execute_result"
    }
   ],
   "source": [
    "arr1[:, 1:]"
   ]
  },
  {
   "cell_type": "code",
   "execution_count": 171,
   "id": "b1c42dac-871e-44c4-b34e-078418d83718",
   "metadata": {},
   "outputs": [
    {
     "data": {
      "text/plain": [
       "array([[10, 11, 12, 13],\n",
       "       [14, 15, 16, 17],\n",
       "       [18, 19, 20, 21],\n",
       "       [22, 23, 24, 25]])"
      ]
     },
     "execution_count": 171,
     "metadata": {},
     "output_type": "execute_result"
    }
   ],
   "source": [
    "arr1"
   ]
  },
  {
   "cell_type": "code",
   "execution_count": 173,
   "id": "1ee723fd-834e-458c-8697-e21570d38b83",
   "metadata": {},
   "outputs": [
    {
     "data": {
      "text/plain": [
       "array([[18, 19, 20, 21]])"
      ]
     },
     "execution_count": 173,
     "metadata": {},
     "output_type": "execute_result"
    }
   ],
   "source": [
    "arr1[2:3, :]"
   ]
  },
  {
   "cell_type": "code",
   "execution_count": 175,
   "id": "c52abf7d-2171-4073-a691-949d86f440b5",
   "metadata": {},
   "outputs": [
    {
     "data": {
      "text/plain": [
       "array([[12, 13],\n",
       "       [16, 17]])"
      ]
     },
     "execution_count": 175,
     "metadata": {},
     "output_type": "execute_result"
    }
   ],
   "source": [
    "arr1[:2, 2:]"
   ]
  },
  {
   "cell_type": "code",
   "execution_count": 177,
   "id": "e3b25eee-e734-410b-a4a7-f19ed9a230c8",
   "metadata": {},
   "outputs": [
    {
     "data": {
      "text/plain": [
       "array([[14, 15, 16],\n",
       "       [18, 19, 20],\n",
       "       [22, 23, 24]])"
      ]
     },
     "execution_count": 177,
     "metadata": {},
     "output_type": "execute_result"
    }
   ],
   "source": [
    "arr1[1:, :3]"
   ]
  },
  {
   "cell_type": "code",
   "execution_count": 179,
   "id": "92704836-1345-4201-9ecb-ef742fbd16fb",
   "metadata": {},
   "outputs": [
    {
     "data": {
      "text/plain": [
       "array([[ 1.,  1.,  1.,  1.,  1.,  1.,  1.,  1.,  1.,  1.],\n",
       "       [ 2.,  2.,  2.,  2.,  2.,  2.,  2.,  2.,  2.,  2.],\n",
       "       [ 3.,  3.,  3.,  3.,  3.,  3.,  3.,  3.,  3.,  3.],\n",
       "       [ 4.,  4.,  4.,  4.,  4.,  4.,  4.,  4.,  4.,  4.],\n",
       "       [ 5.,  5.,  5.,  5.,  5.,  5.,  5.,  5.,  5.,  5.],\n",
       "       [ 6.,  6.,  6.,  6.,  6.,  6.,  6.,  6.,  6.,  6.],\n",
       "       [ 7.,  7.,  7.,  7.,  7.,  7.,  7.,  7.,  7.,  7.],\n",
       "       [ 8.,  8.,  8.,  8.,  8.,  8.,  8.,  8.,  8.,  8.],\n",
       "       [ 9.,  9.,  9.,  9.,  9.,  9.,  9.,  9.,  9.,  9.],\n",
       "       [10., 10., 10., 10., 10., 10., 10., 10., 10., 10.]])"
      ]
     },
     "execution_count": 179,
     "metadata": {},
     "output_type": "execute_result"
    }
   ],
   "source": [
    "arr1 = np.zeros((10, 10))\n",
    "for i in range(0, 10, 1):\n",
    "    arr1[i] = i + 1\n",
    "arr1"
   ]
  },
  {
   "cell_type": "code",
   "execution_count": 183,
   "id": "d0e16f90-2ac0-49b0-9e60-afd5dfb7254e",
   "metadata": {},
   "outputs": [
    {
     "data": {
      "text/plain": [
       "array([[ 1.,  2.,  3.,  4.,  5.,  6.,  7.,  8.,  9., 10.],\n",
       "       [ 1.,  2.,  3.,  4.,  5.,  6.,  7.,  8.,  9., 10.],\n",
       "       [ 1.,  2.,  3.,  4.,  5.,  6.,  7.,  8.,  9., 10.],\n",
       "       [ 1.,  2.,  3.,  4.,  5.,  6.,  7.,  8.,  9., 10.],\n",
       "       [ 1.,  2.,  3.,  4.,  5.,  6.,  7.,  8.,  9., 10.],\n",
       "       [ 1.,  2.,  3.,  4.,  5.,  6.,  7.,  8.,  9., 10.],\n",
       "       [ 1.,  2.,  3.,  4.,  5.,  6.,  7.,  8.,  9., 10.],\n",
       "       [ 1.,  2.,  3.,  4.,  5.,  6.,  7.,  8.,  9., 10.],\n",
       "       [ 1.,  2.,  3.,  4.,  5.,  6.,  7.,  8.,  9., 10.],\n",
       "       [ 1.,  2.,  3.,  4.,  5.,  6.,  7.,  8.,  9., 10.]])"
      ]
     },
     "execution_count": 183,
     "metadata": {},
     "output_type": "execute_result"
    }
   ],
   "source": [
    "arr1 = np.zeros((10, 10))\n",
    "for i in range(0, 10, 1):\n",
    "    arr1[:, i] = i + 1\n",
    "arr1"
   ]
  },
  {
   "cell_type": "code",
   "execution_count": 185,
   "id": "a98cb04e-2535-4493-ad44-84878e8ac452",
   "metadata": {},
   "outputs": [
    {
     "data": {
      "text/plain": [
       "array([[ 1.,  0.,  0.,  0.,  0.,  0.,  0.,  0.,  0.,  0.],\n",
       "       [ 0.,  2.,  0.,  0.,  0.,  0.,  0.,  0.,  0.,  0.],\n",
       "       [ 0.,  0.,  3.,  0.,  0.,  0.,  0.,  0.,  0.,  0.],\n",
       "       [ 0.,  0.,  0.,  4.,  0.,  0.,  0.,  0.,  0.,  0.],\n",
       "       [ 0.,  0.,  0.,  0.,  5.,  0.,  0.,  0.,  0.,  0.],\n",
       "       [ 0.,  0.,  0.,  0.,  0.,  6.,  0.,  0.,  0.,  0.],\n",
       "       [ 0.,  0.,  0.,  0.,  0.,  0.,  7.,  0.,  0.,  0.],\n",
       "       [ 0.,  0.,  0.,  0.,  0.,  0.,  0.,  8.,  0.,  0.],\n",
       "       [ 0.,  0.,  0.,  0.,  0.,  0.,  0.,  0.,  9.,  0.],\n",
       "       [ 0.,  0.,  0.,  0.,  0.,  0.,  0.,  0.,  0., 10.]])"
      ]
     },
     "execution_count": 185,
     "metadata": {},
     "output_type": "execute_result"
    }
   ],
   "source": [
    "arr1 = np.zeros((10, 10))\n",
    "for i in range(0, 10, 1):\n",
    "    arr1[i, i] = i + 1\n",
    "arr1"
   ]
  },
  {
   "cell_type": "markdown",
   "id": "f95adfce-965d-4ac0-afe3-245ee8ce8429",
   "metadata": {},
   "source": [
    "# 11.13.24"
   ]
  },
  {
   "cell_type": "code",
   "execution_count": 32,
   "id": "7cbcd0fa-2a4e-4718-ab35-aae71a915c2a",
   "metadata": {},
   "outputs": [],
   "source": [
    "# NUMPY (cont.)\n",
    "import numpy as np"
   ]
  },
  {
   "cell_type": "code",
   "execution_count": 34,
   "id": "1693a6ab-d22d-4843-bffa-b824cb0731d0",
   "metadata": {},
   "outputs": [],
   "source": [
    "# Basic indexing a of array segments in a 2-d array:\n",
    "  # TwoD[row_indixes] --> to select rows\n",
    "  # TwoD[row_indices, column_indices] --> to select rows and columns"
   ]
  },
  {
   "cell_type": "code",
   "execution_count": 36,
   "id": "85bfb61b-e604-4036-8a36-4ac38fd08685",
   "metadata": {},
   "outputs": [
    {
     "data": {
      "text/plain": [
       "array([[10, 11, 12, 13],\n",
       "       [14, 15, 16, 17],\n",
       "       [18, 19, 20, 21],\n",
       "       [22, 23, 24, 25]])"
      ]
     },
     "execution_count": 36,
     "metadata": {},
     "output_type": "execute_result"
    }
   ],
   "source": [
    "arr1 = np.arange(10, 26, 1).reshape(4, 4)\n",
    "arr1"
   ]
  },
  {
   "cell_type": "code",
   "execution_count": 38,
   "id": "b245e38b-09f6-4ee8-a35a-5fa9f540ad09",
   "metadata": {},
   "outputs": [
    {
     "data": {
      "text/plain": [
       "array([[18, 19],\n",
       "       [22, 23]])"
      ]
     },
     "execution_count": 38,
     "metadata": {},
     "output_type": "execute_result"
    }
   ],
   "source": [
    "# a 2x2 sub-matrix from the bottom left corner\n",
    "arr1[2:, :2]"
   ]
  },
  {
   "cell_type": "code",
   "execution_count": 40,
   "id": "f9267b07-ab1f-48bf-9cc1-d467e35c31da",
   "metadata": {},
   "outputs": [],
   "source": [
    "# BooLean indexing (conditional selection)\n",
    "  # array[BooLean_Array]\n",
    "\n",
    "# The arrays have the same shape --> items from the main array corresponding to True values in the BooLean array will be returned.\n",
    "# The number of rows in the 2-d array equals the length of the 1-d BooLean array --> rows corresponding to True values will be returned."
   ]
  },
  {
   "cell_type": "code",
   "execution_count": 42,
   "id": "f5b47dc5-58ee-4044-bb07-1289d4d43258",
   "metadata": {},
   "outputs": [],
   "source": [
    "# Fancy indexing\n",
    "  # Supplying an array of indixes to another array --> a new array will be indexed in the custom order specified."
   ]
  },
  {
   "cell_type": "code",
   "execution_count": 44,
   "id": "687f20b8-8743-4846-9063-05f6cc90f987",
   "metadata": {},
   "outputs": [
    {
     "data": {
      "text/plain": [
       "array([1, 2, 3, 4, 5, 6, 7, 8])"
      ]
     },
     "execution_count": 44,
     "metadata": {},
     "output_type": "execute_result"
    }
   ],
   "source": [
    "arr1 = np.arange(1, 9, 1)\n",
    "arr1"
   ]
  },
  {
   "cell_type": "code",
   "execution_count": 46,
   "id": "a6b2734f-f18c-45bd-b684-015e9da89be7",
   "metadata": {},
   "outputs": [
    {
     "data": {
      "text/plain": [
       "array([False, False, False, False, False,  True,  True,  True])"
      ]
     },
     "execution_count": 46,
     "metadata": {},
     "output_type": "execute_result"
    }
   ],
   "source": [
    "arr2 = arr1 >=6\n",
    "arr2"
   ]
  },
  {
   "cell_type": "code",
   "execution_count": 48,
   "id": "f4c303a8-a739-4e65-8f42-8c2be4a2eee7",
   "metadata": {},
   "outputs": [
    {
     "data": {
      "text/plain": [
       "array([6, 7, 8])"
      ]
     },
     "execution_count": 48,
     "metadata": {},
     "output_type": "execute_result"
    }
   ],
   "source": [
    "arr1[arr2]"
   ]
  },
  {
   "cell_type": "code",
   "execution_count": 50,
   "id": "a0636789-2bcf-4449-901f-434a5ea1fc4a",
   "metadata": {},
   "outputs": [
    {
     "data": {
      "text/plain": [
       "array([7, 8])"
      ]
     },
     "execution_count": 50,
     "metadata": {},
     "output_type": "execute_result"
    }
   ],
   "source": [
    "arr1[arr1 > 6]"
   ]
  },
  {
   "cell_type": "code",
   "execution_count": 52,
   "id": "723d4570-fb5f-42ea-9403-e407137fdaa4",
   "metadata": {},
   "outputs": [
    {
     "data": {
      "text/plain": [
       "array([[ 0,  1,  2,  3,  4,  5,  6,  7,  8,  9],\n",
       "       [10, 11, 12, 13, 14, 15, 16, 17, 18, 19],\n",
       "       [20, 21, 22, 23, 24, 25, 26, 27, 28, 29],\n",
       "       [30, 31, 32, 33, 34, 35, 36, 37, 38, 39],\n",
       "       [40, 41, 42, 43, 44, 45, 46, 47, 48, 49],\n",
       "       [50, 51, 52, 53, 54, 55, 56, 57, 58, 59]])"
      ]
     },
     "execution_count": 52,
     "metadata": {},
     "output_type": "execute_result"
    }
   ],
   "source": [
    "arr1 = np.arange(0, 60, 1).reshape(6, 10)\n",
    "arr1"
   ]
  },
  {
   "cell_type": "code",
   "execution_count": 54,
   "id": "50e503b9-df7c-4221-ac2b-16465df2bfb0",
   "metadata": {},
   "outputs": [
    {
     "data": {
      "text/plain": [
       "array([0, 1, 2, 3, 4])"
      ]
     },
     "execution_count": 54,
     "metadata": {},
     "output_type": "execute_result"
    }
   ],
   "source": [
    "arr1[arr1 <= 4]"
   ]
  },
  {
   "cell_type": "code",
   "execution_count": 56,
   "id": "6ebed926-fd30-4fdc-ac31-6c6e09ddbb4d",
   "metadata": {},
   "outputs": [
    {
     "data": {
      "text/plain": [
       "array([[0., 1., 2., 3., 4., 5., 6., 7., 8., 9.],\n",
       "       [0., 1., 2., 3., 4., 5., 6., 7., 8., 9.],\n",
       "       [0., 1., 2., 3., 4., 5., 6., 7., 8., 9.],\n",
       "       [0., 1., 2., 3., 4., 5., 6., 7., 8., 9.],\n",
       "       [0., 1., 2., 3., 4., 5., 6., 7., 8., 9.],\n",
       "       [0., 1., 2., 3., 4., 5., 6., 7., 8., 9.]])"
      ]
     },
     "execution_count": 56,
     "metadata": {},
     "output_type": "execute_result"
    }
   ],
   "source": [
    "arr2 = np.zeros((6, 10))\n",
    "for i in range(0, 10, 1):\n",
    "    arr2[:, i] = i\n",
    "arr2"
   ]
  },
  {
   "cell_type": "code",
   "execution_count": 58,
   "id": "ba24db72-3c7f-437c-afee-3bf4356b52b1",
   "metadata": {},
   "outputs": [
    {
     "data": {
      "text/plain": [
       "array([ 8,  9, 18, 19, 28, 29, 38, 39, 48, 49, 58, 59])"
      ]
     },
     "execution_count": 58,
     "metadata": {},
     "output_type": "execute_result"
    }
   ],
   "source": [
    "arr1[arr2 >= 8]"
   ]
  },
  {
   "cell_type": "code",
   "execution_count": 60,
   "id": "fcc9e296-fe87-4dfa-b07b-92da0b021e84",
   "metadata": {},
   "outputs": [
    {
     "data": {
      "text/plain": [
       "array([[ 0,  1,  2,  3,  4,  5,  6,  7,  8,  9],\n",
       "       [10, 11, 12, 13, 14, 15, 16, 17, 18, 19],\n",
       "       [20, 21, 22, 23, 24, 25, 26, 27, 28, 29],\n",
       "       [30, 31, 32, 33, 34, 35, 36, 37, 38, 39],\n",
       "       [40, 41, 42, 43, 44, 45, 46, 47, 48, 49],\n",
       "       [50, 51, 52, 53, 54, 55, 56, 57, 58, 59]])"
      ]
     },
     "execution_count": 60,
     "metadata": {},
     "output_type": "execute_result"
    }
   ],
   "source": [
    "arr1"
   ]
  },
  {
   "cell_type": "code",
   "execution_count": 62,
   "id": "81978a69-4741-40e4-a781-e03a2c6cf343",
   "metadata": {},
   "outputs": [
    {
     "data": {
      "text/plain": [
       "array(['Apple', 'Google', 'MS', 'Apple', 'Google', 'MS', 'MS'],\n",
       "      dtype='<U6')"
      ]
     },
     "execution_count": 62,
     "metadata": {},
     "output_type": "execute_result"
    }
   ],
   "source": [
    "mylist = \"Apple Google MS Apple Google MS MS\".split()\n",
    "firm = np.array(mylist)\n",
    "firm"
   ]
  },
  {
   "cell_type": "code",
   "execution_count": 64,
   "id": "8aaa58de-09cf-41fc-902f-b9d58e6795aa",
   "metadata": {},
   "outputs": [
    {
     "data": {
      "text/plain": [
       "array([[ 0,  1,  2,  3],\n",
       "       [ 4,  5,  6,  7],\n",
       "       [ 8,  9, 10, 11],\n",
       "       [12, 13, 14, 15],\n",
       "       [16, 17, 18, 19],\n",
       "       [20, 21, 22, 23],\n",
       "       [24, 25, 26, 27]])"
      ]
     },
     "execution_count": 64,
     "metadata": {},
     "output_type": "execute_result"
    }
   ],
   "source": [
    "sales = np.arange(0, 28, 1).reshape(7, 4)\n",
    "sales"
   ]
  },
  {
   "cell_type": "code",
   "execution_count": 66,
   "id": "c9a5428b-cca7-46bc-a40c-48364beeb1dd",
   "metadata": {},
   "outputs": [
    {
     "data": {
      "text/plain": [
       "array([ True, False, False,  True, False, False, False])"
      ]
     },
     "execution_count": 66,
     "metadata": {},
     "output_type": "execute_result"
    }
   ],
   "source": [
    "firm == \"Apple\""
   ]
  },
  {
   "cell_type": "code",
   "execution_count": 68,
   "id": "c77ad996-d650-423f-ba18-b29e1036ed4d",
   "metadata": {},
   "outputs": [
    {
     "data": {
      "text/plain": [
       "9.0"
      ]
     },
     "execution_count": 68,
     "metadata": {},
     "output_type": "execute_result"
    }
   ],
   "source": [
    "np.mean(sales[firm == \"Apple\", 3], axis = 0)"
   ]
  },
  {
   "cell_type": "code",
   "execution_count": 70,
   "id": "c9deea29-e77c-4989-a299-66c8e5a0ac20",
   "metadata": {},
   "outputs": [
    {
     "data": {
      "text/plain": [
       "array([[10, 11],\n",
       "       [22, 23],\n",
       "       [26, 27]])"
      ]
     },
     "execution_count": 70,
     "metadata": {},
     "output_type": "execute_result"
    }
   ],
   "source": [
    "sales[firm == \"MS\", 2:]"
   ]
  },
  {
   "cell_type": "code",
   "execution_count": 72,
   "id": "0d427587-ccfe-426a-9342-ddb0cdf5c798",
   "metadata": {},
   "outputs": [
    {
     "data": {
      "text/plain": [
       "array([10.5, 22.5, 26.5])"
      ]
     },
     "execution_count": 72,
     "metadata": {},
     "output_type": "execute_result"
    }
   ],
   "source": [
    "np.mean(sales[firm == \"MS\", 2:], axis = 1)"
   ]
  },
  {
   "cell_type": "code",
   "execution_count": 74,
   "id": "1da093ba-bb5b-4f4c-aacd-230a77552528",
   "metadata": {},
   "outputs": [
    {
     "data": {
      "text/plain": [
       "array([[ 0,  0,  0,  0],\n",
       "       [ 4,  5,  6,  7],\n",
       "       [ 0,  0,  0,  0],\n",
       "       [ 0,  0,  0,  0],\n",
       "       [16, 17, 18, 19],\n",
       "       [ 0,  0,  0,  0],\n",
       "       [ 0,  0,  0,  0]])"
      ]
     },
     "execution_count": 74,
     "metadata": {},
     "output_type": "execute_result"
    }
   ],
   "source": [
    "sales[(firm == \"MS\") | (firm == \"Apple\")] = 0\n",
    "sales"
   ]
  },
  {
   "cell_type": "code",
   "execution_count": 76,
   "id": "481f01a4-1f42-4ae5-aaa8-86e86eee673f",
   "metadata": {},
   "outputs": [
    {
     "data": {
      "text/plain": [
       "array([[0, 0, 0, 0],\n",
       "       [0, 0, 0, 0],\n",
       "       [0, 0, 0, 0],\n",
       "       [0, 0, 0, 0],\n",
       "       [0, 0, 0, 0]])"
      ]
     },
     "execution_count": 76,
     "metadata": {},
     "output_type": "execute_result"
    }
   ],
   "source": [
    "sales[firm != \"Google\"]"
   ]
  },
  {
   "cell_type": "code",
   "execution_count": 78,
   "id": "95270e6e-a038-4c31-84d7-42548476042a",
   "metadata": {},
   "outputs": [],
   "source": [
    "mylist = [1, 2, 3]"
   ]
  },
  {
   "cell_type": "code",
   "execution_count": 80,
   "id": "258cbafc-d1ac-431c-9c8c-fbc9283d92a6",
   "metadata": {},
   "outputs": [
    {
     "ename": "TypeError",
     "evalue": "can only assign an iterable",
     "output_type": "error",
     "traceback": [
      "\u001b[1;31m---------------------------------------------------------------------------\u001b[0m",
      "\u001b[1;31mTypeError\u001b[0m                                 Traceback (most recent call last)",
      "Cell \u001b[1;32mIn[80], line 1\u001b[0m\n\u001b[1;32m----> 1\u001b[0m mylist[:] \u001b[38;5;241m=\u001b[39m \u001b[38;5;241m99\u001b[39m\n",
      "\u001b[1;31mTypeError\u001b[0m: can only assign an iterable"
     ]
    }
   ],
   "source": [
    "mylist[:] = 99"
   ]
  },
  {
   "cell_type": "code",
   "execution_count": 82,
   "id": "f0332174-4a42-4724-aaa3-0238b82411a0",
   "metadata": {},
   "outputs": [
    {
     "data": {
      "text/plain": [
       "array([10, 11, 12, 13, 14])"
      ]
     },
     "execution_count": 82,
     "metadata": {},
     "output_type": "execute_result"
    }
   ],
   "source": [
    "arr1 = np.array([10, 11, 12, 13, 14])\n",
    "arr1"
   ]
  },
  {
   "cell_type": "code",
   "execution_count": 84,
   "id": "2b6f2549-d8f5-44d2-aad9-1637c9ea96b3",
   "metadata": {},
   "outputs": [],
   "source": [
    "#14 -> 4\n",
    "#10 -> 0\n",
    "#13 -> 3"
   ]
  },
  {
   "cell_type": "code",
   "execution_count": 86,
   "id": "aa103712-bdb1-4f31-bd88-5fc4557c41cc",
   "metadata": {},
   "outputs": [
    {
     "data": {
      "text/plain": [
       "array([14, 10, 13])"
      ]
     },
     "execution_count": 86,
     "metadata": {},
     "output_type": "execute_result"
    }
   ],
   "source": [
    "arr1[np.array([4, 0, 3])]"
   ]
  },
  {
   "cell_type": "code",
   "execution_count": 88,
   "id": "ff053bc4-0559-4558-a426-5305abc25a17",
   "metadata": {},
   "outputs": [
    {
     "data": {
      "text/plain": [
       "array([10, 11, 12, 13, 14])"
      ]
     },
     "execution_count": 88,
     "metadata": {},
     "output_type": "execute_result"
    }
   ],
   "source": [
    "arr1"
   ]
  },
  {
   "cell_type": "code",
   "execution_count": 90,
   "id": "85bd9e7e-4fc5-4210-9da5-35d21b541980",
   "metadata": {},
   "outputs": [
    {
     "data": {
      "text/plain": [
       "array([[ 0,  1,  2,  3],\n",
       "       [ 4,  5,  6,  7],\n",
       "       [ 8,  9, 10, 11],\n",
       "       [12, 13, 14, 15],\n",
       "       [16, 17, 18, 19],\n",
       "       [20, 21, 22, 23],\n",
       "       [24, 25, 26, 27],\n",
       "       [28, 29, 30, 31]])"
      ]
     },
     "execution_count": 90,
     "metadata": {},
     "output_type": "execute_result"
    }
   ],
   "source": [
    "arr2 = np.arange(0, 32, 1).reshape(8, 4)\n",
    "arr2"
   ]
  },
  {
   "cell_type": "code",
   "execution_count": 92,
   "id": "7bfb4638-9fa2-4033-bd45-036844a9b28e",
   "metadata": {},
   "outputs": [
    {
     "data": {
      "text/plain": [
       "array([[ 0,  1,  2,  3],\n",
       "       [28, 29, 30, 31],\n",
       "       [ 4,  5,  6,  7]])"
      ]
     },
     "execution_count": 92,
     "metadata": {},
     "output_type": "execute_result"
    }
   ],
   "source": [
    "arr2[[0, 7, 1]]"
   ]
  },
  {
   "cell_type": "code",
   "execution_count": 94,
   "id": "4b2b129d-a15b-4505-95c4-cc62c3f541bf",
   "metadata": {},
   "outputs": [],
   "source": [
    "#9 -> [2, 1]\n",
    "#31 -> [7, 3]\n",
    "#22 -> [5, 2]"
   ]
  },
  {
   "cell_type": "code",
   "execution_count": 96,
   "id": "7dff381b-75d6-43f3-a1b4-20cf2686622d",
   "metadata": {},
   "outputs": [
    {
     "data": {
      "text/plain": [
       "array([ 9, 31, 22])"
      ]
     },
     "execution_count": 96,
     "metadata": {},
     "output_type": "execute_result"
    }
   ],
   "source": [
    "arr2[[2, 7, 5], [1, 3, 2]]"
   ]
  },
  {
   "cell_type": "code",
   "execution_count": 98,
   "id": "7f9cfc39-5979-4b49-81fa-44480234e380",
   "metadata": {},
   "outputs": [
    {
     "data": {
      "text/plain": [
       "array([[  1.,   2.,   3.,   4.,   5.,   6.,   7.,   8.,   9.,  10.],\n",
       "       [  2.,   4.,   6.,   8.,  10.,  12.,  14.,  16.,  18.,  20.],\n",
       "       [  3.,   6.,   9.,  12.,  15.,  18.,  21.,  24.,  27.,  30.],\n",
       "       [  4.,   8.,  12.,  16.,  20.,  24.,  28.,  32.,  36.,  40.],\n",
       "       [  5.,  10.,  15.,  20.,  25.,  30.,  35.,  40.,  45.,  50.],\n",
       "       [  6.,  12.,  18.,  24.,  30.,  36.,  42.,  48.,  54.,  60.],\n",
       "       [  7.,  14.,  21.,  28.,  35.,  42.,  49.,  56.,  63.,  70.],\n",
       "       [  8.,  16.,  24.,  32.,  40.,  48.,  56.,  64.,  72.,  80.],\n",
       "       [  9.,  18.,  27.,  36.,  45.,  54.,  63.,  72.,  81.,  90.],\n",
       "       [ 10.,  20.,  30.,  40.,  50.,  60.,  70.,  80.,  90., 100.]])"
      ]
     },
     "execution_count": 98,
     "metadata": {},
     "output_type": "execute_result"
    }
   ],
   "source": [
    "arr1 = np.zeros((10, 10))\n",
    "for i in range(0, 10, 1):\n",
    "    for j in range(0, 10, 1):\n",
    "        arr1[i, j] = (i + 1) * (j + 1)\n",
    "arr1"
   ]
  },
  {
   "cell_type": "code",
   "execution_count": 100,
   "id": "de7ca9b6-4761-439e-9255-ea765f56226d",
   "metadata": {},
   "outputs": [
    {
     "data": {
      "text/plain": [
       "array([10, 11, 12, 13, 14])"
      ]
     },
     "execution_count": 100,
     "metadata": {},
     "output_type": "execute_result"
    }
   ],
   "source": [
    "arr1 = np.arange(10, 15, 1)\n",
    "arr1"
   ]
  },
  {
   "cell_type": "code",
   "execution_count": 102,
   "id": "ff6aa70a-5e91-4e8a-b01c-d3a21b848794",
   "metadata": {},
   "outputs": [
    {
     "data": {
      "text/plain": [
       "array([1, 2, 3, 4, 5])"
      ]
     },
     "execution_count": 102,
     "metadata": {},
     "output_type": "execute_result"
    }
   ],
   "source": [
    "arr2 = np.arange(1, 6, 1)\n",
    "arr2"
   ]
  },
  {
   "cell_type": "code",
   "execution_count": 104,
   "id": "e5c5e31d-58ea-4942-a4d0-5698d58c6ae3",
   "metadata": {},
   "outputs": [
    {
     "data": {
      "text/plain": [
       "array([11, 13, 15, 17, 19])"
      ]
     },
     "execution_count": 104,
     "metadata": {},
     "output_type": "execute_result"
    }
   ],
   "source": [
    "arr1 + arr2"
   ]
  },
  {
   "cell_type": "code",
   "execution_count": 106,
   "id": "11c9e986-d4a6-477f-8bde-16d0cf516f75",
   "metadata": {},
   "outputs": [
    {
     "data": {
      "text/plain": [
       "array([10.  ,  5.5 ,  4.  ,  3.25,  2.8 ])"
      ]
     },
     "execution_count": 106,
     "metadata": {},
     "output_type": "execute_result"
    }
   ],
   "source": [
    "arr1/arr2"
   ]
  },
  {
   "cell_type": "code",
   "execution_count": 108,
   "id": "6bf75fe8-a0dd-4f42-a533-5e192a6ee554",
   "metadata": {},
   "outputs": [
    {
     "data": {
      "text/plain": [
       "array([9, 9, 9, 9, 9])"
      ]
     },
     "execution_count": 108,
     "metadata": {},
     "output_type": "execute_result"
    }
   ],
   "source": [
    "arr1 - arr2"
   ]
  },
  {
   "cell_type": "code",
   "execution_count": 110,
   "id": "f0f46edb-c507-4cf3-84fc-8d2c2a47a239",
   "metadata": {},
   "outputs": [
    {
     "data": {
      "text/plain": [
       "array([0, 1, 2, 3, 4])"
      ]
     },
     "execution_count": 110,
     "metadata": {},
     "output_type": "execute_result"
    }
   ],
   "source": [
    "arr3 = np.arange(0, 5, 1)\n",
    "arr3"
   ]
  },
  {
   "cell_type": "code",
   "execution_count": 112,
   "id": "f231143f-8602-41d4-82c5-734a95b54a0e",
   "metadata": {},
   "outputs": [
    {
     "data": {
      "text/plain": [
       "array([10, 11, 12, 13, 14])"
      ]
     },
     "execution_count": 112,
     "metadata": {},
     "output_type": "execute_result"
    }
   ],
   "source": [
    "arr1"
   ]
  },
  {
   "cell_type": "code",
   "execution_count": 114,
   "id": "cead0c7f-e1ba-4e7f-99dd-943021ecb988",
   "metadata": {},
   "outputs": [
    {
     "name": "stderr",
     "output_type": "stream",
     "text": [
      "C:\\Users\\msabo\\AppData\\Local\\Temp\\ipykernel_21616\\1841752248.py:1: RuntimeWarning: divide by zero encountered in divide\n",
      "  arr1/arr3\n"
     ]
    },
    {
     "data": {
      "text/plain": [
       "array([        inf, 11.        ,  6.        ,  4.33333333,  3.5       ])"
      ]
     },
     "execution_count": 114,
     "metadata": {},
     "output_type": "execute_result"
    }
   ],
   "source": [
    "arr1/arr3"
   ]
  },
  {
   "cell_type": "code",
   "execution_count": 116,
   "id": "e4a865ed-f3e5-45b5-8ac9-01f6d6c38d89",
   "metadata": {},
   "outputs": [
    {
     "name": "stderr",
     "output_type": "stream",
     "text": [
      "C:\\Users\\msabo\\AppData\\Local\\Temp\\ipykernel_21616\\3844900078.py:1: RuntimeWarning: invalid value encountered in divide\n",
      "  arr3/arr3\n"
     ]
    },
    {
     "data": {
      "text/plain": [
       "array([nan,  1.,  1.,  1.,  1.])"
      ]
     },
     "execution_count": 116,
     "metadata": {},
     "output_type": "execute_result"
    }
   ],
   "source": [
    "arr3/arr3"
   ]
  },
  {
   "cell_type": "code",
   "execution_count": 118,
   "id": "498e0754-6a1e-4cd1-864c-5c7bc08863bd",
   "metadata": {},
   "outputs": [
    {
     "data": {
      "text/plain": [
       "array([[1, 2, 3],\n",
       "       [4, 5, 6],\n",
       "       [7, 8, 9]])"
      ]
     },
     "execution_count": 118,
     "metadata": {},
     "output_type": "execute_result"
    }
   ],
   "source": [
    "arr1 = np.arange(1, 10, 1).reshape(3, 3)\n",
    "arr1"
   ]
  },
  {
   "cell_type": "code",
   "execution_count": 120,
   "id": "4d6493d0-3343-42d5-a0e7-09152fbe8c8b",
   "metadata": {},
   "outputs": [
    {
     "data": {
      "text/plain": [
       "array([[19, 18, 17],\n",
       "       [16, 15, 14],\n",
       "       [13, 12, 11]])"
      ]
     },
     "execution_count": 120,
     "metadata": {},
     "output_type": "execute_result"
    }
   ],
   "source": [
    "arr2 = np.arange(19, 10, -1).reshape(3, 3)\n",
    "arr2"
   ]
  },
  {
   "cell_type": "code",
   "execution_count": 122,
   "id": "b13bfda0-b68d-43d2-89f9-9a43c11afa54",
   "metadata": {},
   "outputs": [
    {
     "data": {
      "text/plain": [
       "array([[-18, -16, -14],\n",
       "       [-12, -10,  -8],\n",
       "       [ -6,  -4,  -2]])"
      ]
     },
     "execution_count": 122,
     "metadata": {},
     "output_type": "execute_result"
    }
   ],
   "source": [
    "arr1 - arr2"
   ]
  },
  {
   "cell_type": "code",
   "execution_count": 124,
   "id": "7b7e5d0e-6ce3-4a5b-b2d2-832b72d4a72d",
   "metadata": {},
   "outputs": [
    {
     "data": {
      "text/plain": [
       "array([0, 1, 2, 3, 4])"
      ]
     },
     "execution_count": 124,
     "metadata": {},
     "output_type": "execute_result"
    }
   ],
   "source": [
    "arr3"
   ]
  },
  {
   "cell_type": "code",
   "execution_count": 126,
   "id": "1ac43938-3081-4899-a4e0-20aedfc2a1df",
   "metadata": {},
   "outputs": [
    {
     "ename": "ValueError",
     "evalue": "operands could not be broadcast together with shapes (3,3) (5,) ",
     "output_type": "error",
     "traceback": [
      "\u001b[1;31m---------------------------------------------------------------------------\u001b[0m",
      "\u001b[1;31mValueError\u001b[0m                                Traceback (most recent call last)",
      "Cell \u001b[1;32mIn[126], line 1\u001b[0m\n\u001b[1;32m----> 1\u001b[0m arr1 \u001b[38;5;241m+\u001b[39m arr3\n",
      "\u001b[1;31mValueError\u001b[0m: operands could not be broadcast together with shapes (3,3) (5,) "
     ]
    }
   ],
   "source": [
    "arr1 + arr3"
   ]
  },
  {
   "cell_type": "code",
   "execution_count": 128,
   "id": "95e00a56-8a94-40fe-9b6f-fe8ef63bc144",
   "metadata": {},
   "outputs": [
    {
     "data": {
      "text/plain": [
       "array([[1, 2, 3],\n",
       "       [4, 5, 6],\n",
       "       [7, 8, 9]])"
      ]
     },
     "execution_count": 128,
     "metadata": {},
     "output_type": "execute_result"
    }
   ],
   "source": [
    "arr1"
   ]
  },
  {
   "cell_type": "code",
   "execution_count": 130,
   "id": "6d34a30e-3168-4d46-aa6b-186c77dac5f8",
   "metadata": {},
   "outputs": [
    {
     "data": {
      "text/plain": [
       "array([[101, 102, 103],\n",
       "       [104, 105, 106],\n",
       "       [107, 108, 109]])"
      ]
     },
     "execution_count": 130,
     "metadata": {},
     "output_type": "execute_result"
    }
   ],
   "source": [
    "arr1 + 100"
   ]
  },
  {
   "cell_type": "code",
   "execution_count": 132,
   "id": "05ce6ad7-7e41-4677-a76d-9bfc9c433092",
   "metadata": {},
   "outputs": [
    {
     "data": {
      "text/plain": [
       "array([[0.1, 0.2, 0.3],\n",
       "       [0.4, 0.5, 0.6],\n",
       "       [0.7, 0.8, 0.9]])"
      ]
     },
     "execution_count": 132,
     "metadata": {},
     "output_type": "execute_result"
    }
   ],
   "source": [
    "arr1/10"
   ]
  },
  {
   "cell_type": "code",
   "execution_count": 134,
   "id": "5a8bd422-deca-4fb1-89a9-6b8dad7d0107",
   "metadata": {},
   "outputs": [
    {
     "data": {
      "text/plain": [
       "array([[1, 2, 0],\n",
       "       [1, 2, 0],\n",
       "       [1, 2, 0]], dtype=int32)"
      ]
     },
     "execution_count": 134,
     "metadata": {},
     "output_type": "execute_result"
    }
   ],
   "source": [
    "arr1 % 3"
   ]
  },
  {
   "cell_type": "code",
   "execution_count": 136,
   "id": "4de8724b-c836-44f5-9764-5cf08c837be9",
   "metadata": {},
   "outputs": [
    {
     "data": {
      "text/plain": [
       "array([[   1,   16,   81],\n",
       "       [ 256,  625, 1296],\n",
       "       [2401, 4096, 6561]], dtype=int32)"
      ]
     },
     "execution_count": 136,
     "metadata": {},
     "output_type": "execute_result"
    }
   ],
   "source": [
    "arr1 ** 4"
   ]
  },
  {
   "cell_type": "code",
   "execution_count": 138,
   "id": "12b478c7-37b0-4b7c-9083-5755fea32e4f",
   "metadata": {},
   "outputs": [
    {
     "data": {
      "text/plain": [
       "array([[-5, -4, -3],\n",
       "       [-2, -1,  0],\n",
       "       [ 1,  2,  3]])"
      ]
     },
     "execution_count": 138,
     "metadata": {},
     "output_type": "execute_result"
    }
   ],
   "source": [
    "arr1 = np.arange(-5, 4, 1).reshape(3, 3)\n",
    "arr1"
   ]
  },
  {
   "cell_type": "code",
   "execution_count": 140,
   "id": "754fccf3-ad56-4d72-97a4-ed4ab686910c",
   "metadata": {},
   "outputs": [
    {
     "data": {
      "text/plain": [
       "array([[5, 4, 3],\n",
       "       [2, 1, 0],\n",
       "       [1, 2, 3]])"
      ]
     },
     "execution_count": 140,
     "metadata": {},
     "output_type": "execute_result"
    }
   ],
   "source": [
    "np.abs(arr1)"
   ]
  },
  {
   "cell_type": "code",
   "execution_count": 142,
   "id": "62d96e18-d33d-40b4-8cbd-9d0add29694f",
   "metadata": {},
   "outputs": [
    {
     "data": {
      "text/plain": [
       "array([[25, 16,  9],\n",
       "       [ 4,  1,  0],\n",
       "       [ 1,  4,  9]])"
      ]
     },
     "execution_count": 142,
     "metadata": {},
     "output_type": "execute_result"
    }
   ],
   "source": [
    "np.square(arr1)"
   ]
  },
  {
   "cell_type": "code",
   "execution_count": 144,
   "id": "318f8f00-ae76-4fd5-887e-269f496db3dd",
   "metadata": {},
   "outputs": [
    {
     "name": "stderr",
     "output_type": "stream",
     "text": [
      "C:\\Users\\msabo\\AppData\\Local\\Temp\\ipykernel_21616\\3299852782.py:1: RuntimeWarning: invalid value encountered in sqrt\n",
      "  np.sqrt(arr1)\n"
     ]
    },
    {
     "data": {
      "text/plain": [
       "array([[       nan,        nan,        nan],\n",
       "       [       nan,        nan, 0.        ],\n",
       "       [1.        , 1.41421356, 1.73205081]])"
      ]
     },
     "execution_count": 144,
     "metadata": {},
     "output_type": "execute_result"
    }
   ],
   "source": [
    "np.sqrt(arr1)"
   ]
  },
  {
   "cell_type": "code",
   "execution_count": 146,
   "id": "a99ea732-3ea1-486b-889d-39143f0dfa1d",
   "metadata": {},
   "outputs": [
    {
     "data": {
      "text/plain": [
       "array([[-1.70997595, -1.58740105, -1.44224957],\n",
       "       [-1.25992105, -1.        ,  0.        ],\n",
       "       [ 1.        ,  1.25992105,  1.44224957]])"
      ]
     },
     "execution_count": 146,
     "metadata": {},
     "output_type": "execute_result"
    }
   ],
   "source": [
    "np.cbrt(arr1)"
   ]
  },
  {
   "cell_type": "code",
   "execution_count": 148,
   "id": "feffb482-1323-45ba-8d34-41b56fb7c4d7",
   "metadata": {},
   "outputs": [
    {
     "data": {
      "text/plain": [
       "array([[6.73794700e-03, 1.83156389e-02, 4.97870684e-02],\n",
       "       [1.35335283e-01, 3.67879441e-01, 1.00000000e+00],\n",
       "       [2.71828183e+00, 7.38905610e+00, 2.00855369e+01]])"
      ]
     },
     "execution_count": 148,
     "metadata": {},
     "output_type": "execute_result"
    }
   ],
   "source": [
    "np.exp(arr1)"
   ]
  },
  {
   "cell_type": "code",
   "execution_count": 150,
   "id": "3bae08e0-5201-4f2d-9d9a-4a47fe59c53f",
   "metadata": {},
   "outputs": [
    {
     "name": "stderr",
     "output_type": "stream",
     "text": [
      "C:\\Users\\msabo\\AppData\\Local\\Temp\\ipykernel_21616\\2108464003.py:1: RuntimeWarning: divide by zero encountered in log\n",
      "  np.log(arr1)\n",
      "C:\\Users\\msabo\\AppData\\Local\\Temp\\ipykernel_21616\\2108464003.py:1: RuntimeWarning: invalid value encountered in log\n",
      "  np.log(arr1)\n"
     ]
    },
    {
     "data": {
      "text/plain": [
       "array([[       nan,        nan,        nan],\n",
       "       [       nan,        nan,       -inf],\n",
       "       [0.        , 0.69314718, 1.09861229]])"
      ]
     },
     "execution_count": 150,
     "metadata": {},
     "output_type": "execute_result"
    }
   ],
   "source": [
    "np.log(arr1)"
   ]
  },
  {
   "cell_type": "code",
   "execution_count": 152,
   "id": "b0940b3d-3833-40cb-a548-35bf2a944d8f",
   "metadata": {},
   "outputs": [
    {
     "name": "stderr",
     "output_type": "stream",
     "text": [
      "C:\\Users\\msabo\\AppData\\Local\\Temp\\ipykernel_21616\\2590435965.py:1: RuntimeWarning: divide by zero encountered in log10\n",
      "  np.log10(arr1)\n",
      "C:\\Users\\msabo\\AppData\\Local\\Temp\\ipykernel_21616\\2590435965.py:1: RuntimeWarning: invalid value encountered in log10\n",
      "  np.log10(arr1)\n"
     ]
    },
    {
     "data": {
      "text/plain": [
       "array([[       nan,        nan,        nan],\n",
       "       [       nan,        nan,       -inf],\n",
       "       [0.        , 0.30103   , 0.47712125]])"
      ]
     },
     "execution_count": 152,
     "metadata": {},
     "output_type": "execute_result"
    }
   ],
   "source": [
    "np.log10(arr1)"
   ]
  },
  {
   "cell_type": "code",
   "execution_count": 154,
   "id": "dfa2ad0c-feb8-419c-aeb6-cfea36a2feeb",
   "metadata": {},
   "outputs": [
    {
     "data": {
      "text/plain": [
       "array([[ 0.95892427,  0.7568025 , -0.14112001],\n",
       "       [-0.90929743, -0.84147098,  0.        ],\n",
       "       [ 0.84147098,  0.90929743,  0.14112001]])"
      ]
     },
     "execution_count": 154,
     "metadata": {},
     "output_type": "execute_result"
    }
   ],
   "source": [
    "np.sin(arr1)"
   ]
  },
  {
   "cell_type": "code",
   "execution_count": 156,
   "id": "acb219c1-944a-480c-baf2-8d5e6a941eef",
   "metadata": {},
   "outputs": [
    {
     "data": {
      "text/plain": [
       "array([[ 0.28366219, -0.65364362, -0.9899925 ],\n",
       "       [-0.41614684,  0.54030231,  1.        ],\n",
       "       [ 0.54030231, -0.41614684, -0.9899925 ]])"
      ]
     },
     "execution_count": 156,
     "metadata": {},
     "output_type": "execute_result"
    }
   ],
   "source": [
    "np.cos(arr1)"
   ]
  },
  {
   "cell_type": "code",
   "execution_count": 158,
   "id": "eb5a2b26-90cf-49af-a883-3f32794cb0c9",
   "metadata": {},
   "outputs": [
    {
     "data": {
      "text/plain": [
       "3"
      ]
     },
     "execution_count": 158,
     "metadata": {},
     "output_type": "execute_result"
    }
   ],
   "source": [
    "np.max(arr1)"
   ]
  },
  {
   "cell_type": "code",
   "execution_count": 160,
   "id": "7b3d0e7a-0e2f-4d4f-b509-83d9b7c4957d",
   "metadata": {},
   "outputs": [
    {
     "data": {
      "text/plain": [
       "3"
      ]
     },
     "execution_count": 160,
     "metadata": {},
     "output_type": "execute_result"
    }
   ],
   "source": [
    "arr1.max()"
   ]
  },
  {
   "cell_type": "code",
   "execution_count": 162,
   "id": "f4e6dce0-ecd4-4245-9c92-ad4ad09535e9",
   "metadata": {},
   "outputs": [
    {
     "data": {
      "text/plain": [
       "array([[1, 2, 3],\n",
       "       [4, 5, 6]])"
      ]
     },
     "execution_count": 162,
     "metadata": {},
     "output_type": "execute_result"
    }
   ],
   "source": [
    "arr1 = np.arange(1, 7, 1).reshape(2, 3)\n",
    "arr1"
   ]
  },
  {
   "cell_type": "code",
   "execution_count": 164,
   "id": "106554d0-af5c-4853-84f6-52a8c329c39a",
   "metadata": {},
   "outputs": [
    {
     "data": {
      "text/plain": [
       "array([[1, 4],\n",
       "       [2, 5],\n",
       "       [3, 6]])"
      ]
     },
     "execution_count": 164,
     "metadata": {},
     "output_type": "execute_result"
    }
   ],
   "source": [
    "arr1.T"
   ]
  },
  {
   "cell_type": "code",
   "execution_count": 166,
   "id": "36a944b9-7db1-4324-bc38-1f9140415d19",
   "metadata": {},
   "outputs": [
    {
     "data": {
      "text/plain": [
       "array([[0., 0.],\n",
       "       [0., 0.]])"
      ]
     },
     "execution_count": 166,
     "metadata": {},
     "output_type": "execute_result"
    }
   ],
   "source": [
    "arr1 = np.zeros((2, 2))\n",
    "arr1"
   ]
  },
  {
   "cell_type": "code",
   "execution_count": 168,
   "id": "78381b95-bdb2-4526-9dc6-540bbcf88b7e",
   "metadata": {},
   "outputs": [
    {
     "data": {
      "text/plain": [
       "array([[1., 1.],\n",
       "       [1., 1.],\n",
       "       [1., 1.]])"
      ]
     },
     "execution_count": 168,
     "metadata": {},
     "output_type": "execute_result"
    }
   ],
   "source": [
    "arr2 = np.ones((3, 2))\n",
    "arr2"
   ]
  },
  {
   "cell_type": "code",
   "execution_count": 170,
   "id": "e47f301e-b08a-4de2-95d6-6fefae9a61e5",
   "metadata": {},
   "outputs": [
    {
     "data": {
      "text/plain": [
       "array([[0., 0.],\n",
       "       [0., 0.],\n",
       "       [1., 1.],\n",
       "       [1., 1.],\n",
       "       [1., 1.],\n",
       "       [0., 0.],\n",
       "       [0., 0.]])"
      ]
     },
     "execution_count": 170,
     "metadata": {},
     "output_type": "execute_result"
    }
   ],
   "source": [
    "## appending to arrays:\n",
    "# vertically appending\n",
    "np.vstack((arr1, arr2, arr1))"
   ]
  },
  {
   "cell_type": "code",
   "execution_count": 172,
   "id": "3171fed2-d0e7-4dfa-bbf9-0621f5ecf092",
   "metadata": {},
   "outputs": [
    {
     "data": {
      "text/plain": [
       "array([[0., 0., 0.],\n",
       "       [0., 0., 0.]])"
      ]
     },
     "execution_count": 172,
     "metadata": {},
     "output_type": "execute_result"
    }
   ],
   "source": [
    "arr1 = np.zeros((2, 3))\n",
    "arr1"
   ]
  },
  {
   "cell_type": "code",
   "execution_count": 174,
   "id": "40180afa-8403-4cea-9b53-52db542d5f60",
   "metadata": {},
   "outputs": [
    {
     "data": {
      "text/plain": [
       "array([[1., 1.],\n",
       "       [1., 1.]])"
      ]
     },
     "execution_count": 174,
     "metadata": {},
     "output_type": "execute_result"
    }
   ],
   "source": [
    "arr2 = np.ones((2, 2))\n",
    "arr2"
   ]
  },
  {
   "cell_type": "code",
   "execution_count": 176,
   "id": "c3997a37-bafa-45d3-b82e-bd2716abc8fc",
   "metadata": {},
   "outputs": [
    {
     "data": {
      "text/plain": [
       "array([[0., 0., 0., 1., 1.],\n",
       "       [0., 0., 0., 1., 1.]])"
      ]
     },
     "execution_count": 176,
     "metadata": {},
     "output_type": "execute_result"
    }
   ],
   "source": [
    "# horizontally appending\n",
    "np.hstack((arr1, arr2))"
   ]
  },
  {
   "cell_type": "code",
   "execution_count": 178,
   "id": "80a33349-a50a-419e-a6c6-db1576cc3bc0",
   "metadata": {},
   "outputs": [],
   "source": [
    "# append(array, values, axis)"
   ]
  },
  {
   "cell_type": "code",
   "execution_count": 180,
   "id": "b2e6a5b6-c532-4c3b-8701-d7d1b732ea5e",
   "metadata": {},
   "outputs": [
    {
     "data": {
      "text/plain": [
       "array([[1, 2, 3],\n",
       "       [4, 5, 6]])"
      ]
     },
     "execution_count": 180,
     "metadata": {},
     "output_type": "execute_result"
    }
   ],
   "source": [
    "arr1 = np.arange(1, 7, 1).reshape(2, 3)\n",
    "arr1"
   ]
  },
  {
   "cell_type": "code",
   "execution_count": 182,
   "id": "9328d64d-4835-4256-9680-a814749f680c",
   "metadata": {},
   "outputs": [
    {
     "data": {
      "text/plain": [
       "array([[1, 2, 3],\n",
       "       [4, 5, 6],\n",
       "       [7, 8, 9]])"
      ]
     },
     "execution_count": 182,
     "metadata": {},
     "output_type": "execute_result"
    }
   ],
   "source": [
    "np.append(arr1, [[7, 8, 9]], axis = 0)"
   ]
  },
  {
   "cell_type": "code",
   "execution_count": 184,
   "id": "b45e044a-6300-4780-ac64-f5cf6c123ca1",
   "metadata": {},
   "outputs": [
    {
     "data": {
      "text/plain": [
       "array([[ 1,  2,  3, 11, 12, 13, 14],\n",
       "       [ 4,  5,  6, 21, 22, 23, 24]])"
      ]
     },
     "execution_count": 184,
     "metadata": {},
     "output_type": "execute_result"
    }
   ],
   "source": [
    "np.append(arr1, [[11, 12, 13, 14], [21, 22, 23, 24]], axis = 1)"
   ]
  },
  {
   "cell_type": "code",
   "execution_count": 186,
   "id": "7b61e9ed-88dc-4f26-a215-21b7182a7ec7",
   "metadata": {},
   "outputs": [
    {
     "data": {
      "text/plain": [
       "array([[ 0,  1,  2,  3],\n",
       "       [ 4,  5,  6,  7],\n",
       "       [ 8,  9, 10, 11]])"
      ]
     },
     "execution_count": 186,
     "metadata": {},
     "output_type": "execute_result"
    }
   ],
   "source": [
    "arr1 = np.arange(0, 12, 1).reshape(3, 4)\n",
    "arr1"
   ]
  },
  {
   "cell_type": "code",
   "execution_count": 188,
   "id": "703f978c-54d5-4c4a-ab1b-870e6b991203",
   "metadata": {},
   "outputs": [
    {
     "name": "stdout",
     "output_type": "stream",
     "text": [
      "[0 1 2 3]\n",
      "[4 5 6 7]\n",
      "[ 8  9 10 11]\n"
     ]
    }
   ],
   "source": [
    "for row in arr1:\n",
    "    print(row)"
   ]
  },
  {
   "cell_type": "code",
   "execution_count": 190,
   "id": "8b33d11b-ed92-4a1b-be71-88a9f0b03078",
   "metadata": {},
   "outputs": [
    {
     "data": {
      "text/plain": [
       "array([[ 0,  1,  2,  3],\n",
       "       [ 4,  5,  6,  7],\n",
       "       [ 8,  9, 10, 11]])"
      ]
     },
     "execution_count": 190,
     "metadata": {},
     "output_type": "execute_result"
    }
   ],
   "source": [
    "arr1"
   ]
  },
  {
   "cell_type": "code",
   "execution_count": 192,
   "id": "49a48481-1129-47b8-aec6-ee9388601699",
   "metadata": {},
   "outputs": [
    {
     "name": "stdout",
     "output_type": "stream",
     "text": [
      "Firm #1: 6\n",
      "Firm #2: 22\n",
      "Firm #3: 38\n"
     ]
    }
   ],
   "source": [
    "i = 0\n",
    "for row in arr1:\n",
    "    i += 1\n",
    "    print(f\"Firm #{i}: {sum(row)}\")"
   ]
  },
  {
   "cell_type": "code",
   "execution_count": 194,
   "id": "fd99cded-62e1-4d53-a836-7963c5b48e40",
   "metadata": {},
   "outputs": [
    {
     "data": {
      "text/plain": [
       "array([[ 0,  1,  2,  3],\n",
       "       [ 4,  5,  6,  7],\n",
       "       [ 8,  9, 10, 11]])"
      ]
     },
     "execution_count": 194,
     "metadata": {},
     "output_type": "execute_result"
    }
   ],
   "source": [
    "arr1"
   ]
  },
  {
   "cell_type": "code",
   "execution_count": 196,
   "id": "888183a9-81de-4362-949a-d576b86c2322",
   "metadata": {},
   "outputs": [
    {
     "name": "stdout",
     "output_type": "stream",
     "text": [
      "12\n",
      "15\n",
      "18\n",
      "21\n"
     ]
    }
   ],
   "source": [
    "for row in arr1.T:\n",
    "    print(sum(row))"
   ]
  },
  {
   "cell_type": "code",
   "execution_count": 198,
   "id": "dece4137-718c-4147-99ea-80c5ab3cf742",
   "metadata": {},
   "outputs": [
    {
     "name": "stdout",
     "output_type": "stream",
     "text": [
      "0\n",
      "1\n",
      "2\n",
      "3\n",
      "4\n",
      "5\n",
      "6\n",
      "7\n",
      "8\n",
      "9\n",
      "10\n",
      "11\n"
     ]
    }
   ],
   "source": [
    "for row in arr1:\n",
    "    for item in row:\n",
    "        print(item)"
   ]
  },
  {
   "cell_type": "code",
   "execution_count": 200,
   "id": "c5ac200c-cdd9-4a06-b2ec-2c71a067f233",
   "metadata": {},
   "outputs": [
    {
     "name": "stdout",
     "output_type": "stream",
     "text": [
      "2.2.2\n"
     ]
    }
   ],
   "source": [
    "# PANDAS\n",
    "\n",
    "import pandas as pd\n",
    "print(pd.__version__)"
   ]
  },
  {
   "cell_type": "code",
   "execution_count": 202,
   "id": "cf405d5d-e117-455c-8d59-efa0dffea95b",
   "metadata": {},
   "outputs": [
    {
     "data": {
      "text/plain": [
       "0    10\n",
       "1    11\n",
       "2    12\n",
       "3    13\n",
       "dtype: int64"
      ]
     },
     "execution_count": 202,
     "metadata": {},
     "output_type": "execute_result"
    }
   ],
   "source": [
    "# Series --> 1-d data\n",
    "pd.Series([10, 11, 12, 13])"
   ]
  },
  {
   "cell_type": "code",
   "execution_count": 204,
   "id": "86be44b7-e393-42df-9d3b-b970acd45387",
   "metadata": {},
   "outputs": [],
   "source": [
    "mylist1 = [10, 11, 12, 13]\n",
    "mylist2 = [\"a\", \"b\", \"c\", \"d\"]"
   ]
  },
  {
   "cell_type": "code",
   "execution_count": 206,
   "id": "02268abe-1f18-4994-8b20-4991ed6db9f6",
   "metadata": {},
   "outputs": [
    {
     "data": {
      "text/plain": [
       "a    10\n",
       "b    11\n",
       "c    12\n",
       "d    13\n",
       "dtype: int64"
      ]
     },
     "execution_count": 206,
     "metadata": {},
     "output_type": "execute_result"
    }
   ],
   "source": [
    "pd.Series(data = mylist1, index = mylist2)"
   ]
  },
  {
   "cell_type": "code",
   "execution_count": 208,
   "id": "af7d4895-b823-4ac5-9e20-9d03fbdaffeb",
   "metadata": {},
   "outputs": [
    {
     "data": {
      "text/plain": [
       "a    10\n",
       "b    11\n",
       "c    12\n",
       "d    13\n",
       "dtype: int64"
      ]
     },
     "execution_count": 208,
     "metadata": {},
     "output_type": "execute_result"
    }
   ],
   "source": [
    "pd.Series(mylist1, mylist2)"
   ]
  },
  {
   "cell_type": "code",
   "execution_count": 210,
   "id": "0152d8d3-1e63-4907-8b85-d73802a73f47",
   "metadata": {},
   "outputs": [
    {
     "data": {
      "text/plain": [
       "0    10\n",
       "1    11\n",
       "2    12\n",
       "3    13\n",
       "dtype: int32"
      ]
     },
     "execution_count": 210,
     "metadata": {},
     "output_type": "execute_result"
    }
   ],
   "source": [
    "pd.Series(np.arange(10, 14, 1))"
   ]
  },
  {
   "cell_type": "code",
   "execution_count": 212,
   "id": "a53577df-04d5-4cc2-84dd-5da130834c5f",
   "metadata": {},
   "outputs": [
    {
     "data": {
      "text/plain": [
       "1    10\n",
       "2    11\n",
       "3    12\n",
       "4    13\n",
       "dtype: int32"
      ]
     },
     "execution_count": 212,
     "metadata": {},
     "output_type": "execute_result"
    }
   ],
   "source": [
    "pd.Series(np.arange(10, 14, 1), range(1, 5, 1))"
   ]
  },
  {
   "cell_type": "code",
   "execution_count": 214,
   "id": "0c1d21f5-4652-4256-b434-16624fb50c6b",
   "metadata": {},
   "outputs": [],
   "source": [
    "d1 = {\"w\": 10, \"x\": 11, \"y\": 12}"
   ]
  },
  {
   "cell_type": "code",
   "execution_count": 216,
   "id": "f31647ed-bba0-42ed-b319-18a4a5000197",
   "metadata": {},
   "outputs": [
    {
     "data": {
      "text/plain": [
       "w    10\n",
       "x    11\n",
       "y    12\n",
       "dtype: int64"
      ]
     },
     "execution_count": 216,
     "metadata": {},
     "output_type": "execute_result"
    }
   ],
   "source": [
    "pd.Series(d1)"
   ]
  },
  {
   "cell_type": "code",
   "execution_count": 218,
   "id": "bfc0dc78-38ad-4009-83de-556f1771cdaa",
   "metadata": {},
   "outputs": [
    {
     "data": {
      "text/plain": [
       "0    Google\n",
       "1        MS\n",
       "2     Apple\n",
       "dtype: object"
      ]
     },
     "execution_count": 218,
     "metadata": {},
     "output_type": "execute_result"
    }
   ],
   "source": [
    "mylist = \"Google MS Apple\".split()\n",
    "pd.Series(mylist)"
   ]
  },
  {
   "cell_type": "markdown",
   "id": "7d6ccf82-84a6-4906-99cf-4f795cf12a13",
   "metadata": {},
   "source": [
    "# 11.18.24"
   ]
  },
  {
   "cell_type": "code",
   "execution_count": 220,
   "id": "373b8cbc-68af-47ec-b9de-137521374f7e",
   "metadata": {},
   "outputs": [],
   "source": [
    "# PANDAS Series\n",
    "\n",
    "import numpy as np\n",
    "import pandas as pd"
   ]
  },
  {
   "cell_type": "code",
   "execution_count": 222,
   "id": "81c7dd4e-be43-4f40-999d-2505a9050cf5",
   "metadata": {},
   "outputs": [
    {
     "data": {
      "text/plain": [
       "Tom    100\n",
       "Jen    101\n",
       "Bob    102\n",
       "Sue    103\n",
       "dtype: int64"
      ]
     },
     "execution_count": 222,
     "metadata": {},
     "output_type": "execute_result"
    }
   ],
   "source": [
    "s1 = pd.Series(data = range(100, 104, 1), index = \"Tom Jen Bob Sue\".split())\n",
    "s1"
   ]
  },
  {
   "cell_type": "code",
   "execution_count": 224,
   "id": "fd43d56f-8a59-42b1-bb1c-a39c3866b906",
   "metadata": {},
   "outputs": [
    {
     "data": {
      "text/plain": [
       "101"
      ]
     },
     "execution_count": 224,
     "metadata": {},
     "output_type": "execute_result"
    }
   ],
   "source": [
    "s1[\"Jen\"]"
   ]
  },
  {
   "cell_type": "code",
   "execution_count": 226,
   "id": "b758b0e7-7716-4986-acce-0b9a253129d1",
   "metadata": {},
   "outputs": [],
   "source": [
    "s3 = pd.Series([1500, 1510, 1520], \"Joe Sue Tom\".split())"
   ]
  },
  {
   "cell_type": "code",
   "execution_count": 228,
   "id": "e123ab2f-e44d-4fc2-b251-00a96f2be7b6",
   "metadata": {},
   "outputs": [
    {
     "data": {
      "text/plain": [
       "Joe    1500\n",
       "Sue    1510\n",
       "Tom    1520\n",
       "dtype: int64"
      ]
     },
     "execution_count": 228,
     "metadata": {},
     "output_type": "execute_result"
    }
   ],
   "source": [
    "s3"
   ]
  },
  {
   "cell_type": "code",
   "execution_count": 230,
   "id": "68c221d4-81c5-47b9-aa31-9cbe51ee76ea",
   "metadata": {},
   "outputs": [
    {
     "data": {
      "text/plain": [
       "Tom    100\n",
       "Jen    101\n",
       "Bob    102\n",
       "Sue    103\n",
       "dtype: int64"
      ]
     },
     "execution_count": 230,
     "metadata": {},
     "output_type": "execute_result"
    }
   ],
   "source": [
    "s1"
   ]
  },
  {
   "cell_type": "code",
   "execution_count": 232,
   "id": "e2e16dd8-cd26-4579-bb32-d9874754970c",
   "metadata": {},
   "outputs": [
    {
     "data": {
      "text/plain": [
       "Bob           NaN\n",
       "Jen           NaN\n",
       "Joe           NaN\n",
       "Sue    656.333333\n",
       "Tom    656.666667\n",
       "dtype: float64"
      ]
     },
     "execution_count": 232,
     "metadata": {},
     "output_type": "execute_result"
    }
   ],
   "source": [
    "s1 + s3/3 + 50"
   ]
  },
  {
   "cell_type": "code",
   "execution_count": 234,
   "id": "77c28b06-b6b6-4a1a-8339-028858679279",
   "metadata": {},
   "outputs": [
    {
     "data": {
      "text/plain": [
       "NY    100\n",
       "TX    300\n",
       "AR     20\n",
       "CA    250\n",
       "PA     50\n",
       "dtype: int64"
      ]
     },
     "execution_count": 234,
     "metadata": {},
     "output_type": "execute_result"
    }
   ],
   "source": [
    "ex = pd.Series([100, 300, 20, 250, 50], \"NY TX AR CA PA\".split())\n",
    "ex"
   ]
  },
  {
   "cell_type": "code",
   "execution_count": 236,
   "id": "5df4e4c8-f2d1-4167-a8d9-39bcd85e347a",
   "metadata": {},
   "outputs": [
    {
     "data": {
      "text/plain": [
       "NY    150\n",
       "TX    240\n",
       "AR     10\n",
       "CA    400\n",
       "MD     30\n",
       "MI    160\n",
       "dtype: int64"
      ]
     },
     "execution_count": 236,
     "metadata": {},
     "output_type": "execute_result"
    }
   ],
   "source": [
    "im = pd.Series([150, 240, 10, 400, 30, 160], \"NY TX AR CA MD MI\".split())\n",
    "im"
   ]
  },
  {
   "cell_type": "markdown",
   "id": "9e4bd260-299d-449f-b7cc-b478b5bfd199",
   "metadata": {},
   "source": [
    "###### net = ex - im\n",
    "net"
   ]
  },
  {
   "cell_type": "code",
   "execution_count": 240,
   "id": "5852a1ad-c1d1-43eb-8dc5-c669e4a43803",
   "metadata": {},
   "outputs": [
    {
     "data": {
      "text/plain": [
       "-32.5"
      ]
     },
     "execution_count": 240,
     "metadata": {},
     "output_type": "execute_result"
    }
   ],
   "source": [
    "net.mean()"
   ]
  },
  {
   "cell_type": "code",
   "execution_count": 242,
   "id": "105296f3-5ee0-467c-913b-927714c7f14c",
   "metadata": {},
   "outputs": [
    {
     "data": {
      "text/plain": [
       "-20.0"
      ]
     },
     "execution_count": 242,
     "metadata": {},
     "output_type": "execute_result"
    }
   ],
   "source": [
    "net.median()"
   ]
  },
  {
   "cell_type": "code",
   "execution_count": 244,
   "id": "fb495b68-1083-4e9c-bccf-11e8ca508b2a",
   "metadata": {},
   "outputs": [
    {
     "data": {
      "text/plain": [
       "-130.0"
      ]
     },
     "execution_count": 244,
     "metadata": {},
     "output_type": "execute_result"
    }
   ],
   "source": [
    "net.sum()"
   ]
  },
  {
   "cell_type": "code",
   "execution_count": 246,
   "id": "9edb8ac5-5132-49b0-8ff8-db59d5fb17ef",
   "metadata": {},
   "outputs": [
    {
     "data": {
      "text/plain": [
       "-150.0"
      ]
     },
     "execution_count": 246,
     "metadata": {},
     "output_type": "execute_result"
    }
   ],
   "source": [
    "net.min()"
   ]
  },
  {
   "cell_type": "code",
   "execution_count": 248,
   "id": "7829c694-980e-4261-9db3-596409741f1f",
   "metadata": {},
   "outputs": [
    {
     "data": {
      "text/plain": [
       "'CA'"
      ]
     },
     "execution_count": 248,
     "metadata": {},
     "output_type": "execute_result"
    }
   ],
   "source": [
    "net.idxmin()"
   ]
  },
  {
   "cell_type": "code",
   "execution_count": 250,
   "id": "1da99855-7942-43a8-8b0f-c5186ac6bd56",
   "metadata": {},
   "outputs": [
    {
     "data": {
      "text/plain": [
       "'TX'"
      ]
     },
     "execution_count": 250,
     "metadata": {},
     "output_type": "execute_result"
    }
   ],
   "source": [
    "net.idxmax()"
   ]
  },
  {
   "cell_type": "code",
   "execution_count": 252,
   "id": "a2058f5c-02f9-41e9-a575-40ac75ca32bd",
   "metadata": {},
   "outputs": [
    {
     "data": {
      "text/plain": [
       "AR     10.0\n",
       "CA   -150.0\n",
       "MD      NaN\n",
       "MI      NaN\n",
       "NY    -50.0\n",
       "PA      NaN\n",
       "TX     60.0\n",
       "dtype: float64"
      ]
     },
     "execution_count": 252,
     "metadata": {},
     "output_type": "execute_result"
    }
   ],
   "source": [
    "net"
   ]
  },
  {
   "cell_type": "code",
   "execution_count": 254,
   "id": "360311c0-90e4-4c3c-a0b2-884262f6f220",
   "metadata": {},
   "outputs": [
    {
     "data": {
      "text/plain": [
       "AR     10.0\n",
       "CA    150.0\n",
       "MD      NaN\n",
       "MI      NaN\n",
       "NY     50.0\n",
       "PA      NaN\n",
       "TX     60.0\n",
       "dtype: float64"
      ]
     },
     "execution_count": 254,
     "metadata": {},
     "output_type": "execute_result"
    }
   ],
   "source": [
    "np.abs(net)"
   ]
  },
  {
   "cell_type": "code",
   "execution_count": 256,
   "id": "49accf88-1e65-4567-9751-a9acdc179578",
   "metadata": {},
   "outputs": [
    {
     "data": {
      "text/plain": [
       "AR    2.154435\n",
       "CA   -5.313293\n",
       "MD         NaN\n",
       "MI         NaN\n",
       "NY   -3.684031\n",
       "PA         NaN\n",
       "TX    3.914868\n",
       "dtype: float64"
      ]
     },
     "execution_count": 256,
     "metadata": {},
     "output_type": "execute_result"
    }
   ],
   "source": [
    "np.cbrt(net)"
   ]
  },
  {
   "cell_type": "code",
   "execution_count": 258,
   "id": "deb68b83-c3ba-466d-9149-2ba31fcea837",
   "metadata": {},
   "outputs": [
    {
     "data": {
      "text/plain": [
       "AR     60.0\n",
       "CA   -100.0\n",
       "MD      NaN\n",
       "MI      NaN\n",
       "NY      0.0\n",
       "PA      NaN\n",
       "TX    110.0\n",
       "dtype: float64"
      ]
     },
     "execution_count": 258,
     "metadata": {},
     "output_type": "execute_result"
    }
   ],
   "source": [
    "net + 50"
   ]
  },
  {
   "cell_type": "code",
   "execution_count": 260,
   "id": "45eed627-d3ec-4724-9bf4-73c0932f036c",
   "metadata": {},
   "outputs": [
    {
     "data": {
      "text/plain": [
       "AR     1.0\n",
       "CA   -15.0\n",
       "MD     NaN\n",
       "MI     NaN\n",
       "NY    -5.0\n",
       "PA     NaN\n",
       "TX     6.0\n",
       "dtype: float64"
      ]
     },
     "execution_count": 260,
     "metadata": {},
     "output_type": "execute_result"
    }
   ],
   "source": [
    "net/10"
   ]
  },
  {
   "cell_type": "code",
   "execution_count": 262,
   "id": "548eb44a-4a34-4cae-9a46-d59499353f7d",
   "metadata": {},
   "outputs": [
    {
     "data": {
      "text/plain": [
       "AR    10.0\n",
       "TX    60.0\n",
       "dtype: float64"
      ]
     },
     "execution_count": 262,
     "metadata": {},
     "output_type": "execute_result"
    }
   ],
   "source": [
    "net[net > 0]"
   ]
  },
  {
   "cell_type": "code",
   "execution_count": 264,
   "id": "f791d207-4f9b-48b6-8c25-af11ff30906a",
   "metadata": {},
   "outputs": [
    {
     "data": {
      "text/plain": [
       "TX    60.0\n",
       "NY   -50.0\n",
       "MD     NaN\n",
       "dtype: float64"
      ]
     },
     "execution_count": 264,
     "metadata": {},
     "output_type": "execute_result"
    }
   ],
   "source": [
    "net[[\"TX\", \"NY\", \"MD\"]]"
   ]
  },
  {
   "cell_type": "code",
   "execution_count": 266,
   "id": "ead71e2c-5bf4-481a-a279-785f3eac5744",
   "metadata": {},
   "outputs": [
    {
     "data": {
      "text/plain": [
       "0    10\n",
       "1    11\n",
       "2    12\n",
       "3    13\n",
       "4    14\n",
       "5    15\n",
       "6    16\n",
       "7    17\n",
       "8    18\n",
       "9    19\n",
       "dtype: int64"
      ]
     },
     "execution_count": 266,
     "metadata": {},
     "output_type": "execute_result"
    }
   ],
   "source": [
    "s1 = pd.Series(range(10, 20, 1))\n",
    "s1"
   ]
  },
  {
   "cell_type": "code",
   "execution_count": 268,
   "id": "45d1e6a6-5bc1-462c-80fd-fcc05a10e654",
   "metadata": {},
   "outputs": [
    {
     "data": {
      "text/plain": [
       "4    14\n",
       "5    15\n",
       "6    16\n",
       "dtype: int64"
      ]
     },
     "execution_count": 268,
     "metadata": {},
     "output_type": "execute_result"
    }
   ],
   "source": [
    "s1[4:7]"
   ]
  },
  {
   "cell_type": "code",
   "execution_count": 270,
   "id": "565d97f5-f735-4736-b782-238cd20eb0c9",
   "metadata": {},
   "outputs": [
    {
     "data": {
      "text/plain": [
       "0    10\n",
       "1    11\n",
       "2    12\n",
       "3    13\n",
       "4    14\n",
       "5    15\n",
       "6    16\n",
       "7    17\n",
       "8    18\n",
       "9    19\n",
       "dtype: int64"
      ]
     },
     "execution_count": 270,
     "metadata": {},
     "output_type": "execute_result"
    }
   ],
   "source": [
    "s1[:]"
   ]
  },
  {
   "cell_type": "code",
   "execution_count": 272,
   "id": "3dbc653f-896d-4f0a-9460-86231935f49d",
   "metadata": {},
   "outputs": [
    {
     "data": {
      "text/plain": [
       "0    10\n",
       "1    11\n",
       "2    12\n",
       "3    13\n",
       "4    14\n",
       "5    15\n",
       "6    -1\n",
       "7    -1\n",
       "8    -1\n",
       "9    -1\n",
       "dtype: int64"
      ]
     },
     "execution_count": 272,
     "metadata": {},
     "output_type": "execute_result"
    }
   ],
   "source": [
    "s1[6:] = -1\n",
    "s1"
   ]
  },
  {
   "cell_type": "code",
   "execution_count": 274,
   "id": "43dcc42d-4cca-4dfd-97c4-c48df6dd5624",
   "metadata": {},
   "outputs": [
    {
     "data": {
      "text/plain": [
       "0    10\n",
       "1    11\n",
       "2    12\n",
       "3    13\n",
       "4    14\n",
       "5    15\n",
       "6    16\n",
       "7    17\n",
       "8    18\n",
       "9    19\n",
       "dtype: int64"
      ]
     },
     "execution_count": 274,
     "metadata": {},
     "output_type": "execute_result"
    }
   ],
   "source": [
    "s1 = pd.Series(range(10, 20, 1))\n",
    "s1"
   ]
  },
  {
   "cell_type": "code",
   "execution_count": 276,
   "id": "60c0b892-2d1d-4eb7-9c37-c165997988dc",
   "metadata": {},
   "outputs": [
    {
     "data": {
      "text/plain": [
       "6    16\n",
       "7    17\n",
       "8    18\n",
       "9    19\n",
       "dtype: int64"
      ]
     },
     "execution_count": 276,
     "metadata": {},
     "output_type": "execute_result"
    }
   ],
   "source": [
    "# changes in a slice of a series affect the original series\n",
    "s2 = s1[6:]\n",
    "s2"
   ]
  },
  {
   "cell_type": "code",
   "execution_count": 278,
   "id": "77f529dc-9565-4717-addd-f5037699cdb7",
   "metadata": {},
   "outputs": [],
   "source": [
    "s2[:] = 99"
   ]
  },
  {
   "cell_type": "code",
   "execution_count": 280,
   "id": "605676c6-b3ee-4220-bd2f-0b79703ef60f",
   "metadata": {},
   "outputs": [
    {
     "data": {
      "text/plain": [
       "6    99\n",
       "7    99\n",
       "8    99\n",
       "9    99\n",
       "dtype: int64"
      ]
     },
     "execution_count": 280,
     "metadata": {},
     "output_type": "execute_result"
    }
   ],
   "source": [
    "s2"
   ]
  },
  {
   "cell_type": "code",
   "execution_count": 282,
   "id": "c854f0d5-0bf1-4803-a906-aa34a92984a2",
   "metadata": {},
   "outputs": [
    {
     "data": {
      "text/plain": [
       "0    10\n",
       "1    11\n",
       "2    12\n",
       "3    13\n",
       "4    14\n",
       "5    15\n",
       "6    99\n",
       "7    99\n",
       "8    99\n",
       "9    99\n",
       "dtype: int64"
      ]
     },
     "execution_count": 282,
     "metadata": {},
     "output_type": "execute_result"
    }
   ],
   "source": [
    "s1"
   ]
  },
  {
   "cell_type": "code",
   "execution_count": 284,
   "id": "42940f99-a3ee-47b7-a123-4dd569bcc645",
   "metadata": {},
   "outputs": [
    {
     "data": {
      "text/plain": [
       "count    10.000000\n",
       "mean     47.100000\n",
       "std      44.690168\n",
       "min      10.000000\n",
       "25%      12.250000\n",
       "50%      14.500000\n",
       "75%      99.000000\n",
       "max      99.000000\n",
       "dtype: float64"
      ]
     },
     "execution_count": 284,
     "metadata": {},
     "output_type": "execute_result"
    }
   ],
   "source": [
    "s1.describe()"
   ]
  },
  {
   "cell_type": "code",
   "execution_count": 286,
   "id": "8e471817-94d8-49e5-a561-a8a4d665a4ab",
   "metadata": {},
   "outputs": [
    {
     "data": {
      "text/plain": [
       "0    10\n",
       "1    11\n",
       "2    12\n",
       "3    13\n",
       "4    14\n",
       "5    15\n",
       "6    99\n",
       "7    99\n",
       "8    99\n",
       "9    99\n",
       "dtype: int64"
      ]
     },
     "execution_count": 286,
     "metadata": {},
     "output_type": "execute_result"
    }
   ],
   "source": [
    "s1"
   ]
  },
  {
   "cell_type": "code",
   "execution_count": 288,
   "id": "b646b209-7f37-49dd-b4da-67c38049b119",
   "metadata": {},
   "outputs": [
    {
     "data": {
      "text/plain": [
       "0    10\n",
       "1    11\n",
       "2    12\n",
       "3    13\n",
       "4    14\n",
       "5    15\n",
       "6    16\n",
       "7    17\n",
       "8    18\n",
       "9    19\n",
       "dtype: int64"
      ]
     },
     "execution_count": 288,
     "metadata": {},
     "output_type": "execute_result"
    }
   ],
   "source": [
    "s1 = pd.Series(range(10, 20, 1))\n",
    "s1"
   ]
  },
  {
   "cell_type": "code",
   "execution_count": 290,
   "id": "9929cc44-e7a7-4bc7-b56e-054f52f59152",
   "metadata": {},
   "outputs": [
    {
     "data": {
      "text/plain": [
       "0     True\n",
       "1     True\n",
       "2    False\n",
       "3    False\n",
       "4    False\n",
       "5    False\n",
       "6    False\n",
       "7    False\n",
       "8    False\n",
       "9    False\n",
       "dtype: bool"
      ]
     },
     "execution_count": 290,
     "metadata": {},
     "output_type": "execute_result"
    }
   ],
   "source": [
    "s1.isin([10, 11, 6, 7])"
   ]
  },
  {
   "cell_type": "code",
   "execution_count": 292,
   "id": "50201cdc-fdaa-44f4-ad86-9b1a9c2ad4fd",
   "metadata": {},
   "outputs": [
    {
     "data": {
      "text/plain": [
       "True"
      ]
     },
     "execution_count": 292,
     "metadata": {},
     "output_type": "execute_result"
    }
   ],
   "source": [
    "1 in s1"
   ]
  },
  {
   "cell_type": "code",
   "execution_count": 294,
   "id": "3ef4618d-9ff4-4f8f-ab74-e6c20ae8fc92",
   "metadata": {},
   "outputs": [
    {
     "data": {
      "text/plain": [
       "False"
      ]
     },
     "execution_count": 294,
     "metadata": {},
     "output_type": "execute_result"
    }
   ],
   "source": [
    "10 in s1"
   ]
  },
  {
   "cell_type": "code",
   "execution_count": 296,
   "id": "e0d4d022-8db2-4873-bb16-47fb6389beb8",
   "metadata": {},
   "outputs": [
    {
     "data": {
      "text/plain": [
       "0   -2.0\n",
       "1    NaN\n",
       "2    0.0\n",
       "3    1.0\n",
       "4    3.0\n",
       "5    NaN\n",
       "dtype: float64"
      ]
     },
     "execution_count": 296,
     "metadata": {},
     "output_type": "execute_result"
    }
   ],
   "source": [
    "s3 = pd.Series([-2, np.nan, 0, 1, 3, np.nan])\n",
    "s3"
   ]
  },
  {
   "cell_type": "code",
   "execution_count": 298,
   "id": "2eddb6df-0e12-4a15-95f7-cd7431cbdf52",
   "metadata": {},
   "outputs": [
    {
     "data": {
      "text/plain": [
       "0     True\n",
       "1    False\n",
       "2     True\n",
       "3     True\n",
       "4     True\n",
       "5    False\n",
       "dtype: bool"
      ]
     },
     "execution_count": 298,
     "metadata": {},
     "output_type": "execute_result"
    }
   ],
   "source": [
    "s3.notnull()"
   ]
  },
  {
   "cell_type": "code",
   "execution_count": 300,
   "id": "7f077d24-d19f-40a3-9b3a-f7ab1fd46947",
   "metadata": {},
   "outputs": [
    {
     "data": {
      "text/plain": [
       "RangeIndex(start=0, stop=10, step=1)"
      ]
     },
     "execution_count": 300,
     "metadata": {},
     "output_type": "execute_result"
    }
   ],
   "source": [
    "# the index attribute\n",
    "s1.index"
   ]
  },
  {
   "cell_type": "code",
   "execution_count": 302,
   "id": "a306b1d4-a88c-45b4-8e67-befbf59dbc9c",
   "metadata": {},
   "outputs": [
    {
     "data": {
      "text/plain": [
       "6    99\n",
       "7    99\n",
       "8    99\n",
       "9    99\n",
       "dtype: int64"
      ]
     },
     "execution_count": 302,
     "metadata": {},
     "output_type": "execute_result"
    }
   ],
   "source": [
    "s2"
   ]
  },
  {
   "cell_type": "code",
   "execution_count": 304,
   "id": "d1a3f003-d427-4684-b3a7-a2aa313c18bf",
   "metadata": {},
   "outputs": [],
   "source": [
    "s2.index = [\"Tom\", \"Bob\", \"Sue\", \"Jim\"]"
   ]
  },
  {
   "cell_type": "code",
   "execution_count": 306,
   "id": "c03e7a2a-c697-4460-8fe7-9a40dd39e8b8",
   "metadata": {},
   "outputs": [
    {
     "data": {
      "text/plain": [
       "Tom    99\n",
       "Bob    99\n",
       "Sue    99\n",
       "Jim    99\n",
       "dtype: int64"
      ]
     },
     "execution_count": 306,
     "metadata": {},
     "output_type": "execute_result"
    }
   ],
   "source": [
    "s2"
   ]
  },
  {
   "cell_type": "code",
   "execution_count": 308,
   "id": "fc6ffdc3-6bb4-45d0-8016-2c411f960263",
   "metadata": {},
   "outputs": [
    {
     "data": {
      "text/plain": [
       "'Bob'"
      ]
     },
     "execution_count": 308,
     "metadata": {},
     "output_type": "execute_result"
    }
   ],
   "source": [
    "s2.index[1]"
   ]
  },
  {
   "cell_type": "code",
   "execution_count": 310,
   "id": "306e524a-9ece-4f55-9b1d-32a99f36a5a3",
   "metadata": {},
   "outputs": [],
   "source": [
    "issues = pd.Series([\"Product\", \"Shipping\", \"Product\", \"Shipping\", \"Pricing\", \"Refund\", \"Product\"])"
   ]
  },
  {
   "cell_type": "code",
   "execution_count": 312,
   "id": "5f3b8165-62b2-49bf-8e97-f0119d53545e",
   "metadata": {},
   "outputs": [
    {
     "data": {
      "text/plain": [
       "'Shipping'"
      ]
     },
     "execution_count": 312,
     "metadata": {},
     "output_type": "execute_result"
    }
   ],
   "source": [
    "freq = {}\n",
    "for issue in issues:\n",
    "    if issue not in freq.keys():\n",
    "        freq[issue] = 1\n",
    "    else:\n",
    "        freq[issue] += 1\n",
    "freq\n",
    "s_freq = sorted(freq.items(), key = lambda mytuple: mytuple[1], reverse = True)\n",
    "s_freq[1][0]"
   ]
  },
  {
   "cell_type": "code",
   "execution_count": 314,
   "id": "5a94f3fc-0ad9-4730-bda9-947bd8d91ffd",
   "metadata": {},
   "outputs": [
    {
     "data": {
      "text/plain": [
       "'Shipping'"
      ]
     },
     "execution_count": 314,
     "metadata": {},
     "output_type": "execute_result"
    }
   ],
   "source": [
    "issues.value_counts().index[1]"
   ]
  },
  {
   "cell_type": "code",
   "execution_count": 316,
   "id": "620ecaf6-a3ef-4f2d-b4f4-1b9eb5f02b82",
   "metadata": {},
   "outputs": [],
   "source": [
    "# PANDAS DataFrame\n",
    "\n",
    "#pd.DataFrame(data, index, columns)"
   ]
  },
  {
   "cell_type": "code",
   "execution_count": 318,
   "id": "65655ea1-222b-4714-aca8-2f2a0392cdd0",
   "metadata": {},
   "outputs": [
    {
     "data": {
      "text/html": [
       "<div>\n",
       "<style scoped>\n",
       "    .dataframe tbody tr th:only-of-type {\n",
       "        vertical-align: middle;\n",
       "    }\n",
       "\n",
       "    .dataframe tbody tr th {\n",
       "        vertical-align: top;\n",
       "    }\n",
       "\n",
       "    .dataframe thead th {\n",
       "        text-align: right;\n",
       "    }\n",
       "</style>\n",
       "<table border=\"1\" class=\"dataframe\">\n",
       "  <thead>\n",
       "    <tr style=\"text-align: right;\">\n",
       "      <th></th>\n",
       "      <th>A</th>\n",
       "      <th>B</th>\n",
       "      <th>C</th>\n",
       "    </tr>\n",
       "  </thead>\n",
       "  <tbody>\n",
       "    <tr>\n",
       "      <th>1</th>\n",
       "      <td>11</td>\n",
       "      <td>12</td>\n",
       "      <td>13</td>\n",
       "    </tr>\n",
       "    <tr>\n",
       "      <th>2</th>\n",
       "      <td>21</td>\n",
       "      <td>22</td>\n",
       "      <td>23</td>\n",
       "    </tr>\n",
       "  </tbody>\n",
       "</table>\n",
       "</div>"
      ],
      "text/plain": [
       "    A   B   C\n",
       "1  11  12  13\n",
       "2  21  22  23"
      ]
     },
     "execution_count": 318,
     "metadata": {},
     "output_type": "execute_result"
    }
   ],
   "source": [
    "pd.DataFrame(data = [[11, 12, 13], [21, 22, 23]], index = [1, 2], columns = \"A B C\".split())"
   ]
  },
  {
   "cell_type": "code",
   "execution_count": 320,
   "id": "086a4da9-7f61-47ca-88af-a6a008759edb",
   "metadata": {},
   "outputs": [
    {
     "data": {
      "text/html": [
       "<div>\n",
       "<style scoped>\n",
       "    .dataframe tbody tr th:only-of-type {\n",
       "        vertical-align: middle;\n",
       "    }\n",
       "\n",
       "    .dataframe tbody tr th {\n",
       "        vertical-align: top;\n",
       "    }\n",
       "\n",
       "    .dataframe thead th {\n",
       "        text-align: right;\n",
       "    }\n",
       "</style>\n",
       "<table border=\"1\" class=\"dataframe\">\n",
       "  <thead>\n",
       "    <tr style=\"text-align: right;\">\n",
       "      <th></th>\n",
       "      <th>0</th>\n",
       "      <th>1</th>\n",
       "      <th>2</th>\n",
       "    </tr>\n",
       "  </thead>\n",
       "  <tbody>\n",
       "    <tr>\n",
       "      <th>1</th>\n",
       "      <td>11</td>\n",
       "      <td>12</td>\n",
       "      <td>13</td>\n",
       "    </tr>\n",
       "    <tr>\n",
       "      <th>2</th>\n",
       "      <td>21</td>\n",
       "      <td>22</td>\n",
       "      <td>23</td>\n",
       "    </tr>\n",
       "  </tbody>\n",
       "</table>\n",
       "</div>"
      ],
      "text/plain": [
       "    0   1   2\n",
       "1  11  12  13\n",
       "2  21  22  23"
      ]
     },
     "execution_count": 320,
     "metadata": {},
     "output_type": "execute_result"
    }
   ],
   "source": [
    "pd.DataFrame(data = [[11, 12, 13], [21, 22, 23]], index = [1, 2])"
   ]
  },
  {
   "cell_type": "code",
   "execution_count": 322,
   "id": "c8a8a644-9cb3-478d-8c80-8ad285855aee",
   "metadata": {},
   "outputs": [
    {
     "data": {
      "text/html": [
       "<div>\n",
       "<style scoped>\n",
       "    .dataframe tbody tr th:only-of-type {\n",
       "        vertical-align: middle;\n",
       "    }\n",
       "\n",
       "    .dataframe tbody tr th {\n",
       "        vertical-align: top;\n",
       "    }\n",
       "\n",
       "    .dataframe thead th {\n",
       "        text-align: right;\n",
       "    }\n",
       "</style>\n",
       "<table border=\"1\" class=\"dataframe\">\n",
       "  <thead>\n",
       "    <tr style=\"text-align: right;\">\n",
       "      <th></th>\n",
       "      <th>A</th>\n",
       "      <th>B</th>\n",
       "      <th>C</th>\n",
       "    </tr>\n",
       "  </thead>\n",
       "  <tbody>\n",
       "    <tr>\n",
       "      <th>0</th>\n",
       "      <td>11</td>\n",
       "      <td>12</td>\n",
       "      <td>13</td>\n",
       "    </tr>\n",
       "    <tr>\n",
       "      <th>1</th>\n",
       "      <td>21</td>\n",
       "      <td>22</td>\n",
       "      <td>23</td>\n",
       "    </tr>\n",
       "  </tbody>\n",
       "</table>\n",
       "</div>"
      ],
      "text/plain": [
       "    A   B   C\n",
       "0  11  12  13\n",
       "1  21  22  23"
      ]
     },
     "execution_count": 322,
     "metadata": {},
     "output_type": "execute_result"
    }
   ],
   "source": [
    "pd.DataFrame({\"A\": [11, 21], \"B\": [12, 22], \"C\": [13, 23]})"
   ]
  },
  {
   "cell_type": "code",
   "execution_count": 324,
   "id": "0a4ad781-a2b1-452a-9a42-1856523a6692",
   "metadata": {},
   "outputs": [],
   "source": [
    "s1 = pd.Series([11, 21, 31], index = [1, 2, 3])\n",
    "s2 = pd.Series([22, 32, 42], index = [2, 3, 4])\n",
    "s3 = pd.Series([23, 33], index = [2, 3])"
   ]
  },
  {
   "cell_type": "code",
   "execution_count": 326,
   "id": "96e1269d-1deb-41c8-8525-140fc024c73c",
   "metadata": {},
   "outputs": [
    {
     "data": {
      "text/html": [
       "<div>\n",
       "<style scoped>\n",
       "    .dataframe tbody tr th:only-of-type {\n",
       "        vertical-align: middle;\n",
       "    }\n",
       "\n",
       "    .dataframe tbody tr th {\n",
       "        vertical-align: top;\n",
       "    }\n",
       "\n",
       "    .dataframe thead th {\n",
       "        text-align: right;\n",
       "    }\n",
       "</style>\n",
       "<table border=\"1\" class=\"dataframe\">\n",
       "  <thead>\n",
       "    <tr style=\"text-align: right;\">\n",
       "      <th></th>\n",
       "      <th>A</th>\n",
       "      <th>B</th>\n",
       "      <th>C</th>\n",
       "    </tr>\n",
       "  </thead>\n",
       "  <tbody>\n",
       "    <tr>\n",
       "      <th>1</th>\n",
       "      <td>11.0</td>\n",
       "      <td>NaN</td>\n",
       "      <td>NaN</td>\n",
       "    </tr>\n",
       "    <tr>\n",
       "      <th>2</th>\n",
       "      <td>21.0</td>\n",
       "      <td>22.0</td>\n",
       "      <td>23.0</td>\n",
       "    </tr>\n",
       "    <tr>\n",
       "      <th>3</th>\n",
       "      <td>31.0</td>\n",
       "      <td>32.0</td>\n",
       "      <td>33.0</td>\n",
       "    </tr>\n",
       "    <tr>\n",
       "      <th>4</th>\n",
       "      <td>NaN</td>\n",
       "      <td>42.0</td>\n",
       "      <td>NaN</td>\n",
       "    </tr>\n",
       "  </tbody>\n",
       "</table>\n",
       "</div>"
      ],
      "text/plain": [
       "      A     B     C\n",
       "1  11.0   NaN   NaN\n",
       "2  21.0  22.0  23.0\n",
       "3  31.0  32.0  33.0\n",
       "4   NaN  42.0   NaN"
      ]
     },
     "execution_count": 326,
     "metadata": {},
     "output_type": "execute_result"
    }
   ],
   "source": [
    "d = {\"A\": s1, \"B\": s2, \"C\": s3}\n",
    "pd.DataFrame(d)"
   ]
  },
  {
   "cell_type": "code",
   "execution_count": 328,
   "id": "9b67c749-f809-428b-b018-8d8e285cd68b",
   "metadata": {},
   "outputs": [
    {
     "data": {
      "text/html": [
       "<div>\n",
       "<style scoped>\n",
       "    .dataframe tbody tr th:only-of-type {\n",
       "        vertical-align: middle;\n",
       "    }\n",
       "\n",
       "    .dataframe tbody tr th {\n",
       "        vertical-align: top;\n",
       "    }\n",
       "\n",
       "    .dataframe thead th {\n",
       "        text-align: right;\n",
       "    }\n",
       "</style>\n",
       "<table border=\"1\" class=\"dataframe\">\n",
       "  <thead>\n",
       "    <tr style=\"text-align: right;\">\n",
       "      <th></th>\n",
       "      <th>C1</th>\n",
       "      <th>C2</th>\n",
       "      <th>C3</th>\n",
       "      <th>C4</th>\n",
       "    </tr>\n",
       "  </thead>\n",
       "  <tbody>\n",
       "    <tr>\n",
       "      <th>R1</th>\n",
       "      <td>1.331587</td>\n",
       "      <td>0.715279</td>\n",
       "      <td>-1.545400</td>\n",
       "      <td>-0.008384</td>\n",
       "    </tr>\n",
       "    <tr>\n",
       "      <th>R2</th>\n",
       "      <td>0.621336</td>\n",
       "      <td>-0.720086</td>\n",
       "      <td>0.265512</td>\n",
       "      <td>0.108549</td>\n",
       "    </tr>\n",
       "    <tr>\n",
       "      <th>R3</th>\n",
       "      <td>0.004291</td>\n",
       "      <td>-0.174600</td>\n",
       "      <td>0.433026</td>\n",
       "      <td>1.203037</td>\n",
       "    </tr>\n",
       "    <tr>\n",
       "      <th>R4</th>\n",
       "      <td>-0.965066</td>\n",
       "      <td>1.028274</td>\n",
       "      <td>0.228630</td>\n",
       "      <td>0.445138</td>\n",
       "    </tr>\n",
       "    <tr>\n",
       "      <th>R5</th>\n",
       "      <td>-1.136602</td>\n",
       "      <td>0.135137</td>\n",
       "      <td>1.484537</td>\n",
       "      <td>-1.079805</td>\n",
       "    </tr>\n",
       "    <tr>\n",
       "      <th>R6</th>\n",
       "      <td>-1.977728</td>\n",
       "      <td>-1.743372</td>\n",
       "      <td>0.266070</td>\n",
       "      <td>2.384967</td>\n",
       "    </tr>\n",
       "  </tbody>\n",
       "</table>\n",
       "</div>"
      ],
      "text/plain": [
       "          C1        C2        C3        C4\n",
       "R1  1.331587  0.715279 -1.545400 -0.008384\n",
       "R2  0.621336 -0.720086  0.265512  0.108549\n",
       "R3  0.004291 -0.174600  0.433026  1.203037\n",
       "R4 -0.965066  1.028274  0.228630  0.445138\n",
       "R5 -1.136602  0.135137  1.484537 -1.079805\n",
       "R6 -1.977728 -1.743372  0.266070  2.384967"
      ]
     },
     "execution_count": 328,
     "metadata": {},
     "output_type": "execute_result"
    }
   ],
   "source": [
    "np.random.seed(10)\n",
    "df = pd.DataFrame(np.random.randn(6, 4), \"R1 R2 R3 R4 R5 R6\".split(), \"C1 C2 C3 C4\".split())\n",
    "df"
   ]
  },
  {
   "cell_type": "code",
   "execution_count": 330,
   "id": "6f0cb706-c20f-403a-bcdd-3f0b0b2b6c8e",
   "metadata": {},
   "outputs": [
    {
     "data": {
      "text/plain": [
       "R1    1.331587\n",
       "R2    0.621336\n",
       "R3    0.004291\n",
       "R4   -0.965066\n",
       "R5   -1.136602\n",
       "R6   -1.977728\n",
       "Name: C1, dtype: float64"
      ]
     },
     "execution_count": 330,
     "metadata": {},
     "output_type": "execute_result"
    }
   ],
   "source": [
    "# selecting columns\n",
    "df[\"C1\"]"
   ]
  },
  {
   "cell_type": "code",
   "execution_count": 332,
   "id": "509c584a-62c9-48f4-ab18-8cfeb1a326d2",
   "metadata": {},
   "outputs": [
    {
     "data": {
      "text/html": [
       "<div>\n",
       "<style scoped>\n",
       "    .dataframe tbody tr th:only-of-type {\n",
       "        vertical-align: middle;\n",
       "    }\n",
       "\n",
       "    .dataframe tbody tr th {\n",
       "        vertical-align: top;\n",
       "    }\n",
       "\n",
       "    .dataframe thead th {\n",
       "        text-align: right;\n",
       "    }\n",
       "</style>\n",
       "<table border=\"1\" class=\"dataframe\">\n",
       "  <thead>\n",
       "    <tr style=\"text-align: right;\">\n",
       "      <th></th>\n",
       "      <th>C3</th>\n",
       "      <th>C1</th>\n",
       "    </tr>\n",
       "  </thead>\n",
       "  <tbody>\n",
       "    <tr>\n",
       "      <th>R1</th>\n",
       "      <td>-1.545400</td>\n",
       "      <td>1.331587</td>\n",
       "    </tr>\n",
       "    <tr>\n",
       "      <th>R2</th>\n",
       "      <td>0.265512</td>\n",
       "      <td>0.621336</td>\n",
       "    </tr>\n",
       "    <tr>\n",
       "      <th>R3</th>\n",
       "      <td>0.433026</td>\n",
       "      <td>0.004291</td>\n",
       "    </tr>\n",
       "    <tr>\n",
       "      <th>R4</th>\n",
       "      <td>0.228630</td>\n",
       "      <td>-0.965066</td>\n",
       "    </tr>\n",
       "    <tr>\n",
       "      <th>R5</th>\n",
       "      <td>1.484537</td>\n",
       "      <td>-1.136602</td>\n",
       "    </tr>\n",
       "    <tr>\n",
       "      <th>R6</th>\n",
       "      <td>0.266070</td>\n",
       "      <td>-1.977728</td>\n",
       "    </tr>\n",
       "  </tbody>\n",
       "</table>\n",
       "</div>"
      ],
      "text/plain": [
       "          C3        C1\n",
       "R1 -1.545400  1.331587\n",
       "R2  0.265512  0.621336\n",
       "R3  0.433026  0.004291\n",
       "R4  0.228630 -0.965066\n",
       "R5  1.484537 -1.136602\n",
       "R6  0.266070 -1.977728"
      ]
     },
     "execution_count": 332,
     "metadata": {},
     "output_type": "execute_result"
    }
   ],
   "source": [
    "df[[\"C3\", \"C1\"]]"
   ]
  },
  {
   "cell_type": "code",
   "execution_count": 334,
   "id": "1fffef8c-472a-4332-9f54-3f530e30f86a",
   "metadata": {},
   "outputs": [],
   "source": [
    "# creating a new column\n",
    "# basic arithmetic operations on columns\n",
    "df[\"C5\"] = list(range(0, 6, 1))"
   ]
  },
  {
   "cell_type": "code",
   "execution_count": 336,
   "id": "3cc140fa-8839-46a9-86d8-b8622f186815",
   "metadata": {},
   "outputs": [
    {
     "data": {
      "text/html": [
       "<div>\n",
       "<style scoped>\n",
       "    .dataframe tbody tr th:only-of-type {\n",
       "        vertical-align: middle;\n",
       "    }\n",
       "\n",
       "    .dataframe tbody tr th {\n",
       "        vertical-align: top;\n",
       "    }\n",
       "\n",
       "    .dataframe thead th {\n",
       "        text-align: right;\n",
       "    }\n",
       "</style>\n",
       "<table border=\"1\" class=\"dataframe\">\n",
       "  <thead>\n",
       "    <tr style=\"text-align: right;\">\n",
       "      <th></th>\n",
       "      <th>C1</th>\n",
       "      <th>C2</th>\n",
       "      <th>C3</th>\n",
       "      <th>C4</th>\n",
       "      <th>C5</th>\n",
       "    </tr>\n",
       "  </thead>\n",
       "  <tbody>\n",
       "    <tr>\n",
       "      <th>R1</th>\n",
       "      <td>1.331587</td>\n",
       "      <td>0.715279</td>\n",
       "      <td>-1.545400</td>\n",
       "      <td>-0.008384</td>\n",
       "      <td>0</td>\n",
       "    </tr>\n",
       "    <tr>\n",
       "      <th>R2</th>\n",
       "      <td>0.621336</td>\n",
       "      <td>-0.720086</td>\n",
       "      <td>0.265512</td>\n",
       "      <td>0.108549</td>\n",
       "      <td>1</td>\n",
       "    </tr>\n",
       "    <tr>\n",
       "      <th>R3</th>\n",
       "      <td>0.004291</td>\n",
       "      <td>-0.174600</td>\n",
       "      <td>0.433026</td>\n",
       "      <td>1.203037</td>\n",
       "      <td>2</td>\n",
       "    </tr>\n",
       "    <tr>\n",
       "      <th>R4</th>\n",
       "      <td>-0.965066</td>\n",
       "      <td>1.028274</td>\n",
       "      <td>0.228630</td>\n",
       "      <td>0.445138</td>\n",
       "      <td>3</td>\n",
       "    </tr>\n",
       "    <tr>\n",
       "      <th>R5</th>\n",
       "      <td>-1.136602</td>\n",
       "      <td>0.135137</td>\n",
       "      <td>1.484537</td>\n",
       "      <td>-1.079805</td>\n",
       "      <td>4</td>\n",
       "    </tr>\n",
       "    <tr>\n",
       "      <th>R6</th>\n",
       "      <td>-1.977728</td>\n",
       "      <td>-1.743372</td>\n",
       "      <td>0.266070</td>\n",
       "      <td>2.384967</td>\n",
       "      <td>5</td>\n",
       "    </tr>\n",
       "  </tbody>\n",
       "</table>\n",
       "</div>"
      ],
      "text/plain": [
       "          C1        C2        C3        C4  C5\n",
       "R1  1.331587  0.715279 -1.545400 -0.008384   0\n",
       "R2  0.621336 -0.720086  0.265512  0.108549   1\n",
       "R3  0.004291 -0.174600  0.433026  1.203037   2\n",
       "R4 -0.965066  1.028274  0.228630  0.445138   3\n",
       "R5 -1.136602  0.135137  1.484537 -1.079805   4\n",
       "R6 -1.977728 -1.743372  0.266070  2.384967   5"
      ]
     },
     "execution_count": 336,
     "metadata": {},
     "output_type": "execute_result"
    }
   ],
   "source": [
    "df"
   ]
  },
  {
   "cell_type": "code",
   "execution_count": 338,
   "id": "f976c3a6-cb27-441e-b6c2-9fa8893257a2",
   "metadata": {},
   "outputs": [],
   "source": [
    "df[\"Total\"] = df[\"C1\"] + .1*df[\"C5\"]"
   ]
  },
  {
   "cell_type": "code",
   "execution_count": 340,
   "id": "4b108930-64b3-4ebe-8da7-276dfce59661",
   "metadata": {},
   "outputs": [
    {
     "data": {
      "text/html": [
       "<div>\n",
       "<style scoped>\n",
       "    .dataframe tbody tr th:only-of-type {\n",
       "        vertical-align: middle;\n",
       "    }\n",
       "\n",
       "    .dataframe tbody tr th {\n",
       "        vertical-align: top;\n",
       "    }\n",
       "\n",
       "    .dataframe thead th {\n",
       "        text-align: right;\n",
       "    }\n",
       "</style>\n",
       "<table border=\"1\" class=\"dataframe\">\n",
       "  <thead>\n",
       "    <tr style=\"text-align: right;\">\n",
       "      <th></th>\n",
       "      <th>C1</th>\n",
       "      <th>C2</th>\n",
       "      <th>C3</th>\n",
       "      <th>C4</th>\n",
       "      <th>C5</th>\n",
       "      <th>Total</th>\n",
       "    </tr>\n",
       "  </thead>\n",
       "  <tbody>\n",
       "    <tr>\n",
       "      <th>R1</th>\n",
       "      <td>1.331587</td>\n",
       "      <td>0.715279</td>\n",
       "      <td>-1.545400</td>\n",
       "      <td>-0.008384</td>\n",
       "      <td>0</td>\n",
       "      <td>1.331587</td>\n",
       "    </tr>\n",
       "    <tr>\n",
       "      <th>R2</th>\n",
       "      <td>0.621336</td>\n",
       "      <td>-0.720086</td>\n",
       "      <td>0.265512</td>\n",
       "      <td>0.108549</td>\n",
       "      <td>1</td>\n",
       "      <td>0.721336</td>\n",
       "    </tr>\n",
       "    <tr>\n",
       "      <th>R3</th>\n",
       "      <td>0.004291</td>\n",
       "      <td>-0.174600</td>\n",
       "      <td>0.433026</td>\n",
       "      <td>1.203037</td>\n",
       "      <td>2</td>\n",
       "      <td>0.204291</td>\n",
       "    </tr>\n",
       "    <tr>\n",
       "      <th>R4</th>\n",
       "      <td>-0.965066</td>\n",
       "      <td>1.028274</td>\n",
       "      <td>0.228630</td>\n",
       "      <td>0.445138</td>\n",
       "      <td>3</td>\n",
       "      <td>-0.665066</td>\n",
       "    </tr>\n",
       "    <tr>\n",
       "      <th>R5</th>\n",
       "      <td>-1.136602</td>\n",
       "      <td>0.135137</td>\n",
       "      <td>1.484537</td>\n",
       "      <td>-1.079805</td>\n",
       "      <td>4</td>\n",
       "      <td>-0.736602</td>\n",
       "    </tr>\n",
       "    <tr>\n",
       "      <th>R6</th>\n",
       "      <td>-1.977728</td>\n",
       "      <td>-1.743372</td>\n",
       "      <td>0.266070</td>\n",
       "      <td>2.384967</td>\n",
       "      <td>5</td>\n",
       "      <td>-1.477728</td>\n",
       "    </tr>\n",
       "  </tbody>\n",
       "</table>\n",
       "</div>"
      ],
      "text/plain": [
       "          C1        C2        C3        C4  C5     Total\n",
       "R1  1.331587  0.715279 -1.545400 -0.008384   0  1.331587\n",
       "R2  0.621336 -0.720086  0.265512  0.108549   1  0.721336\n",
       "R3  0.004291 -0.174600  0.433026  1.203037   2  0.204291\n",
       "R4 -0.965066  1.028274  0.228630  0.445138   3 -0.665066\n",
       "R5 -1.136602  0.135137  1.484537 -1.079805   4 -0.736602\n",
       "R6 -1.977728 -1.743372  0.266070  2.384967   5 -1.477728"
      ]
     },
     "execution_count": 340,
     "metadata": {},
     "output_type": "execute_result"
    }
   ],
   "source": [
    "df"
   ]
  },
  {
   "cell_type": "code",
   "execution_count": 342,
   "id": "138b1f76-cd92-485d-9f0d-030eb4644fff",
   "metadata": {},
   "outputs": [
    {
     "data": {
      "text/html": [
       "<div>\n",
       "<style scoped>\n",
       "    .dataframe tbody tr th:only-of-type {\n",
       "        vertical-align: middle;\n",
       "    }\n",
       "\n",
       "    .dataframe tbody tr th {\n",
       "        vertical-align: top;\n",
       "    }\n",
       "\n",
       "    .dataframe thead th {\n",
       "        text-align: right;\n",
       "    }\n",
       "</style>\n",
       "<table border=\"1\" class=\"dataframe\">\n",
       "  <thead>\n",
       "    <tr style=\"text-align: right;\">\n",
       "      <th></th>\n",
       "      <th>C2</th>\n",
       "      <th>C3</th>\n",
       "      <th>C4</th>\n",
       "      <th>C5</th>\n",
       "      <th>Total</th>\n",
       "    </tr>\n",
       "  </thead>\n",
       "  <tbody>\n",
       "    <tr>\n",
       "      <th>R1</th>\n",
       "      <td>0.715279</td>\n",
       "      <td>-1.545400</td>\n",
       "      <td>-0.008384</td>\n",
       "      <td>0</td>\n",
       "      <td>1.331587</td>\n",
       "    </tr>\n",
       "    <tr>\n",
       "      <th>R2</th>\n",
       "      <td>-0.720086</td>\n",
       "      <td>0.265512</td>\n",
       "      <td>0.108549</td>\n",
       "      <td>1</td>\n",
       "      <td>0.721336</td>\n",
       "    </tr>\n",
       "    <tr>\n",
       "      <th>R3</th>\n",
       "      <td>-0.174600</td>\n",
       "      <td>0.433026</td>\n",
       "      <td>1.203037</td>\n",
       "      <td>2</td>\n",
       "      <td>0.204291</td>\n",
       "    </tr>\n",
       "    <tr>\n",
       "      <th>R4</th>\n",
       "      <td>1.028274</td>\n",
       "      <td>0.228630</td>\n",
       "      <td>0.445138</td>\n",
       "      <td>3</td>\n",
       "      <td>-0.665066</td>\n",
       "    </tr>\n",
       "    <tr>\n",
       "      <th>R5</th>\n",
       "      <td>0.135137</td>\n",
       "      <td>1.484537</td>\n",
       "      <td>-1.079805</td>\n",
       "      <td>4</td>\n",
       "      <td>-0.736602</td>\n",
       "    </tr>\n",
       "    <tr>\n",
       "      <th>R6</th>\n",
       "      <td>-1.743372</td>\n",
       "      <td>0.266070</td>\n",
       "      <td>2.384967</td>\n",
       "      <td>5</td>\n",
       "      <td>-1.477728</td>\n",
       "    </tr>\n",
       "  </tbody>\n",
       "</table>\n",
       "</div>"
      ],
      "text/plain": [
       "          C2        C3        C4  C5     Total\n",
       "R1  0.715279 -1.545400 -0.008384   0  1.331587\n",
       "R2 -0.720086  0.265512  0.108549   1  0.721336\n",
       "R3 -0.174600  0.433026  1.203037   2  0.204291\n",
       "R4  1.028274  0.228630  0.445138   3 -0.665066\n",
       "R5  0.135137  1.484537 -1.079805   4 -0.736602\n",
       "R6 -1.743372  0.266070  2.384967   5 -1.477728"
      ]
     },
     "execution_count": 342,
     "metadata": {},
     "output_type": "execute_result"
    }
   ],
   "source": [
    "# removing columns\n",
    "# inplace\n",
    "df.drop(\"C1\", axis = 1)"
   ]
  },
  {
   "cell_type": "code",
   "execution_count": 344,
   "id": "daec3a0c-eff4-4e8d-85b0-7d35f792c96a",
   "metadata": {},
   "outputs": [
    {
     "data": {
      "text/html": [
       "<div>\n",
       "<style scoped>\n",
       "    .dataframe tbody tr th:only-of-type {\n",
       "        vertical-align: middle;\n",
       "    }\n",
       "\n",
       "    .dataframe tbody tr th {\n",
       "        vertical-align: top;\n",
       "    }\n",
       "\n",
       "    .dataframe thead th {\n",
       "        text-align: right;\n",
       "    }\n",
       "</style>\n",
       "<table border=\"1\" class=\"dataframe\">\n",
       "  <thead>\n",
       "    <tr style=\"text-align: right;\">\n",
       "      <th></th>\n",
       "      <th>C2</th>\n",
       "      <th>C3</th>\n",
       "      <th>C4</th>\n",
       "    </tr>\n",
       "  </thead>\n",
       "  <tbody>\n",
       "    <tr>\n",
       "      <th>R1</th>\n",
       "      <td>0.715279</td>\n",
       "      <td>-1.545400</td>\n",
       "      <td>-0.008384</td>\n",
       "    </tr>\n",
       "    <tr>\n",
       "      <th>R2</th>\n",
       "      <td>-0.720086</td>\n",
       "      <td>0.265512</td>\n",
       "      <td>0.108549</td>\n",
       "    </tr>\n",
       "    <tr>\n",
       "      <th>R3</th>\n",
       "      <td>-0.174600</td>\n",
       "      <td>0.433026</td>\n",
       "      <td>1.203037</td>\n",
       "    </tr>\n",
       "    <tr>\n",
       "      <th>R4</th>\n",
       "      <td>1.028274</td>\n",
       "      <td>0.228630</td>\n",
       "      <td>0.445138</td>\n",
       "    </tr>\n",
       "    <tr>\n",
       "      <th>R5</th>\n",
       "      <td>0.135137</td>\n",
       "      <td>1.484537</td>\n",
       "      <td>-1.079805</td>\n",
       "    </tr>\n",
       "    <tr>\n",
       "      <th>R6</th>\n",
       "      <td>-1.743372</td>\n",
       "      <td>0.266070</td>\n",
       "      <td>2.384967</td>\n",
       "    </tr>\n",
       "  </tbody>\n",
       "</table>\n",
       "</div>"
      ],
      "text/plain": [
       "          C2        C3        C4\n",
       "R1  0.715279 -1.545400 -0.008384\n",
       "R2 -0.720086  0.265512  0.108549\n",
       "R3 -0.174600  0.433026  1.203037\n",
       "R4  1.028274  0.228630  0.445138\n",
       "R5  0.135137  1.484537 -1.079805\n",
       "R6 -1.743372  0.266070  2.384967"
      ]
     },
     "execution_count": 344,
     "metadata": {},
     "output_type": "execute_result"
    }
   ],
   "source": [
    "df.drop([\"C1\", \"C5\", \"Total\"], axis = 1)"
   ]
  },
  {
   "cell_type": "code",
   "execution_count": 346,
   "id": "f1ac220e-b097-403e-a0b9-db7c303eac91",
   "metadata": {},
   "outputs": [
    {
     "data": {
      "text/html": [
       "<div>\n",
       "<style scoped>\n",
       "    .dataframe tbody tr th:only-of-type {\n",
       "        vertical-align: middle;\n",
       "    }\n",
       "\n",
       "    .dataframe tbody tr th {\n",
       "        vertical-align: top;\n",
       "    }\n",
       "\n",
       "    .dataframe thead th {\n",
       "        text-align: right;\n",
       "    }\n",
       "</style>\n",
       "<table border=\"1\" class=\"dataframe\">\n",
       "  <thead>\n",
       "    <tr style=\"text-align: right;\">\n",
       "      <th></th>\n",
       "      <th>C1</th>\n",
       "      <th>C2</th>\n",
       "      <th>C3</th>\n",
       "      <th>C4</th>\n",
       "      <th>C5</th>\n",
       "      <th>Total</th>\n",
       "    </tr>\n",
       "  </thead>\n",
       "  <tbody>\n",
       "    <tr>\n",
       "      <th>R1</th>\n",
       "      <td>1.331587</td>\n",
       "      <td>0.715279</td>\n",
       "      <td>-1.545400</td>\n",
       "      <td>-0.008384</td>\n",
       "      <td>0</td>\n",
       "      <td>1.331587</td>\n",
       "    </tr>\n",
       "    <tr>\n",
       "      <th>R2</th>\n",
       "      <td>0.621336</td>\n",
       "      <td>-0.720086</td>\n",
       "      <td>0.265512</td>\n",
       "      <td>0.108549</td>\n",
       "      <td>1</td>\n",
       "      <td>0.721336</td>\n",
       "    </tr>\n",
       "    <tr>\n",
       "      <th>R3</th>\n",
       "      <td>0.004291</td>\n",
       "      <td>-0.174600</td>\n",
       "      <td>0.433026</td>\n",
       "      <td>1.203037</td>\n",
       "      <td>2</td>\n",
       "      <td>0.204291</td>\n",
       "    </tr>\n",
       "    <tr>\n",
       "      <th>R4</th>\n",
       "      <td>-0.965066</td>\n",
       "      <td>1.028274</td>\n",
       "      <td>0.228630</td>\n",
       "      <td>0.445138</td>\n",
       "      <td>3</td>\n",
       "      <td>-0.665066</td>\n",
       "    </tr>\n",
       "    <tr>\n",
       "      <th>R5</th>\n",
       "      <td>-1.136602</td>\n",
       "      <td>0.135137</td>\n",
       "      <td>1.484537</td>\n",
       "      <td>-1.079805</td>\n",
       "      <td>4</td>\n",
       "      <td>-0.736602</td>\n",
       "    </tr>\n",
       "    <tr>\n",
       "      <th>R6</th>\n",
       "      <td>-1.977728</td>\n",
       "      <td>-1.743372</td>\n",
       "      <td>0.266070</td>\n",
       "      <td>2.384967</td>\n",
       "      <td>5</td>\n",
       "      <td>-1.477728</td>\n",
       "    </tr>\n",
       "  </tbody>\n",
       "</table>\n",
       "</div>"
      ],
      "text/plain": [
       "          C1        C2        C3        C4  C5     Total\n",
       "R1  1.331587  0.715279 -1.545400 -0.008384   0  1.331587\n",
       "R2  0.621336 -0.720086  0.265512  0.108549   1  0.721336\n",
       "R3  0.004291 -0.174600  0.433026  1.203037   2  0.204291\n",
       "R4 -0.965066  1.028274  0.228630  0.445138   3 -0.665066\n",
       "R5 -1.136602  0.135137  1.484537 -1.079805   4 -0.736602\n",
       "R6 -1.977728 -1.743372  0.266070  2.384967   5 -1.477728"
      ]
     },
     "execution_count": 346,
     "metadata": {},
     "output_type": "execute_result"
    }
   ],
   "source": [
    "df"
   ]
  },
  {
   "cell_type": "code",
   "execution_count": 348,
   "id": "850097dd-0735-41a1-a47b-33bf3374fd39",
   "metadata": {},
   "outputs": [],
   "source": [
    "df.drop([\"C5\", \"Total\"], axis = 1, inplace = True)"
   ]
  },
  {
   "cell_type": "code",
   "execution_count": 350,
   "id": "9cc64089-9d51-43e0-9271-3c78b0cf75e4",
   "metadata": {},
   "outputs": [
    {
     "data": {
      "text/html": [
       "<div>\n",
       "<style scoped>\n",
       "    .dataframe tbody tr th:only-of-type {\n",
       "        vertical-align: middle;\n",
       "    }\n",
       "\n",
       "    .dataframe tbody tr th {\n",
       "        vertical-align: top;\n",
       "    }\n",
       "\n",
       "    .dataframe thead th {\n",
       "        text-align: right;\n",
       "    }\n",
       "</style>\n",
       "<table border=\"1\" class=\"dataframe\">\n",
       "  <thead>\n",
       "    <tr style=\"text-align: right;\">\n",
       "      <th></th>\n",
       "      <th>C1</th>\n",
       "      <th>C2</th>\n",
       "      <th>C3</th>\n",
       "      <th>C4</th>\n",
       "    </tr>\n",
       "  </thead>\n",
       "  <tbody>\n",
       "    <tr>\n",
       "      <th>R1</th>\n",
       "      <td>1.331587</td>\n",
       "      <td>0.715279</td>\n",
       "      <td>-1.545400</td>\n",
       "      <td>-0.008384</td>\n",
       "    </tr>\n",
       "    <tr>\n",
       "      <th>R2</th>\n",
       "      <td>0.621336</td>\n",
       "      <td>-0.720086</td>\n",
       "      <td>0.265512</td>\n",
       "      <td>0.108549</td>\n",
       "    </tr>\n",
       "    <tr>\n",
       "      <th>R3</th>\n",
       "      <td>0.004291</td>\n",
       "      <td>-0.174600</td>\n",
       "      <td>0.433026</td>\n",
       "      <td>1.203037</td>\n",
       "    </tr>\n",
       "    <tr>\n",
       "      <th>R4</th>\n",
       "      <td>-0.965066</td>\n",
       "      <td>1.028274</td>\n",
       "      <td>0.228630</td>\n",
       "      <td>0.445138</td>\n",
       "    </tr>\n",
       "    <tr>\n",
       "      <th>R5</th>\n",
       "      <td>-1.136602</td>\n",
       "      <td>0.135137</td>\n",
       "      <td>1.484537</td>\n",
       "      <td>-1.079805</td>\n",
       "    </tr>\n",
       "    <tr>\n",
       "      <th>R6</th>\n",
       "      <td>-1.977728</td>\n",
       "      <td>-1.743372</td>\n",
       "      <td>0.266070</td>\n",
       "      <td>2.384967</td>\n",
       "    </tr>\n",
       "  </tbody>\n",
       "</table>\n",
       "</div>"
      ],
      "text/plain": [
       "          C1        C2        C3        C4\n",
       "R1  1.331587  0.715279 -1.545400 -0.008384\n",
       "R2  0.621336 -0.720086  0.265512  0.108549\n",
       "R3  0.004291 -0.174600  0.433026  1.203037\n",
       "R4 -0.965066  1.028274  0.228630  0.445138\n",
       "R5 -1.136602  0.135137  1.484537 -1.079805\n",
       "R6 -1.977728 -1.743372  0.266070  2.384967"
      ]
     },
     "execution_count": 350,
     "metadata": {},
     "output_type": "execute_result"
    }
   ],
   "source": [
    "df"
   ]
  },
  {
   "cell_type": "code",
   "execution_count": 352,
   "id": "fc742924-462a-4714-9bb3-7fa9f768e7d6",
   "metadata": {},
   "outputs": [
    {
     "data": {
      "text/html": [
       "<div>\n",
       "<style scoped>\n",
       "    .dataframe tbody tr th:only-of-type {\n",
       "        vertical-align: middle;\n",
       "    }\n",
       "\n",
       "    .dataframe tbody tr th {\n",
       "        vertical-align: top;\n",
       "    }\n",
       "\n",
       "    .dataframe thead th {\n",
       "        text-align: right;\n",
       "    }\n",
       "</style>\n",
       "<table border=\"1\" class=\"dataframe\">\n",
       "  <thead>\n",
       "    <tr style=\"text-align: right;\">\n",
       "      <th></th>\n",
       "      <th>C1</th>\n",
       "      <th>C2</th>\n",
       "      <th>C3</th>\n",
       "      <th>C4</th>\n",
       "    </tr>\n",
       "  </thead>\n",
       "  <tbody>\n",
       "    <tr>\n",
       "      <th>R2</th>\n",
       "      <td>0.621336</td>\n",
       "      <td>-0.720086</td>\n",
       "      <td>0.265512</td>\n",
       "      <td>0.108549</td>\n",
       "    </tr>\n",
       "    <tr>\n",
       "      <th>R3</th>\n",
       "      <td>0.004291</td>\n",
       "      <td>-0.174600</td>\n",
       "      <td>0.433026</td>\n",
       "      <td>1.203037</td>\n",
       "    </tr>\n",
       "    <tr>\n",
       "      <th>R4</th>\n",
       "      <td>-0.965066</td>\n",
       "      <td>1.028274</td>\n",
       "      <td>0.228630</td>\n",
       "      <td>0.445138</td>\n",
       "    </tr>\n",
       "    <tr>\n",
       "      <th>R5</th>\n",
       "      <td>-1.136602</td>\n",
       "      <td>0.135137</td>\n",
       "      <td>1.484537</td>\n",
       "      <td>-1.079805</td>\n",
       "    </tr>\n",
       "    <tr>\n",
       "      <th>R6</th>\n",
       "      <td>-1.977728</td>\n",
       "      <td>-1.743372</td>\n",
       "      <td>0.266070</td>\n",
       "      <td>2.384967</td>\n",
       "    </tr>\n",
       "  </tbody>\n",
       "</table>\n",
       "</div>"
      ],
      "text/plain": [
       "          C1        C2        C3        C4\n",
       "R2  0.621336 -0.720086  0.265512  0.108549\n",
       "R3  0.004291 -0.174600  0.433026  1.203037\n",
       "R4 -0.965066  1.028274  0.228630  0.445138\n",
       "R5 -1.136602  0.135137  1.484537 -1.079805\n",
       "R6 -1.977728 -1.743372  0.266070  2.384967"
      ]
     },
     "execution_count": 352,
     "metadata": {},
     "output_type": "execute_result"
    }
   ],
   "source": [
    "df.drop(\"R1\", axis = 0)"
   ]
  },
  {
   "cell_type": "code",
   "execution_count": 354,
   "id": "83a829c5-dcdd-49fb-85c3-40c6fd20558b",
   "metadata": {},
   "outputs": [
    {
     "data": {
      "text/html": [
       "<div>\n",
       "<style scoped>\n",
       "    .dataframe tbody tr th:only-of-type {\n",
       "        vertical-align: middle;\n",
       "    }\n",
       "\n",
       "    .dataframe tbody tr th {\n",
       "        vertical-align: top;\n",
       "    }\n",
       "\n",
       "    .dataframe thead th {\n",
       "        text-align: right;\n",
       "    }\n",
       "</style>\n",
       "<table border=\"1\" class=\"dataframe\">\n",
       "  <thead>\n",
       "    <tr style=\"text-align: right;\">\n",
       "      <th></th>\n",
       "      <th>C1</th>\n",
       "      <th>C2</th>\n",
       "      <th>C3</th>\n",
       "      <th>C4</th>\n",
       "    </tr>\n",
       "  </thead>\n",
       "  <tbody>\n",
       "    <tr>\n",
       "      <th>R2</th>\n",
       "      <td>0.621336</td>\n",
       "      <td>-0.720086</td>\n",
       "      <td>0.265512</td>\n",
       "      <td>0.108549</td>\n",
       "    </tr>\n",
       "    <tr>\n",
       "      <th>R3</th>\n",
       "      <td>0.004291</td>\n",
       "      <td>-0.174600</td>\n",
       "      <td>0.433026</td>\n",
       "      <td>1.203037</td>\n",
       "    </tr>\n",
       "    <tr>\n",
       "      <th>R4</th>\n",
       "      <td>-0.965066</td>\n",
       "      <td>1.028274</td>\n",
       "      <td>0.228630</td>\n",
       "      <td>0.445138</td>\n",
       "    </tr>\n",
       "    <tr>\n",
       "      <th>R5</th>\n",
       "      <td>-1.136602</td>\n",
       "      <td>0.135137</td>\n",
       "      <td>1.484537</td>\n",
       "      <td>-1.079805</td>\n",
       "    </tr>\n",
       "  </tbody>\n",
       "</table>\n",
       "</div>"
      ],
      "text/plain": [
       "          C1        C2        C3        C4\n",
       "R2  0.621336 -0.720086  0.265512  0.108549\n",
       "R3  0.004291 -0.174600  0.433026  1.203037\n",
       "R4 -0.965066  1.028274  0.228630  0.445138\n",
       "R5 -1.136602  0.135137  1.484537 -1.079805"
      ]
     },
     "execution_count": 354,
     "metadata": {},
     "output_type": "execute_result"
    }
   ],
   "source": [
    "df.drop([\"R1\", \"R6\"])"
   ]
  },
  {
   "cell_type": "code",
   "execution_count": 356,
   "id": "1e7bbc53-34df-4a71-9ba5-a8bd4af661bd",
   "metadata": {},
   "outputs": [
    {
     "data": {
      "text/html": [
       "<div>\n",
       "<style scoped>\n",
       "    .dataframe tbody tr th:only-of-type {\n",
       "        vertical-align: middle;\n",
       "    }\n",
       "\n",
       "    .dataframe tbody tr th {\n",
       "        vertical-align: top;\n",
       "    }\n",
       "\n",
       "    .dataframe thead th {\n",
       "        text-align: right;\n",
       "    }\n",
       "</style>\n",
       "<table border=\"1\" class=\"dataframe\">\n",
       "  <thead>\n",
       "    <tr style=\"text-align: right;\">\n",
       "      <th></th>\n",
       "      <th>C1</th>\n",
       "      <th>C2</th>\n",
       "      <th>C3</th>\n",
       "      <th>C4</th>\n",
       "    </tr>\n",
       "  </thead>\n",
       "  <tbody>\n",
       "    <tr>\n",
       "      <th>R1</th>\n",
       "      <td>1.331587</td>\n",
       "      <td>0.715279</td>\n",
       "      <td>-1.545400</td>\n",
       "      <td>-0.008384</td>\n",
       "    </tr>\n",
       "    <tr>\n",
       "      <th>R2</th>\n",
       "      <td>0.621336</td>\n",
       "      <td>-0.720086</td>\n",
       "      <td>0.265512</td>\n",
       "      <td>0.108549</td>\n",
       "    </tr>\n",
       "    <tr>\n",
       "      <th>R3</th>\n",
       "      <td>0.004291</td>\n",
       "      <td>-0.174600</td>\n",
       "      <td>0.433026</td>\n",
       "      <td>1.203037</td>\n",
       "    </tr>\n",
       "    <tr>\n",
       "      <th>R4</th>\n",
       "      <td>-0.965066</td>\n",
       "      <td>1.028274</td>\n",
       "      <td>0.228630</td>\n",
       "      <td>0.445138</td>\n",
       "    </tr>\n",
       "    <tr>\n",
       "      <th>R5</th>\n",
       "      <td>-1.136602</td>\n",
       "      <td>0.135137</td>\n",
       "      <td>1.484537</td>\n",
       "      <td>-1.079805</td>\n",
       "    </tr>\n",
       "    <tr>\n",
       "      <th>R6</th>\n",
       "      <td>-1.977728</td>\n",
       "      <td>-1.743372</td>\n",
       "      <td>0.266070</td>\n",
       "      <td>2.384967</td>\n",
       "    </tr>\n",
       "  </tbody>\n",
       "</table>\n",
       "</div>"
      ],
      "text/plain": [
       "          C1        C2        C3        C4\n",
       "R1  1.331587  0.715279 -1.545400 -0.008384\n",
       "R2  0.621336 -0.720086  0.265512  0.108549\n",
       "R3  0.004291 -0.174600  0.433026  1.203037\n",
       "R4 -0.965066  1.028274  0.228630  0.445138\n",
       "R5 -1.136602  0.135137  1.484537 -1.079805\n",
       "R6 -1.977728 -1.743372  0.266070  2.384967"
      ]
     },
     "execution_count": 356,
     "metadata": {},
     "output_type": "execute_result"
    }
   ],
   "source": [
    "df"
   ]
  },
  {
   "cell_type": "code",
   "execution_count": 358,
   "id": "22c64987-05ef-43d0-8692-7078557d7407",
   "metadata": {},
   "outputs": [
    {
     "data": {
      "text/html": [
       "<div>\n",
       "<style scoped>\n",
       "    .dataframe tbody tr th:only-of-type {\n",
       "        vertical-align: middle;\n",
       "    }\n",
       "\n",
       "    .dataframe tbody tr th {\n",
       "        vertical-align: top;\n",
       "    }\n",
       "\n",
       "    .dataframe thead th {\n",
       "        text-align: right;\n",
       "    }\n",
       "</style>\n",
       "<table border=\"1\" class=\"dataframe\">\n",
       "  <thead>\n",
       "    <tr style=\"text-align: right;\">\n",
       "      <th></th>\n",
       "      <th>C1</th>\n",
       "      <th>C2</th>\n",
       "      <th>C3</th>\n",
       "      <th>C4</th>\n",
       "    </tr>\n",
       "  </thead>\n",
       "  <tbody>\n",
       "    <tr>\n",
       "      <th>R6</th>\n",
       "      <td>-1.977728</td>\n",
       "      <td>-1.743372</td>\n",
       "      <td>0.26607</td>\n",
       "      <td>2.384967</td>\n",
       "    </tr>\n",
       "    <tr>\n",
       "      <th>R1</th>\n",
       "      <td>1.331587</td>\n",
       "      <td>0.715279</td>\n",
       "      <td>-1.54540</td>\n",
       "      <td>-0.008384</td>\n",
       "    </tr>\n",
       "  </tbody>\n",
       "</table>\n",
       "</div>"
      ],
      "text/plain": [
       "          C1        C2       C3        C4\n",
       "R6 -1.977728 -1.743372  0.26607  2.384967\n",
       "R1  1.331587  0.715279 -1.54540 -0.008384"
      ]
     },
     "execution_count": 358,
     "metadata": {},
     "output_type": "execute_result"
    }
   ],
   "source": [
    "# selecting rows\n",
    "df.loc[[\"R6\" , \"R1\"]]"
   ]
  },
  {
   "cell_type": "code",
   "execution_count": 360,
   "id": "f1808621-c83d-4d3b-8790-c2e8544858f9",
   "metadata": {},
   "outputs": [
    {
     "data": {
      "text/html": [
       "<div>\n",
       "<style scoped>\n",
       "    .dataframe tbody tr th:only-of-type {\n",
       "        vertical-align: middle;\n",
       "    }\n",
       "\n",
       "    .dataframe tbody tr th {\n",
       "        vertical-align: top;\n",
       "    }\n",
       "\n",
       "    .dataframe thead th {\n",
       "        text-align: right;\n",
       "    }\n",
       "</style>\n",
       "<table border=\"1\" class=\"dataframe\">\n",
       "  <thead>\n",
       "    <tr style=\"text-align: right;\">\n",
       "      <th></th>\n",
       "      <th>C1</th>\n",
       "      <th>C2</th>\n",
       "      <th>C3</th>\n",
       "      <th>C4</th>\n",
       "    </tr>\n",
       "  </thead>\n",
       "  <tbody>\n",
       "    <tr>\n",
       "      <th>R6</th>\n",
       "      <td>-1.977728</td>\n",
       "      <td>-1.743372</td>\n",
       "      <td>0.26607</td>\n",
       "      <td>2.384967</td>\n",
       "    </tr>\n",
       "    <tr>\n",
       "      <th>R1</th>\n",
       "      <td>1.331587</td>\n",
       "      <td>0.715279</td>\n",
       "      <td>-1.54540</td>\n",
       "      <td>-0.008384</td>\n",
       "    </tr>\n",
       "  </tbody>\n",
       "</table>\n",
       "</div>"
      ],
      "text/plain": [
       "          C1        C2       C3        C4\n",
       "R6 -1.977728 -1.743372  0.26607  2.384967\n",
       "R1  1.331587  0.715279 -1.54540 -0.008384"
      ]
     },
     "execution_count": 360,
     "metadata": {},
     "output_type": "execute_result"
    }
   ],
   "source": [
    "df.iloc[[5, 0]]"
   ]
  },
  {
   "cell_type": "code",
   "execution_count": 362,
   "id": "f372e3b8-1207-414e-8d18-f6845cfecfdc",
   "metadata": {},
   "outputs": [
    {
     "data": {
      "text/html": [
       "<div>\n",
       "<style scoped>\n",
       "    .dataframe tbody tr th:only-of-type {\n",
       "        vertical-align: middle;\n",
       "    }\n",
       "\n",
       "    .dataframe tbody tr th {\n",
       "        vertical-align: top;\n",
       "    }\n",
       "\n",
       "    .dataframe thead th {\n",
       "        text-align: right;\n",
       "    }\n",
       "</style>\n",
       "<table border=\"1\" class=\"dataframe\">\n",
       "  <thead>\n",
       "    <tr style=\"text-align: right;\">\n",
       "      <th></th>\n",
       "      <th>C1</th>\n",
       "      <th>C2</th>\n",
       "      <th>C3</th>\n",
       "      <th>C4</th>\n",
       "    </tr>\n",
       "  </thead>\n",
       "  <tbody>\n",
       "    <tr>\n",
       "      <th>R1</th>\n",
       "      <td>1.331587</td>\n",
       "      <td>0.715279</td>\n",
       "      <td>-1.545400</td>\n",
       "      <td>-0.008384</td>\n",
       "    </tr>\n",
       "    <tr>\n",
       "      <th>R2</th>\n",
       "      <td>0.621336</td>\n",
       "      <td>-0.720086</td>\n",
       "      <td>0.265512</td>\n",
       "      <td>0.108549</td>\n",
       "    </tr>\n",
       "    <tr>\n",
       "      <th>R3</th>\n",
       "      <td>0.004291</td>\n",
       "      <td>-0.174600</td>\n",
       "      <td>0.433026</td>\n",
       "      <td>1.203037</td>\n",
       "    </tr>\n",
       "    <tr>\n",
       "      <th>R4</th>\n",
       "      <td>-0.965066</td>\n",
       "      <td>1.028274</td>\n",
       "      <td>0.228630</td>\n",
       "      <td>0.445138</td>\n",
       "    </tr>\n",
       "    <tr>\n",
       "      <th>R5</th>\n",
       "      <td>-1.136602</td>\n",
       "      <td>0.135137</td>\n",
       "      <td>1.484537</td>\n",
       "      <td>-1.079805</td>\n",
       "    </tr>\n",
       "    <tr>\n",
       "      <th>R6</th>\n",
       "      <td>-1.977728</td>\n",
       "      <td>-1.743372</td>\n",
       "      <td>0.266070</td>\n",
       "      <td>2.384967</td>\n",
       "    </tr>\n",
       "  </tbody>\n",
       "</table>\n",
       "</div>"
      ],
      "text/plain": [
       "          C1        C2        C3        C4\n",
       "R1  1.331587  0.715279 -1.545400 -0.008384\n",
       "R2  0.621336 -0.720086  0.265512  0.108549\n",
       "R3  0.004291 -0.174600  0.433026  1.203037\n",
       "R4 -0.965066  1.028274  0.228630  0.445138\n",
       "R5 -1.136602  0.135137  1.484537 -1.079805\n",
       "R6 -1.977728 -1.743372  0.266070  2.384967"
      ]
     },
     "execution_count": 362,
     "metadata": {},
     "output_type": "execute_result"
    }
   ],
   "source": [
    "# head() and tail()\n",
    "df.head(6)"
   ]
  },
  {
   "cell_type": "code",
   "execution_count": 364,
   "id": "5e219909-1473-4f1c-9315-93147726430f",
   "metadata": {},
   "outputs": [
    {
     "data": {
      "text/html": [
       "<div>\n",
       "<style scoped>\n",
       "    .dataframe tbody tr th:only-of-type {\n",
       "        vertical-align: middle;\n",
       "    }\n",
       "\n",
       "    .dataframe tbody tr th {\n",
       "        vertical-align: top;\n",
       "    }\n",
       "\n",
       "    .dataframe thead th {\n",
       "        text-align: right;\n",
       "    }\n",
       "</style>\n",
       "<table border=\"1\" class=\"dataframe\">\n",
       "  <thead>\n",
       "    <tr style=\"text-align: right;\">\n",
       "      <th></th>\n",
       "      <th>C1</th>\n",
       "      <th>C2</th>\n",
       "      <th>C3</th>\n",
       "      <th>C4</th>\n",
       "    </tr>\n",
       "  </thead>\n",
       "  <tbody>\n",
       "    <tr>\n",
       "      <th>R4</th>\n",
       "      <td>-0.965066</td>\n",
       "      <td>1.028274</td>\n",
       "      <td>0.228630</td>\n",
       "      <td>0.445138</td>\n",
       "    </tr>\n",
       "    <tr>\n",
       "      <th>R5</th>\n",
       "      <td>-1.136602</td>\n",
       "      <td>0.135137</td>\n",
       "      <td>1.484537</td>\n",
       "      <td>-1.079805</td>\n",
       "    </tr>\n",
       "    <tr>\n",
       "      <th>R6</th>\n",
       "      <td>-1.977728</td>\n",
       "      <td>-1.743372</td>\n",
       "      <td>0.266070</td>\n",
       "      <td>2.384967</td>\n",
       "    </tr>\n",
       "  </tbody>\n",
       "</table>\n",
       "</div>"
      ],
      "text/plain": [
       "          C1        C2        C3        C4\n",
       "R4 -0.965066  1.028274  0.228630  0.445138\n",
       "R5 -1.136602  0.135137  1.484537 -1.079805\n",
       "R6 -1.977728 -1.743372  0.266070  2.384967"
      ]
     },
     "execution_count": 364,
     "metadata": {},
     "output_type": "execute_result"
    }
   ],
   "source": [
    "df.tail(3)"
   ]
  },
  {
   "cell_type": "markdown",
   "id": "b0de782e-9067-436f-80f6-24fbffb5dc44",
   "metadata": {},
   "source": [
    "# 11.20.24"
   ]
  },
  {
   "cell_type": "code",
   "execution_count": 366,
   "id": "8fda6153-e1cf-4fe0-81c0-bf8810da3b96",
   "metadata": {},
   "outputs": [],
   "source": [
    "#TEXT ANALYSIS (WITH PANDAS AND RE)"
   ]
  },
  {
   "cell_type": "code",
   "execution_count": 368,
   "id": "2902b696-8067-4a11-9f9f-e57888032ce3",
   "metadata": {},
   "outputs": [],
   "source": [
    "import pandas as pd\n",
    "import numpy as np"
   ]
  },
  {
   "cell_type": "code",
   "execution_count": 370,
   "id": "9a6ee4e0-5f93-406c-9d14-850e22da3136",
   "metadata": {},
   "outputs": [
    {
     "data": {
      "text/html": [
       "<div>\n",
       "<style scoped>\n",
       "    .dataframe tbody tr th:only-of-type {\n",
       "        vertical-align: middle;\n",
       "    }\n",
       "\n",
       "    .dataframe tbody tr th {\n",
       "        vertical-align: top;\n",
       "    }\n",
       "\n",
       "    .dataframe thead th {\n",
       "        text-align: right;\n",
       "    }\n",
       "</style>\n",
       "<table border=\"1\" class=\"dataframe\">\n",
       "  <thead>\n",
       "    <tr style=\"text-align: right;\">\n",
       "      <th></th>\n",
       "      <th>text</th>\n",
       "    </tr>\n",
       "  </thead>\n",
       "  <tbody>\n",
       "    <tr>\n",
       "      <th>0</th>\n",
       "      <td>Apple is innovative</td>\n",
       "    </tr>\n",
       "    <tr>\n",
       "      <th>1</th>\n",
       "      <td>iPhone is pricey</td>\n",
       "    </tr>\n",
       "    <tr>\n",
       "      <th>2</th>\n",
       "      <td>Is iPad pricey</td>\n",
       "    </tr>\n",
       "    <tr>\n",
       "      <th>3</th>\n",
       "      <td>Eat an apple a day</td>\n",
       "    </tr>\n",
       "  </tbody>\n",
       "</table>\n",
       "</div>"
      ],
      "text/plain": [
       "                  text\n",
       "0  Apple is innovative\n",
       "1     iPhone is pricey\n",
       "2       Is iPad pricey\n",
       "3   Eat an apple a day"
      ]
     },
     "execution_count": 370,
     "metadata": {},
     "output_type": "execute_result"
    }
   ],
   "source": [
    "d = {\"text\": [\"Apple is innovative\",\n",
    "             \"iPhone is pricey\",\n",
    "             \"Is iPad pricey\",\n",
    "             \"Eat an apple a day\"]}\n",
    "df = pd.DataFrame(d)\n",
    "df"
   ]
  },
  {
   "cell_type": "code",
   "execution_count": 372,
   "id": "034e4bbf-22ef-49fa-9bf4-f234dc1efbd4",
   "metadata": {},
   "outputs": [
    {
     "data": {
      "text/plain": [
       "0    False\n",
       "1    False\n",
       "2    False\n",
       "3     True\n",
       "Name: text, dtype: bool"
      ]
     },
     "execution_count": 372,
     "metadata": {},
     "output_type": "execute_result"
    }
   ],
   "source": [
    "#the str accessor\n",
    "df[\"text\"].str.contains(\"apple\")"
   ]
  },
  {
   "cell_type": "code",
   "execution_count": 374,
   "id": "6725555c-ec32-4591-984b-02899c2ae494",
   "metadata": {},
   "outputs": [
    {
     "data": {
      "text/html": [
       "<div>\n",
       "<style scoped>\n",
       "    .dataframe tbody tr th:only-of-type {\n",
       "        vertical-align: middle;\n",
       "    }\n",
       "\n",
       "    .dataframe tbody tr th {\n",
       "        vertical-align: top;\n",
       "    }\n",
       "\n",
       "    .dataframe thead th {\n",
       "        text-align: right;\n",
       "    }\n",
       "</style>\n",
       "<table border=\"1\" class=\"dataframe\">\n",
       "  <thead>\n",
       "    <tr style=\"text-align: right;\">\n",
       "      <th></th>\n",
       "      <th>text</th>\n",
       "    </tr>\n",
       "  </thead>\n",
       "  <tbody>\n",
       "    <tr>\n",
       "      <th>0</th>\n",
       "      <td>Apple is innovative</td>\n",
       "    </tr>\n",
       "    <tr>\n",
       "      <th>3</th>\n",
       "      <td>Eat an apple a day</td>\n",
       "    </tr>\n",
       "  </tbody>\n",
       "</table>\n",
       "</div>"
      ],
      "text/plain": [
       "                  text\n",
       "0  Apple is innovative\n",
       "3   Eat an apple a day"
      ]
     },
     "execution_count": 374,
     "metadata": {},
     "output_type": "execute_result"
    }
   ],
   "source": [
    "df[df[\"text\"].str.contains(\"apple\", case = False)]"
   ]
  },
  {
   "cell_type": "code",
   "execution_count": 376,
   "id": "e9d94655-e05e-4252-97a2-8b1cdf6e07f4",
   "metadata": {},
   "outputs": [
    {
     "data": {
      "text/html": [
       "<div>\n",
       "<style scoped>\n",
       "    .dataframe tbody tr th:only-of-type {\n",
       "        vertical-align: middle;\n",
       "    }\n",
       "\n",
       "    .dataframe tbody tr th {\n",
       "        vertical-align: top;\n",
       "    }\n",
       "\n",
       "    .dataframe thead th {\n",
       "        text-align: right;\n",
       "    }\n",
       "</style>\n",
       "<table border=\"1\" class=\"dataframe\">\n",
       "  <thead>\n",
       "    <tr style=\"text-align: right;\">\n",
       "      <th></th>\n",
       "      <th>text</th>\n",
       "    </tr>\n",
       "  </thead>\n",
       "  <tbody>\n",
       "    <tr>\n",
       "      <th>0</th>\n",
       "      <td>Apple is innovative</td>\n",
       "    </tr>\n",
       "    <tr>\n",
       "      <th>3</th>\n",
       "      <td>Eat an apple a day</td>\n",
       "    </tr>\n",
       "  </tbody>\n",
       "</table>\n",
       "</div>"
      ],
      "text/plain": [
       "                  text\n",
       "0  Apple is innovative\n",
       "3   Eat an apple a day"
      ]
     },
     "execution_count": 376,
     "metadata": {},
     "output_type": "execute_result"
    }
   ],
   "source": [
    "filtered_df = df[df[\"text\"].str.contains(\"apple\", case = False)]\n",
    "filtered_df"
   ]
  },
  {
   "cell_type": "code",
   "execution_count": 378,
   "id": "abc2a9a6-ceaf-4ec1-a228-aa1cab881c93",
   "metadata": {},
   "outputs": [
    {
     "data": {
      "text/html": [
       "<div>\n",
       "<style scoped>\n",
       "    .dataframe tbody tr th:only-of-type {\n",
       "        vertical-align: middle;\n",
       "    }\n",
       "\n",
       "    .dataframe tbody tr th {\n",
       "        vertical-align: top;\n",
       "    }\n",
       "\n",
       "    .dataframe thead th {\n",
       "        text-align: right;\n",
       "    }\n",
       "</style>\n",
       "<table border=\"1\" class=\"dataframe\">\n",
       "  <thead>\n",
       "    <tr style=\"text-align: right;\">\n",
       "      <th></th>\n",
       "      <th>text</th>\n",
       "    </tr>\n",
       "  </thead>\n",
       "  <tbody>\n",
       "    <tr>\n",
       "      <th>0</th>\n",
       "      <td>Apple is innovative</td>\n",
       "    </tr>\n",
       "  </tbody>\n",
       "</table>\n",
       "</div>"
      ],
      "text/plain": [
       "                  text\n",
       "0  Apple is innovative"
      ]
     },
     "execution_count": 378,
     "metadata": {},
     "output_type": "execute_result"
    }
   ],
   "source": [
    "df_start = df[df[\"text\"].str.startswith(\"Apple\")]\n",
    "df_start"
   ]
  },
  {
   "cell_type": "code",
   "execution_count": 380,
   "id": "b8dd16fe-13af-4464-8f5c-ad0302627b85",
   "metadata": {},
   "outputs": [
    {
     "data": {
      "text/plain": [
       "0     [Apple, is, innovative]\n",
       "1        [iPhone, is, pricey]\n",
       "2          [Is, iPad, pricey]\n",
       "3    [Eat, an, apple, a, day]\n",
       "Name: text, dtype: object"
      ]
     },
     "execution_count": 380,
     "metadata": {},
     "output_type": "execute_result"
    }
   ],
   "source": [
    "df[\"text\"].str.split()"
   ]
  },
  {
   "cell_type": "code",
   "execution_count": 382,
   "id": "69d6dcfc-53dc-49a8-878a-e544e261bb20",
   "metadata": {},
   "outputs": [
    {
     "data": {
      "text/plain": [
       "0     Apple\n",
       "1    iPhone\n",
       "2        Is\n",
       "3       Eat\n",
       "Name: new_column, dtype: object"
      ]
     },
     "execution_count": 382,
     "metadata": {},
     "output_type": "execute_result"
    }
   ],
   "source": [
    "df[\"new_column\"] = df[\"text\"].str.split().str[0]\n",
    "df[\"new_column\"]"
   ]
  },
  {
   "cell_type": "code",
   "execution_count": 384,
   "id": "b0b5b2c4-3022-488e-9d01-b99bfe8d3c5b",
   "metadata": {},
   "outputs": [],
   "source": [
    "df[\"2nd_word\"] = df[\"text\"].str.split().str[1]"
   ]
  },
  {
   "cell_type": "code",
   "execution_count": 386,
   "id": "508b666a-3fee-4f2c-badb-4668fe85049e",
   "metadata": {},
   "outputs": [
    {
     "data": {
      "text/html": [
       "<div>\n",
       "<style scoped>\n",
       "    .dataframe tbody tr th:only-of-type {\n",
       "        vertical-align: middle;\n",
       "    }\n",
       "\n",
       "    .dataframe tbody tr th {\n",
       "        vertical-align: top;\n",
       "    }\n",
       "\n",
       "    .dataframe thead th {\n",
       "        text-align: right;\n",
       "    }\n",
       "</style>\n",
       "<table border=\"1\" class=\"dataframe\">\n",
       "  <thead>\n",
       "    <tr style=\"text-align: right;\">\n",
       "      <th></th>\n",
       "      <th>text</th>\n",
       "      <th>new_column</th>\n",
       "      <th>2nd_word</th>\n",
       "    </tr>\n",
       "  </thead>\n",
       "  <tbody>\n",
       "    <tr>\n",
       "      <th>0</th>\n",
       "      <td>Apple is innovative</td>\n",
       "      <td>Apple</td>\n",
       "      <td>is</td>\n",
       "    </tr>\n",
       "    <tr>\n",
       "      <th>1</th>\n",
       "      <td>iPhone is pricey</td>\n",
       "      <td>iPhone</td>\n",
       "      <td>is</td>\n",
       "    </tr>\n",
       "    <tr>\n",
       "      <th>2</th>\n",
       "      <td>Is iPad pricey</td>\n",
       "      <td>Is</td>\n",
       "      <td>iPad</td>\n",
       "    </tr>\n",
       "    <tr>\n",
       "      <th>3</th>\n",
       "      <td>Eat an apple a day</td>\n",
       "      <td>Eat</td>\n",
       "      <td>an</td>\n",
       "    </tr>\n",
       "  </tbody>\n",
       "</table>\n",
       "</div>"
      ],
      "text/plain": [
       "                  text new_column 2nd_word\n",
       "0  Apple is innovative      Apple       is\n",
       "1     iPhone is pricey     iPhone       is\n",
       "2       Is iPad pricey         Is     iPad\n",
       "3   Eat an apple a day        Eat       an"
      ]
     },
     "execution_count": 386,
     "metadata": {},
     "output_type": "execute_result"
    }
   ],
   "source": [
    "df"
   ]
  },
  {
   "cell_type": "code",
   "execution_count": 388,
   "id": "6c486902-15c9-46d2-bed7-55bfa5c6830b",
   "metadata": {},
   "outputs": [
    {
     "data": {
      "text/plain": [
       "1    pricey\n",
       "2    pricey\n",
       "Name: text, dtype: object"
      ]
     },
     "execution_count": 388,
     "metadata": {},
     "output_type": "execute_result"
    }
   ],
   "source": [
    "df[~df[\"text\"].str.contains(\"apple\", case = False)][\"text\"].str.split().str[-1]"
   ]
  },
  {
   "cell_type": "code",
   "execution_count": 390,
   "id": "b87b3ef5-7738-4ef6-bbab-7d8c9bf38d53",
   "metadata": {},
   "outputs": [
    {
     "data": {
      "text/html": [
       "<div>\n",
       "<style scoped>\n",
       "    .dataframe tbody tr th:only-of-type {\n",
       "        vertical-align: middle;\n",
       "    }\n",
       "\n",
       "    .dataframe tbody tr th {\n",
       "        vertical-align: top;\n",
       "    }\n",
       "\n",
       "    .dataframe thead th {\n",
       "        text-align: right;\n",
       "    }\n",
       "</style>\n",
       "<table border=\"1\" class=\"dataframe\">\n",
       "  <thead>\n",
       "    <tr style=\"text-align: right;\">\n",
       "      <th></th>\n",
       "      <th>text</th>\n",
       "      <th>new_column</th>\n",
       "      <th>2nd_word</th>\n",
       "      <th>IS_count</th>\n",
       "    </tr>\n",
       "  </thead>\n",
       "  <tbody>\n",
       "    <tr>\n",
       "      <th>0</th>\n",
       "      <td>Apple is innovative</td>\n",
       "      <td>Apple</td>\n",
       "      <td>is</td>\n",
       "      <td>1</td>\n",
       "    </tr>\n",
       "    <tr>\n",
       "      <th>1</th>\n",
       "      <td>iPhone is pricey</td>\n",
       "      <td>iPhone</td>\n",
       "      <td>is</td>\n",
       "      <td>1</td>\n",
       "    </tr>\n",
       "    <tr>\n",
       "      <th>2</th>\n",
       "      <td>Is iPad pricey</td>\n",
       "      <td>Is</td>\n",
       "      <td>iPad</td>\n",
       "      <td>1</td>\n",
       "    </tr>\n",
       "    <tr>\n",
       "      <th>3</th>\n",
       "      <td>Eat an apple a day</td>\n",
       "      <td>Eat</td>\n",
       "      <td>an</td>\n",
       "      <td>0</td>\n",
       "    </tr>\n",
       "  </tbody>\n",
       "</table>\n",
       "</div>"
      ],
      "text/plain": [
       "                  text new_column 2nd_word  IS_count\n",
       "0  Apple is innovative      Apple       is         1\n",
       "1     iPhone is pricey     iPhone       is         1\n",
       "2       Is iPad pricey         Is     iPad         1\n",
       "3   Eat an apple a day        Eat       an         0"
      ]
     },
     "execution_count": 390,
     "metadata": {},
     "output_type": "execute_result"
    }
   ],
   "source": [
    "df[\"IS_count\"] = df[\"text\"].str.lower().str.count(\"is\")\n",
    "df"
   ]
  },
  {
   "cell_type": "code",
   "execution_count": 392,
   "id": "e7b0a734-ecab-45d8-906a-bad56c637bee",
   "metadata": {},
   "outputs": [
    {
     "data": {
      "text/plain": [
       "1    1\n",
       "2    1\n",
       "Name: text, dtype: int64"
      ]
     },
     "execution_count": 392,
     "metadata": {},
     "output_type": "execute_result"
    }
   ],
   "source": [
    "df[~df[\"text\"].str.contains(\"apple\", case = False)][\"text\"].str.lower().str.count(\"is\")"
   ]
  },
  {
   "cell_type": "code",
   "execution_count": 394,
   "id": "f022ce61-03be-4cdc-a7c9-17649bcad2f8",
   "metadata": {},
   "outputs": [],
   "source": [
    "#regular expressions\n",
    "import re"
   ]
  },
  {
   "cell_type": "code",
   "execution_count": 396,
   "id": "d0362434-bcc4-492e-92d4-ba32791846ee",
   "metadata": {},
   "outputs": [],
   "source": [
    "text = \"The firm's sales improved this year, boosted by a major sale last month.\""
   ]
  },
  {
   "cell_type": "code",
   "execution_count": 398,
   "id": "5b9e9b60-8f37-406f-8807-50844665f7f7",
   "metadata": {},
   "outputs": [
    {
     "data": {
      "text/plain": [
       "'sale'"
      ]
     },
     "execution_count": 398,
     "metadata": {},
     "output_type": "execute_result"
    }
   ],
   "source": [
    "pattern = \"sale\"\n",
    "re.search(pattern, text).group()"
   ]
  },
  {
   "cell_type": "code",
   "execution_count": 400,
   "id": "fbfc4820-a47c-4895-b218-9443514b31b9",
   "metadata": {},
   "outputs": [
    {
     "data": {
      "text/plain": [
       "['sale', 'sale']"
      ]
     },
     "execution_count": 400,
     "metadata": {},
     "output_type": "execute_result"
    }
   ],
   "source": [
    "re.findall(pattern, text)"
   ]
  },
  {
   "cell_type": "code",
   "execution_count": 402,
   "id": "1c32342a-88b9-4d5c-b83b-1d3a818a8a77",
   "metadata": {},
   "outputs": [
    {
     "name": "stdout",
     "output_type": "stream",
     "text": [
      "Pattern found.\n"
     ]
    }
   ],
   "source": [
    "pattern = \"sale\"\n",
    "if re.search(pattern, text):\n",
    "    print(\"Pattern found.\")\n",
    "else:\n",
    "    print(\"No pattern!\")"
   ]
  },
  {
   "cell_type": "code",
   "execution_count": 404,
   "id": "e5c1f4f2-f431-4690-bac2-8d4264535b06",
   "metadata": {},
   "outputs": [
    {
     "data": {
      "text/plain": [
       "[]"
      ]
     },
     "execution_count": 404,
     "metadata": {},
     "output_type": "execute_result"
    }
   ],
   "source": [
    "pattern = \"profit\"\n",
    "re.findall(pattern, text)"
   ]
  },
  {
   "cell_type": "code",
   "execution_count": 406,
   "id": "3ce3c94e-b292-421f-a411-ae04eb3f6000",
   "metadata": {},
   "outputs": [],
   "source": [
    "#metacharacters:\n",
    "\n",
    "#. any single char\n",
    "#[] any single char inside []\n",
    "#^ the start of a str\n",
    "#$ the end of a str\n",
    "#\\d any single digit"
   ]
  },
  {
   "cell_type": "code",
   "execution_count": 408,
   "id": "3d2e3a68-a023-453f-b96e-b235dff5fb1d",
   "metadata": {},
   "outputs": [
    {
     "data": {
      "text/plain": [
       "['Dot', 'Dat']"
      ]
     },
     "execution_count": 408,
     "metadata": {},
     "output_type": "execute_result"
    }
   ],
   "source": [
    "pattern = \"D.t\"\n",
    "text = \"Dot or Dat\"\n",
    "re.findall(pattern, text)"
   ]
  },
  {
   "cell_type": "code",
   "execution_count": 410,
   "id": "0558ac8c-e68b-4b08-aa85-40c8a6b7d293",
   "metadata": {},
   "outputs": [
    {
     "data": {
      "text/plain": [
       "['Bob', 'cob']"
      ]
     },
     "execution_count": 410,
     "metadata": {},
     "output_type": "execute_result"
    }
   ],
   "source": [
    "pattern = \".ob\"\n",
    "text = \"Bob or Jacob\"\n",
    "re.findall(pattern, text)"
   ]
  },
  {
   "cell_type": "code",
   "execution_count": 412,
   "id": "0833385e-8e7e-4b67-87d4-ec1ac832b671",
   "metadata": {},
   "outputs": [
    {
     "data": {
      "text/plain": [
       "['b', 'a', 'b']"
      ]
     },
     "execution_count": 412,
     "metadata": {},
     "output_type": "execute_result"
    }
   ],
   "source": [
    "pattern = \"[ab]\"\n",
    "text = \"Bob or Jacob\"\n",
    "re.findall(pattern, text)"
   ]
  },
  {
   "cell_type": "code",
   "execution_count": 414,
   "id": "06ab8166-866f-4563-bec8-c78b14693895",
   "metadata": {},
   "outputs": [
    {
     "data": {
      "text/plain": [
       "['e', 'i', 'a', 'o', 'o', 'a', 'i']"
      ]
     },
     "execution_count": 414,
     "metadata": {},
     "output_type": "execute_result"
    }
   ],
   "source": [
    "pattern = \"[aeiou]\"\n",
    "text = \"Essentials of Programming\"\n",
    "re.findall(pattern, text)"
   ]
  },
  {
   "cell_type": "code",
   "execution_count": 416,
   "id": "71f9c8fe-a30c-4da9-8c29-4459984e5be2",
   "metadata": {},
   "outputs": [
    {
     "data": {
      "text/plain": [
       "['c', 'a', 'b']"
      ]
     },
     "execution_count": 416,
     "metadata": {},
     "output_type": "execute_result"
    }
   ],
   "source": [
    "pattern = \"[a-c]\"\n",
    "text = \"cabin\"\n",
    "re.findall(pattern, text)"
   ]
  },
  {
   "cell_type": "code",
   "execution_count": 418,
   "id": "c5fdc787-5d5c-4c40-a148-49d4dd77485a",
   "metadata": {},
   "outputs": [
    {
     "data": {
      "text/plain": [
       "['H', 'e', 'l', 'l', 'o', 'W', 'o', 'r', 'l', 'd']"
      ]
     },
     "execution_count": 418,
     "metadata": {},
     "output_type": "execute_result"
    }
   ],
   "source": [
    "pattern = \"[a-zA-Z]\"\n",
    "text = \"Hello World!\"\n",
    "re.findall(pattern, text)"
   ]
  },
  {
   "cell_type": "code",
   "execution_count": 420,
   "id": "de51033f-9548-47ce-b795-26f8a197a05e",
   "metadata": {},
   "outputs": [
    {
     "data": {
      "text/plain": [
       "['M', 'I', 'S', '1', '0', '1']"
      ]
     },
     "execution_count": 420,
     "metadata": {},
     "output_type": "execute_result"
    }
   ],
   "source": [
    "pattern = \"[a-zA-Z0-9]\"\n",
    "text = \"MIS101\"\n",
    "re.findall(pattern, text)"
   ]
  },
  {
   "cell_type": "code",
   "execution_count": 422,
   "id": "b6e10d9f-0663-43fe-9c05-f0a8c14ea583",
   "metadata": {},
   "outputs": [],
   "source": [
    "text = \"The project was an utter failure\"\n",
    "pattern = r\"failure$\""
   ]
  },
  {
   "cell_type": "code",
   "execution_count": 424,
   "id": "06f73c2a-ef6d-427b-8145-21ef915341dc",
   "metadata": {},
   "outputs": [
    {
     "data": {
      "text/plain": [
       "['failure']"
      ]
     },
     "execution_count": 424,
     "metadata": {},
     "output_type": "execute_result"
    }
   ],
   "source": [
    "re.findall(pattern, text)"
   ]
  },
  {
   "cell_type": "code",
   "execution_count": 426,
   "id": "6a70eeb5-450b-45a2-bd0e-b2c39ef74f59",
   "metadata": {},
   "outputs": [],
   "source": [
    "sentences = [\"Hello, how are you?\",\n",
    "             \"Good morning. Hello there!\",\n",
    "             \"Hello world!\",\n",
    "             \"Hi there!\"]"
   ]
  },
  {
   "cell_type": "code",
   "execution_count": 428,
   "id": "8bfed02c-f519-408d-89cc-a3294d9ce95e",
   "metadata": {},
   "outputs": [
    {
     "name": "stdout",
     "output_type": "stream",
     "text": [
      "Match found: Hello, how are you?\n",
      "Match found: Hello world!\n"
     ]
    }
   ],
   "source": [
    "pattern = r\"^Hello\"\n",
    "\n",
    "for sentence in sentences:\n",
    "    if re.search(pattern, sentence):\n",
    "        print(\"Match found:\", sentence)"
   ]
  },
  {
   "cell_type": "code",
   "execution_count": 430,
   "id": "fa72c1f7-eb9b-4d04-bc93-c75cdd5891d0",
   "metadata": {},
   "outputs": [],
   "source": [
    "text = \"The price for order #2 is $100\""
   ]
  },
  {
   "cell_type": "code",
   "execution_count": 432,
   "id": "f0402ad9-13bf-40d6-b4d4-90c1eac39380",
   "metadata": {},
   "outputs": [
    {
     "data": {
      "text/plain": [
       "['2', '1', '0', '0']"
      ]
     },
     "execution_count": 432,
     "metadata": {},
     "output_type": "execute_result"
    }
   ],
   "source": [
    "pattern = r\"\\d\"\n",
    "re.findall(pattern, text)"
   ]
  },
  {
   "cell_type": "code",
   "execution_count": 434,
   "id": "30f08bd4-c30d-4460-9aae-74d103562c8d",
   "metadata": {},
   "outputs": [],
   "source": [
    "#quantifiers (for repetition):\n",
    "\n",
    "#? 0 or 1 time\n",
    "#* 0 or more times\n",
    "#+ 1 or more times\n",
    "#{n} exactly n times\n",
    "#{n,} n or more times\n",
    "#{n,m} between n and m times"
   ]
  },
  {
   "cell_type": "code",
   "execution_count": 436,
   "id": "8ed18212-c2cd-4966-8134-e78ec01fe462",
   "metadata": {},
   "outputs": [
    {
     "data": {
      "text/plain": [
       "['abb', 'ab', 'a']"
      ]
     },
     "execution_count": 436,
     "metadata": {},
     "output_type": "execute_result"
    }
   ],
   "source": [
    "pattern = \"ab*\"\n",
    "text = \"abby abc a\"\n",
    "re.findall(pattern, text)"
   ]
  },
  {
   "cell_type": "code",
   "execution_count": 438,
   "id": "fc408eaa-329e-4f35-9f61-c18af64df90c",
   "metadata": {},
   "outputs": [
    {
     "data": {
      "text/plain": [
       "['color', 'colour']"
      ]
     },
     "execution_count": 438,
     "metadata": {},
     "output_type": "execute_result"
    }
   ],
   "source": [
    "text = \"Both color and colour are correct.\"\n",
    "pattern = \"colou?r\"\n",
    "re.findall(pattern, text)"
   ]
  },
  {
   "cell_type": "code",
   "execution_count": 440,
   "id": "4efefde0-9dd7-4e49-b9f5-6d63659822d3",
   "metadata": {},
   "outputs": [
    {
     "name": "stderr",
     "output_type": "stream",
     "text": [
      "<>:2: SyntaxWarning: invalid escape sequence '\\d'\n",
      "<>:2: SyntaxWarning: invalid escape sequence '\\d'\n",
      "C:\\Users\\msabo\\AppData\\Local\\Temp\\ipykernel_21616\\134061231.py:2: SyntaxWarning: invalid escape sequence '\\d'\n",
      "  pattern = \"\\d{4}\"\n"
     ]
    },
    {
     "data": {
      "text/plain": [
       "['1234']"
      ]
     },
     "execution_count": 440,
     "metadata": {},
     "output_type": "execute_result"
    }
   ],
   "source": [
    "text = \"I am 12 and you are 1234\"\n",
    "pattern = \"\\d{4}\"\n",
    "re.findall(pattern, text)"
   ]
  },
  {
   "cell_type": "code",
   "execution_count": 442,
   "id": "94f6c64b-f705-496f-b51b-3526cd090826",
   "metadata": {},
   "outputs": [
    {
     "data": {
      "text/plain": [
       "['123-456-7890', '987-654-3210']"
      ]
     },
     "execution_count": 442,
     "metadata": {},
     "output_type": "execute_result"
    }
   ],
   "source": [
    "text = \"Contact us at 123-456-7890 or 987-654-3210\"\n",
    "pattern = r\"\\d{3}-\\d{3}-\\d{4}\"\n",
    "re.findall(pattern, text)"
   ]
  },
  {
   "cell_type": "code",
   "execution_count": 444,
   "id": "6c73b9a0-f6bb-4683-af85-a6d30d1fecc1",
   "metadata": {},
   "outputs": [],
   "source": [
    "text = \"The laptop costs $1200, and the phone is $800.\""
   ]
  },
  {
   "cell_type": "code",
   "execution_count": 446,
   "id": "8bf29955-ac12-41dc-8007-79914b327863",
   "metadata": {},
   "outputs": [
    {
     "data": {
      "text/plain": [
       "['$1200', '$800']"
      ]
     },
     "execution_count": 446,
     "metadata": {},
     "output_type": "execute_result"
    }
   ],
   "source": [
    "pattern = r\"\\$\\d+\"\n",
    "re.findall(pattern, text)"
   ]
  },
  {
   "cell_type": "markdown",
   "id": "563c3cdd-b7be-4340-9156-1e52095c7321",
   "metadata": {},
   "source": [
    "# 11.25.24"
   ]
  },
  {
   "cell_type": "code",
   "execution_count": 448,
   "id": "3ac5c5c7-776a-475c-a2b2-9f2b395cb698",
   "metadata": {},
   "outputs": [],
   "source": [
    "import re\n",
    "import pandas as pd\n",
    "import numpy as np"
   ]
  },
  {
   "cell_type": "code",
   "execution_count": 450,
   "id": "74941106-d03c-46fb-b4eb-4d05fafdfb34",
   "metadata": {},
   "outputs": [],
   "source": [
    "# REGEX (cont'd)\n",
    "\n",
    "#re.search()\n",
    "#re.match()\n",
    "#re.findall()"
   ]
  },
  {
   "cell_type": "code",
   "execution_count": 452,
   "id": "36f4f90b-45b3-4b55-8d6b-8f10e3653fb4",
   "metadata": {},
   "outputs": [],
   "source": [
    "text = \"The firm's sales improved this year, boosted by a major sale last month.\""
   ]
  },
  {
   "cell_type": "code",
   "execution_count": 454,
   "id": "ed027265-8803-415d-81c6-151cd7224b3d",
   "metadata": {},
   "outputs": [],
   "source": [
    "pattern = \"profit\"\n",
    "re.search(pattern, text)"
   ]
  },
  {
   "cell_type": "code",
   "execution_count": 456,
   "id": "569aaf10-1f6f-46c5-bf69-500b1b116e75",
   "metadata": {},
   "outputs": [],
   "source": [
    "pattern = \"sale\"\n",
    "re.match(pattern, text)"
   ]
  },
  {
   "cell_type": "code",
   "execution_count": 458,
   "id": "862fa8fc-979c-4530-ad6e-5a0b40f2a0d4",
   "metadata": {},
   "outputs": [
    {
     "data": {
      "text/plain": [
       "['sale', 'sale']"
      ]
     },
     "execution_count": 458,
     "metadata": {},
     "output_type": "execute_result"
    }
   ],
   "source": [
    "re.findall(pattern, text)"
   ]
  },
  {
   "cell_type": "code",
   "execution_count": 460,
   "id": "9ad91816-aa36-4218-a3b5-888cc92d3d78",
   "metadata": {},
   "outputs": [
    {
     "name": "stdin",
     "output_type": "stream",
     "text": [
      "Enter a word:  Olivia\n"
     ]
    },
    {
     "name": "stdout",
     "output_type": "stream",
     "text": [
      "Vowels = {'o', 'a', 'i'}\n"
     ]
    }
   ],
   "source": [
    "pattern = \"[aeiou]\"\n",
    "text = input(\"Enter a word: \").lower()\n",
    "print(\"Vowels =\", set(re.findall(pattern, text)))"
   ]
  },
  {
   "cell_type": "code",
   "execution_count": 462,
   "id": "c471be12-1f35-4598-9e8c-7bb09cd2d37a",
   "metadata": {},
   "outputs": [
    {
     "name": "stdout",
     "output_type": "stream",
     "text": [
      "A .jpg file.\n"
     ]
    }
   ],
   "source": [
    "pattern = r\".*\\.jpg$\"\n",
    "\n",
    "file = \"example.jpg\"\n",
    "if re.match(pattern, file):\n",
    "    print(\"A .jpg file.\")\n",
    "else:\n",
    "    print(\"Not a jpg file!\")"
   ]
  },
  {
   "cell_type": "code",
   "execution_count": 464,
   "id": "577d4f8b-dbdf-4c60-9d92-b636e1c40390",
   "metadata": {},
   "outputs": [
    {
     "name": "stdin",
     "output_type": "stream",
     "text": [
      "\n",
      "Enter your phone number in the following format:\n",
      "(123) 456-7890\n",
      "Your number:   !123) 456-7890\n"
     ]
    },
    {
     "name": "stdout",
     "output_type": "stream",
     "text": [
      "Invalid! Try again.\n"
     ]
    },
    {
     "name": "stdin",
     "output_type": "stream",
     "text": [
      "\n",
      "Enter your phone number in the following format:\n",
      "(123) 456-7890\n",
      "Your number:  (123)-456-7890\n"
     ]
    },
    {
     "name": "stdout",
     "output_type": "stream",
     "text": [
      "Invalid! Try again.\n"
     ]
    },
    {
     "name": "stdin",
     "output_type": "stream",
     "text": [
      "\n",
      "Enter your phone number in the following format:\n",
      "(123) 456-7890\n",
      "Your number:  (818) 123-45678\n"
     ]
    },
    {
     "name": "stdout",
     "output_type": "stream",
     "text": [
      "Invalid! Try again.\n"
     ]
    },
    {
     "name": "stdin",
     "output_type": "stream",
     "text": [
      "\n",
      "Enter your phone number in the following format:\n",
      "(123) 456-7890\n",
      "Your number:  (818) 123-4567\n"
     ]
    },
    {
     "data": {
      "text/plain": [
       "'Your phone is saved.'"
      ]
     },
     "execution_count": 464,
     "metadata": {},
     "output_type": "execute_result"
    }
   ],
   "source": [
    "def validate_phone_number():\n",
    "    pattern = r\"^\\(\\d{3}\\) \\d{3}-\\d{4}$\"\n",
    "    while True:\n",
    "        entry = input(\n",
    "            \"\\nEnter your phone number in the following format:\\n\"\n",
    "            \"(123) 456-7890\\n\"\n",
    "            \"Your number: \")\n",
    "        if re.match(pattern, entry):\n",
    "            return \"Your phone is saved.\"\n",
    "        else:\n",
    "            print(\"Invalid! Try again.\")\n",
    "            \n",
    "validate_phone_number()   "
   ]
  },
  {
   "cell_type": "code",
   "execution_count": 466,
   "id": "2614cfd0-8249-445a-ae1d-6bf492bdaca9",
   "metadata": {},
   "outputs": [
    {
     "data": {
      "text/html": [
       "<div>\n",
       "<style scoped>\n",
       "    .dataframe tbody tr th:only-of-type {\n",
       "        vertical-align: middle;\n",
       "    }\n",
       "\n",
       "    .dataframe tbody tr th {\n",
       "        vertical-align: top;\n",
       "    }\n",
       "\n",
       "    .dataframe thead th {\n",
       "        text-align: right;\n",
       "    }\n",
       "</style>\n",
       "<table border=\"1\" class=\"dataframe\">\n",
       "  <thead>\n",
       "    <tr style=\"text-align: right;\">\n",
       "      <th></th>\n",
       "      <th>C1</th>\n",
       "      <th>C2</th>\n",
       "      <th>C3</th>\n",
       "      <th>C4</th>\n",
       "    </tr>\n",
       "  </thead>\n",
       "  <tbody>\n",
       "    <tr>\n",
       "      <th>R1</th>\n",
       "      <td>1.331587</td>\n",
       "      <td>0.715279</td>\n",
       "      <td>-1.545400</td>\n",
       "      <td>-0.008384</td>\n",
       "    </tr>\n",
       "    <tr>\n",
       "      <th>R2</th>\n",
       "      <td>0.621336</td>\n",
       "      <td>-0.720086</td>\n",
       "      <td>0.265512</td>\n",
       "      <td>0.108549</td>\n",
       "    </tr>\n",
       "    <tr>\n",
       "      <th>R3</th>\n",
       "      <td>0.004291</td>\n",
       "      <td>-0.174600</td>\n",
       "      <td>0.433026</td>\n",
       "      <td>1.203037</td>\n",
       "    </tr>\n",
       "    <tr>\n",
       "      <th>R4</th>\n",
       "      <td>-0.965066</td>\n",
       "      <td>1.028274</td>\n",
       "      <td>0.228630</td>\n",
       "      <td>0.445138</td>\n",
       "    </tr>\n",
       "    <tr>\n",
       "      <th>R5</th>\n",
       "      <td>-1.136602</td>\n",
       "      <td>0.135137</td>\n",
       "      <td>1.484537</td>\n",
       "      <td>-1.079805</td>\n",
       "    </tr>\n",
       "    <tr>\n",
       "      <th>R6</th>\n",
       "      <td>-1.977728</td>\n",
       "      <td>-1.743372</td>\n",
       "      <td>0.266070</td>\n",
       "      <td>2.384967</td>\n",
       "    </tr>\n",
       "  </tbody>\n",
       "</table>\n",
       "</div>"
      ],
      "text/plain": [
       "          C1        C2        C3        C4\n",
       "R1  1.331587  0.715279 -1.545400 -0.008384\n",
       "R2  0.621336 -0.720086  0.265512  0.108549\n",
       "R3  0.004291 -0.174600  0.433026  1.203037\n",
       "R4 -0.965066  1.028274  0.228630  0.445138\n",
       "R5 -1.136602  0.135137  1.484537 -1.079805\n",
       "R6 -1.977728 -1.743372  0.266070  2.384967"
      ]
     },
     "execution_count": 466,
     "metadata": {},
     "output_type": "execute_result"
    }
   ],
   "source": [
    "# PANDAS (cont'd)\n",
    "\n",
    "np.random.seed(10)\n",
    "df = pd.DataFrame(np.random.randn(6, 4), \"R1 R2 R3 R4 R5 R6\".split(), \"C1 C2 C3 C4\".split())\n",
    "df"
   ]
  },
  {
   "cell_type": "code",
   "execution_count": 468,
   "id": "7ae2fdba-0d4c-4aa0-b2c4-43dcd08a1fe0",
   "metadata": {},
   "outputs": [
    {
     "data": {
      "text/plain": [
       "R1    0.715279\n",
       "R2   -0.720086\n",
       "R3   -0.174600\n",
       "R4    1.028274\n",
       "R5    0.135137\n",
       "R6   -1.743372\n",
       "Name: C2, dtype: float64"
      ]
     },
     "execution_count": 468,
     "metadata": {},
     "output_type": "execute_result"
    }
   ],
   "source": [
    "df[\"C2\"]"
   ]
  },
  {
   "cell_type": "code",
   "execution_count": 470,
   "id": "71d5cc78-6ab3-4be0-9fa3-c8e1afc0be20",
   "metadata": {},
   "outputs": [
    {
     "data": {
      "text/html": [
       "<div>\n",
       "<style scoped>\n",
       "    .dataframe tbody tr th:only-of-type {\n",
       "        vertical-align: middle;\n",
       "    }\n",
       "\n",
       "    .dataframe tbody tr th {\n",
       "        vertical-align: top;\n",
       "    }\n",
       "\n",
       "    .dataframe thead th {\n",
       "        text-align: right;\n",
       "    }\n",
       "</style>\n",
       "<table border=\"1\" class=\"dataframe\">\n",
       "  <thead>\n",
       "    <tr style=\"text-align: right;\">\n",
       "      <th></th>\n",
       "      <th>C1</th>\n",
       "      <th>C3</th>\n",
       "    </tr>\n",
       "  </thead>\n",
       "  <tbody>\n",
       "    <tr>\n",
       "      <th>R1</th>\n",
       "      <td>1.331587</td>\n",
       "      <td>-1.545400</td>\n",
       "    </tr>\n",
       "    <tr>\n",
       "      <th>R2</th>\n",
       "      <td>0.621336</td>\n",
       "      <td>0.265512</td>\n",
       "    </tr>\n",
       "    <tr>\n",
       "      <th>R3</th>\n",
       "      <td>0.004291</td>\n",
       "      <td>0.433026</td>\n",
       "    </tr>\n",
       "    <tr>\n",
       "      <th>R4</th>\n",
       "      <td>-0.965066</td>\n",
       "      <td>0.228630</td>\n",
       "    </tr>\n",
       "    <tr>\n",
       "      <th>R5</th>\n",
       "      <td>-1.136602</td>\n",
       "      <td>1.484537</td>\n",
       "    </tr>\n",
       "    <tr>\n",
       "      <th>R6</th>\n",
       "      <td>-1.977728</td>\n",
       "      <td>0.266070</td>\n",
       "    </tr>\n",
       "  </tbody>\n",
       "</table>\n",
       "</div>"
      ],
      "text/plain": [
       "          C1        C3\n",
       "R1  1.331587 -1.545400\n",
       "R2  0.621336  0.265512\n",
       "R3  0.004291  0.433026\n",
       "R4 -0.965066  0.228630\n",
       "R5 -1.136602  1.484537\n",
       "R6 -1.977728  0.266070"
      ]
     },
     "execution_count": 470,
     "metadata": {},
     "output_type": "execute_result"
    }
   ],
   "source": [
    "df[[\"C1\", \"C3\"]]"
   ]
  },
  {
   "cell_type": "code",
   "execution_count": 472,
   "id": "3ef3cf08-d20b-4952-8fad-10da8530470e",
   "metadata": {},
   "outputs": [
    {
     "data": {
      "text/html": [
       "<div>\n",
       "<style scoped>\n",
       "    .dataframe tbody tr th:only-of-type {\n",
       "        vertical-align: middle;\n",
       "    }\n",
       "\n",
       "    .dataframe tbody tr th {\n",
       "        vertical-align: top;\n",
       "    }\n",
       "\n",
       "    .dataframe thead th {\n",
       "        text-align: right;\n",
       "    }\n",
       "</style>\n",
       "<table border=\"1\" class=\"dataframe\">\n",
       "  <thead>\n",
       "    <tr style=\"text-align: right;\">\n",
       "      <th></th>\n",
       "      <th>C1</th>\n",
       "      <th>C2</th>\n",
       "      <th>C3</th>\n",
       "      <th>C4</th>\n",
       "      <th>C5</th>\n",
       "    </tr>\n",
       "  </thead>\n",
       "  <tbody>\n",
       "    <tr>\n",
       "      <th>R1</th>\n",
       "      <td>1.331587</td>\n",
       "      <td>0.715279</td>\n",
       "      <td>-1.545400</td>\n",
       "      <td>-0.008384</td>\n",
       "      <td>-1.546239</td>\n",
       "    </tr>\n",
       "    <tr>\n",
       "      <th>R2</th>\n",
       "      <td>0.621336</td>\n",
       "      <td>-0.720086</td>\n",
       "      <td>0.265512</td>\n",
       "      <td>0.108549</td>\n",
       "      <td>0.276366</td>\n",
       "    </tr>\n",
       "    <tr>\n",
       "      <th>R3</th>\n",
       "      <td>0.004291</td>\n",
       "      <td>-0.174600</td>\n",
       "      <td>0.433026</td>\n",
       "      <td>1.203037</td>\n",
       "      <td>0.553330</td>\n",
       "    </tr>\n",
       "    <tr>\n",
       "      <th>R4</th>\n",
       "      <td>-0.965066</td>\n",
       "      <td>1.028274</td>\n",
       "      <td>0.228630</td>\n",
       "      <td>0.445138</td>\n",
       "      <td>0.273144</td>\n",
       "    </tr>\n",
       "    <tr>\n",
       "      <th>R5</th>\n",
       "      <td>-1.136602</td>\n",
       "      <td>0.135137</td>\n",
       "      <td>1.484537</td>\n",
       "      <td>-1.079805</td>\n",
       "      <td>1.376557</td>\n",
       "    </tr>\n",
       "    <tr>\n",
       "      <th>R6</th>\n",
       "      <td>-1.977728</td>\n",
       "      <td>-1.743372</td>\n",
       "      <td>0.266070</td>\n",
       "      <td>2.384967</td>\n",
       "      <td>0.504567</td>\n",
       "    </tr>\n",
       "  </tbody>\n",
       "</table>\n",
       "</div>"
      ],
      "text/plain": [
       "          C1        C2        C3        C4        C5\n",
       "R1  1.331587  0.715279 -1.545400 -0.008384 -1.546239\n",
       "R2  0.621336 -0.720086  0.265512  0.108549  0.276366\n",
       "R3  0.004291 -0.174600  0.433026  1.203037  0.553330\n",
       "R4 -0.965066  1.028274  0.228630  0.445138  0.273144\n",
       "R5 -1.136602  0.135137  1.484537 -1.079805  1.376557\n",
       "R6 -1.977728 -1.743372  0.266070  2.384967  0.504567"
      ]
     },
     "execution_count": 472,
     "metadata": {},
     "output_type": "execute_result"
    }
   ],
   "source": [
    "df[\"C5\"] = df[\"C3\"] + df[\"C4\"]/10\n",
    "df"
   ]
  },
  {
   "cell_type": "code",
   "execution_count": 474,
   "id": "8a30465e-3314-4956-ba5a-8d2572172bd4",
   "metadata": {},
   "outputs": [
    {
     "data": {
      "text/plain": [
       "C1   -1.977728\n",
       "C2   -1.743372\n",
       "dtype: float64"
      ]
     },
     "execution_count": 474,
     "metadata": {},
     "output_type": "execute_result"
    }
   ],
   "source": [
    "df[[\"C1\", \"C2\"]].min()"
   ]
  },
  {
   "cell_type": "code",
   "execution_count": 476,
   "id": "81fd5e3d-4679-45db-8177-4a9319b5faef",
   "metadata": {},
   "outputs": [
    {
     "data": {
      "text/plain": [
       "C1    R1\n",
       "C2    R4\n",
       "dtype: object"
      ]
     },
     "execution_count": 476,
     "metadata": {},
     "output_type": "execute_result"
    }
   ],
   "source": [
    "df[[\"C1\", \"C2\"]].idxmax()"
   ]
  },
  {
   "cell_type": "code",
   "execution_count": 478,
   "id": "5cccbcea-b514-46e3-a798-bcf8b340a82d",
   "metadata": {},
   "outputs": [
    {
     "data": {
      "text/plain": [
       "C1   -0.353697\n",
       "C2   -0.126561\n",
       "dtype: float64"
      ]
     },
     "execution_count": 478,
     "metadata": {},
     "output_type": "execute_result"
    }
   ],
   "source": [
    "df[[\"C1\", \"C2\"]].mean()"
   ]
  },
  {
   "cell_type": "code",
   "execution_count": 480,
   "id": "641166d2-32b2-4427-bdc3-61b88d4a1257",
   "metadata": {},
   "outputs": [
    {
     "data": {
      "text/plain": [
       "C1   -2.122182\n",
       "C2   -0.759368\n",
       "dtype: float64"
      ]
     },
     "execution_count": 480,
     "metadata": {},
     "output_type": "execute_result"
    }
   ],
   "source": [
    "df[[\"C1\", \"C2\"]].sum()"
   ]
  },
  {
   "cell_type": "code",
   "execution_count": 482,
   "id": "376da395-843b-454f-94c7-02cc6426395f",
   "metadata": {},
   "outputs": [
    {
     "data": {
      "text/html": [
       "<div>\n",
       "<style scoped>\n",
       "    .dataframe tbody tr th:only-of-type {\n",
       "        vertical-align: middle;\n",
       "    }\n",
       "\n",
       "    .dataframe tbody tr th {\n",
       "        vertical-align: top;\n",
       "    }\n",
       "\n",
       "    .dataframe thead th {\n",
       "        text-align: right;\n",
       "    }\n",
       "</style>\n",
       "<table border=\"1\" class=\"dataframe\">\n",
       "  <thead>\n",
       "    <tr style=\"text-align: right;\">\n",
       "      <th></th>\n",
       "      <th>C1</th>\n",
       "      <th>C2</th>\n",
       "      <th>C3</th>\n",
       "      <th>C4</th>\n",
       "      <th>C5</th>\n",
       "    </tr>\n",
       "  </thead>\n",
       "  <tbody>\n",
       "    <tr>\n",
       "      <th>R1</th>\n",
       "      <td>1.331587</td>\n",
       "      <td>0.715279</td>\n",
       "      <td>-1.54540</td>\n",
       "      <td>-0.008384</td>\n",
       "      <td>-1.546239</td>\n",
       "    </tr>\n",
       "    <tr>\n",
       "      <th>R4</th>\n",
       "      <td>-0.965066</td>\n",
       "      <td>1.028274</td>\n",
       "      <td>0.22863</td>\n",
       "      <td>0.445138</td>\n",
       "      <td>0.273144</td>\n",
       "    </tr>\n",
       "  </tbody>\n",
       "</table>\n",
       "</div>"
      ],
      "text/plain": [
       "          C1        C2       C3        C4        C5\n",
       "R1  1.331587  0.715279 -1.54540 -0.008384 -1.546239\n",
       "R4 -0.965066  1.028274  0.22863  0.445138  0.273144"
      ]
     },
     "execution_count": 482,
     "metadata": {},
     "output_type": "execute_result"
    }
   ],
   "source": [
    "df.loc[[\"R1\", \"R4\"]]"
   ]
  },
  {
   "cell_type": "code",
   "execution_count": 484,
   "id": "0a964a54-cd26-4536-998b-98977a686dbd",
   "metadata": {},
   "outputs": [
    {
     "data": {
      "text/html": [
       "<div>\n",
       "<style scoped>\n",
       "    .dataframe tbody tr th:only-of-type {\n",
       "        vertical-align: middle;\n",
       "    }\n",
       "\n",
       "    .dataframe tbody tr th {\n",
       "        vertical-align: top;\n",
       "    }\n",
       "\n",
       "    .dataframe thead th {\n",
       "        text-align: right;\n",
       "    }\n",
       "</style>\n",
       "<table border=\"1\" class=\"dataframe\">\n",
       "  <thead>\n",
       "    <tr style=\"text-align: right;\">\n",
       "      <th></th>\n",
       "      <th>C1</th>\n",
       "      <th>C2</th>\n",
       "      <th>C3</th>\n",
       "      <th>C4</th>\n",
       "    </tr>\n",
       "  </thead>\n",
       "  <tbody>\n",
       "    <tr>\n",
       "      <th>R1</th>\n",
       "      <td>1.331587</td>\n",
       "      <td>0.715279</td>\n",
       "      <td>-1.545400</td>\n",
       "      <td>-0.008384</td>\n",
       "    </tr>\n",
       "    <tr>\n",
       "      <th>R2</th>\n",
       "      <td>0.621336</td>\n",
       "      <td>-0.720086</td>\n",
       "      <td>0.265512</td>\n",
       "      <td>0.108549</td>\n",
       "    </tr>\n",
       "    <tr>\n",
       "      <th>R3</th>\n",
       "      <td>0.004291</td>\n",
       "      <td>-0.174600</td>\n",
       "      <td>0.433026</td>\n",
       "      <td>1.203037</td>\n",
       "    </tr>\n",
       "    <tr>\n",
       "      <th>R4</th>\n",
       "      <td>-0.965066</td>\n",
       "      <td>1.028274</td>\n",
       "      <td>0.228630</td>\n",
       "      <td>0.445138</td>\n",
       "    </tr>\n",
       "    <tr>\n",
       "      <th>R5</th>\n",
       "      <td>-1.136602</td>\n",
       "      <td>0.135137</td>\n",
       "      <td>1.484537</td>\n",
       "      <td>-1.079805</td>\n",
       "    </tr>\n",
       "    <tr>\n",
       "      <th>R6</th>\n",
       "      <td>-1.977728</td>\n",
       "      <td>-1.743372</td>\n",
       "      <td>0.266070</td>\n",
       "      <td>2.384967</td>\n",
       "    </tr>\n",
       "  </tbody>\n",
       "</table>\n",
       "</div>"
      ],
      "text/plain": [
       "          C1        C2        C3        C4\n",
       "R1  1.331587  0.715279 -1.545400 -0.008384\n",
       "R2  0.621336 -0.720086  0.265512  0.108549\n",
       "R3  0.004291 -0.174600  0.433026  1.203037\n",
       "R4 -0.965066  1.028274  0.228630  0.445138\n",
       "R5 -1.136602  0.135137  1.484537 -1.079805\n",
       "R6 -1.977728 -1.743372  0.266070  2.384967"
      ]
     },
     "execution_count": 484,
     "metadata": {},
     "output_type": "execute_result"
    }
   ],
   "source": [
    "df.drop(\"C5\", axis = 1)"
   ]
  },
  {
   "cell_type": "code",
   "execution_count": 486,
   "id": "e805ac27-5257-4925-a701-8fadae2a336d",
   "metadata": {},
   "outputs": [],
   "source": [
    "df.drop(\"C5\", axis = 1, inplace = True)"
   ]
  },
  {
   "cell_type": "code",
   "execution_count": 488,
   "id": "336bca06-1ef9-4ddf-b9a9-25dc82b43571",
   "metadata": {},
   "outputs": [
    {
     "data": {
      "text/html": [
       "<div>\n",
       "<style scoped>\n",
       "    .dataframe tbody tr th:only-of-type {\n",
       "        vertical-align: middle;\n",
       "    }\n",
       "\n",
       "    .dataframe tbody tr th {\n",
       "        vertical-align: top;\n",
       "    }\n",
       "\n",
       "    .dataframe thead th {\n",
       "        text-align: right;\n",
       "    }\n",
       "</style>\n",
       "<table border=\"1\" class=\"dataframe\">\n",
       "  <thead>\n",
       "    <tr style=\"text-align: right;\">\n",
       "      <th></th>\n",
       "      <th>C1</th>\n",
       "      <th>C2</th>\n",
       "      <th>C3</th>\n",
       "      <th>C4</th>\n",
       "    </tr>\n",
       "  </thead>\n",
       "  <tbody>\n",
       "    <tr>\n",
       "      <th>R1</th>\n",
       "      <td>1.331587</td>\n",
       "      <td>0.715279</td>\n",
       "      <td>-1.545400</td>\n",
       "      <td>-0.008384</td>\n",
       "    </tr>\n",
       "    <tr>\n",
       "      <th>R2</th>\n",
       "      <td>0.621336</td>\n",
       "      <td>-0.720086</td>\n",
       "      <td>0.265512</td>\n",
       "      <td>0.108549</td>\n",
       "    </tr>\n",
       "    <tr>\n",
       "      <th>R3</th>\n",
       "      <td>0.004291</td>\n",
       "      <td>-0.174600</td>\n",
       "      <td>0.433026</td>\n",
       "      <td>1.203037</td>\n",
       "    </tr>\n",
       "    <tr>\n",
       "      <th>R4</th>\n",
       "      <td>-0.965066</td>\n",
       "      <td>1.028274</td>\n",
       "      <td>0.228630</td>\n",
       "      <td>0.445138</td>\n",
       "    </tr>\n",
       "    <tr>\n",
       "      <th>R5</th>\n",
       "      <td>-1.136602</td>\n",
       "      <td>0.135137</td>\n",
       "      <td>1.484537</td>\n",
       "      <td>-1.079805</td>\n",
       "    </tr>\n",
       "    <tr>\n",
       "      <th>R6</th>\n",
       "      <td>-1.977728</td>\n",
       "      <td>-1.743372</td>\n",
       "      <td>0.266070</td>\n",
       "      <td>2.384967</td>\n",
       "    </tr>\n",
       "  </tbody>\n",
       "</table>\n",
       "</div>"
      ],
      "text/plain": [
       "          C1        C2        C3        C4\n",
       "R1  1.331587  0.715279 -1.545400 -0.008384\n",
       "R2  0.621336 -0.720086  0.265512  0.108549\n",
       "R3  0.004291 -0.174600  0.433026  1.203037\n",
       "R4 -0.965066  1.028274  0.228630  0.445138\n",
       "R5 -1.136602  0.135137  1.484537 -1.079805\n",
       "R6 -1.977728 -1.743372  0.266070  2.384967"
      ]
     },
     "execution_count": 488,
     "metadata": {},
     "output_type": "execute_result"
    }
   ],
   "source": [
    "df"
   ]
  },
  {
   "cell_type": "code",
   "execution_count": 490,
   "id": "c3fd6a9c-d0ad-4775-b9b9-983c8362fd01",
   "metadata": {},
   "outputs": [
    {
     "data": {
      "text/html": [
       "<div>\n",
       "<style scoped>\n",
       "    .dataframe tbody tr th:only-of-type {\n",
       "        vertical-align: middle;\n",
       "    }\n",
       "\n",
       "    .dataframe tbody tr th {\n",
       "        vertical-align: top;\n",
       "    }\n",
       "\n",
       "    .dataframe thead th {\n",
       "        text-align: right;\n",
       "    }\n",
       "</style>\n",
       "<table border=\"1\" class=\"dataframe\">\n",
       "  <thead>\n",
       "    <tr style=\"text-align: right;\">\n",
       "      <th></th>\n",
       "      <th>C1</th>\n",
       "      <th>C2</th>\n",
       "      <th>C3</th>\n",
       "      <th>C4</th>\n",
       "    </tr>\n",
       "  </thead>\n",
       "  <tbody>\n",
       "    <tr>\n",
       "      <th>R1</th>\n",
       "      <td>1.331587</td>\n",
       "      <td>0.715279</td>\n",
       "      <td>-1.545400</td>\n",
       "      <td>-0.008384</td>\n",
       "    </tr>\n",
       "    <tr>\n",
       "      <th>R2</th>\n",
       "      <td>0.621336</td>\n",
       "      <td>-0.720086</td>\n",
       "      <td>0.265512</td>\n",
       "      <td>0.108549</td>\n",
       "    </tr>\n",
       "    <tr>\n",
       "      <th>R4</th>\n",
       "      <td>-0.965066</td>\n",
       "      <td>1.028274</td>\n",
       "      <td>0.228630</td>\n",
       "      <td>0.445138</td>\n",
       "    </tr>\n",
       "    <tr>\n",
       "      <th>R5</th>\n",
       "      <td>-1.136602</td>\n",
       "      <td>0.135137</td>\n",
       "      <td>1.484537</td>\n",
       "      <td>-1.079805</td>\n",
       "    </tr>\n",
       "  </tbody>\n",
       "</table>\n",
       "</div>"
      ],
      "text/plain": [
       "          C1        C2        C3        C4\n",
       "R1  1.331587  0.715279 -1.545400 -0.008384\n",
       "R2  0.621336 -0.720086  0.265512  0.108549\n",
       "R4 -0.965066  1.028274  0.228630  0.445138\n",
       "R5 -1.136602  0.135137  1.484537 -1.079805"
      ]
     },
     "execution_count": 490,
     "metadata": {},
     "output_type": "execute_result"
    }
   ],
   "source": [
    "df.drop([\"R6\", \"R3\"])"
   ]
  },
  {
   "cell_type": "code",
   "execution_count": 492,
   "id": "66fb8dc4-e8d0-421b-91d2-48d4cbb59399",
   "metadata": {},
   "outputs": [
    {
     "data": {
      "text/plain": [
       "0.2655115856921195"
      ]
     },
     "execution_count": 492,
     "metadata": {},
     "output_type": "execute_result"
    }
   ],
   "source": [
    "df.loc[\"R2\", \"C3\"]"
   ]
  },
  {
   "cell_type": "code",
   "execution_count": 494,
   "id": "0a604585-b081-4d9f-9276-42b7d1f9a9c6",
   "metadata": {},
   "outputs": [
    {
     "data": {
      "text/html": [
       "<div>\n",
       "<style scoped>\n",
       "    .dataframe tbody tr th:only-of-type {\n",
       "        vertical-align: middle;\n",
       "    }\n",
       "\n",
       "    .dataframe tbody tr th {\n",
       "        vertical-align: top;\n",
       "    }\n",
       "\n",
       "    .dataframe thead th {\n",
       "        text-align: right;\n",
       "    }\n",
       "</style>\n",
       "<table border=\"1\" class=\"dataframe\">\n",
       "  <thead>\n",
       "    <tr style=\"text-align: right;\">\n",
       "      <th></th>\n",
       "      <th>C1</th>\n",
       "      <th>C2</th>\n",
       "      <th>C3</th>\n",
       "      <th>C4</th>\n",
       "    </tr>\n",
       "  </thead>\n",
       "  <tbody>\n",
       "    <tr>\n",
       "      <th>R1</th>\n",
       "      <td>1.331587</td>\n",
       "      <td>0.715279</td>\n",
       "      <td>NaN</td>\n",
       "      <td>NaN</td>\n",
       "    </tr>\n",
       "    <tr>\n",
       "      <th>R2</th>\n",
       "      <td>0.621336</td>\n",
       "      <td>NaN</td>\n",
       "      <td>0.265512</td>\n",
       "      <td>0.108549</td>\n",
       "    </tr>\n",
       "    <tr>\n",
       "      <th>R3</th>\n",
       "      <td>0.004291</td>\n",
       "      <td>NaN</td>\n",
       "      <td>0.433026</td>\n",
       "      <td>1.203037</td>\n",
       "    </tr>\n",
       "    <tr>\n",
       "      <th>R4</th>\n",
       "      <td>NaN</td>\n",
       "      <td>1.028274</td>\n",
       "      <td>0.228630</td>\n",
       "      <td>0.445138</td>\n",
       "    </tr>\n",
       "    <tr>\n",
       "      <th>R5</th>\n",
       "      <td>NaN</td>\n",
       "      <td>0.135137</td>\n",
       "      <td>1.484537</td>\n",
       "      <td>NaN</td>\n",
       "    </tr>\n",
       "    <tr>\n",
       "      <th>R6</th>\n",
       "      <td>NaN</td>\n",
       "      <td>NaN</td>\n",
       "      <td>0.266070</td>\n",
       "      <td>2.384967</td>\n",
       "    </tr>\n",
       "  </tbody>\n",
       "</table>\n",
       "</div>"
      ],
      "text/plain": [
       "          C1        C2        C3        C4\n",
       "R1  1.331587  0.715279       NaN       NaN\n",
       "R2  0.621336       NaN  0.265512  0.108549\n",
       "R3  0.004291       NaN  0.433026  1.203037\n",
       "R4       NaN  1.028274  0.228630  0.445138\n",
       "R5       NaN  0.135137  1.484537       NaN\n",
       "R6       NaN       NaN  0.266070  2.384967"
      ]
     },
     "execution_count": 494,
     "metadata": {},
     "output_type": "execute_result"
    }
   ],
   "source": [
    "# Boolean indexing or conditional selection\n",
    "df[df> 0]"
   ]
  },
  {
   "cell_type": "code",
   "execution_count": 496,
   "id": "7a6c7505-116b-4ea1-aac2-599790fc6468",
   "metadata": {},
   "outputs": [
    {
     "data": {
      "text/html": [
       "<div>\n",
       "<style scoped>\n",
       "    .dataframe tbody tr th:only-of-type {\n",
       "        vertical-align: middle;\n",
       "    }\n",
       "\n",
       "    .dataframe tbody tr th {\n",
       "        vertical-align: top;\n",
       "    }\n",
       "\n",
       "    .dataframe thead th {\n",
       "        text-align: right;\n",
       "    }\n",
       "</style>\n",
       "<table border=\"1\" class=\"dataframe\">\n",
       "  <thead>\n",
       "    <tr style=\"text-align: right;\">\n",
       "      <th></th>\n",
       "      <th>C1</th>\n",
       "      <th>C2</th>\n",
       "      <th>C3</th>\n",
       "      <th>C4</th>\n",
       "    </tr>\n",
       "  </thead>\n",
       "  <tbody>\n",
       "    <tr>\n",
       "      <th>R1</th>\n",
       "      <td>1.331587</td>\n",
       "      <td>0.715279</td>\n",
       "      <td>-1.545400</td>\n",
       "      <td>-0.008384</td>\n",
       "    </tr>\n",
       "    <tr>\n",
       "      <th>R2</th>\n",
       "      <td>0.621336</td>\n",
       "      <td>-0.720086</td>\n",
       "      <td>0.265512</td>\n",
       "      <td>0.108549</td>\n",
       "    </tr>\n",
       "    <tr>\n",
       "      <th>R3</th>\n",
       "      <td>0.004291</td>\n",
       "      <td>-0.174600</td>\n",
       "      <td>0.433026</td>\n",
       "      <td>1.203037</td>\n",
       "    </tr>\n",
       "  </tbody>\n",
       "</table>\n",
       "</div>"
      ],
      "text/plain": [
       "          C1        C2        C3        C4\n",
       "R1  1.331587  0.715279 -1.545400 -0.008384\n",
       "R2  0.621336 -0.720086  0.265512  0.108549\n",
       "R3  0.004291 -0.174600  0.433026  1.203037"
      ]
     },
     "execution_count": 496,
     "metadata": {},
     "output_type": "execute_result"
    }
   ],
   "source": [
    "df[df[\"C1\"] > 0]"
   ]
  },
  {
   "cell_type": "code",
   "execution_count": 498,
   "id": "4fedc374-1e6b-4f39-be9c-216c854d159b",
   "metadata": {},
   "outputs": [
    {
     "data": {
      "text/html": [
       "<div>\n",
       "<style scoped>\n",
       "    .dataframe tbody tr th:only-of-type {\n",
       "        vertical-align: middle;\n",
       "    }\n",
       "\n",
       "    .dataframe tbody tr th {\n",
       "        vertical-align: top;\n",
       "    }\n",
       "\n",
       "    .dataframe thead th {\n",
       "        text-align: right;\n",
       "    }\n",
       "</style>\n",
       "<table border=\"1\" class=\"dataframe\">\n",
       "  <thead>\n",
       "    <tr style=\"text-align: right;\">\n",
       "      <th></th>\n",
       "      <th>C1</th>\n",
       "      <th>C2</th>\n",
       "      <th>C3</th>\n",
       "      <th>C4</th>\n",
       "    </tr>\n",
       "  </thead>\n",
       "  <tbody>\n",
       "    <tr>\n",
       "      <th>R2</th>\n",
       "      <td>0.621336</td>\n",
       "      <td>-0.720086</td>\n",
       "      <td>0.265512</td>\n",
       "      <td>0.108549</td>\n",
       "    </tr>\n",
       "    <tr>\n",
       "      <th>R3</th>\n",
       "      <td>0.004291</td>\n",
       "      <td>-0.174600</td>\n",
       "      <td>0.433026</td>\n",
       "      <td>1.203037</td>\n",
       "    </tr>\n",
       "  </tbody>\n",
       "</table>\n",
       "</div>"
      ],
      "text/plain": [
       "          C1        C2        C3        C4\n",
       "R2  0.621336 -0.720086  0.265512  0.108549\n",
       "R3  0.004291 -0.174600  0.433026  1.203037"
      ]
     },
     "execution_count": 498,
     "metadata": {},
     "output_type": "execute_result"
    }
   ],
   "source": [
    "df[(df[\"C1\"] > 0) & (df[\"C3\"] > 0)]"
   ]
  },
  {
   "cell_type": "code",
   "execution_count": 500,
   "id": "068675d4-fecb-4bf4-bda8-eaa220429c89",
   "metadata": {},
   "outputs": [
    {
     "data": {
      "text/html": [
       "<div>\n",
       "<style scoped>\n",
       "    .dataframe tbody tr th:only-of-type {\n",
       "        vertical-align: middle;\n",
       "    }\n",
       "\n",
       "    .dataframe tbody tr th {\n",
       "        vertical-align: top;\n",
       "    }\n",
       "\n",
       "    .dataframe thead th {\n",
       "        text-align: right;\n",
       "    }\n",
       "</style>\n",
       "<table border=\"1\" class=\"dataframe\">\n",
       "  <thead>\n",
       "    <tr style=\"text-align: right;\">\n",
       "      <th></th>\n",
       "      <th>C1</th>\n",
       "      <th>C2</th>\n",
       "      <th>C3</th>\n",
       "      <th>C4</th>\n",
       "    </tr>\n",
       "  </thead>\n",
       "  <tbody>\n",
       "    <tr>\n",
       "      <th>R1</th>\n",
       "      <td>1.331587</td>\n",
       "      <td>0.715279</td>\n",
       "      <td>-1.545400</td>\n",
       "      <td>-0.008384</td>\n",
       "    </tr>\n",
       "    <tr>\n",
       "      <th>R2</th>\n",
       "      <td>0.621336</td>\n",
       "      <td>-0.720086</td>\n",
       "      <td>0.265512</td>\n",
       "      <td>0.108549</td>\n",
       "    </tr>\n",
       "    <tr>\n",
       "      <th>R3</th>\n",
       "      <td>0.004291</td>\n",
       "      <td>-0.174600</td>\n",
       "      <td>0.433026</td>\n",
       "      <td>1.203037</td>\n",
       "    </tr>\n",
       "    <tr>\n",
       "      <th>R5</th>\n",
       "      <td>-1.136602</td>\n",
       "      <td>0.135137</td>\n",
       "      <td>1.484537</td>\n",
       "      <td>-1.079805</td>\n",
       "    </tr>\n",
       "  </tbody>\n",
       "</table>\n",
       "</div>"
      ],
      "text/plain": [
       "          C1        C2        C3        C4\n",
       "R1  1.331587  0.715279 -1.545400 -0.008384\n",
       "R2  0.621336 -0.720086  0.265512  0.108549\n",
       "R3  0.004291 -0.174600  0.433026  1.203037\n",
       "R5 -1.136602  0.135137  1.484537 -1.079805"
      ]
     },
     "execution_count": 500,
     "metadata": {},
     "output_type": "execute_result"
    }
   ],
   "source": [
    "df[(df[\"C1\"] > 0) | (df[\"C3\"] > 1)]"
   ]
  },
  {
   "cell_type": "code",
   "execution_count": 502,
   "id": "e8fd9e8c-a8af-4d6f-a348-813c589ae2f2",
   "metadata": {},
   "outputs": [
    {
     "data": {
      "text/plain": [
       "R1    0.715279\n",
       "R2   -0.720086\n",
       "R3   -0.174600\n",
       "Name: C2, dtype: float64"
      ]
     },
     "execution_count": 502,
     "metadata": {},
     "output_type": "execute_result"
    }
   ],
   "source": [
    "df[df[\"C1\"] > 0][\"C2\"]"
   ]
  },
  {
   "cell_type": "code",
   "execution_count": 504,
   "id": "c6dc791f-b8a0-48f0-8e3d-8ccb2df20f23",
   "metadata": {},
   "outputs": [
    {
     "data": {
      "text/html": [
       "<div>\n",
       "<style scoped>\n",
       "    .dataframe tbody tr th:only-of-type {\n",
       "        vertical-align: middle;\n",
       "    }\n",
       "\n",
       "    .dataframe tbody tr th {\n",
       "        vertical-align: top;\n",
       "    }\n",
       "\n",
       "    .dataframe thead th {\n",
       "        text-align: right;\n",
       "    }\n",
       "</style>\n",
       "<table border=\"1\" class=\"dataframe\">\n",
       "  <thead>\n",
       "    <tr style=\"text-align: right;\">\n",
       "      <th></th>\n",
       "      <th>C1</th>\n",
       "      <th>C4</th>\n",
       "    </tr>\n",
       "  </thead>\n",
       "  <tbody>\n",
       "    <tr>\n",
       "      <th>R2</th>\n",
       "      <td>0.621336</td>\n",
       "      <td>0.108549</td>\n",
       "    </tr>\n",
       "    <tr>\n",
       "      <th>R3</th>\n",
       "      <td>0.004291</td>\n",
       "      <td>1.203037</td>\n",
       "    </tr>\n",
       "    <tr>\n",
       "      <th>R6</th>\n",
       "      <td>-1.977728</td>\n",
       "      <td>2.384967</td>\n",
       "    </tr>\n",
       "  </tbody>\n",
       "</table>\n",
       "</div>"
      ],
      "text/plain": [
       "          C1        C4\n",
       "R2  0.621336  0.108549\n",
       "R3  0.004291  1.203037\n",
       "R6 -1.977728  2.384967"
      ]
     },
     "execution_count": 504,
     "metadata": {},
     "output_type": "execute_result"
    }
   ],
   "source": [
    "df[df[\"C2\"] < 0][[\"C1\", \"C4\"]]"
   ]
  },
  {
   "cell_type": "code",
   "execution_count": 506,
   "id": "2f6579c2-900b-41bb-aaa3-1503eaa1b77c",
   "metadata": {},
   "outputs": [
    {
     "data": {
      "text/html": [
       "<div>\n",
       "<style scoped>\n",
       "    .dataframe tbody tr th:only-of-type {\n",
       "        vertical-align: middle;\n",
       "    }\n",
       "\n",
       "    .dataframe tbody tr th {\n",
       "        vertical-align: top;\n",
       "    }\n",
       "\n",
       "    .dataframe thead th {\n",
       "        text-align: right;\n",
       "    }\n",
       "</style>\n",
       "<table border=\"1\" class=\"dataframe\">\n",
       "  <thead>\n",
       "    <tr style=\"text-align: right;\">\n",
       "      <th></th>\n",
       "      <th>C1</th>\n",
       "      <th>C2</th>\n",
       "      <th>C3</th>\n",
       "      <th>C4</th>\n",
       "    </tr>\n",
       "  </thead>\n",
       "  <tbody>\n",
       "    <tr>\n",
       "      <th>R1</th>\n",
       "      <td>1.331587</td>\n",
       "      <td>0.715279</td>\n",
       "      <td>-1.545400</td>\n",
       "      <td>-0.008384</td>\n",
       "    </tr>\n",
       "    <tr>\n",
       "      <th>R2</th>\n",
       "      <td>0.621336</td>\n",
       "      <td>-0.720086</td>\n",
       "      <td>0.265512</td>\n",
       "      <td>0.108549</td>\n",
       "    </tr>\n",
       "    <tr>\n",
       "      <th>R3</th>\n",
       "      <td>0.004291</td>\n",
       "      <td>-0.174600</td>\n",
       "      <td>0.433026</td>\n",
       "      <td>1.203037</td>\n",
       "    </tr>\n",
       "    <tr>\n",
       "      <th>R4</th>\n",
       "      <td>-0.965066</td>\n",
       "      <td>1.028274</td>\n",
       "      <td>0.228630</td>\n",
       "      <td>0.445138</td>\n",
       "    </tr>\n",
       "    <tr>\n",
       "      <th>R5</th>\n",
       "      <td>-1.136602</td>\n",
       "      <td>0.135137</td>\n",
       "      <td>1.484537</td>\n",
       "      <td>-1.079805</td>\n",
       "    </tr>\n",
       "    <tr>\n",
       "      <th>R6</th>\n",
       "      <td>-1.977728</td>\n",
       "      <td>-1.743372</td>\n",
       "      <td>0.266070</td>\n",
       "      <td>2.384967</td>\n",
       "    </tr>\n",
       "  </tbody>\n",
       "</table>\n",
       "</div>"
      ],
      "text/plain": [
       "          C1        C2        C3        C4\n",
       "R1  1.331587  0.715279 -1.545400 -0.008384\n",
       "R2  0.621336 -0.720086  0.265512  0.108549\n",
       "R3  0.004291 -0.174600  0.433026  1.203037\n",
       "R4 -0.965066  1.028274  0.228630  0.445138\n",
       "R5 -1.136602  0.135137  1.484537 -1.079805\n",
       "R6 -1.977728 -1.743372  0.266070  2.384967"
      ]
     },
     "execution_count": 506,
     "metadata": {},
     "output_type": "execute_result"
    }
   ],
   "source": [
    "df"
   ]
  },
  {
   "cell_type": "code",
   "execution_count": 508,
   "id": "888842c6-af57-4866-b786-9d43c9cc08cd",
   "metadata": {},
   "outputs": [
    {
     "data": {
      "text/html": [
       "<div>\n",
       "<style scoped>\n",
       "    .dataframe tbody tr th:only-of-type {\n",
       "        vertical-align: middle;\n",
       "    }\n",
       "\n",
       "    .dataframe tbody tr th {\n",
       "        vertical-align: top;\n",
       "    }\n",
       "\n",
       "    .dataframe thead th {\n",
       "        text-align: right;\n",
       "    }\n",
       "</style>\n",
       "<table border=\"1\" class=\"dataframe\">\n",
       "  <thead>\n",
       "    <tr style=\"text-align: right;\">\n",
       "      <th></th>\n",
       "      <th>index</th>\n",
       "      <th>C1</th>\n",
       "      <th>C2</th>\n",
       "      <th>C3</th>\n",
       "      <th>C4</th>\n",
       "    </tr>\n",
       "  </thead>\n",
       "  <tbody>\n",
       "    <tr>\n",
       "      <th>0</th>\n",
       "      <td>R1</td>\n",
       "      <td>1.331587</td>\n",
       "      <td>0.715279</td>\n",
       "      <td>-1.545400</td>\n",
       "      <td>-0.008384</td>\n",
       "    </tr>\n",
       "    <tr>\n",
       "      <th>1</th>\n",
       "      <td>R2</td>\n",
       "      <td>0.621336</td>\n",
       "      <td>-0.720086</td>\n",
       "      <td>0.265512</td>\n",
       "      <td>0.108549</td>\n",
       "    </tr>\n",
       "    <tr>\n",
       "      <th>2</th>\n",
       "      <td>R3</td>\n",
       "      <td>0.004291</td>\n",
       "      <td>-0.174600</td>\n",
       "      <td>0.433026</td>\n",
       "      <td>1.203037</td>\n",
       "    </tr>\n",
       "    <tr>\n",
       "      <th>3</th>\n",
       "      <td>R4</td>\n",
       "      <td>-0.965066</td>\n",
       "      <td>1.028274</td>\n",
       "      <td>0.228630</td>\n",
       "      <td>0.445138</td>\n",
       "    </tr>\n",
       "    <tr>\n",
       "      <th>4</th>\n",
       "      <td>R5</td>\n",
       "      <td>-1.136602</td>\n",
       "      <td>0.135137</td>\n",
       "      <td>1.484537</td>\n",
       "      <td>-1.079805</td>\n",
       "    </tr>\n",
       "    <tr>\n",
       "      <th>5</th>\n",
       "      <td>R6</td>\n",
       "      <td>-1.977728</td>\n",
       "      <td>-1.743372</td>\n",
       "      <td>0.266070</td>\n",
       "      <td>2.384967</td>\n",
       "    </tr>\n",
       "  </tbody>\n",
       "</table>\n",
       "</div>"
      ],
      "text/plain": [
       "  index        C1        C2        C3        C4\n",
       "0    R1  1.331587  0.715279 -1.545400 -0.008384\n",
       "1    R2  0.621336 -0.720086  0.265512  0.108549\n",
       "2    R3  0.004291 -0.174600  0.433026  1.203037\n",
       "3    R4 -0.965066  1.028274  0.228630  0.445138\n",
       "4    R5 -1.136602  0.135137  1.484537 -1.079805\n",
       "5    R6 -1.977728 -1.743372  0.266070  2.384967"
      ]
     },
     "execution_count": 508,
     "metadata": {},
     "output_type": "execute_result"
    }
   ],
   "source": [
    "# resetting and setting the index values\n",
    "df.reset_index()"
   ]
  },
  {
   "cell_type": "code",
   "execution_count": 510,
   "id": "daab0648-d4d6-4274-99c3-f3a78009ec27",
   "metadata": {},
   "outputs": [
    {
     "data": {
      "text/html": [
       "<div>\n",
       "<style scoped>\n",
       "    .dataframe tbody tr th:only-of-type {\n",
       "        vertical-align: middle;\n",
       "    }\n",
       "\n",
       "    .dataframe tbody tr th {\n",
       "        vertical-align: top;\n",
       "    }\n",
       "\n",
       "    .dataframe thead th {\n",
       "        text-align: right;\n",
       "    }\n",
       "</style>\n",
       "<table border=\"1\" class=\"dataframe\">\n",
       "  <thead>\n",
       "    <tr style=\"text-align: right;\">\n",
       "      <th></th>\n",
       "      <th>C1</th>\n",
       "      <th>C2</th>\n",
       "      <th>C3</th>\n",
       "      <th>C4</th>\n",
       "    </tr>\n",
       "  </thead>\n",
       "  <tbody>\n",
       "    <tr>\n",
       "      <th>R1</th>\n",
       "      <td>1.331587</td>\n",
       "      <td>0.715279</td>\n",
       "      <td>-1.545400</td>\n",
       "      <td>-0.008384</td>\n",
       "    </tr>\n",
       "    <tr>\n",
       "      <th>R2</th>\n",
       "      <td>0.621336</td>\n",
       "      <td>-0.720086</td>\n",
       "      <td>0.265512</td>\n",
       "      <td>0.108549</td>\n",
       "    </tr>\n",
       "    <tr>\n",
       "      <th>R3</th>\n",
       "      <td>0.004291</td>\n",
       "      <td>-0.174600</td>\n",
       "      <td>0.433026</td>\n",
       "      <td>1.203037</td>\n",
       "    </tr>\n",
       "    <tr>\n",
       "      <th>R4</th>\n",
       "      <td>-0.965066</td>\n",
       "      <td>1.028274</td>\n",
       "      <td>0.228630</td>\n",
       "      <td>0.445138</td>\n",
       "    </tr>\n",
       "    <tr>\n",
       "      <th>R5</th>\n",
       "      <td>-1.136602</td>\n",
       "      <td>0.135137</td>\n",
       "      <td>1.484537</td>\n",
       "      <td>-1.079805</td>\n",
       "    </tr>\n",
       "    <tr>\n",
       "      <th>R6</th>\n",
       "      <td>-1.977728</td>\n",
       "      <td>-1.743372</td>\n",
       "      <td>0.266070</td>\n",
       "      <td>2.384967</td>\n",
       "    </tr>\n",
       "  </tbody>\n",
       "</table>\n",
       "</div>"
      ],
      "text/plain": [
       "          C1        C2        C3        C4\n",
       "R1  1.331587  0.715279 -1.545400 -0.008384\n",
       "R2  0.621336 -0.720086  0.265512  0.108549\n",
       "R3  0.004291 -0.174600  0.433026  1.203037\n",
       "R4 -0.965066  1.028274  0.228630  0.445138\n",
       "R5 -1.136602  0.135137  1.484537 -1.079805\n",
       "R6 -1.977728 -1.743372  0.266070  2.384967"
      ]
     },
     "execution_count": 510,
     "metadata": {},
     "output_type": "execute_result"
    }
   ],
   "source": [
    "df"
   ]
  },
  {
   "cell_type": "code",
   "execution_count": 512,
   "id": "12b792bb-ad31-45ed-99be-daf0c1646f13",
   "metadata": {},
   "outputs": [
    {
     "data": {
      "text/html": [
       "<div>\n",
       "<style scoped>\n",
       "    .dataframe tbody tr th:only-of-type {\n",
       "        vertical-align: middle;\n",
       "    }\n",
       "\n",
       "    .dataframe tbody tr th {\n",
       "        vertical-align: top;\n",
       "    }\n",
       "\n",
       "    .dataframe thead th {\n",
       "        text-align: right;\n",
       "    }\n",
       "</style>\n",
       "<table border=\"1\" class=\"dataframe\">\n",
       "  <thead>\n",
       "    <tr style=\"text-align: right;\">\n",
       "      <th></th>\n",
       "      <th>C1</th>\n",
       "      <th>C2</th>\n",
       "      <th>C3</th>\n",
       "      <th>C4</th>\n",
       "      <th>Rep</th>\n",
       "    </tr>\n",
       "  </thead>\n",
       "  <tbody>\n",
       "    <tr>\n",
       "      <th>R1</th>\n",
       "      <td>1.331587</td>\n",
       "      <td>0.715279</td>\n",
       "      <td>-1.545400</td>\n",
       "      <td>-0.008384</td>\n",
       "      <td>Bob</td>\n",
       "    </tr>\n",
       "    <tr>\n",
       "      <th>R2</th>\n",
       "      <td>0.621336</td>\n",
       "      <td>-0.720086</td>\n",
       "      <td>0.265512</td>\n",
       "      <td>0.108549</td>\n",
       "      <td>Joe</td>\n",
       "    </tr>\n",
       "    <tr>\n",
       "      <th>R3</th>\n",
       "      <td>0.004291</td>\n",
       "      <td>-0.174600</td>\n",
       "      <td>0.433026</td>\n",
       "      <td>1.203037</td>\n",
       "      <td>Sue</td>\n",
       "    </tr>\n",
       "    <tr>\n",
       "      <th>R4</th>\n",
       "      <td>-0.965066</td>\n",
       "      <td>1.028274</td>\n",
       "      <td>0.228630</td>\n",
       "      <td>0.445138</td>\n",
       "      <td>Jen</td>\n",
       "    </tr>\n",
       "    <tr>\n",
       "      <th>R5</th>\n",
       "      <td>-1.136602</td>\n",
       "      <td>0.135137</td>\n",
       "      <td>1.484537</td>\n",
       "      <td>-1.079805</td>\n",
       "      <td>Ted</td>\n",
       "    </tr>\n",
       "    <tr>\n",
       "      <th>R6</th>\n",
       "      <td>-1.977728</td>\n",
       "      <td>-1.743372</td>\n",
       "      <td>0.266070</td>\n",
       "      <td>2.384967</td>\n",
       "      <td>Kim</td>\n",
       "    </tr>\n",
       "  </tbody>\n",
       "</table>\n",
       "</div>"
      ],
      "text/plain": [
       "          C1        C2        C3        C4  Rep\n",
       "R1  1.331587  0.715279 -1.545400 -0.008384  Bob\n",
       "R2  0.621336 -0.720086  0.265512  0.108549  Joe\n",
       "R3  0.004291 -0.174600  0.433026  1.203037  Sue\n",
       "R4 -0.965066  1.028274  0.228630  0.445138  Jen\n",
       "R5 -1.136602  0.135137  1.484537 -1.079805  Ted\n",
       "R6 -1.977728 -1.743372  0.266070  2.384967  Kim"
      ]
     },
     "execution_count": 512,
     "metadata": {},
     "output_type": "execute_result"
    }
   ],
   "source": [
    "df[\"Rep\"] = \"Bob Joe Sue Jen Ted Kim\".split()\n",
    "df"
   ]
  },
  {
   "cell_type": "code",
   "execution_count": 514,
   "id": "4ccfd205-718c-46ce-923f-9d9a92a32f6d",
   "metadata": {},
   "outputs": [
    {
     "data": {
      "text/html": [
       "<div>\n",
       "<style scoped>\n",
       "    .dataframe tbody tr th:only-of-type {\n",
       "        vertical-align: middle;\n",
       "    }\n",
       "\n",
       "    .dataframe tbody tr th {\n",
       "        vertical-align: top;\n",
       "    }\n",
       "\n",
       "    .dataframe thead th {\n",
       "        text-align: right;\n",
       "    }\n",
       "</style>\n",
       "<table border=\"1\" class=\"dataframe\">\n",
       "  <thead>\n",
       "    <tr style=\"text-align: right;\">\n",
       "      <th></th>\n",
       "      <th>C1</th>\n",
       "      <th>C2</th>\n",
       "      <th>C3</th>\n",
       "      <th>C4</th>\n",
       "    </tr>\n",
       "    <tr>\n",
       "      <th>Rep</th>\n",
       "      <th></th>\n",
       "      <th></th>\n",
       "      <th></th>\n",
       "      <th></th>\n",
       "    </tr>\n",
       "  </thead>\n",
       "  <tbody>\n",
       "    <tr>\n",
       "      <th>Bob</th>\n",
       "      <td>1.331587</td>\n",
       "      <td>0.715279</td>\n",
       "      <td>-1.545400</td>\n",
       "      <td>-0.008384</td>\n",
       "    </tr>\n",
       "    <tr>\n",
       "      <th>Joe</th>\n",
       "      <td>0.621336</td>\n",
       "      <td>-0.720086</td>\n",
       "      <td>0.265512</td>\n",
       "      <td>0.108549</td>\n",
       "    </tr>\n",
       "    <tr>\n",
       "      <th>Sue</th>\n",
       "      <td>0.004291</td>\n",
       "      <td>-0.174600</td>\n",
       "      <td>0.433026</td>\n",
       "      <td>1.203037</td>\n",
       "    </tr>\n",
       "    <tr>\n",
       "      <th>Jen</th>\n",
       "      <td>-0.965066</td>\n",
       "      <td>1.028274</td>\n",
       "      <td>0.228630</td>\n",
       "      <td>0.445138</td>\n",
       "    </tr>\n",
       "    <tr>\n",
       "      <th>Ted</th>\n",
       "      <td>-1.136602</td>\n",
       "      <td>0.135137</td>\n",
       "      <td>1.484537</td>\n",
       "      <td>-1.079805</td>\n",
       "    </tr>\n",
       "    <tr>\n",
       "      <th>Kim</th>\n",
       "      <td>-1.977728</td>\n",
       "      <td>-1.743372</td>\n",
       "      <td>0.266070</td>\n",
       "      <td>2.384967</td>\n",
       "    </tr>\n",
       "  </tbody>\n",
       "</table>\n",
       "</div>"
      ],
      "text/plain": [
       "           C1        C2        C3        C4\n",
       "Rep                                        \n",
       "Bob  1.331587  0.715279 -1.545400 -0.008384\n",
       "Joe  0.621336 -0.720086  0.265512  0.108549\n",
       "Sue  0.004291 -0.174600  0.433026  1.203037\n",
       "Jen -0.965066  1.028274  0.228630  0.445138\n",
       "Ted -1.136602  0.135137  1.484537 -1.079805\n",
       "Kim -1.977728 -1.743372  0.266070  2.384967"
      ]
     },
     "execution_count": 514,
     "metadata": {},
     "output_type": "execute_result"
    }
   ],
   "source": [
    "df.set_index(\"Rep\", inplace = True)\n",
    "df"
   ]
  },
  {
   "cell_type": "code",
   "execution_count": 516,
   "id": "784ac64b-5bf9-4258-b6ea-35a01e468721",
   "metadata": {},
   "outputs": [
    {
     "data": {
      "text/html": [
       "<div>\n",
       "<style scoped>\n",
       "    .dataframe tbody tr th:only-of-type {\n",
       "        vertical-align: middle;\n",
       "    }\n",
       "\n",
       "    .dataframe tbody tr th {\n",
       "        vertical-align: top;\n",
       "    }\n",
       "\n",
       "    .dataframe thead th {\n",
       "        text-align: right;\n",
       "    }\n",
       "</style>\n",
       "<table border=\"1\" class=\"dataframe\">\n",
       "  <thead>\n",
       "    <tr style=\"text-align: right;\">\n",
       "      <th></th>\n",
       "      <th>C1</th>\n",
       "      <th>C2</th>\n",
       "      <th>C3</th>\n",
       "      <th>C4</th>\n",
       "    </tr>\n",
       "  </thead>\n",
       "  <tbody>\n",
       "    <tr>\n",
       "      <th>R1</th>\n",
       "      <td>1.331587</td>\n",
       "      <td>0.715279</td>\n",
       "      <td>-1.545400</td>\n",
       "      <td>-0.008384</td>\n",
       "    </tr>\n",
       "    <tr>\n",
       "      <th>R2</th>\n",
       "      <td>0.621336</td>\n",
       "      <td>-0.720086</td>\n",
       "      <td>0.265512</td>\n",
       "      <td>0.108549</td>\n",
       "    </tr>\n",
       "    <tr>\n",
       "      <th>R3</th>\n",
       "      <td>0.004291</td>\n",
       "      <td>-0.174600</td>\n",
       "      <td>0.433026</td>\n",
       "      <td>1.203037</td>\n",
       "    </tr>\n",
       "    <tr>\n",
       "      <th>R4</th>\n",
       "      <td>-0.965066</td>\n",
       "      <td>1.028274</td>\n",
       "      <td>0.228630</td>\n",
       "      <td>0.445138</td>\n",
       "    </tr>\n",
       "    <tr>\n",
       "      <th>R5</th>\n",
       "      <td>-1.136602</td>\n",
       "      <td>0.135137</td>\n",
       "      <td>1.484537</td>\n",
       "      <td>-1.079805</td>\n",
       "    </tr>\n",
       "    <tr>\n",
       "      <th>R6</th>\n",
       "      <td>-1.977728</td>\n",
       "      <td>-1.743372</td>\n",
       "      <td>0.266070</td>\n",
       "      <td>2.384967</td>\n",
       "    </tr>\n",
       "  </tbody>\n",
       "</table>\n",
       "</div>"
      ],
      "text/plain": [
       "          C1        C2        C3        C4\n",
       "R1  1.331587  0.715279 -1.545400 -0.008384\n",
       "R2  0.621336 -0.720086  0.265512  0.108549\n",
       "R3  0.004291 -0.174600  0.433026  1.203037\n",
       "R4 -0.965066  1.028274  0.228630  0.445138\n",
       "R5 -1.136602  0.135137  1.484537 -1.079805\n",
       "R6 -1.977728 -1.743372  0.266070  2.384967"
      ]
     },
     "execution_count": 516,
     "metadata": {},
     "output_type": "execute_result"
    }
   ],
   "source": [
    "np.random.seed(10)\n",
    "df = pd.DataFrame(np.random.randn(6, 4), \"R1 R2 R3 R4 R5 R6\".split(), \"C1 C2 C3 C4\".split())\n",
    "df"
   ]
  },
  {
   "cell_type": "code",
   "execution_count": 518,
   "id": "9ba2b59b-4483-4da1-a515-bb35063e0d83",
   "metadata": {},
   "outputs": [
    {
     "data": {
      "text/plain": [
       "array([[nan, 12., 13., 14.],\n",
       "       [21., nan, 23., 24.],\n",
       "       [31., 32., nan, 34.],\n",
       "       [41., 42., 43., nan]])"
      ]
     },
     "execution_count": 518,
     "metadata": {},
     "output_type": "execute_result"
    }
   ],
   "source": [
    "arr1 = np.zeros((4, 4))\n",
    "for i in range(0, 4, 1):\n",
    "    for j in range(0, 4, 1):\n",
    "        if i == j:\n",
    "            arr1[i, j] = np.nan\n",
    "        else:\n",
    "            arr1[i, j] = (i + 1)*10 + j + 1\n",
    "\n",
    "arr1"
   ]
  },
  {
   "cell_type": "code",
   "execution_count": 520,
   "id": "46b9307b-3d39-4dfa-88f5-7fc9c3d4e751",
   "metadata": {},
   "outputs": [
    {
     "data": {
      "text/html": [
       "<div>\n",
       "<style scoped>\n",
       "    .dataframe tbody tr th:only-of-type {\n",
       "        vertical-align: middle;\n",
       "    }\n",
       "\n",
       "    .dataframe tbody tr th {\n",
       "        vertical-align: top;\n",
       "    }\n",
       "\n",
       "    .dataframe thead th {\n",
       "        text-align: right;\n",
       "    }\n",
       "</style>\n",
       "<table border=\"1\" class=\"dataframe\">\n",
       "  <thead>\n",
       "    <tr style=\"text-align: right;\">\n",
       "      <th></th>\n",
       "      <th>0</th>\n",
       "      <th>1</th>\n",
       "      <th>2</th>\n",
       "      <th>3</th>\n",
       "    </tr>\n",
       "  </thead>\n",
       "  <tbody>\n",
       "    <tr>\n",
       "      <th>0</th>\n",
       "      <td>NaN</td>\n",
       "      <td>12.0</td>\n",
       "      <td>13.0</td>\n",
       "      <td>14.0</td>\n",
       "    </tr>\n",
       "    <tr>\n",
       "      <th>1</th>\n",
       "      <td>21.0</td>\n",
       "      <td>NaN</td>\n",
       "      <td>23.0</td>\n",
       "      <td>24.0</td>\n",
       "    </tr>\n",
       "    <tr>\n",
       "      <th>2</th>\n",
       "      <td>31.0</td>\n",
       "      <td>32.0</td>\n",
       "      <td>NaN</td>\n",
       "      <td>34.0</td>\n",
       "    </tr>\n",
       "    <tr>\n",
       "      <th>3</th>\n",
       "      <td>41.0</td>\n",
       "      <td>42.0</td>\n",
       "      <td>43.0</td>\n",
       "      <td>NaN</td>\n",
       "    </tr>\n",
       "  </tbody>\n",
       "</table>\n",
       "</div>"
      ],
      "text/plain": [
       "      0     1     2     3\n",
       "0   NaN  12.0  13.0  14.0\n",
       "1  21.0   NaN  23.0  24.0\n",
       "2  31.0  32.0   NaN  34.0\n",
       "3  41.0  42.0  43.0   NaN"
      ]
     },
     "execution_count": 520,
     "metadata": {},
     "output_type": "execute_result"
    }
   ],
   "source": [
    "df = pd.DataFrame(arr1)\n",
    "df"
   ]
  },
  {
   "cell_type": "code",
   "execution_count": 522,
   "id": "f48c18ec-f1ca-4725-9ee9-f09ddb5016f0",
   "metadata": {},
   "outputs": [
    {
     "data": {
      "text/html": [
       "<div>\n",
       "<style scoped>\n",
       "    .dataframe tbody tr th:only-of-type {\n",
       "        vertical-align: middle;\n",
       "    }\n",
       "\n",
       "    .dataframe tbody tr th {\n",
       "        vertical-align: top;\n",
       "    }\n",
       "\n",
       "    .dataframe thead th {\n",
       "        text-align: right;\n",
       "    }\n",
       "</style>\n",
       "<table border=\"1\" class=\"dataframe\">\n",
       "  <thead>\n",
       "    <tr style=\"text-align: right;\">\n",
       "      <th></th>\n",
       "      <th>0</th>\n",
       "      <th>1</th>\n",
       "      <th>2</th>\n",
       "      <th>3</th>\n",
       "    </tr>\n",
       "  </thead>\n",
       "  <tbody>\n",
       "    <tr>\n",
       "      <th>0</th>\n",
       "      <td>11.0</td>\n",
       "      <td>12.0</td>\n",
       "      <td>13.0</td>\n",
       "      <td>14.0</td>\n",
       "    </tr>\n",
       "    <tr>\n",
       "      <th>1</th>\n",
       "      <td>21.0</td>\n",
       "      <td>22.0</td>\n",
       "      <td>NaN</td>\n",
       "      <td>24.0</td>\n",
       "    </tr>\n",
       "    <tr>\n",
       "      <th>2</th>\n",
       "      <td>31.0</td>\n",
       "      <td>32.0</td>\n",
       "      <td>NaN</td>\n",
       "      <td>34.0</td>\n",
       "    </tr>\n",
       "    <tr>\n",
       "      <th>3</th>\n",
       "      <td>41.0</td>\n",
       "      <td>42.0</td>\n",
       "      <td>43.0</td>\n",
       "      <td>NaN</td>\n",
       "    </tr>\n",
       "  </tbody>\n",
       "</table>\n",
       "</div>"
      ],
      "text/plain": [
       "      0     1     2     3\n",
       "0  11.0  12.0  13.0  14.0\n",
       "1  21.0  22.0   NaN  24.0\n",
       "2  31.0  32.0   NaN  34.0\n",
       "3  41.0  42.0  43.0   NaN"
      ]
     },
     "execution_count": 522,
     "metadata": {},
     "output_type": "execute_result"
    }
   ],
   "source": [
    "df.loc[0, 0] = 11\n",
    "df.loc[1, 1] = 22\n",
    "df.loc[1, 2] = np.nan\n",
    "\n",
    "df"
   ]
  },
  {
   "cell_type": "code",
   "execution_count": 524,
   "id": "cbf57609-552e-402b-b6c6-387dff5f5901",
   "metadata": {},
   "outputs": [
    {
     "data": {
      "text/html": [
       "<div>\n",
       "<style scoped>\n",
       "    .dataframe tbody tr th:only-of-type {\n",
       "        vertical-align: middle;\n",
       "    }\n",
       "\n",
       "    .dataframe tbody tr th {\n",
       "        vertical-align: top;\n",
       "    }\n",
       "\n",
       "    .dataframe thead th {\n",
       "        text-align: right;\n",
       "    }\n",
       "</style>\n",
       "<table border=\"1\" class=\"dataframe\">\n",
       "  <thead>\n",
       "    <tr style=\"text-align: right;\">\n",
       "      <th></th>\n",
       "      <th>0</th>\n",
       "      <th>1</th>\n",
       "      <th>2</th>\n",
       "      <th>3</th>\n",
       "    </tr>\n",
       "  </thead>\n",
       "  <tbody>\n",
       "    <tr>\n",
       "      <th>0</th>\n",
       "      <td>False</td>\n",
       "      <td>False</td>\n",
       "      <td>False</td>\n",
       "      <td>False</td>\n",
       "    </tr>\n",
       "    <tr>\n",
       "      <th>1</th>\n",
       "      <td>False</td>\n",
       "      <td>False</td>\n",
       "      <td>True</td>\n",
       "      <td>False</td>\n",
       "    </tr>\n",
       "    <tr>\n",
       "      <th>2</th>\n",
       "      <td>False</td>\n",
       "      <td>False</td>\n",
       "      <td>True</td>\n",
       "      <td>False</td>\n",
       "    </tr>\n",
       "    <tr>\n",
       "      <th>3</th>\n",
       "      <td>False</td>\n",
       "      <td>False</td>\n",
       "      <td>False</td>\n",
       "      <td>True</td>\n",
       "    </tr>\n",
       "  </tbody>\n",
       "</table>\n",
       "</div>"
      ],
      "text/plain": [
       "       0      1      2      3\n",
       "0  False  False  False  False\n",
       "1  False  False   True  False\n",
       "2  False  False   True  False\n",
       "3  False  False  False   True"
      ]
     },
     "execution_count": 524,
     "metadata": {},
     "output_type": "execute_result"
    }
   ],
   "source": [
    "# handling missing data\n",
    "df.isnull()"
   ]
  },
  {
   "cell_type": "code",
   "execution_count": 526,
   "id": "ed44d424-a772-4e61-b3aa-49851976546e",
   "metadata": {},
   "outputs": [
    {
     "data": {
      "text/plain": [
       "0    False\n",
       "1    False\n",
       "2    False\n",
       "3     True\n",
       "Name: 3, dtype: bool"
      ]
     },
     "execution_count": 526,
     "metadata": {},
     "output_type": "execute_result"
    }
   ],
   "source": [
    "df[3].isnull()"
   ]
  },
  {
   "cell_type": "code",
   "execution_count": 528,
   "id": "534c5100-592f-4720-a2d7-a11f33a27723",
   "metadata": {},
   "outputs": [
    {
     "data": {
      "text/html": [
       "<div>\n",
       "<style scoped>\n",
       "    .dataframe tbody tr th:only-of-type {\n",
       "        vertical-align: middle;\n",
       "    }\n",
       "\n",
       "    .dataframe tbody tr th {\n",
       "        vertical-align: top;\n",
       "    }\n",
       "\n",
       "    .dataframe thead th {\n",
       "        text-align: right;\n",
       "    }\n",
       "</style>\n",
       "<table border=\"1\" class=\"dataframe\">\n",
       "  <thead>\n",
       "    <tr style=\"text-align: right;\">\n",
       "      <th></th>\n",
       "      <th>0</th>\n",
       "      <th>1</th>\n",
       "      <th>2</th>\n",
       "      <th>3</th>\n",
       "    </tr>\n",
       "  </thead>\n",
       "  <tbody>\n",
       "    <tr>\n",
       "      <th>0</th>\n",
       "      <td>11.0</td>\n",
       "      <td>12.0</td>\n",
       "      <td>13.0</td>\n",
       "      <td>14.0</td>\n",
       "    </tr>\n",
       "  </tbody>\n",
       "</table>\n",
       "</div>"
      ],
      "text/plain": [
       "      0     1     2     3\n",
       "0  11.0  12.0  13.0  14.0"
      ]
     },
     "execution_count": 528,
     "metadata": {},
     "output_type": "execute_result"
    }
   ],
   "source": [
    "# dropna() to remove rows/columns with missing data points\n",
    "df.dropna()"
   ]
  },
  {
   "cell_type": "code",
   "execution_count": 530,
   "id": "c3271980-2536-492d-a91c-c71426704661",
   "metadata": {},
   "outputs": [
    {
     "data": {
      "text/html": [
       "<div>\n",
       "<style scoped>\n",
       "    .dataframe tbody tr th:only-of-type {\n",
       "        vertical-align: middle;\n",
       "    }\n",
       "\n",
       "    .dataframe tbody tr th {\n",
       "        vertical-align: top;\n",
       "    }\n",
       "\n",
       "    .dataframe thead th {\n",
       "        text-align: right;\n",
       "    }\n",
       "</style>\n",
       "<table border=\"1\" class=\"dataframe\">\n",
       "  <thead>\n",
       "    <tr style=\"text-align: right;\">\n",
       "      <th></th>\n",
       "      <th>0</th>\n",
       "      <th>1</th>\n",
       "    </tr>\n",
       "  </thead>\n",
       "  <tbody>\n",
       "    <tr>\n",
       "      <th>0</th>\n",
       "      <td>11.0</td>\n",
       "      <td>12.0</td>\n",
       "    </tr>\n",
       "    <tr>\n",
       "      <th>1</th>\n",
       "      <td>21.0</td>\n",
       "      <td>22.0</td>\n",
       "    </tr>\n",
       "    <tr>\n",
       "      <th>2</th>\n",
       "      <td>31.0</td>\n",
       "      <td>32.0</td>\n",
       "    </tr>\n",
       "    <tr>\n",
       "      <th>3</th>\n",
       "      <td>41.0</td>\n",
       "      <td>42.0</td>\n",
       "    </tr>\n",
       "  </tbody>\n",
       "</table>\n",
       "</div>"
      ],
      "text/plain": [
       "      0     1\n",
       "0  11.0  12.0\n",
       "1  21.0  22.0\n",
       "2  31.0  32.0\n",
       "3  41.0  42.0"
      ]
     },
     "execution_count": 530,
     "metadata": {},
     "output_type": "execute_result"
    }
   ],
   "source": [
    "df.dropna(axis = 1)"
   ]
  },
  {
   "cell_type": "code",
   "execution_count": 532,
   "id": "3b6e8fbc-bc7b-4584-ba54-d350e8fa9e41",
   "metadata": {},
   "outputs": [
    {
     "data": {
      "text/html": [
       "<div>\n",
       "<style scoped>\n",
       "    .dataframe tbody tr th:only-of-type {\n",
       "        vertical-align: middle;\n",
       "    }\n",
       "\n",
       "    .dataframe tbody tr th {\n",
       "        vertical-align: top;\n",
       "    }\n",
       "\n",
       "    .dataframe thead th {\n",
       "        text-align: right;\n",
       "    }\n",
       "</style>\n",
       "<table border=\"1\" class=\"dataframe\">\n",
       "  <thead>\n",
       "    <tr style=\"text-align: right;\">\n",
       "      <th></th>\n",
       "      <th>0</th>\n",
       "      <th>1</th>\n",
       "      <th>2</th>\n",
       "      <th>3</th>\n",
       "    </tr>\n",
       "  </thead>\n",
       "  <tbody>\n",
       "    <tr>\n",
       "      <th>0</th>\n",
       "      <td>11.0</td>\n",
       "      <td>12.0</td>\n",
       "      <td>13.0</td>\n",
       "      <td>14.0</td>\n",
       "    </tr>\n",
       "    <tr>\n",
       "      <th>1</th>\n",
       "      <td>21.0</td>\n",
       "      <td>22.0</td>\n",
       "      <td>NaN</td>\n",
       "      <td>24.0</td>\n",
       "    </tr>\n",
       "    <tr>\n",
       "      <th>2</th>\n",
       "      <td>31.0</td>\n",
       "      <td>32.0</td>\n",
       "      <td>NaN</td>\n",
       "      <td>34.0</td>\n",
       "    </tr>\n",
       "    <tr>\n",
       "      <th>3</th>\n",
       "      <td>41.0</td>\n",
       "      <td>42.0</td>\n",
       "      <td>43.0</td>\n",
       "      <td>NaN</td>\n",
       "    </tr>\n",
       "  </tbody>\n",
       "</table>\n",
       "</div>"
      ],
      "text/plain": [
       "      0     1     2     3\n",
       "0  11.0  12.0  13.0  14.0\n",
       "1  21.0  22.0   NaN  24.0\n",
       "2  31.0  32.0   NaN  34.0\n",
       "3  41.0  42.0  43.0   NaN"
      ]
     },
     "execution_count": 532,
     "metadata": {},
     "output_type": "execute_result"
    }
   ],
   "source": [
    "df"
   ]
  },
  {
   "cell_type": "code",
   "execution_count": 535,
   "id": "9547f77c-fefa-410b-b210-5513685ab9b5",
   "metadata": {},
   "outputs": [
    {
     "data": {
      "text/html": [
       "<div>\n",
       "<style scoped>\n",
       "    .dataframe tbody tr th:only-of-type {\n",
       "        vertical-align: middle;\n",
       "    }\n",
       "\n",
       "    .dataframe tbody tr th {\n",
       "        vertical-align: top;\n",
       "    }\n",
       "\n",
       "    .dataframe thead th {\n",
       "        text-align: right;\n",
       "    }\n",
       "</style>\n",
       "<table border=\"1\" class=\"dataframe\">\n",
       "  <thead>\n",
       "    <tr style=\"text-align: right;\">\n",
       "      <th></th>\n",
       "      <th>0</th>\n",
       "      <th>1</th>\n",
       "      <th>2</th>\n",
       "      <th>3</th>\n",
       "    </tr>\n",
       "  </thead>\n",
       "  <tbody>\n",
       "    <tr>\n",
       "      <th>0</th>\n",
       "      <td>11.0</td>\n",
       "      <td>12.0</td>\n",
       "      <td>13.0</td>\n",
       "      <td>14.0</td>\n",
       "    </tr>\n",
       "    <tr>\n",
       "      <th>1</th>\n",
       "      <td>21.0</td>\n",
       "      <td>22.0</td>\n",
       "      <td>imputed</td>\n",
       "      <td>24.0</td>\n",
       "    </tr>\n",
       "    <tr>\n",
       "      <th>2</th>\n",
       "      <td>31.0</td>\n",
       "      <td>32.0</td>\n",
       "      <td>imputed</td>\n",
       "      <td>34.0</td>\n",
       "    </tr>\n",
       "    <tr>\n",
       "      <th>3</th>\n",
       "      <td>41.0</td>\n",
       "      <td>42.0</td>\n",
       "      <td>43.0</td>\n",
       "      <td>imputed</td>\n",
       "    </tr>\n",
       "  </tbody>\n",
       "</table>\n",
       "</div>"
      ],
      "text/plain": [
       "      0     1        2        3\n",
       "0  11.0  12.0     13.0     14.0\n",
       "1  21.0  22.0  imputed     24.0\n",
       "2  31.0  32.0  imputed     34.0\n",
       "3  41.0  42.0     43.0  imputed"
      ]
     },
     "execution_count": 535,
     "metadata": {},
     "output_type": "execute_result"
    }
   ],
   "source": [
    "# imputation with fillna()\n",
    "df.fillna(value = \"imputed\")"
   ]
  },
  {
   "cell_type": "code",
   "execution_count": 537,
   "id": "1874f6e1-2f26-4892-93cb-431c1f4d613f",
   "metadata": {},
   "outputs": [
    {
     "data": {
      "text/html": [
       "<div>\n",
       "<style scoped>\n",
       "    .dataframe tbody tr th:only-of-type {\n",
       "        vertical-align: middle;\n",
       "    }\n",
       "\n",
       "    .dataframe tbody tr th {\n",
       "        vertical-align: top;\n",
       "    }\n",
       "\n",
       "    .dataframe thead th {\n",
       "        text-align: right;\n",
       "    }\n",
       "</style>\n",
       "<table border=\"1\" class=\"dataframe\">\n",
       "  <thead>\n",
       "    <tr style=\"text-align: right;\">\n",
       "      <th></th>\n",
       "      <th>0</th>\n",
       "      <th>1</th>\n",
       "      <th>2</th>\n",
       "      <th>3</th>\n",
       "    </tr>\n",
       "  </thead>\n",
       "  <tbody>\n",
       "    <tr>\n",
       "      <th>0</th>\n",
       "      <td>11.0</td>\n",
       "      <td>12.0</td>\n",
       "      <td>13.0</td>\n",
       "      <td>14.0</td>\n",
       "    </tr>\n",
       "    <tr>\n",
       "      <th>1</th>\n",
       "      <td>21.0</td>\n",
       "      <td>22.0</td>\n",
       "      <td>imputed</td>\n",
       "      <td>24.0</td>\n",
       "    </tr>\n",
       "    <tr>\n",
       "      <th>2</th>\n",
       "      <td>31.0</td>\n",
       "      <td>32.0</td>\n",
       "      <td>imputed</td>\n",
       "      <td>34.0</td>\n",
       "    </tr>\n",
       "    <tr>\n",
       "      <th>3</th>\n",
       "      <td>41.0</td>\n",
       "      <td>42.0</td>\n",
       "      <td>43.0</td>\n",
       "      <td>imputed</td>\n",
       "    </tr>\n",
       "  </tbody>\n",
       "</table>\n",
       "</div>"
      ],
      "text/plain": [
       "      0     1        2        3\n",
       "0  11.0  12.0     13.0     14.0\n",
       "1  21.0  22.0  imputed     24.0\n",
       "2  31.0  32.0  imputed     34.0\n",
       "3  41.0  42.0     43.0  imputed"
      ]
     },
     "execution_count": 537,
     "metadata": {},
     "output_type": "execute_result"
    }
   ],
   "source": [
    "# imputation with fillna()\n",
    "df.fillna(value = \"imputed\")"
   ]
  },
  {
   "cell_type": "code",
   "execution_count": 539,
   "id": "a80caf40-c801-4273-8c66-ac4b8e678dd4",
   "metadata": {},
   "outputs": [
    {
     "data": {
      "text/html": [
       "<div>\n",
       "<style scoped>\n",
       "    .dataframe tbody tr th:only-of-type {\n",
       "        vertical-align: middle;\n",
       "    }\n",
       "\n",
       "    .dataframe tbody tr th {\n",
       "        vertical-align: top;\n",
       "    }\n",
       "\n",
       "    .dataframe thead th {\n",
       "        text-align: right;\n",
       "    }\n",
       "</style>\n",
       "<table border=\"1\" class=\"dataframe\">\n",
       "  <thead>\n",
       "    <tr style=\"text-align: right;\">\n",
       "      <th></th>\n",
       "      <th>0</th>\n",
       "      <th>1</th>\n",
       "      <th>2</th>\n",
       "      <th>3</th>\n",
       "    </tr>\n",
       "  </thead>\n",
       "  <tbody>\n",
       "    <tr>\n",
       "      <th>0</th>\n",
       "      <td>11.0</td>\n",
       "      <td>12.0</td>\n",
       "      <td>13.0</td>\n",
       "      <td>14.0</td>\n",
       "    </tr>\n",
       "    <tr>\n",
       "      <th>1</th>\n",
       "      <td>21.0</td>\n",
       "      <td>22.0</td>\n",
       "      <td>NaN</td>\n",
       "      <td>24.0</td>\n",
       "    </tr>\n",
       "    <tr>\n",
       "      <th>2</th>\n",
       "      <td>31.0</td>\n",
       "      <td>32.0</td>\n",
       "      <td>NaN</td>\n",
       "      <td>34.0</td>\n",
       "    </tr>\n",
       "    <tr>\n",
       "      <th>3</th>\n",
       "      <td>41.0</td>\n",
       "      <td>42.0</td>\n",
       "      <td>43.0</td>\n",
       "      <td>NaN</td>\n",
       "    </tr>\n",
       "  </tbody>\n",
       "</table>\n",
       "</div>"
      ],
      "text/plain": [
       "      0     1     2     3\n",
       "0  11.0  12.0  13.0  14.0\n",
       "1  21.0  22.0   NaN  24.0\n",
       "2  31.0  32.0   NaN  34.0\n",
       "3  41.0  42.0  43.0   NaN"
      ]
     },
     "execution_count": 539,
     "metadata": {},
     "output_type": "execute_result"
    }
   ],
   "source": [
    "df"
   ]
  },
  {
   "cell_type": "code",
   "execution_count": 541,
   "id": "beaafd75-d6ad-4f7c-a32e-68e399d7d400",
   "metadata": {},
   "outputs": [
    {
     "name": "stderr",
     "output_type": "stream",
     "text": [
      "C:\\Users\\msabo\\AppData\\Local\\Temp\\ipykernel_21616\\1024708790.py:1: FutureWarning: A value is trying to be set on a copy of a DataFrame or Series through chained assignment using an inplace method.\n",
      "The behavior will change in pandas 3.0. This inplace method will never work because the intermediate object on which we are setting values always behaves as a copy.\n",
      "\n",
      "For example, when doing 'df[col].method(value, inplace=True)', try using 'df.method({col: value}, inplace=True)' or df[col] = df[col].method(value) instead, to perform the operation inplace on the original object.\n",
      "\n",
      "\n",
      "  df[3].fillna(value = df[3].mean(), inplace = True)\n"
     ]
    },
    {
     "data": {
      "text/html": [
       "<div>\n",
       "<style scoped>\n",
       "    .dataframe tbody tr th:only-of-type {\n",
       "        vertical-align: middle;\n",
       "    }\n",
       "\n",
       "    .dataframe tbody tr th {\n",
       "        vertical-align: top;\n",
       "    }\n",
       "\n",
       "    .dataframe thead th {\n",
       "        text-align: right;\n",
       "    }\n",
       "</style>\n",
       "<table border=\"1\" class=\"dataframe\">\n",
       "  <thead>\n",
       "    <tr style=\"text-align: right;\">\n",
       "      <th></th>\n",
       "      <th>0</th>\n",
       "      <th>1</th>\n",
       "      <th>2</th>\n",
       "      <th>3</th>\n",
       "    </tr>\n",
       "  </thead>\n",
       "  <tbody>\n",
       "    <tr>\n",
       "      <th>0</th>\n",
       "      <td>11.0</td>\n",
       "      <td>12.0</td>\n",
       "      <td>13.0</td>\n",
       "      <td>14.0</td>\n",
       "    </tr>\n",
       "    <tr>\n",
       "      <th>1</th>\n",
       "      <td>21.0</td>\n",
       "      <td>22.0</td>\n",
       "      <td>NaN</td>\n",
       "      <td>24.0</td>\n",
       "    </tr>\n",
       "    <tr>\n",
       "      <th>2</th>\n",
       "      <td>31.0</td>\n",
       "      <td>32.0</td>\n",
       "      <td>NaN</td>\n",
       "      <td>34.0</td>\n",
       "    </tr>\n",
       "    <tr>\n",
       "      <th>3</th>\n",
       "      <td>41.0</td>\n",
       "      <td>42.0</td>\n",
       "      <td>43.0</td>\n",
       "      <td>24.0</td>\n",
       "    </tr>\n",
       "  </tbody>\n",
       "</table>\n",
       "</div>"
      ],
      "text/plain": [
       "      0     1     2     3\n",
       "0  11.0  12.0  13.0  14.0\n",
       "1  21.0  22.0   NaN  24.0\n",
       "2  31.0  32.0   NaN  34.0\n",
       "3  41.0  42.0  43.0  24.0"
      ]
     },
     "execution_count": 541,
     "metadata": {},
     "output_type": "execute_result"
    }
   ],
   "source": [
    "df[3].fillna(value = df[3].mean(), inplace = True)\n",
    "df"
   ]
  },
  {
   "cell_type": "code",
   "execution_count": 543,
   "id": "5190bbb2-7295-49ff-a220-814fe87afedd",
   "metadata": {},
   "outputs": [
    {
     "data": {
      "text/plain": [
       "0    13.0\n",
       "1    28.0\n",
       "2    28.0\n",
       "3    43.0\n",
       "Name: 2, dtype: float64"
      ]
     },
     "execution_count": 543,
     "metadata": {},
     "output_type": "execute_result"
    }
   ],
   "source": [
    "df[2].fillna(value = df[2].median())"
   ]
  },
  {
   "cell_type": "code",
   "execution_count": 545,
   "id": "65481dc3-9746-4c9c-93f1-c9aed1ac635b",
   "metadata": {},
   "outputs": [
    {
     "data": {
      "text/html": [
       "<div>\n",
       "<style scoped>\n",
       "    .dataframe tbody tr th:only-of-type {\n",
       "        vertical-align: middle;\n",
       "    }\n",
       "\n",
       "    .dataframe tbody tr th {\n",
       "        vertical-align: top;\n",
       "    }\n",
       "\n",
       "    .dataframe thead th {\n",
       "        text-align: right;\n",
       "    }\n",
       "</style>\n",
       "<table border=\"1\" class=\"dataframe\">\n",
       "  <thead>\n",
       "    <tr style=\"text-align: right;\">\n",
       "      <th></th>\n",
       "      <th>Firm</th>\n",
       "      <th>Rep</th>\n",
       "      <th>Sales</th>\n",
       "      <th>Rev</th>\n",
       "      <th>Year</th>\n",
       "    </tr>\n",
       "  </thead>\n",
       "  <tbody>\n",
       "    <tr>\n",
       "      <th>0</th>\n",
       "      <td>Apple</td>\n",
       "      <td>Bob</td>\n",
       "      <td>200</td>\n",
       "      <td>600</td>\n",
       "      <td>2019</td>\n",
       "    </tr>\n",
       "    <tr>\n",
       "      <th>1</th>\n",
       "      <td>Apple</td>\n",
       "      <td>Joe</td>\n",
       "      <td>150</td>\n",
       "      <td>500</td>\n",
       "      <td>2020</td>\n",
       "    </tr>\n",
       "    <tr>\n",
       "      <th>2</th>\n",
       "      <td>FB</td>\n",
       "      <td>Sue</td>\n",
       "      <td>240</td>\n",
       "      <td>600</td>\n",
       "      <td>2019</td>\n",
       "    </tr>\n",
       "    <tr>\n",
       "      <th>3</th>\n",
       "      <td>FB</td>\n",
       "      <td>Jen</td>\n",
       "      <td>340</td>\n",
       "      <td>800</td>\n",
       "      <td>2020</td>\n",
       "    </tr>\n",
       "    <tr>\n",
       "      <th>4</th>\n",
       "      <td>MS</td>\n",
       "      <td>Ted</td>\n",
       "      <td>350</td>\n",
       "      <td>900</td>\n",
       "      <td>2018</td>\n",
       "    </tr>\n",
       "    <tr>\n",
       "      <th>5</th>\n",
       "      <td>MS</td>\n",
       "      <td>Kim</td>\n",
       "      <td>180</td>\n",
       "      <td>400</td>\n",
       "      <td>2019</td>\n",
       "    </tr>\n",
       "    <tr>\n",
       "      <th>6</th>\n",
       "      <td>MS</td>\n",
       "      <td>Sam</td>\n",
       "      <td>290</td>\n",
       "      <td>700</td>\n",
       "      <td>2020</td>\n",
       "    </tr>\n",
       "    <tr>\n",
       "      <th>7</th>\n",
       "      <td>Amazon</td>\n",
       "      <td>Amy</td>\n",
       "      <td>360</td>\n",
       "      <td>950</td>\n",
       "      <td>2019</td>\n",
       "    </tr>\n",
       "    <tr>\n",
       "      <th>8</th>\n",
       "      <td>Amazon</td>\n",
       "      <td>Leo</td>\n",
       "      <td>300</td>\n",
       "      <td>650</td>\n",
       "      <td>2020</td>\n",
       "    </tr>\n",
       "  </tbody>\n",
       "</table>\n",
       "</div>"
      ],
      "text/plain": [
       "     Firm  Rep  Sales  Rev  Year\n",
       "0   Apple  Bob    200  600  2019\n",
       "1   Apple  Joe    150  500  2020\n",
       "2      FB  Sue    240  600  2019\n",
       "3      FB  Jen    340  800  2020\n",
       "4      MS  Ted    350  900  2018\n",
       "5      MS  Kim    180  400  2019\n",
       "6      MS  Sam    290  700  2020\n",
       "7  Amazon  Amy    360  950  2019\n",
       "8  Amazon  Leo    300  650  2020"
      ]
     },
     "execution_count": 545,
     "metadata": {},
     "output_type": "execute_result"
    }
   ],
   "source": [
    "d = {\"Firm\": \"Apple Apple FB FB MS MS MS Amazon Amazon\".split(),\n",
    "     \"Rep\": \"Bob Joe Sue Jen Ted Kim Sam Amy Leo\".split(),\n",
    "     \"Sales\": [200, 150, 240, 340, 350, 180, 290, 360, 300],\n",
    "     \"Rev\": [600, 500, 600, 800, 900, 400, 700, 950, 650],\n",
    "     \"Year\": [2019, 2020, 2019, 2020, 2018, 2019, 2020, 2019, 2020]}\n",
    "df = pd.DataFrame(d)\n",
    "df"
   ]
  },
  {
   "cell_type": "code",
   "execution_count": 547,
   "id": "126b1dc8-ebc4-4fe5-9754-02d6d5b0ac92",
   "metadata": {},
   "outputs": [
    {
     "data": {
      "text/html": [
       "<div>\n",
       "<style scoped>\n",
       "    .dataframe tbody tr th:only-of-type {\n",
       "        vertical-align: middle;\n",
       "    }\n",
       "\n",
       "    .dataframe tbody tr th {\n",
       "        vertical-align: top;\n",
       "    }\n",
       "\n",
       "    .dataframe thead th {\n",
       "        text-align: right;\n",
       "    }\n",
       "</style>\n",
       "<table border=\"1\" class=\"dataframe\">\n",
       "  <thead>\n",
       "    <tr style=\"text-align: right;\">\n",
       "      <th></th>\n",
       "      <th>Rep</th>\n",
       "      <th>Sales</th>\n",
       "      <th>Rev</th>\n",
       "      <th>Year</th>\n",
       "    </tr>\n",
       "    <tr>\n",
       "      <th>Firm</th>\n",
       "      <th></th>\n",
       "      <th></th>\n",
       "      <th></th>\n",
       "      <th></th>\n",
       "    </tr>\n",
       "  </thead>\n",
       "  <tbody>\n",
       "    <tr>\n",
       "      <th>Amazon</th>\n",
       "      <td>AmyLeo</td>\n",
       "      <td>660</td>\n",
       "      <td>1600</td>\n",
       "      <td>4039</td>\n",
       "    </tr>\n",
       "    <tr>\n",
       "      <th>Apple</th>\n",
       "      <td>BobJoe</td>\n",
       "      <td>350</td>\n",
       "      <td>1100</td>\n",
       "      <td>4039</td>\n",
       "    </tr>\n",
       "    <tr>\n",
       "      <th>FB</th>\n",
       "      <td>SueJen</td>\n",
       "      <td>580</td>\n",
       "      <td>1400</td>\n",
       "      <td>4039</td>\n",
       "    </tr>\n",
       "    <tr>\n",
       "      <th>MS</th>\n",
       "      <td>TedKimSam</td>\n",
       "      <td>820</td>\n",
       "      <td>2000</td>\n",
       "      <td>6057</td>\n",
       "    </tr>\n",
       "  </tbody>\n",
       "</table>\n",
       "</div>"
      ],
      "text/plain": [
       "              Rep  Sales   Rev  Year\n",
       "Firm                                \n",
       "Amazon     AmyLeo    660  1600  4039\n",
       "Apple      BobJoe    350  1100  4039\n",
       "FB         SueJen    580  1400  4039\n",
       "MS      TedKimSam    820  2000  6057"
      ]
     },
     "execution_count": 547,
     "metadata": {},
     "output_type": "execute_result"
    }
   ],
   "source": [
    "# the groupby() function\n",
    "df.groupby(\"Firm\").sum()"
   ]
  },
  {
   "cell_type": "code",
   "execution_count": 549,
   "id": "185d67be-8150-419e-9168-1c2bf9a0cbab",
   "metadata": {},
   "outputs": [
    {
     "data": {
      "text/plain": [
       "Sales    820\n",
       "Name: MS, dtype: int64"
      ]
     },
     "execution_count": 549,
     "metadata": {},
     "output_type": "execute_result"
    }
   ],
   "source": [
    "df[[\"Firm\", \"Sales\"]].groupby(\"Firm\").sum().loc[\"MS\"]"
   ]
  },
  {
   "cell_type": "code",
   "execution_count": 551,
   "id": "5dd86176-1a7d-414f-a340-2b8c8968b1af",
   "metadata": {},
   "outputs": [
    {
     "data": {
      "text/html": [
       "<div>\n",
       "<style scoped>\n",
       "    .dataframe tbody tr th:only-of-type {\n",
       "        vertical-align: middle;\n",
       "    }\n",
       "\n",
       "    .dataframe tbody tr th {\n",
       "        vertical-align: top;\n",
       "    }\n",
       "\n",
       "    .dataframe thead th {\n",
       "        text-align: right;\n",
       "    }\n",
       "</style>\n",
       "<table border=\"1\" class=\"dataframe\">\n",
       "  <thead>\n",
       "    <tr style=\"text-align: right;\">\n",
       "      <th></th>\n",
       "      <th>Sales</th>\n",
       "    </tr>\n",
       "    <tr>\n",
       "      <th>Firm</th>\n",
       "      <th></th>\n",
       "    </tr>\n",
       "  </thead>\n",
       "  <tbody>\n",
       "    <tr>\n",
       "      <th>Amazon</th>\n",
       "      <td>330.000000</td>\n",
       "    </tr>\n",
       "    <tr>\n",
       "      <th>Apple</th>\n",
       "      <td>175.000000</td>\n",
       "    </tr>\n",
       "    <tr>\n",
       "      <th>FB</th>\n",
       "      <td>290.000000</td>\n",
       "    </tr>\n",
       "    <tr>\n",
       "      <th>MS</th>\n",
       "      <td>273.333333</td>\n",
       "    </tr>\n",
       "  </tbody>\n",
       "</table>\n",
       "</div>"
      ],
      "text/plain": [
       "             Sales\n",
       "Firm              \n",
       "Amazon  330.000000\n",
       "Apple   175.000000\n",
       "FB      290.000000\n",
       "MS      273.333333"
      ]
     },
     "execution_count": 551,
     "metadata": {},
     "output_type": "execute_result"
    }
   ],
   "source": [
    "df[[\"Firm\", \"Sales\"]].groupby(\"Firm\").mean()"
   ]
  },
  {
   "cell_type": "code",
   "execution_count": 553,
   "id": "58844103-3f7b-4af2-bef1-7e6fcd147c13",
   "metadata": {},
   "outputs": [
    {
     "data": {
      "text/html": [
       "<div>\n",
       "<style scoped>\n",
       "    .dataframe tbody tr th:only-of-type {\n",
       "        vertical-align: middle;\n",
       "    }\n",
       "\n",
       "    .dataframe tbody tr th {\n",
       "        vertical-align: top;\n",
       "    }\n",
       "\n",
       "    .dataframe thead th {\n",
       "        text-align: right;\n",
       "    }\n",
       "</style>\n",
       "<table border=\"1\" class=\"dataframe\">\n",
       "  <thead>\n",
       "    <tr style=\"text-align: right;\">\n",
       "      <th></th>\n",
       "      <th>Sales</th>\n",
       "    </tr>\n",
       "    <tr>\n",
       "      <th>Year</th>\n",
       "      <th></th>\n",
       "    </tr>\n",
       "  </thead>\n",
       "  <tbody>\n",
       "    <tr>\n",
       "      <th>2018</th>\n",
       "      <td>350.0</td>\n",
       "    </tr>\n",
       "    <tr>\n",
       "      <th>2019</th>\n",
       "      <td>245.0</td>\n",
       "    </tr>\n",
       "    <tr>\n",
       "      <th>2020</th>\n",
       "      <td>270.0</td>\n",
       "    </tr>\n",
       "  </tbody>\n",
       "</table>\n",
       "</div>"
      ],
      "text/plain": [
       "      Sales\n",
       "Year       \n",
       "2018  350.0\n",
       "2019  245.0\n",
       "2020  270.0"
      ]
     },
     "execution_count": 553,
     "metadata": {},
     "output_type": "execute_result"
    }
   ],
   "source": [
    "df[[\"Year\", \"Sales\"]].groupby(\"Year\").mean()"
   ]
  }
 ],
 "metadata": {
  "kernelspec": {
   "display_name": "Python 3 (ipykernel)",
   "language": "python",
   "name": "python3"
  },
  "language_info": {
   "codemirror_mode": {
    "name": "ipython",
    "version": 3
   },
   "file_extension": ".py",
   "mimetype": "text/x-python",
   "name": "python",
   "nbconvert_exporter": "python",
   "pygments_lexer": "ipython3",
   "version": "3.12.4"
  }
 },
 "nbformat": 4,
 "nbformat_minor": 5
}
